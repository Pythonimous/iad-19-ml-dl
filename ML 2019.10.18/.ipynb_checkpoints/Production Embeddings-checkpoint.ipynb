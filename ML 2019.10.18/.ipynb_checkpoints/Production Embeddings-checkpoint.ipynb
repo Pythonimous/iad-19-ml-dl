{
 "cells": [
  {
   "cell_type": "markdown",
   "metadata": {},
   "source": [
    "Извлечём тексты со всех страниц, на которые ссылается https://en.wikipedia.org/wiki/List_of_film_production_companies ."
   ]
  },
  {
   "cell_type": "code",
   "execution_count": 1,
   "metadata": {},
   "outputs": [],
   "source": [
    "import urllib3\n",
    "urllib3.disable_warnings(urllib3.exceptions.InsecureRequestWarning)\n",
    "\n",
    "from bs4 import BeautifulSoup\n",
    "from bs4.element import Comment\n",
    "from tqdm import tqdm\n",
    "import requests\n",
    "\n",
    "from tqdm import tqdm"
   ]
  },
  {
   "cell_type": "code",
   "execution_count": 2,
   "metadata": {},
   "outputs": [],
   "source": [
    "s = requests.Session()"
   ]
  },
  {
   "cell_type": "code",
   "execution_count": 3,
   "metadata": {},
   "outputs": [],
   "source": [
    "u = 'https://en.wikipedia.org/wiki/List_of_film_production_companies'"
   ]
  },
  {
   "cell_type": "code",
   "execution_count": 4,
   "metadata": {},
   "outputs": [
    {
     "data": {
      "text/plain": [
       "['https://en.wikipedia.org/wiki/Aleph_Producciones',\n",
       " 'https://en.wikipedia.org/wiki/Argentina_Sono_Film',\n",
       " 'https://en.wikipedia.org/wiki/BD_Cine',\n",
       " 'https://en.wikipedia.org/wiki/Guacamole_Films',\n",
       " 'https://en.wikipedia.org/wiki/Patagonik_Film_Group']"
      ]
     },
     "execution_count": 4,
     "metadata": {},
     "output_type": "execute_result"
    }
   ],
   "source": [
    "resp = s.get(u, verify = False)\n",
    "soup = BeautifulSoup(resp.text, 'html.parser')\n",
    "\n",
    "table = soup.find('table', class_='wikitable').find('tbody')\n",
    "lines = [b for b in [a.find('td') for a in table.findAll('tr')] if b]\n",
    "\n",
    "companies = ['https://en.wikipedia.org' + c['href'] for c in [l.find('a', href=True) for l in lines] if c]\n",
    "\n",
    "companies[:5]"
   ]
  },
  {
   "cell_type": "code",
   "execution_count": 5,
   "metadata": {},
   "outputs": [],
   "source": [
    "def tag_visible(element):\n",
    "    if element.parent.name in ['style', 'script', 'head', 'title', 'meta', '[document]']:\n",
    "        return False\n",
    "    if isinstance(element, Comment):\n",
    "        return False\n",
    "    return True"
   ]
  },
  {
   "cell_type": "code",
   "execution_count": 6,
   "metadata": {},
   "outputs": [],
   "source": [
    "def text_from_wiki(url):\n",
    "    resp = s.get(url, verify = False)\n",
    "    soup = BeautifulSoup(resp.text, 'html.parser')\n",
    "    body = soup.find('div', class_='mw-parser-output')\n",
    "    texts = body.findAll(text=True)\n",
    "    visible_texts = filter(tag_visible, texts)  \n",
    "    return u\" \".join(t.strip() for t in visible_texts).strip()"
   ]
  },
  {
   "cell_type": "code",
   "execution_count": 7,
   "metadata": {},
   "outputs": [
    {
     "name": "stderr",
     "output_type": "stream",
     "text": [
      "100%|██████████| 448/448 [01:11<00:00,  6.27it/s]\n"
     ]
    }
   ],
   "source": [
    "texts = []\n",
    "\n",
    "for u in tqdm(companies):\n",
    "    texts.append(text_from_wiki(u))"
   ]
  },
  {
   "cell_type": "code",
   "execution_count": 8,
   "metadata": {},
   "outputs": [
    {
     "data": {
      "text/plain": [
       "\"Aleph Producciones S.A. is a film production company in Buenos Aires , Argentina . [1]   Filmography [ edit ]  Adolescente, sucre d'amour (1985)  Amico arabo, L' (1991)  Un Muro de silencio (1993)  Of Love and Shadows (1994)  Amigomío (1994)  Patrón (1995)  Kanya Ya Ma Kan, Beyrouth (1995)  Evita (1996)  Un Asunto privado (1996)  Dile a Laura que la quiero (1997)  Sus ojos se cerraron y el mundo sigue andando (1997)  Frontera Sur (1998)  El Evangelio de las Maravillas (1998)  Operación Fangio (1999)  El Amateur (1999)  Nueces para el amor (2000)  El Despertar de L (2001)  Sudeste (2001)  El Séptimo arcángel (2003)  Dolores de casada (2004)  18-J (2004)  ...al fin, el mar (2005)  La Manos (2006)  Suspiros del corazón (2006)  Footnotes [ edit ]   ^  Aleph Producciones S.A. at the Internet Movie Database .    External links [ edit ]\""
      ]
     },
     "execution_count": 8,
     "metadata": {},
     "output_type": "execute_result"
    }
   ],
   "source": [
    "texts[0]"
   ]
  },
  {
   "cell_type": "markdown",
   "metadata": {},
   "source": [
    "Обучим Doc2Vec модель на этих текстах."
   ]
  },
  {
   "cell_type": "code",
   "execution_count": 9,
   "metadata": {},
   "outputs": [],
   "source": [
    "from gensim.models import doc2vec\n",
    "from collections import namedtuple\n",
    "import re"
   ]
  },
  {
   "cell_type": "markdown",
   "metadata": {},
   "source": [
    "Из минимальной предобработки избавимся от квадратных скобок и external links."
   ]
  },
  {
   "cell_type": "code",
   "execution_count": 10,
   "metadata": {},
   "outputs": [],
   "source": [
    "texts = [re.sub(r'\\[.*?\\]', r'', t).replace('External links', '').strip() for t in texts]"
   ]
  },
  {
   "cell_type": "code",
   "execution_count": 11,
   "metadata": {},
   "outputs": [
    {
     "data": {
      "text/plain": [
       "'BD Cine (Burman Dubcovsky Cine) is a film production company in Buenos Aires , Argentina .   The firm was formed in 1995 by producer/director Daniel Burman and producer Diego Dubcovsky . According to film critic Joel Poblete, who writes for Mabuse, a cinema magazine, Daniel Burman and Diego Dubcovsky are two of the members of the New Argentina Cinema which began c. 1998.    Filmography   Plaza de almas (1997)  Un Crisantemo Estalla en Cinco Esquinas (1998)  Garage Olimpo (1999)  Esperando al Mesías (2000)  Le Loup de la côte Ouest (2002)  Todas Las Azafatas Van Al Cielo (2002)  Nadar solo (2003)  Lesbianas de Buenos Aires (2004)  18-J (2004)  El Abrazo Partido (2004)  The Motocycle Diaries (2004)  Como un avión estrellado (2005)  Un Año sin amor (2005)  Chicha tu madre (2006)  Derecho de Familia (2006)  Footnotes    ^  BD Cine at the Internet Movie Database .   ^  Poblete, Joel  Archived 2007-08-27 at the Wayback Machine . Mabuse Film Magazine, \"El cine argentino está muy vital,\" July 11, 2006.       Official web site.'"
      ]
     },
     "execution_count": 11,
     "metadata": {},
     "output_type": "execute_result"
    }
   ],
   "source": [
    "texts[2]"
   ]
  },
  {
   "cell_type": "code",
   "execution_count": 12,
   "metadata": {},
   "outputs": [],
   "source": [
    "docs = []\n",
    "\n",
    "analyzedDocument = namedtuple('AnalyzedDocument', 'words tags')\n",
    "\n",
    "for i, text in enumerate(texts):\n",
    "    words = text.lower().split()\n",
    "    tags = [i]\n",
    "    docs.append(analyzedDocument(words, tags))"
   ]
  },
  {
   "cell_type": "markdown",
   "metadata": {},
   "source": [
    "Обучим простую модель размерностью 50, поскольку объём текстов небольшой."
   ]
  },
  {
   "cell_type": "code",
   "execution_count": 13,
   "metadata": {},
   "outputs": [
    {
     "name": "stderr",
     "output_type": "stream",
     "text": [
      "/home/knikolaev/.local/lib/python3.6/site-packages/gensim/models/doc2vec.py:574: UserWarning: The parameter `size` is deprecated, will be removed in 4.0.0, use `vector_size` instead.\n",
      "  warnings.warn(\"The parameter `size` is deprecated, will be removed in 4.0.0, use `vector_size` instead.\")\n"
     ]
    }
   ],
   "source": [
    "model = doc2vec.Doc2Vec(docs, size = 50, window = 300, min_count = 1, workers = 4)"
   ]
  },
  {
   "cell_type": "code",
   "execution_count": 14,
   "metadata": {},
   "outputs": [
    {
     "data": {
      "text/plain": [
       "array([  3.2451422 ,  -7.5870852 ,  11.749499  ,   7.889385  ,\n",
       "         9.463734  ,  10.941975  ,   7.8471193 ,   4.839687  ,\n",
       "        -8.494088  , -15.346264  , -19.743952  , -11.947046  ,\n",
       "        12.570731  ,  -4.4351325 , -10.05778   ,   5.928354  ,\n",
       "        -3.112053  ,   5.160321  ,  14.241574  ,  -0.10348638,\n",
       "        -2.2602983 ,   0.7450586 ,  -1.8899426 ,   0.11646719,\n",
       "        -4.1230764 , -13.235517  ,  11.18217   , -10.702431  ,\n",
       "         7.686716  , -22.98512   ,   7.9461217 ,   0.56797326,\n",
       "         7.1035275 ,  10.462612  ,   7.7894964 ,  -7.7927804 ,\n",
       "         5.384924  ,  11.453537  ,  19.004173  ,  -8.7627945 ,\n",
       "        20.537712  ,  -4.45977   ,  18.609728  ,   8.43817   ,\n",
       "        10.998613  , -12.531673  , -13.76489   ,  -5.7255063 ,\n",
       "        -3.4124498 ,  18.898981  ], dtype=float32)"
      ]
     },
     "execution_count": 14,
     "metadata": {},
     "output_type": "execute_result"
    }
   ],
   "source": [
    "model['disney']"
   ]
  },
  {
   "cell_type": "code",
   "execution_count": 15,
   "metadata": {},
   "outputs": [],
   "source": [
    "import os, requests, zipfile, io"
   ]
  },
  {
   "cell_type": "code",
   "execution_count": 18,
   "metadata": {},
   "outputs": [],
   "source": [
    "if not os.path.exists('models'):\n",
    "    os.mkdir('models')"
   ]
  },
  {
   "cell_type": "code",
   "execution_count": 19,
   "metadata": {},
   "outputs": [],
   "source": [
    "model.save('models/prod_companies.d2v')"
   ]
  },
  {
   "cell_type": "code",
   "execution_count": 20,
   "metadata": {
    "scrolled": false
   },
   "outputs": [],
   "source": [
    "r = requests.get('http://nlp.stanford.edu/data/glove.6B.zip')\n",
    "z = zipfile.ZipFile(io.BytesIO(r.content))\n",
    "z.extractall('models')"
   ]
  },
  {
   "cell_type": "code",
   "execution_count": null,
   "metadata": {},
   "outputs": [],
   "source": []
  }
 ],
 "metadata": {
  "kernelspec": {
   "display_name": "Python 3",
   "language": "python",
   "name": "python3"
  },
  "language_info": {
   "codemirror_mode": {
    "name": "ipython",
    "version": 3
   },
   "file_extension": ".py",
   "mimetype": "text/x-python",
   "name": "python",
   "nbconvert_exporter": "python",
   "pygments_lexer": "ipython3",
   "version": "3.6.9"
  }
 },
 "nbformat": 4,
 "nbformat_minor": 2
}
