{
 "cells": [
  {
   "cell_type": "markdown",
   "metadata": {},
   "source": [
    "# Лабораторная №1\n",
    "## 0) Описание задачи\n",
    "### Датасет: TMDB 5000 Movie Dataset\n",
    "https://www.kaggle.com/tmdb/tmdb-movie-metadata#tmdb_5000_movies.csv . Ранее это был датасет IMDB, но после полученных от них страйков (авторские права), Kaggle взяли данные с другого сайта, удалив часть колонок и добавив новые."
   ]
  },
  {
   "cell_type": "markdown",
   "metadata": {},
   "source": [
    "Данные: описания около 4800 фильмов по таким параметрам, как бюджет, жанры, ключевые слова, язык, название, и т.д. (tmdb_5000_movies.csv); в отдельном файле есть титры для каждого фильма (tmdb_5000_credits.csv)"
   ]
  },
  {
   "cell_type": "markdown",
   "metadata": {},
   "source": [
    "Эта задача по идее - задача регрессии (по показателю vote_average, который по идее float). Соответственно, датасет сильно разбалансирован (большинство фильмов оценено в районе от 5 до 7). Округлив оценки до целых, мы можем решить эту задачу классификационно (предварительно, классы - от 1 до 10)."
   ]
  },
  {
   "cell_type": "code",
   "execution_count": 1,
   "metadata": {},
   "outputs": [],
   "source": [
    "import numpy as np\n",
    "import matplotlib.pyplot as plt\n",
    "import pandas as pd\n",
    "%matplotlib inline\n",
    "\n",
    "from tqdm import tqdm"
   ]
  },
  {
   "cell_type": "markdown",
   "metadata": {},
   "source": [
    "## 1) Чтение данных"
   ]
  },
  {
   "cell_type": "code",
   "execution_count": 2,
   "metadata": {},
   "outputs": [
    {
     "data": {
      "text/html": [
       "<div>\n",
       "<style scoped>\n",
       "    .dataframe tbody tr th:only-of-type {\n",
       "        vertical-align: middle;\n",
       "    }\n",
       "\n",
       "    .dataframe tbody tr th {\n",
       "        vertical-align: top;\n",
       "    }\n",
       "\n",
       "    .dataframe thead th {\n",
       "        text-align: right;\n",
       "    }\n",
       "</style>\n",
       "<table border=\"1\" class=\"dataframe\">\n",
       "  <thead>\n",
       "    <tr style=\"text-align: right;\">\n",
       "      <th></th>\n",
       "      <th>budget</th>\n",
       "      <th>genres</th>\n",
       "      <th>homepage</th>\n",
       "      <th>id</th>\n",
       "      <th>keywords</th>\n",
       "      <th>original_language</th>\n",
       "      <th>original_title</th>\n",
       "      <th>overview</th>\n",
       "      <th>popularity</th>\n",
       "      <th>production_companies</th>\n",
       "      <th>production_countries</th>\n",
       "      <th>release_date</th>\n",
       "      <th>revenue</th>\n",
       "      <th>runtime</th>\n",
       "      <th>spoken_languages</th>\n",
       "      <th>status</th>\n",
       "      <th>tagline</th>\n",
       "      <th>title</th>\n",
       "      <th>vote_average</th>\n",
       "      <th>vote_count</th>\n",
       "    </tr>\n",
       "  </thead>\n",
       "  <tbody>\n",
       "    <tr>\n",
       "      <td>0</td>\n",
       "      <td>237000000</td>\n",
       "      <td>[{\"id\": 28, \"name\": \"Action\"}, {\"id\": 12, \"nam...</td>\n",
       "      <td>http://www.avatarmovie.com/</td>\n",
       "      <td>19995</td>\n",
       "      <td>[{\"id\": 1463, \"name\": \"culture clash\"}, {\"id\":...</td>\n",
       "      <td>en</td>\n",
       "      <td>Avatar</td>\n",
       "      <td>In the 22nd century, a paraplegic Marine is di...</td>\n",
       "      <td>150.437577</td>\n",
       "      <td>[{\"name\": \"Ingenious Film Partners\", \"id\": 289...</td>\n",
       "      <td>[{\"iso_3166_1\": \"US\", \"name\": \"United States o...</td>\n",
       "      <td>2009-12-10</td>\n",
       "      <td>2787965087</td>\n",
       "      <td>162.0</td>\n",
       "      <td>[{\"iso_639_1\": \"en\", \"name\": \"English\"}, {\"iso...</td>\n",
       "      <td>Released</td>\n",
       "      <td>Enter the World of Pandora.</td>\n",
       "      <td>Avatar</td>\n",
       "      <td>7.2</td>\n",
       "      <td>11800</td>\n",
       "    </tr>\n",
       "    <tr>\n",
       "      <td>1</td>\n",
       "      <td>300000000</td>\n",
       "      <td>[{\"id\": 12, \"name\": \"Adventure\"}, {\"id\": 14, \"...</td>\n",
       "      <td>http://disney.go.com/disneypictures/pirates/</td>\n",
       "      <td>285</td>\n",
       "      <td>[{\"id\": 270, \"name\": \"ocean\"}, {\"id\": 726, \"na...</td>\n",
       "      <td>en</td>\n",
       "      <td>Pirates of the Caribbean: At World's End</td>\n",
       "      <td>Captain Barbossa, long believed to be dead, ha...</td>\n",
       "      <td>139.082615</td>\n",
       "      <td>[{\"name\": \"Walt Disney Pictures\", \"id\": 2}, {\"...</td>\n",
       "      <td>[{\"iso_3166_1\": \"US\", \"name\": \"United States o...</td>\n",
       "      <td>2007-05-19</td>\n",
       "      <td>961000000</td>\n",
       "      <td>169.0</td>\n",
       "      <td>[{\"iso_639_1\": \"en\", \"name\": \"English\"}]</td>\n",
       "      <td>Released</td>\n",
       "      <td>At the end of the world, the adventure begins.</td>\n",
       "      <td>Pirates of the Caribbean: At World's End</td>\n",
       "      <td>6.9</td>\n",
       "      <td>4500</td>\n",
       "    </tr>\n",
       "    <tr>\n",
       "      <td>2</td>\n",
       "      <td>245000000</td>\n",
       "      <td>[{\"id\": 28, \"name\": \"Action\"}, {\"id\": 12, \"nam...</td>\n",
       "      <td>http://www.sonypictures.com/movies/spectre/</td>\n",
       "      <td>206647</td>\n",
       "      <td>[{\"id\": 470, \"name\": \"spy\"}, {\"id\": 818, \"name...</td>\n",
       "      <td>en</td>\n",
       "      <td>Spectre</td>\n",
       "      <td>A cryptic message from Bond’s past sends him o...</td>\n",
       "      <td>107.376788</td>\n",
       "      <td>[{\"name\": \"Columbia Pictures\", \"id\": 5}, {\"nam...</td>\n",
       "      <td>[{\"iso_3166_1\": \"GB\", \"name\": \"United Kingdom\"...</td>\n",
       "      <td>2015-10-26</td>\n",
       "      <td>880674609</td>\n",
       "      <td>148.0</td>\n",
       "      <td>[{\"iso_639_1\": \"fr\", \"name\": \"Fran\\u00e7ais\"},...</td>\n",
       "      <td>Released</td>\n",
       "      <td>A Plan No One Escapes</td>\n",
       "      <td>Spectre</td>\n",
       "      <td>6.3</td>\n",
       "      <td>4466</td>\n",
       "    </tr>\n",
       "    <tr>\n",
       "      <td>3</td>\n",
       "      <td>250000000</td>\n",
       "      <td>[{\"id\": 28, \"name\": \"Action\"}, {\"id\": 80, \"nam...</td>\n",
       "      <td>http://www.thedarkknightrises.com/</td>\n",
       "      <td>49026</td>\n",
       "      <td>[{\"id\": 849, \"name\": \"dc comics\"}, {\"id\": 853,...</td>\n",
       "      <td>en</td>\n",
       "      <td>The Dark Knight Rises</td>\n",
       "      <td>Following the death of District Attorney Harve...</td>\n",
       "      <td>112.312950</td>\n",
       "      <td>[{\"name\": \"Legendary Pictures\", \"id\": 923}, {\"...</td>\n",
       "      <td>[{\"iso_3166_1\": \"US\", \"name\": \"United States o...</td>\n",
       "      <td>2012-07-16</td>\n",
       "      <td>1084939099</td>\n",
       "      <td>165.0</td>\n",
       "      <td>[{\"iso_639_1\": \"en\", \"name\": \"English\"}]</td>\n",
       "      <td>Released</td>\n",
       "      <td>The Legend Ends</td>\n",
       "      <td>The Dark Knight Rises</td>\n",
       "      <td>7.6</td>\n",
       "      <td>9106</td>\n",
       "    </tr>\n",
       "    <tr>\n",
       "      <td>4</td>\n",
       "      <td>260000000</td>\n",
       "      <td>[{\"id\": 28, \"name\": \"Action\"}, {\"id\": 12, \"nam...</td>\n",
       "      <td>http://movies.disney.com/john-carter</td>\n",
       "      <td>49529</td>\n",
       "      <td>[{\"id\": 818, \"name\": \"based on novel\"}, {\"id\":...</td>\n",
       "      <td>en</td>\n",
       "      <td>John Carter</td>\n",
       "      <td>John Carter is a war-weary, former military ca...</td>\n",
       "      <td>43.926995</td>\n",
       "      <td>[{\"name\": \"Walt Disney Pictures\", \"id\": 2}]</td>\n",
       "      <td>[{\"iso_3166_1\": \"US\", \"name\": \"United States o...</td>\n",
       "      <td>2012-03-07</td>\n",
       "      <td>284139100</td>\n",
       "      <td>132.0</td>\n",
       "      <td>[{\"iso_639_1\": \"en\", \"name\": \"English\"}]</td>\n",
       "      <td>Released</td>\n",
       "      <td>Lost in our world, found in another.</td>\n",
       "      <td>John Carter</td>\n",
       "      <td>6.1</td>\n",
       "      <td>2124</td>\n",
       "    </tr>\n",
       "  </tbody>\n",
       "</table>\n",
       "</div>"
      ],
      "text/plain": [
       "      budget                                             genres  \\\n",
       "0  237000000  [{\"id\": 28, \"name\": \"Action\"}, {\"id\": 12, \"nam...   \n",
       "1  300000000  [{\"id\": 12, \"name\": \"Adventure\"}, {\"id\": 14, \"...   \n",
       "2  245000000  [{\"id\": 28, \"name\": \"Action\"}, {\"id\": 12, \"nam...   \n",
       "3  250000000  [{\"id\": 28, \"name\": \"Action\"}, {\"id\": 80, \"nam...   \n",
       "4  260000000  [{\"id\": 28, \"name\": \"Action\"}, {\"id\": 12, \"nam...   \n",
       "\n",
       "                                       homepage      id  \\\n",
       "0                   http://www.avatarmovie.com/   19995   \n",
       "1  http://disney.go.com/disneypictures/pirates/     285   \n",
       "2   http://www.sonypictures.com/movies/spectre/  206647   \n",
       "3            http://www.thedarkknightrises.com/   49026   \n",
       "4          http://movies.disney.com/john-carter   49529   \n",
       "\n",
       "                                            keywords original_language  \\\n",
       "0  [{\"id\": 1463, \"name\": \"culture clash\"}, {\"id\":...                en   \n",
       "1  [{\"id\": 270, \"name\": \"ocean\"}, {\"id\": 726, \"na...                en   \n",
       "2  [{\"id\": 470, \"name\": \"spy\"}, {\"id\": 818, \"name...                en   \n",
       "3  [{\"id\": 849, \"name\": \"dc comics\"}, {\"id\": 853,...                en   \n",
       "4  [{\"id\": 818, \"name\": \"based on novel\"}, {\"id\":...                en   \n",
       "\n",
       "                             original_title  \\\n",
       "0                                    Avatar   \n",
       "1  Pirates of the Caribbean: At World's End   \n",
       "2                                   Spectre   \n",
       "3                     The Dark Knight Rises   \n",
       "4                               John Carter   \n",
       "\n",
       "                                            overview  popularity  \\\n",
       "0  In the 22nd century, a paraplegic Marine is di...  150.437577   \n",
       "1  Captain Barbossa, long believed to be dead, ha...  139.082615   \n",
       "2  A cryptic message from Bond’s past sends him o...  107.376788   \n",
       "3  Following the death of District Attorney Harve...  112.312950   \n",
       "4  John Carter is a war-weary, former military ca...   43.926995   \n",
       "\n",
       "                                production_companies  \\\n",
       "0  [{\"name\": \"Ingenious Film Partners\", \"id\": 289...   \n",
       "1  [{\"name\": \"Walt Disney Pictures\", \"id\": 2}, {\"...   \n",
       "2  [{\"name\": \"Columbia Pictures\", \"id\": 5}, {\"nam...   \n",
       "3  [{\"name\": \"Legendary Pictures\", \"id\": 923}, {\"...   \n",
       "4        [{\"name\": \"Walt Disney Pictures\", \"id\": 2}]   \n",
       "\n",
       "                                production_countries release_date     revenue  \\\n",
       "0  [{\"iso_3166_1\": \"US\", \"name\": \"United States o...   2009-12-10  2787965087   \n",
       "1  [{\"iso_3166_1\": \"US\", \"name\": \"United States o...   2007-05-19   961000000   \n",
       "2  [{\"iso_3166_1\": \"GB\", \"name\": \"United Kingdom\"...   2015-10-26   880674609   \n",
       "3  [{\"iso_3166_1\": \"US\", \"name\": \"United States o...   2012-07-16  1084939099   \n",
       "4  [{\"iso_3166_1\": \"US\", \"name\": \"United States o...   2012-03-07   284139100   \n",
       "\n",
       "   runtime                                   spoken_languages    status  \\\n",
       "0    162.0  [{\"iso_639_1\": \"en\", \"name\": \"English\"}, {\"iso...  Released   \n",
       "1    169.0           [{\"iso_639_1\": \"en\", \"name\": \"English\"}]  Released   \n",
       "2    148.0  [{\"iso_639_1\": \"fr\", \"name\": \"Fran\\u00e7ais\"},...  Released   \n",
       "3    165.0           [{\"iso_639_1\": \"en\", \"name\": \"English\"}]  Released   \n",
       "4    132.0           [{\"iso_639_1\": \"en\", \"name\": \"English\"}]  Released   \n",
       "\n",
       "                                          tagline  \\\n",
       "0                     Enter the World of Pandora.   \n",
       "1  At the end of the world, the adventure begins.   \n",
       "2                           A Plan No One Escapes   \n",
       "3                                 The Legend Ends   \n",
       "4            Lost in our world, found in another.   \n",
       "\n",
       "                                      title  vote_average  vote_count  \n",
       "0                                    Avatar           7.2       11800  \n",
       "1  Pirates of the Caribbean: At World's End           6.9        4500  \n",
       "2                                   Spectre           6.3        4466  \n",
       "3                     The Dark Knight Rises           7.6        9106  \n",
       "4                               John Carter           6.1        2124  "
      ]
     },
     "execution_count": 2,
     "metadata": {},
     "output_type": "execute_result"
    }
   ],
   "source": [
    "data = pd.read_csv('tmdb_5000_movies.csv', sep=',')\n",
    "data.head()"
   ]
  },
  {
   "cell_type": "markdown",
   "metadata": {},
   "source": [
    "Для начала, избавимся от колонки homepage, которую нельзя задействовать as-is (требуется индивидуальный скрапинг сайтов, если как-то хочется использовать их данные, и сейчас это иррационально), от id (в ней отсутствует информация) и от original_language (совпадает со spoken_languages, в которой к тому же больше информации), и от status (100% Released)"
   ]
  },
  {
   "cell_type": "code",
   "execution_count": 3,
   "metadata": {},
   "outputs": [],
   "source": [
    "data = data.drop(['homepage', 'id', 'original_language', 'status'], axis=1)"
   ]
  },
  {
   "cell_type": "markdown",
   "metadata": {},
   "source": [
    "Title и Original Title идентичны, но во втором документе (с титрами) встречается под названием Title, так что избавляемся от второго."
   ]
  },
  {
   "cell_type": "code",
   "execution_count": 4,
   "metadata": {},
   "outputs": [],
   "source": [
    "data = data.drop('original_title', axis=1)"
   ]
  },
  {
   "cell_type": "markdown",
   "metadata": {},
   "source": [
    "### JSON"
   ]
  },
  {
   "cell_type": "markdown",
   "metadata": {},
   "source": [
    "Теперь обратим внимание на json-запакованные данные. Здесь для каждой ячейки может быть несколько значений. Распакуем json-запакованные данные."
   ]
  },
  {
   "cell_type": "code",
   "execution_count": 5,
   "metadata": {},
   "outputs": [],
   "source": [
    "import json"
   ]
  },
  {
   "cell_type": "code",
   "execution_count": 6,
   "metadata": {},
   "outputs": [
    {
     "name": "stderr",
     "output_type": "stream",
     "text": [
      "100%|██████████| 4803/4803 [00:00<00:00, 107417.80it/s]\n"
     ]
    },
    {
     "data": {
      "text/plain": [
       "20"
      ]
     },
     "execution_count": 6,
     "metadata": {},
     "output_type": "execute_result"
    }
   ],
   "source": [
    "genres = []\n",
    "for a in tqdm(data.genres):\n",
    "    genres.append(json.loads(a))\n",
    "g_stat = set([b['name'] for b in sum(genres, [])])\n",
    "len(g_stat)"
   ]
  },
  {
   "cell_type": "markdown",
   "metadata": {},
   "source": [
    "Категориальные; всего 20 уникальных значений, так что в дальнейшем кодируем в one-hot."
   ]
  },
  {
   "cell_type": "code",
   "execution_count": 7,
   "metadata": {},
   "outputs": [
    {
     "data": {
      "text/plain": [
       "['Action|Adventure|Fantasy|SciFi',\n",
       " 'Adventure|Fantasy|Action',\n",
       " 'Action|Adventure|Crime',\n",
       " 'Action|Crime|Drama|Thriller']"
      ]
     },
     "execution_count": 7,
     "metadata": {},
     "output_type": "execute_result"
    }
   ],
   "source": [
    "genres = [('|').join([b['name'] for b in g]).replace('Science Fiction', 'SciFi').replace('TV Movie', 'TV') for g in genres]\n",
    "genres[:4]"
   ]
  },
  {
   "cell_type": "markdown",
   "metadata": {},
   "source": [
    "Заменим данные распакованными сразу."
   ]
  },
  {
   "cell_type": "code",
   "execution_count": 8,
   "metadata": {},
   "outputs": [],
   "source": [
    "data.drop('genres', axis = 1, inplace = True)\n",
    "data.insert(1, 'genres', genres)"
   ]
  },
  {
   "cell_type": "code",
   "execution_count": 9,
   "metadata": {},
   "outputs": [
    {
     "name": "stderr",
     "output_type": "stream",
     "text": [
      "100%|██████████| 4803/4803 [00:00<00:00, 45137.13it/s]\n"
     ]
    },
    {
     "data": {
      "text/plain": [
       "9813"
      ]
     },
     "execution_count": 9,
     "metadata": {},
     "output_type": "execute_result"
    }
   ],
   "source": [
    "keywords = []\n",
    "for a in tqdm(data.keywords):\n",
    "    keywords.append(json.loads(a))\n",
    "k_stats = set([b['name'] for b in sum(keywords, [])])\n",
    "len(k_stats)"
   ]
  },
  {
   "cell_type": "code",
   "execution_count": 10,
   "metadata": {},
   "outputs": [
    {
     "data": {
      "text/plain": [
       "['listening to music', 'merchant marine', 'psychopathy', 'collector', 'luxury']"
      ]
     },
     "execution_count": 10,
     "metadata": {},
     "output_type": "execute_result"
    }
   ],
   "source": [
    "list(k_stats)[:5]"
   ]
  },
  {
   "cell_type": "code",
   "execution_count": 11,
   "metadata": {},
   "outputs": [
    {
     "data": {
      "text/plain": [
       "7282"
      ]
     },
     "execution_count": 11,
     "metadata": {},
     "output_type": "execute_result"
    }
   ],
   "source": [
    "len(set(' '.join(k_stats).split()))"
   ]
  },
  {
   "cell_type": "markdown",
   "metadata": {},
   "source": [
    "Данные языковые, очень много уникальных значений на всех уровнях, так что, вероятнее всего, будем использовать эмбеддинги."
   ]
  },
  {
   "cell_type": "code",
   "execution_count": 12,
   "metadata": {},
   "outputs": [
    {
     "data": {
      "text/plain": [
       "['culture clash, future, space war, space colony, society, space travel, futuristic, romance, space, alien, tribe, alien planet, cgi, marine, soldier, battle, love affair, anti war, power relations, mind and soul, 3d',\n",
       " \"ocean, drug abuse, exotic island, east india trading company, love of one's life, traitor, shipwreck, strong woman, ship, alliance, calypso, afterlife, fighter, pirate, swashbuckler, aftercreditsstinger\",\n",
       " 'spy, based on novel, secret agent, sequel, mi6, british secret service, united kingdom',\n",
       " 'dc comics, crime fighter, terrorist, secret identity, burglar, hostage drama, time bomb, gotham city, vigilante, cover-up, superhero, villainess, tragic hero, terrorism, destruction, catwoman, cat burglar, imax, flood, criminal underworld, batman']"
      ]
     },
     "execution_count": 12,
     "metadata": {},
     "output_type": "execute_result"
    }
   ],
   "source": [
    "keywords = [(', ').join([b['name'] for b in k]) for k in keywords]\n",
    "keywords[:4]"
   ]
  },
  {
   "cell_type": "code",
   "execution_count": 13,
   "metadata": {},
   "outputs": [],
   "source": [
    "data.drop('keywords', axis = 1, inplace = True)\n",
    "data.insert(2, 'keywords', keywords)"
   ]
  },
  {
   "cell_type": "code",
   "execution_count": 14,
   "metadata": {},
   "outputs": [
    {
     "name": "stderr",
     "output_type": "stream",
     "text": [
      "100%|██████████| 4803/4803 [00:00<00:00, 108765.03it/s]\n"
     ]
    },
    {
     "data": {
      "text/plain": [
       "5017"
      ]
     },
     "execution_count": 14,
     "metadata": {},
     "output_type": "execute_result"
    }
   ],
   "source": [
    "comps = []\n",
    "for a in tqdm(data.production_companies):\n",
    "    comps.append(json.loads(a))\n",
    "co_stats = set([b['name'] for b in sum(comps, [])])\n",
    "len(co_stats)"
   ]
  },
  {
   "cell_type": "code",
   "execution_count": 15,
   "metadata": {},
   "outputs": [
    {
     "data": {
      "text/plain": [
       "5287"
      ]
     },
     "execution_count": 15,
     "metadata": {},
     "output_type": "execute_result"
    }
   ],
   "source": [
    "len(set(' '.join(co_stats).split()))"
   ]
  },
  {
   "cell_type": "markdown",
   "metadata": {},
   "source": [
    "То же, что и с keywords"
   ]
  },
  {
   "cell_type": "code",
   "execution_count": 16,
   "metadata": {},
   "outputs": [],
   "source": [
    "comps = [('|').join([b['name'] for b in c]) for c in comps]\n",
    "\n",
    "data.drop('production_companies', axis = 1, inplace = True)\n",
    "data.insert(5, 'production_companies', comps)"
   ]
  },
  {
   "cell_type": "code",
   "execution_count": 17,
   "metadata": {},
   "outputs": [
    {
     "data": {
      "text/plain": [
       "[{'iso_3166_1': 'US', 'name': 'United States of America'}]"
      ]
     },
     "execution_count": 17,
     "metadata": {},
     "output_type": "execute_result"
    }
   ],
   "source": [
    "json.loads(data.production_countries[101])"
   ]
  },
  {
   "cell_type": "code",
   "execution_count": 18,
   "metadata": {},
   "outputs": [
    {
     "name": "stderr",
     "output_type": "stream",
     "text": [
      "100%|██████████| 4803/4803 [00:00<00:00, 138845.57it/s]\n"
     ]
    },
    {
     "data": {
      "text/plain": [
       "88"
      ]
     },
     "execution_count": 18,
     "metadata": {},
     "output_type": "execute_result"
    }
   ],
   "source": [
    "states = []\n",
    "for a in tqdm(data.production_countries):\n",
    "    states.append(json.loads(a))\n",
    "states_stats = set([b['iso_3166_1'] for b in sum(states, [])])\n",
    "len(states_stats)"
   ]
  },
  {
   "cell_type": "code",
   "execution_count": 19,
   "metadata": {},
   "outputs": [
    {
     "data": {
      "text/plain": [
       "[[{'iso_3166_1': 'US', 'name': 'United States of America'},\n",
       "  {'iso_3166_1': 'GB', 'name': 'United Kingdom'}],\n",
       " [{'iso_3166_1': 'US', 'name': 'United States of America'}],\n",
       " [{'iso_3166_1': 'GB', 'name': 'United Kingdom'},\n",
       "  {'iso_3166_1': 'US', 'name': 'United States of America'}],\n",
       " [{'iso_3166_1': 'US', 'name': 'United States of America'}]]"
      ]
     },
     "execution_count": 19,
     "metadata": {},
     "output_type": "execute_result"
    }
   ],
   "source": [
    "states[:4]"
   ]
  },
  {
   "cell_type": "markdown",
   "metadata": {},
   "source": [
    "Здесь уникальных значений относительно немного, но one-hot все равно получится разреженный. Есть вариант использовать двоичное кодирование и суммировать получившиеся показатели (поскольку их несколько для каждого фильма), но тогда слишком много групп языков могут совпасть по значениям при сложении. Так, если 1 - RU, 2 - GB, 3 - US, то русско-британский фильм - 0 1 1, как и американский. Более того, многие страны могут встречаться очень редко. Если бы значение на фильм было одно, то это позволило бы серьёзно уменьшить размерность, но здесь мы будем использовать one-hot, с дальнейшим dimensionality reduction."
   ]
  },
  {
   "cell_type": "code",
   "execution_count": 20,
   "metadata": {},
   "outputs": [],
   "source": [
    "states = [('|').join([b['iso_3166_1'] for b in s]) for s in states]\n",
    "\n",
    "data.drop('production_countries', axis = 1, inplace = True)\n",
    "data.insert(6, 'production_countries', states)"
   ]
  },
  {
   "cell_type": "code",
   "execution_count": 21,
   "metadata": {},
   "outputs": [
    {
     "data": {
      "text/plain": [
       "[{'iso_639_1': 'de', 'name': 'Deutsch'},\n",
       " {'iso_639_1': 'en', 'name': 'English'},\n",
       " {'iso_639_1': 'es', 'name': 'Español'},\n",
       " {'iso_639_1': 'fr', 'name': 'Français'},\n",
       " {'iso_639_1': 'ru', 'name': 'Pусский'}]"
      ]
     },
     "execution_count": 21,
     "metadata": {},
     "output_type": "execute_result"
    }
   ],
   "source": [
    "json.loads(data.spoken_languages[101])"
   ]
  },
  {
   "cell_type": "code",
   "execution_count": 22,
   "metadata": {},
   "outputs": [
    {
     "name": "stderr",
     "output_type": "stream",
     "text": [
      "100%|██████████| 4803/4803 [00:00<00:00, 129808.51it/s]\n"
     ]
    },
    {
     "data": {
      "text/plain": [
       "87"
      ]
     },
     "execution_count": 22,
     "metadata": {},
     "output_type": "execute_result"
    }
   ],
   "source": [
    "langs = []\n",
    "for a in tqdm(data.spoken_languages):\n",
    "    langs.append(json.loads(a))\n",
    "lang_stats = set([b['iso_639_1'] for b in sum(langs, [])])\n",
    "len(lang_stats)"
   ]
  },
  {
   "cell_type": "code",
   "execution_count": 23,
   "metadata": {},
   "outputs": [
    {
     "data": {
      "text/plain": [
       "[[{'iso_639_1': 'en', 'name': 'English'},\n",
       "  {'iso_639_1': 'es', 'name': 'Español'}],\n",
       " [{'iso_639_1': 'en', 'name': 'English'}],\n",
       " [{'iso_639_1': 'fr', 'name': 'Français'},\n",
       "  {'iso_639_1': 'en', 'name': 'English'},\n",
       "  {'iso_639_1': 'es', 'name': 'Español'},\n",
       "  {'iso_639_1': 'it', 'name': 'Italiano'},\n",
       "  {'iso_639_1': 'de', 'name': 'Deutsch'}]]"
      ]
     },
     "execution_count": 23,
     "metadata": {},
     "output_type": "execute_result"
    }
   ],
   "source": [
    "langs[:3]"
   ]
  },
  {
   "cell_type": "markdown",
   "metadata": {},
   "source": [
    "Ситуация практически идентичная с предыдущим столбцом, но эти два столбца не взаимозаменяемые, потому что в, например, американском фильме могут говорить и на русском, и на испанском, и на китайском. Представляем, однако, так же."
   ]
  },
  {
   "cell_type": "code",
   "execution_count": 24,
   "metadata": {},
   "outputs": [],
   "source": [
    "langs = [('|').join([b['iso_639_1'] for b in l]) for l in langs]\n",
    "\n",
    "data.drop('spoken_languages', axis = 1, inplace = True)\n",
    "data.insert(10, 'spoken_languages', langs)"
   ]
  },
  {
   "cell_type": "code",
   "execution_count": 25,
   "metadata": {
    "scrolled": false
   },
   "outputs": [
    {
     "data": {
      "text/html": [
       "<div>\n",
       "<style scoped>\n",
       "    .dataframe tbody tr th:only-of-type {\n",
       "        vertical-align: middle;\n",
       "    }\n",
       "\n",
       "    .dataframe tbody tr th {\n",
       "        vertical-align: top;\n",
       "    }\n",
       "\n",
       "    .dataframe thead th {\n",
       "        text-align: right;\n",
       "    }\n",
       "</style>\n",
       "<table border=\"1\" class=\"dataframe\">\n",
       "  <thead>\n",
       "    <tr style=\"text-align: right;\">\n",
       "      <th></th>\n",
       "      <th>budget</th>\n",
       "      <th>genres</th>\n",
       "      <th>keywords</th>\n",
       "      <th>overview</th>\n",
       "      <th>popularity</th>\n",
       "      <th>production_companies</th>\n",
       "      <th>production_countries</th>\n",
       "      <th>release_date</th>\n",
       "      <th>revenue</th>\n",
       "      <th>runtime</th>\n",
       "      <th>spoken_languages</th>\n",
       "      <th>tagline</th>\n",
       "      <th>title</th>\n",
       "      <th>vote_average</th>\n",
       "      <th>vote_count</th>\n",
       "    </tr>\n",
       "  </thead>\n",
       "  <tbody>\n",
       "    <tr>\n",
       "      <td>0</td>\n",
       "      <td>237000000</td>\n",
       "      <td>Action|Adventure|Fantasy|SciFi</td>\n",
       "      <td>culture clash, future, space war, space colony...</td>\n",
       "      <td>In the 22nd century, a paraplegic Marine is di...</td>\n",
       "      <td>150.437577</td>\n",
       "      <td>Ingenious Film Partners|Twentieth Century Fox ...</td>\n",
       "      <td>US|GB</td>\n",
       "      <td>2009-12-10</td>\n",
       "      <td>2787965087</td>\n",
       "      <td>162.0</td>\n",
       "      <td>en|es</td>\n",
       "      <td>Enter the World of Pandora.</td>\n",
       "      <td>Avatar</td>\n",
       "      <td>7.2</td>\n",
       "      <td>11800</td>\n",
       "    </tr>\n",
       "    <tr>\n",
       "      <td>1</td>\n",
       "      <td>300000000</td>\n",
       "      <td>Adventure|Fantasy|Action</td>\n",
       "      <td>ocean, drug abuse, exotic island, east india t...</td>\n",
       "      <td>Captain Barbossa, long believed to be dead, ha...</td>\n",
       "      <td>139.082615</td>\n",
       "      <td>Walt Disney Pictures|Jerry Bruckheimer Films|S...</td>\n",
       "      <td>US</td>\n",
       "      <td>2007-05-19</td>\n",
       "      <td>961000000</td>\n",
       "      <td>169.0</td>\n",
       "      <td>en</td>\n",
       "      <td>At the end of the world, the adventure begins.</td>\n",
       "      <td>Pirates of the Caribbean: At World's End</td>\n",
       "      <td>6.9</td>\n",
       "      <td>4500</td>\n",
       "    </tr>\n",
       "    <tr>\n",
       "      <td>2</td>\n",
       "      <td>245000000</td>\n",
       "      <td>Action|Adventure|Crime</td>\n",
       "      <td>spy, based on novel, secret agent, sequel, mi6...</td>\n",
       "      <td>A cryptic message from Bond’s past sends him o...</td>\n",
       "      <td>107.376788</td>\n",
       "      <td>Columbia Pictures|Danjaq|B24</td>\n",
       "      <td>GB|US</td>\n",
       "      <td>2015-10-26</td>\n",
       "      <td>880674609</td>\n",
       "      <td>148.0</td>\n",
       "      <td>fr|en|es|it|de</td>\n",
       "      <td>A Plan No One Escapes</td>\n",
       "      <td>Spectre</td>\n",
       "      <td>6.3</td>\n",
       "      <td>4466</td>\n",
       "    </tr>\n",
       "    <tr>\n",
       "      <td>3</td>\n",
       "      <td>250000000</td>\n",
       "      <td>Action|Crime|Drama|Thriller</td>\n",
       "      <td>dc comics, crime fighter, terrorist, secret id...</td>\n",
       "      <td>Following the death of District Attorney Harve...</td>\n",
       "      <td>112.312950</td>\n",
       "      <td>Legendary Pictures|Warner Bros.|DC Entertainme...</td>\n",
       "      <td>US</td>\n",
       "      <td>2012-07-16</td>\n",
       "      <td>1084939099</td>\n",
       "      <td>165.0</td>\n",
       "      <td>en</td>\n",
       "      <td>The Legend Ends</td>\n",
       "      <td>The Dark Knight Rises</td>\n",
       "      <td>7.6</td>\n",
       "      <td>9106</td>\n",
       "    </tr>\n",
       "    <tr>\n",
       "      <td>4</td>\n",
       "      <td>260000000</td>\n",
       "      <td>Action|Adventure|SciFi</td>\n",
       "      <td>based on novel, mars, medallion, space travel,...</td>\n",
       "      <td>John Carter is a war-weary, former military ca...</td>\n",
       "      <td>43.926995</td>\n",
       "      <td>Walt Disney Pictures</td>\n",
       "      <td>US</td>\n",
       "      <td>2012-03-07</td>\n",
       "      <td>284139100</td>\n",
       "      <td>132.0</td>\n",
       "      <td>en</td>\n",
       "      <td>Lost in our world, found in another.</td>\n",
       "      <td>John Carter</td>\n",
       "      <td>6.1</td>\n",
       "      <td>2124</td>\n",
       "    </tr>\n",
       "  </tbody>\n",
       "</table>\n",
       "</div>"
      ],
      "text/plain": [
       "      budget                          genres  \\\n",
       "0  237000000  Action|Adventure|Fantasy|SciFi   \n",
       "1  300000000        Adventure|Fantasy|Action   \n",
       "2  245000000          Action|Adventure|Crime   \n",
       "3  250000000     Action|Crime|Drama|Thriller   \n",
       "4  260000000          Action|Adventure|SciFi   \n",
       "\n",
       "                                            keywords  \\\n",
       "0  culture clash, future, space war, space colony...   \n",
       "1  ocean, drug abuse, exotic island, east india t...   \n",
       "2  spy, based on novel, secret agent, sequel, mi6...   \n",
       "3  dc comics, crime fighter, terrorist, secret id...   \n",
       "4  based on novel, mars, medallion, space travel,...   \n",
       "\n",
       "                                            overview  popularity  \\\n",
       "0  In the 22nd century, a paraplegic Marine is di...  150.437577   \n",
       "1  Captain Barbossa, long believed to be dead, ha...  139.082615   \n",
       "2  A cryptic message from Bond’s past sends him o...  107.376788   \n",
       "3  Following the death of District Attorney Harve...  112.312950   \n",
       "4  John Carter is a war-weary, former military ca...   43.926995   \n",
       "\n",
       "                                production_companies production_countries  \\\n",
       "0  Ingenious Film Partners|Twentieth Century Fox ...                US|GB   \n",
       "1  Walt Disney Pictures|Jerry Bruckheimer Films|S...                   US   \n",
       "2                       Columbia Pictures|Danjaq|B24                GB|US   \n",
       "3  Legendary Pictures|Warner Bros.|DC Entertainme...                   US   \n",
       "4                               Walt Disney Pictures                   US   \n",
       "\n",
       "  release_date     revenue  runtime spoken_languages  \\\n",
       "0   2009-12-10  2787965087    162.0            en|es   \n",
       "1   2007-05-19   961000000    169.0               en   \n",
       "2   2015-10-26   880674609    148.0   fr|en|es|it|de   \n",
       "3   2012-07-16  1084939099    165.0               en   \n",
       "4   2012-03-07   284139100    132.0               en   \n",
       "\n",
       "                                          tagline  \\\n",
       "0                     Enter the World of Pandora.   \n",
       "1  At the end of the world, the adventure begins.   \n",
       "2                           A Plan No One Escapes   \n",
       "3                                 The Legend Ends   \n",
       "4            Lost in our world, found in another.   \n",
       "\n",
       "                                      title  vote_average  vote_count  \n",
       "0                                    Avatar           7.2       11800  \n",
       "1  Pirates of the Caribbean: At World's End           6.9        4500  \n",
       "2                                   Spectre           6.3        4466  \n",
       "3                     The Dark Knight Rises           7.6        9106  \n",
       "4                               John Carter           6.1        2124  "
      ]
     },
     "execution_count": 25,
     "metadata": {},
     "output_type": "execute_result"
    }
   ],
   "source": [
    "data.head()"
   ]
  },
  {
   "cell_type": "markdown",
   "metadata": {},
   "source": [
    "Теперь, когда мы в каком-то виде распаковали JSON-значения, можно визуализировать."
   ]
  },
  {
   "cell_type": "markdown",
   "metadata": {},
   "source": [
    "## 2) Визуализация данных"
   ]
  },
  {
   "cell_type": "code",
   "execution_count": 26,
   "metadata": {},
   "outputs": [
    {
     "name": "stdout",
     "output_type": "stream",
     "text": [
      "(4803, 15)\n",
      "Index(['budget', 'genres', 'keywords', 'overview', 'popularity',\n",
      "       'production_companies', 'production_countries', 'release_date',\n",
      "       'revenue', 'runtime', 'spoken_languages', 'tagline', 'title',\n",
      "       'vote_average', 'vote_count'],\n",
      "      dtype='object')\n"
     ]
    }
   ],
   "source": [
    "print(data.shape)\n",
    "print(data.columns)"
   ]
  },
  {
   "cell_type": "code",
   "execution_count": 27,
   "metadata": {
    "scrolled": true
   },
   "outputs": [
    {
     "data": {
      "text/html": [
       "<div>\n",
       "<style scoped>\n",
       "    .dataframe tbody tr th:only-of-type {\n",
       "        vertical-align: middle;\n",
       "    }\n",
       "\n",
       "    .dataframe tbody tr th {\n",
       "        vertical-align: top;\n",
       "    }\n",
       "\n",
       "    .dataframe thead th {\n",
       "        text-align: right;\n",
       "    }\n",
       "</style>\n",
       "<table border=\"1\" class=\"dataframe\">\n",
       "  <thead>\n",
       "    <tr style=\"text-align: right;\">\n",
       "      <th></th>\n",
       "      <th>budget</th>\n",
       "      <th>popularity</th>\n",
       "      <th>revenue</th>\n",
       "      <th>runtime</th>\n",
       "      <th>vote_average</th>\n",
       "      <th>vote_count</th>\n",
       "    </tr>\n",
       "  </thead>\n",
       "  <tbody>\n",
       "    <tr>\n",
       "      <td>count</td>\n",
       "      <td>4.803000e+03</td>\n",
       "      <td>4803.000000</td>\n",
       "      <td>4.803000e+03</td>\n",
       "      <td>4801.000000</td>\n",
       "      <td>4803.000000</td>\n",
       "      <td>4803.000000</td>\n",
       "    </tr>\n",
       "    <tr>\n",
       "      <td>mean</td>\n",
       "      <td>2.904504e+07</td>\n",
       "      <td>21.492301</td>\n",
       "      <td>8.226064e+07</td>\n",
       "      <td>106.875859</td>\n",
       "      <td>6.092172</td>\n",
       "      <td>690.217989</td>\n",
       "    </tr>\n",
       "    <tr>\n",
       "      <td>std</td>\n",
       "      <td>4.072239e+07</td>\n",
       "      <td>31.816650</td>\n",
       "      <td>1.628571e+08</td>\n",
       "      <td>22.611935</td>\n",
       "      <td>1.194612</td>\n",
       "      <td>1234.585891</td>\n",
       "    </tr>\n",
       "    <tr>\n",
       "      <td>min</td>\n",
       "      <td>0.000000e+00</td>\n",
       "      <td>0.000000</td>\n",
       "      <td>0.000000e+00</td>\n",
       "      <td>0.000000</td>\n",
       "      <td>0.000000</td>\n",
       "      <td>0.000000</td>\n",
       "    </tr>\n",
       "    <tr>\n",
       "      <td>25%</td>\n",
       "      <td>7.900000e+05</td>\n",
       "      <td>4.668070</td>\n",
       "      <td>0.000000e+00</td>\n",
       "      <td>94.000000</td>\n",
       "      <td>5.600000</td>\n",
       "      <td>54.000000</td>\n",
       "    </tr>\n",
       "    <tr>\n",
       "      <td>50%</td>\n",
       "      <td>1.500000e+07</td>\n",
       "      <td>12.921594</td>\n",
       "      <td>1.917000e+07</td>\n",
       "      <td>103.000000</td>\n",
       "      <td>6.200000</td>\n",
       "      <td>235.000000</td>\n",
       "    </tr>\n",
       "    <tr>\n",
       "      <td>75%</td>\n",
       "      <td>4.000000e+07</td>\n",
       "      <td>28.313505</td>\n",
       "      <td>9.291719e+07</td>\n",
       "      <td>118.000000</td>\n",
       "      <td>6.800000</td>\n",
       "      <td>737.000000</td>\n",
       "    </tr>\n",
       "    <tr>\n",
       "      <td>max</td>\n",
       "      <td>3.800000e+08</td>\n",
       "      <td>875.581305</td>\n",
       "      <td>2.787965e+09</td>\n",
       "      <td>338.000000</td>\n",
       "      <td>10.000000</td>\n",
       "      <td>13752.000000</td>\n",
       "    </tr>\n",
       "  </tbody>\n",
       "</table>\n",
       "</div>"
      ],
      "text/plain": [
       "             budget   popularity       revenue      runtime  vote_average  \\\n",
       "count  4.803000e+03  4803.000000  4.803000e+03  4801.000000   4803.000000   \n",
       "mean   2.904504e+07    21.492301  8.226064e+07   106.875859      6.092172   \n",
       "std    4.072239e+07    31.816650  1.628571e+08    22.611935      1.194612   \n",
       "min    0.000000e+00     0.000000  0.000000e+00     0.000000      0.000000   \n",
       "25%    7.900000e+05     4.668070  0.000000e+00    94.000000      5.600000   \n",
       "50%    1.500000e+07    12.921594  1.917000e+07   103.000000      6.200000   \n",
       "75%    4.000000e+07    28.313505  9.291719e+07   118.000000      6.800000   \n",
       "max    3.800000e+08   875.581305  2.787965e+09   338.000000     10.000000   \n",
       "\n",
       "         vote_count  \n",
       "count   4803.000000  \n",
       "mean     690.217989  \n",
       "std     1234.585891  \n",
       "min        0.000000  \n",
       "25%       54.000000  \n",
       "50%      235.000000  \n",
       "75%      737.000000  \n",
       "max    13752.000000  "
      ]
     },
     "execution_count": 27,
     "metadata": {},
     "output_type": "execute_result"
    }
   ],
   "source": [
    "data.describe()"
   ]
  },
  {
   "cell_type": "code",
   "execution_count": 28,
   "metadata": {},
   "outputs": [
    {
     "data": {
      "image/png": "[encoded data removed]",
      "text/plain": [
       "<Figure size 720x720 with 36 Axes>"
      ]
     },
     "metadata": {
      "needs_background": "light"
     },
     "output_type": "display_data"
    }
   ],
   "source": [
    "from pandas.plotting import scatter_matrix\n",
    "scatter_matrix(data, alpha = 0.2, figsize = (10, 10), diagonal='kde')\n",
    "pass"
   ]
  },
  {
   "cell_type": "code",
   "execution_count": 29,
   "metadata": {},
   "outputs": [
    {
     "data": {
      "text/html": [
       "<div>\n",
       "<style scoped>\n",
       "    .dataframe tbody tr th:only-of-type {\n",
       "        vertical-align: middle;\n",
       "    }\n",
       "\n",
       "    .dataframe tbody tr th {\n",
       "        vertical-align: top;\n",
       "    }\n",
       "\n",
       "    .dataframe thead th {\n",
       "        text-align: right;\n",
       "    }\n",
       "</style>\n",
       "<table border=\"1\" class=\"dataframe\">\n",
       "  <thead>\n",
       "    <tr style=\"text-align: right;\">\n",
       "      <th></th>\n",
       "      <th>budget</th>\n",
       "      <th>popularity</th>\n",
       "      <th>revenue</th>\n",
       "      <th>runtime</th>\n",
       "      <th>vote_average</th>\n",
       "      <th>vote_count</th>\n",
       "    </tr>\n",
       "  </thead>\n",
       "  <tbody>\n",
       "    <tr>\n",
       "      <td>budget</td>\n",
       "      <td>1.000000</td>\n",
       "      <td>0.505414</td>\n",
       "      <td>0.730823</td>\n",
       "      <td>0.269851</td>\n",
       "      <td>0.093146</td>\n",
       "      <td>0.593180</td>\n",
       "    </tr>\n",
       "    <tr>\n",
       "      <td>popularity</td>\n",
       "      <td>0.505414</td>\n",
       "      <td>1.000000</td>\n",
       "      <td>0.644724</td>\n",
       "      <td>0.225502</td>\n",
       "      <td>0.273952</td>\n",
       "      <td>0.778130</td>\n",
       "    </tr>\n",
       "    <tr>\n",
       "      <td>revenue</td>\n",
       "      <td>0.730823</td>\n",
       "      <td>0.644724</td>\n",
       "      <td>1.000000</td>\n",
       "      <td>0.251093</td>\n",
       "      <td>0.197150</td>\n",
       "      <td>0.781487</td>\n",
       "    </tr>\n",
       "    <tr>\n",
       "      <td>runtime</td>\n",
       "      <td>0.269851</td>\n",
       "      <td>0.225502</td>\n",
       "      <td>0.251093</td>\n",
       "      <td>1.000000</td>\n",
       "      <td>0.375046</td>\n",
       "      <td>0.271944</td>\n",
       "    </tr>\n",
       "    <tr>\n",
       "      <td>vote_average</td>\n",
       "      <td>0.093146</td>\n",
       "      <td>0.273952</td>\n",
       "      <td>0.197150</td>\n",
       "      <td>0.375046</td>\n",
       "      <td>1.000000</td>\n",
       "      <td>0.312997</td>\n",
       "    </tr>\n",
       "    <tr>\n",
       "      <td>vote_count</td>\n",
       "      <td>0.593180</td>\n",
       "      <td>0.778130</td>\n",
       "      <td>0.781487</td>\n",
       "      <td>0.271944</td>\n",
       "      <td>0.312997</td>\n",
       "      <td>1.000000</td>\n",
       "    </tr>\n",
       "  </tbody>\n",
       "</table>\n",
       "</div>"
      ],
      "text/plain": [
       "                budget  popularity   revenue   runtime  vote_average  \\\n",
       "budget        1.000000    0.505414  0.730823  0.269851      0.093146   \n",
       "popularity    0.505414    1.000000  0.644724  0.225502      0.273952   \n",
       "revenue       0.730823    0.644724  1.000000  0.251093      0.197150   \n",
       "runtime       0.269851    0.225502  0.251093  1.000000      0.375046   \n",
       "vote_average  0.093146    0.273952  0.197150  0.375046      1.000000   \n",
       "vote_count    0.593180    0.778130  0.781487  0.271944      0.312997   \n",
       "\n",
       "              vote_count  \n",
       "budget          0.593180  \n",
       "popularity      0.778130  \n",
       "revenue         0.781487  \n",
       "runtime         0.271944  \n",
       "vote_average    0.312997  \n",
       "vote_count      1.000000  "
      ]
     },
     "execution_count": 29,
     "metadata": {},
     "output_type": "execute_result"
    }
   ],
   "source": [
    "data.corr()"
   ]
  },
  {
   "cell_type": "markdown",
   "metadata": {},
   "source": [
    "Как мы видим, vote_average не слишком коррелирует с этими показателями. Можно предположить, что оно больше зависит от оставшихся за пределами этого анализа категориальных / текстовых данных. С другой стороны, можно увидеть, что довольно высока корреляция между популярностью фильма, его сборами и тем, сколько за него проголосовало человек. Также заметна связь между бюджетом фильма и его сборами. Имеет смысл избавиться от нескольких высоко коррелирующих показателей, поскольку у них очень похожие тренды."
   ]
  },
  {
   "cell_type": "markdown",
   "metadata": {},
   "source": [
    " Так, можно предположить, что более популярный фильм собирает больше денег, и revenue важнее бюджета, и популярность фильма важнее числа голосов. Так что оставляем popularity и revenue (плюс, из этих четырёх, корреляция между этой парой минимальна)."
   ]
  },
  {
   "cell_type": "code",
   "execution_count": 30,
   "metadata": {},
   "outputs": [
    {
     "data": {
      "image/png": "[encoded data removed]",
      "text/plain": [
       "<Figure size 432x288 with 1 Axes>"
      ]
     },
     "metadata": {
      "needs_background": "light"
     },
     "output_type": "display_data"
    }
   ],
   "source": [
    "plt.plot(data['budget'], data['revenue'], 'o', alpha = 0.2)\n",
    "plt.xlabel('budget')\n",
    "plt.ylabel('revenue')\n",
    "plt.title('Budget vs Revenue')\n",
    "pass"
   ]
  },
  {
   "cell_type": "code",
   "execution_count": 31,
   "metadata": {},
   "outputs": [
    {
     "data": {
      "image/png": "[encoded data removed]",
      "text/plain": [
       "<Figure size 432x288 with 1 Axes>"
      ]
     },
     "metadata": {
      "needs_background": "light"
     },
     "output_type": "display_data"
    }
   ],
   "source": [
    "plt.plot(data['popularity'], data['vote_count'], 'o', alpha = 0.1)\n",
    "plt.xlabel('popularity')\n",
    "plt.ylabel('number of scores')\n",
    "plt.title('Popularity vs Number of Scores')\n",
    "pass"
   ]
  },
  {
   "cell_type": "code",
   "execution_count": 32,
   "metadata": {},
   "outputs": [
    {
     "data": {
      "image/png": "[encoded data removed]",
      "text/plain": [
       "<Figure size 432x288 with 1 Axes>"
      ]
     },
     "metadata": {
      "needs_background": "light"
     },
     "output_type": "display_data"
    }
   ],
   "source": [
    "plt.plot(data['vote_average'], data['popularity'], 'o', alpha = 0.2)\n",
    "plt.xlabel('average score')\n",
    "plt.ylabel('popularity')\n",
    "plt.title('Average Score vs Popularity')\n",
    "pass"
   ]
  },
  {
   "cell_type": "markdown",
   "metadata": {},
   "source": [
    "Избавляемся от колонок, которые решили исключить."
   ]
  },
  {
   "cell_type": "code",
   "execution_count": 33,
   "metadata": {},
   "outputs": [
    {
     "data": {
      "text/html": [
       "<div>\n",
       "<style scoped>\n",
       "    .dataframe tbody tr th:only-of-type {\n",
       "        vertical-align: middle;\n",
       "    }\n",
       "\n",
       "    .dataframe tbody tr th {\n",
       "        vertical-align: top;\n",
       "    }\n",
       "\n",
       "    .dataframe thead th {\n",
       "        text-align: right;\n",
       "    }\n",
       "</style>\n",
       "<table border=\"1\" class=\"dataframe\">\n",
       "  <thead>\n",
       "    <tr style=\"text-align: right;\">\n",
       "      <th></th>\n",
       "      <th>genres</th>\n",
       "      <th>keywords</th>\n",
       "      <th>overview</th>\n",
       "      <th>popularity</th>\n",
       "      <th>production_companies</th>\n",
       "      <th>production_countries</th>\n",
       "      <th>release_date</th>\n",
       "      <th>revenue</th>\n",
       "      <th>runtime</th>\n",
       "      <th>spoken_languages</th>\n",
       "      <th>tagline</th>\n",
       "      <th>title</th>\n",
       "      <th>vote_average</th>\n",
       "    </tr>\n",
       "  </thead>\n",
       "  <tbody>\n",
       "    <tr>\n",
       "      <td>0</td>\n",
       "      <td>Action|Adventure|Fantasy|SciFi</td>\n",
       "      <td>culture clash, future, space war, space colony...</td>\n",
       "      <td>In the 22nd century, a paraplegic Marine is di...</td>\n",
       "      <td>150.437577</td>\n",
       "      <td>Ingenious Film Partners|Twentieth Century Fox ...</td>\n",
       "      <td>US|GB</td>\n",
       "      <td>2009-12-10</td>\n",
       "      <td>2787965087</td>\n",
       "      <td>162.0</td>\n",
       "      <td>en|es</td>\n",
       "      <td>Enter the World of Pandora.</td>\n",
       "      <td>Avatar</td>\n",
       "      <td>7.2</td>\n",
       "    </tr>\n",
       "    <tr>\n",
       "      <td>1</td>\n",
       "      <td>Adventure|Fantasy|Action</td>\n",
       "      <td>ocean, drug abuse, exotic island, east india t...</td>\n",
       "      <td>Captain Barbossa, long believed to be dead, ha...</td>\n",
       "      <td>139.082615</td>\n",
       "      <td>Walt Disney Pictures|Jerry Bruckheimer Films|S...</td>\n",
       "      <td>US</td>\n",
       "      <td>2007-05-19</td>\n",
       "      <td>961000000</td>\n",
       "      <td>169.0</td>\n",
       "      <td>en</td>\n",
       "      <td>At the end of the world, the adventure begins.</td>\n",
       "      <td>Pirates of the Caribbean: At World's End</td>\n",
       "      <td>6.9</td>\n",
       "    </tr>\n",
       "    <tr>\n",
       "      <td>2</td>\n",
       "      <td>Action|Adventure|Crime</td>\n",
       "      <td>spy, based on novel, secret agent, sequel, mi6...</td>\n",
       "      <td>A cryptic message from Bond’s past sends him o...</td>\n",
       "      <td>107.376788</td>\n",
       "      <td>Columbia Pictures|Danjaq|B24</td>\n",
       "      <td>GB|US</td>\n",
       "      <td>2015-10-26</td>\n",
       "      <td>880674609</td>\n",
       "      <td>148.0</td>\n",
       "      <td>fr|en|es|it|de</td>\n",
       "      <td>A Plan No One Escapes</td>\n",
       "      <td>Spectre</td>\n",
       "      <td>6.3</td>\n",
       "    </tr>\n",
       "    <tr>\n",
       "      <td>3</td>\n",
       "      <td>Action|Crime|Drama|Thriller</td>\n",
       "      <td>dc comics, crime fighter, terrorist, secret id...</td>\n",
       "      <td>Following the death of District Attorney Harve...</td>\n",
       "      <td>112.312950</td>\n",
       "      <td>Legendary Pictures|Warner Bros.|DC Entertainme...</td>\n",
       "      <td>US</td>\n",
       "      <td>2012-07-16</td>\n",
       "      <td>1084939099</td>\n",
       "      <td>165.0</td>\n",
       "      <td>en</td>\n",
       "      <td>The Legend Ends</td>\n",
       "      <td>The Dark Knight Rises</td>\n",
       "      <td>7.6</td>\n",
       "    </tr>\n",
       "    <tr>\n",
       "      <td>4</td>\n",
       "      <td>Action|Adventure|SciFi</td>\n",
       "      <td>based on novel, mars, medallion, space travel,...</td>\n",
       "      <td>John Carter is a war-weary, former military ca...</td>\n",
       "      <td>43.926995</td>\n",
       "      <td>Walt Disney Pictures</td>\n",
       "      <td>US</td>\n",
       "      <td>2012-03-07</td>\n",
       "      <td>284139100</td>\n",
       "      <td>132.0</td>\n",
       "      <td>en</td>\n",
       "      <td>Lost in our world, found in another.</td>\n",
       "      <td>John Carter</td>\n",
       "      <td>6.1</td>\n",
       "    </tr>\n",
       "  </tbody>\n",
       "</table>\n",
       "</div>"
      ],
      "text/plain": [
       "                           genres  \\\n",
       "0  Action|Adventure|Fantasy|SciFi   \n",
       "1        Adventure|Fantasy|Action   \n",
       "2          Action|Adventure|Crime   \n",
       "3     Action|Crime|Drama|Thriller   \n",
       "4          Action|Adventure|SciFi   \n",
       "\n",
       "                                            keywords  \\\n",
       "0  culture clash, future, space war, space colony...   \n",
       "1  ocean, drug abuse, exotic island, east india t...   \n",
       "2  spy, based on novel, secret agent, sequel, mi6...   \n",
       "3  dc comics, crime fighter, terrorist, secret id...   \n",
       "4  based on novel, mars, medallion, space travel,...   \n",
       "\n",
       "                                            overview  popularity  \\\n",
       "0  In the 22nd century, a paraplegic Marine is di...  150.437577   \n",
       "1  Captain Barbossa, long believed to be dead, ha...  139.082615   \n",
       "2  A cryptic message from Bond’s past sends him o...  107.376788   \n",
       "3  Following the death of District Attorney Harve...  112.312950   \n",
       "4  John Carter is a war-weary, former military ca...   43.926995   \n",
       "\n",
       "                                production_companies production_countries  \\\n",
       "0  Ingenious Film Partners|Twentieth Century Fox ...                US|GB   \n",
       "1  Walt Disney Pictures|Jerry Bruckheimer Films|S...                   US   \n",
       "2                       Columbia Pictures|Danjaq|B24                GB|US   \n",
       "3  Legendary Pictures|Warner Bros.|DC Entertainme...                   US   \n",
       "4                               Walt Disney Pictures                   US   \n",
       "\n",
       "  release_date     revenue  runtime spoken_languages  \\\n",
       "0   2009-12-10  2787965087    162.0            en|es   \n",
       "1   2007-05-19   961000000    169.0               en   \n",
       "2   2015-10-26   880674609    148.0   fr|en|es|it|de   \n",
       "3   2012-07-16  1084939099    165.0               en   \n",
       "4   2012-03-07   284139100    132.0               en   \n",
       "\n",
       "                                          tagline  \\\n",
       "0                     Enter the World of Pandora.   \n",
       "1  At the end of the world, the adventure begins.   \n",
       "2                           A Plan No One Escapes   \n",
       "3                                 The Legend Ends   \n",
       "4            Lost in our world, found in another.   \n",
       "\n",
       "                                      title  vote_average  \n",
       "0                                    Avatar           7.2  \n",
       "1  Pirates of the Caribbean: At World's End           6.9  \n",
       "2                                   Spectre           6.3  \n",
       "3                     The Dark Knight Rises           7.6  \n",
       "4                               John Carter           6.1  "
      ]
     },
     "execution_count": 33,
     "metadata": {},
     "output_type": "execute_result"
    }
   ],
   "source": [
    "data = data.drop(['budget', 'vote_count'], axis = 1)\n",
    "data.head()"
   ]
  },
  {
   "cell_type": "code",
   "execution_count": 34,
   "metadata": {},
   "outputs": [
    {
     "data": {
      "text/html": [
       "<div>\n",
       "<style scoped>\n",
       "    .dataframe tbody tr th:only-of-type {\n",
       "        vertical-align: middle;\n",
       "    }\n",
       "\n",
       "    .dataframe tbody tr th {\n",
       "        vertical-align: top;\n",
       "    }\n",
       "\n",
       "    .dataframe thead th {\n",
       "        text-align: right;\n",
       "    }\n",
       "</style>\n",
       "<table border=\"1\" class=\"dataframe\">\n",
       "  <thead>\n",
       "    <tr style=\"text-align: right;\">\n",
       "      <th></th>\n",
       "      <th>popularity</th>\n",
       "      <th>revenue</th>\n",
       "      <th>runtime</th>\n",
       "      <th>vote_average</th>\n",
       "    </tr>\n",
       "  </thead>\n",
       "  <tbody>\n",
       "    <tr>\n",
       "      <td>popularity</td>\n",
       "      <td>1.000000</td>\n",
       "      <td>0.644724</td>\n",
       "      <td>0.225502</td>\n",
       "      <td>0.273952</td>\n",
       "    </tr>\n",
       "    <tr>\n",
       "      <td>revenue</td>\n",
       "      <td>0.644724</td>\n",
       "      <td>1.000000</td>\n",
       "      <td>0.251093</td>\n",
       "      <td>0.197150</td>\n",
       "    </tr>\n",
       "    <tr>\n",
       "      <td>runtime</td>\n",
       "      <td>0.225502</td>\n",
       "      <td>0.251093</td>\n",
       "      <td>1.000000</td>\n",
       "      <td>0.375046</td>\n",
       "    </tr>\n",
       "    <tr>\n",
       "      <td>vote_average</td>\n",
       "      <td>0.273952</td>\n",
       "      <td>0.197150</td>\n",
       "      <td>0.375046</td>\n",
       "      <td>1.000000</td>\n",
       "    </tr>\n",
       "  </tbody>\n",
       "</table>\n",
       "</div>"
      ],
      "text/plain": [
       "              popularity   revenue   runtime  vote_average\n",
       "popularity      1.000000  0.644724  0.225502      0.273952\n",
       "revenue         0.644724  1.000000  0.251093      0.197150\n",
       "runtime         0.225502  0.251093  1.000000      0.375046\n",
       "vote_average    0.273952  0.197150  0.375046      1.000000"
      ]
     },
     "execution_count": 34,
     "metadata": {},
     "output_type": "execute_result"
    }
   ],
   "source": [
    "data.corr()"
   ]
  },
  {
   "cell_type": "markdown",
   "metadata": {},
   "source": [
    "## 3) Обработка пропущенных значений"
   ]
  },
  {
   "cell_type": "code",
   "execution_count": 35,
   "metadata": {},
   "outputs": [
    {
     "data": {
      "text/plain": [
       "genres                    0\n",
       "keywords                  0\n",
       "overview                  3\n",
       "popularity                0\n",
       "production_companies      0\n",
       "production_countries      0\n",
       "release_date              1\n",
       "revenue                   0\n",
       "runtime                   2\n",
       "spoken_languages          0\n",
       "tagline                 844\n",
       "title                     0\n",
       "vote_average              0\n",
       "dtype: int64"
      ]
     },
     "execution_count": 35,
     "metadata": {},
     "output_type": "execute_result"
    }
   ],
   "source": [
    "data.isna().sum()"
   ]
  },
  {
   "cell_type": "markdown",
   "metadata": {},
   "source": [
    "Tagline и overview - текстовые данные, так что можно заполнять пустой строкой."
   ]
  },
  {
   "cell_type": "code",
   "execution_count": 36,
   "metadata": {},
   "outputs": [],
   "source": [
    "tagline = data['tagline'].fillna('')\n",
    "data.drop('tagline', axis = 1, inplace = True)\n",
    "data.insert(11, 'tagline', tagline)\n",
    "overview = data['overview'].fillna('')\n",
    "data.drop('overview', axis = 1, inplace = True)\n",
    "data.insert(3, 'overview', overview)"
   ]
  },
  {
   "cell_type": "markdown",
   "metadata": {},
   "source": [
    "Runtime - длина фильма, можно спокойно заполнять average."
   ]
  },
  {
   "cell_type": "code",
   "execution_count": 37,
   "metadata": {},
   "outputs": [],
   "source": [
    "runtime = data['runtime'].fillna(data['runtime'].median(axis = 0))\n",
    "data.drop('runtime', axis = 1, inplace = True)\n",
    "data.insert(9, 'runtime', runtime)"
   ]
  },
  {
   "cell_type": "markdown",
   "metadata": {},
   "source": [
    "Дата пропущена всего в одной строке, можно спокойно эту строку отбросить."
   ]
  },
  {
   "cell_type": "code",
   "execution_count": 38,
   "metadata": {},
   "outputs": [],
   "source": [
    "data = data.dropna()"
   ]
  },
  {
   "cell_type": "code",
   "execution_count": 39,
   "metadata": {},
   "outputs": [
    {
     "data": {
      "text/plain": [
       "genres                  0\n",
       "keywords                0\n",
       "popularity              0\n",
       "overview                0\n",
       "production_companies    0\n",
       "production_countries    0\n",
       "release_date            0\n",
       "revenue                 0\n",
       "spoken_languages        0\n",
       "runtime                 0\n",
       "title                   0\n",
       "tagline                 0\n",
       "vote_average            0\n",
       "dtype: int64"
      ]
     },
     "execution_count": 39,
     "metadata": {},
     "output_type": "execute_result"
    }
   ],
   "source": [
    "data.isna().sum()"
   ]
  },
  {
   "cell_type": "markdown",
   "metadata": {},
   "source": [
    "Прежде, чем переходить к категориальным признакам, преобразуем release date в unix-timestamp'ы (так можно будет использовать эти данные напрямую)"
   ]
  },
  {
   "cell_type": "code",
   "execution_count": 40,
   "metadata": {},
   "outputs": [],
   "source": [
    "import time\n",
    "import datetime\n",
    "\n",
    "stamps = [time.mktime(datetime.datetime.strptime(str(a), \"%Y-%m-%d\").timetuple()) for a in data['release_date']]\n",
    "data.drop('release_date', axis = 1, inplace = True)\n",
    "data.insert(7, 'release_date', stamps)"
   ]
  },
  {
   "cell_type": "code",
   "execution_count": 41,
   "metadata": {},
   "outputs": [
    {
     "data": {
      "text/html": [
       "<div>\n",
       "<style scoped>\n",
       "    .dataframe tbody tr th:only-of-type {\n",
       "        vertical-align: middle;\n",
       "    }\n",
       "\n",
       "    .dataframe tbody tr th {\n",
       "        vertical-align: top;\n",
       "    }\n",
       "\n",
       "    .dataframe thead th {\n",
       "        text-align: right;\n",
       "    }\n",
       "</style>\n",
       "<table border=\"1\" class=\"dataframe\">\n",
       "  <thead>\n",
       "    <tr style=\"text-align: right;\">\n",
       "      <th></th>\n",
       "      <th>genres</th>\n",
       "      <th>keywords</th>\n",
       "      <th>popularity</th>\n",
       "      <th>overview</th>\n",
       "      <th>production_companies</th>\n",
       "      <th>production_countries</th>\n",
       "      <th>revenue</th>\n",
       "      <th>release_date</th>\n",
       "      <th>spoken_languages</th>\n",
       "      <th>runtime</th>\n",
       "      <th>title</th>\n",
       "      <th>tagline</th>\n",
       "      <th>vote_average</th>\n",
       "    </tr>\n",
       "  </thead>\n",
       "  <tbody>\n",
       "    <tr>\n",
       "      <td>0</td>\n",
       "      <td>Action|Adventure|Fantasy|SciFi</td>\n",
       "      <td>culture clash, future, space war, space colony...</td>\n",
       "      <td>150.437577</td>\n",
       "      <td>In the 22nd century, a paraplegic Marine is di...</td>\n",
       "      <td>Ingenious Film Partners|Twentieth Century Fox ...</td>\n",
       "      <td>US|GB</td>\n",
       "      <td>2787965087</td>\n",
       "      <td>1.260392e+09</td>\n",
       "      <td>en|es</td>\n",
       "      <td>162.0</td>\n",
       "      <td>Avatar</td>\n",
       "      <td>Enter the World of Pandora.</td>\n",
       "      <td>7.2</td>\n",
       "    </tr>\n",
       "    <tr>\n",
       "      <td>1</td>\n",
       "      <td>Adventure|Fantasy|Action</td>\n",
       "      <td>ocean, drug abuse, exotic island, east india t...</td>\n",
       "      <td>139.082615</td>\n",
       "      <td>Captain Barbossa, long believed to be dead, ha...</td>\n",
       "      <td>Walt Disney Pictures|Jerry Bruckheimer Films|S...</td>\n",
       "      <td>US</td>\n",
       "      <td>961000000</td>\n",
       "      <td>1.179518e+09</td>\n",
       "      <td>en</td>\n",
       "      <td>169.0</td>\n",
       "      <td>Pirates of the Caribbean: At World's End</td>\n",
       "      <td>At the end of the world, the adventure begins.</td>\n",
       "      <td>6.9</td>\n",
       "    </tr>\n",
       "    <tr>\n",
       "      <td>2</td>\n",
       "      <td>Action|Adventure|Crime</td>\n",
       "      <td>spy, based on novel, secret agent, sequel, mi6...</td>\n",
       "      <td>107.376788</td>\n",
       "      <td>A cryptic message from Bond’s past sends him o...</td>\n",
       "      <td>Columbia Pictures|Danjaq|B24</td>\n",
       "      <td>GB|US</td>\n",
       "      <td>880674609</td>\n",
       "      <td>1.445807e+09</td>\n",
       "      <td>fr|en|es|it|de</td>\n",
       "      <td>148.0</td>\n",
       "      <td>Spectre</td>\n",
       "      <td>A Plan No One Escapes</td>\n",
       "      <td>6.3</td>\n",
       "    </tr>\n",
       "    <tr>\n",
       "      <td>3</td>\n",
       "      <td>Action|Crime|Drama|Thriller</td>\n",
       "      <td>dc comics, crime fighter, terrorist, secret id...</td>\n",
       "      <td>112.312950</td>\n",
       "      <td>Following the death of District Attorney Harve...</td>\n",
       "      <td>Legendary Pictures|Warner Bros.|DC Entertainme...</td>\n",
       "      <td>US</td>\n",
       "      <td>1084939099</td>\n",
       "      <td>1.342382e+09</td>\n",
       "      <td>en</td>\n",
       "      <td>165.0</td>\n",
       "      <td>The Dark Knight Rises</td>\n",
       "      <td>The Legend Ends</td>\n",
       "      <td>7.6</td>\n",
       "    </tr>\n",
       "    <tr>\n",
       "      <td>4</td>\n",
       "      <td>Action|Adventure|SciFi</td>\n",
       "      <td>based on novel, mars, medallion, space travel,...</td>\n",
       "      <td>43.926995</td>\n",
       "      <td>John Carter is a war-weary, former military ca...</td>\n",
       "      <td>Walt Disney Pictures</td>\n",
       "      <td>US</td>\n",
       "      <td>284139100</td>\n",
       "      <td>1.331064e+09</td>\n",
       "      <td>en</td>\n",
       "      <td>132.0</td>\n",
       "      <td>John Carter</td>\n",
       "      <td>Lost in our world, found in another.</td>\n",
       "      <td>6.1</td>\n",
       "    </tr>\n",
       "  </tbody>\n",
       "</table>\n",
       "</div>"
      ],
      "text/plain": [
       "                           genres  \\\n",
       "0  Action|Adventure|Fantasy|SciFi   \n",
       "1        Adventure|Fantasy|Action   \n",
       "2          Action|Adventure|Crime   \n",
       "3     Action|Crime|Drama|Thriller   \n",
       "4          Action|Adventure|SciFi   \n",
       "\n",
       "                                            keywords  popularity  \\\n",
       "0  culture clash, future, space war, space colony...  150.437577   \n",
       "1  ocean, drug abuse, exotic island, east india t...  139.082615   \n",
       "2  spy, based on novel, secret agent, sequel, mi6...  107.376788   \n",
       "3  dc comics, crime fighter, terrorist, secret id...  112.312950   \n",
       "4  based on novel, mars, medallion, space travel,...   43.926995   \n",
       "\n",
       "                                            overview  \\\n",
       "0  In the 22nd century, a paraplegic Marine is di...   \n",
       "1  Captain Barbossa, long believed to be dead, ha...   \n",
       "2  A cryptic message from Bond’s past sends him o...   \n",
       "3  Following the death of District Attorney Harve...   \n",
       "4  John Carter is a war-weary, former military ca...   \n",
       "\n",
       "                                production_companies production_countries  \\\n",
       "0  Ingenious Film Partners|Twentieth Century Fox ...                US|GB   \n",
       "1  Walt Disney Pictures|Jerry Bruckheimer Films|S...                   US   \n",
       "2                       Columbia Pictures|Danjaq|B24                GB|US   \n",
       "3  Legendary Pictures|Warner Bros.|DC Entertainme...                   US   \n",
       "4                               Walt Disney Pictures                   US   \n",
       "\n",
       "      revenue  release_date spoken_languages  runtime  \\\n",
       "0  2787965087  1.260392e+09            en|es    162.0   \n",
       "1   961000000  1.179518e+09               en    169.0   \n",
       "2   880674609  1.445807e+09   fr|en|es|it|de    148.0   \n",
       "3  1084939099  1.342382e+09               en    165.0   \n",
       "4   284139100  1.331064e+09               en    132.0   \n",
       "\n",
       "                                      title  \\\n",
       "0                                    Avatar   \n",
       "1  Pirates of the Caribbean: At World's End   \n",
       "2                                   Spectre   \n",
       "3                     The Dark Knight Rises   \n",
       "4                               John Carter   \n",
       "\n",
       "                                          tagline  vote_average  \n",
       "0                     Enter the World of Pandora.           7.2  \n",
       "1  At the end of the world, the adventure begins.           6.9  \n",
       "2                           A Plan No One Escapes           6.3  \n",
       "3                                 The Legend Ends           7.6  \n",
       "4            Lost in our world, found in another.           6.1  "
      ]
     },
     "execution_count": 41,
     "metadata": {},
     "output_type": "execute_result"
    }
   ],
   "source": [
    "data.head()"
   ]
  },
  {
   "cell_type": "markdown",
   "metadata": {},
   "source": [
    "## 4) Обработка категориальных признаков"
   ]
  },
  {
   "cell_type": "markdown",
   "metadata": {},
   "source": [
    "Прежде всего, приведём колонку vote_average к нужному виду (округление, категориальное значение, поскольку это метка класса)"
   ]
  },
  {
   "cell_type": "code",
   "execution_count": 42,
   "metadata": {},
   "outputs": [],
   "source": [
    "data['vote_average'] = data['vote_average'].apply(lambda x: str(int(round(x, 0))))"
   ]
  },
  {
   "cell_type": "code",
   "execution_count": 43,
   "metadata": {},
   "outputs": [
    {
     "name": "stdout",
     "output_type": "stream",
     "text": [
      "['genres', 'keywords', 'overview', 'production_companies', 'production_countries', 'spoken_languages', 'title', 'tagline', 'vote_average']\n",
      "['popularity', 'revenue', 'release_date', 'runtime']\n"
     ]
    }
   ],
   "source": [
    "categorical_columns = [c for c in data.columns if data[c].dtype.name == 'object']\n",
    "numerical_columns   = [c for c in data.columns if data[c].dtype.name != 'object']\n",
    "print(categorical_columns)\n",
    "print(numerical_columns)"
   ]
  },
  {
   "cell_type": "code",
   "execution_count": 44,
   "metadata": {},
   "outputs": [
    {
     "data": {
      "text/html": [
       "<div>\n",
       "<style scoped>\n",
       "    .dataframe tbody tr th:only-of-type {\n",
       "        vertical-align: middle;\n",
       "    }\n",
       "\n",
       "    .dataframe tbody tr th {\n",
       "        vertical-align: top;\n",
       "    }\n",
       "\n",
       "    .dataframe thead th {\n",
       "        text-align: right;\n",
       "    }\n",
       "</style>\n",
       "<table border=\"1\" class=\"dataframe\">\n",
       "  <thead>\n",
       "    <tr style=\"text-align: right;\">\n",
       "      <th></th>\n",
       "      <th>genres</th>\n",
       "      <th>keywords</th>\n",
       "      <th>overview</th>\n",
       "      <th>production_companies</th>\n",
       "      <th>production_countries</th>\n",
       "      <th>spoken_languages</th>\n",
       "      <th>title</th>\n",
       "      <th>tagline</th>\n",
       "      <th>vote_average</th>\n",
       "    </tr>\n",
       "  </thead>\n",
       "  <tbody>\n",
       "    <tr>\n",
       "      <td>count</td>\n",
       "      <td>4802</td>\n",
       "      <td>4802</td>\n",
       "      <td>4802</td>\n",
       "      <td>4802</td>\n",
       "      <td>4802</td>\n",
       "      <td>4802</td>\n",
       "      <td>4802</td>\n",
       "      <td>4802</td>\n",
       "      <td>4802</td>\n",
       "    </tr>\n",
       "    <tr>\n",
       "      <td>unique</td>\n",
       "      <td>1175</td>\n",
       "      <td>4222</td>\n",
       "      <td>4800</td>\n",
       "      <td>3697</td>\n",
       "      <td>469</td>\n",
       "      <td>544</td>\n",
       "      <td>4799</td>\n",
       "      <td>3945</td>\n",
       "      <td>11</td>\n",
       "    </tr>\n",
       "    <tr>\n",
       "      <td>top</td>\n",
       "      <td>Drama</td>\n",
       "      <td></td>\n",
       "      <td></td>\n",
       "      <td></td>\n",
       "      <td>US</td>\n",
       "      <td>en</td>\n",
       "      <td>The Host</td>\n",
       "      <td></td>\n",
       "      <td>6</td>\n",
       "    </tr>\n",
       "    <tr>\n",
       "      <td>freq</td>\n",
       "      <td>370</td>\n",
       "      <td>411</td>\n",
       "      <td>3</td>\n",
       "      <td>350</td>\n",
       "      <td>2977</td>\n",
       "      <td>3171</td>\n",
       "      <td>2</td>\n",
       "      <td>843</td>\n",
       "      <td>2073</td>\n",
       "    </tr>\n",
       "  </tbody>\n",
       "</table>\n",
       "</div>"
      ],
      "text/plain": [
       "       genres keywords overview production_companies production_countries  \\\n",
       "count    4802     4802     4802                 4802                 4802   \n",
       "unique   1175     4222     4800                 3697                  469   \n",
       "top     Drama                                                          US   \n",
       "freq      370      411        3                  350                 2977   \n",
       "\n",
       "       spoken_languages     title tagline vote_average  \n",
       "count              4802      4802    4802         4802  \n",
       "unique              544      4799    3945           11  \n",
       "top                  en  The Host                    6  \n",
       "freq               3171         2     843         2073  "
      ]
     },
     "execution_count": 44,
     "metadata": {},
     "output_type": "execute_result"
    }
   ],
   "source": [
    "data.describe(include = [object])"
   ]
  },
  {
   "cell_type": "markdown",
   "metadata": {},
   "source": [
    "Genres, так как там всего 20 ключевых слов, эффективнее всего закодировать в one-hot"
   ]
  },
  {
   "cell_type": "code",
   "execution_count": 45,
   "metadata": {},
   "outputs": [
    {
     "data": {
      "text/plain": [
       "0     0         Action\n",
       "      1      Adventure\n",
       "      2        Fantasy\n",
       "      3          SciFi\n",
       "1     0      Adventure\n",
       "              ...     \n",
       "4800  1          Drama\n",
       "      2        Romance\n",
       "      3             TV\n",
       "4801  0               \n",
       "4802  0    Documentary\n",
       "Length: 12187, dtype: object"
      ]
     },
     "execution_count": 45,
     "metadata": {},
     "output_type": "execute_result"
    }
   ],
   "source": [
    "cleaned_gen = data.genres.str.split('|', expand=True).stack()\n",
    "cleaned_gen"
   ]
  },
  {
   "cell_type": "code",
   "execution_count": 46,
   "metadata": {},
   "outputs": [
    {
     "data": {
      "text/html": [
       "<div>\n",
       "<style scoped>\n",
       "    .dataframe tbody tr th:only-of-type {\n",
       "        vertical-align: middle;\n",
       "    }\n",
       "\n",
       "    .dataframe tbody tr th {\n",
       "        vertical-align: top;\n",
       "    }\n",
       "\n",
       "    .dataframe thead th {\n",
       "        text-align: right;\n",
       "    }\n",
       "</style>\n",
       "<table border=\"1\" class=\"dataframe\">\n",
       "  <thead>\n",
       "    <tr style=\"text-align: right;\">\n",
       "      <th></th>\n",
       "      <th>g_Action</th>\n",
       "      <th>g_Adventure</th>\n",
       "      <th>g_Animation</th>\n",
       "      <th>g_Comedy</th>\n",
       "      <th>g_Crime</th>\n",
       "      <th>g_Documentary</th>\n",
       "      <th>g_Drama</th>\n",
       "      <th>g_Family</th>\n",
       "      <th>g_Fantasy</th>\n",
       "      <th>g_Foreign</th>\n",
       "      <th>g_History</th>\n",
       "      <th>g_Horror</th>\n",
       "      <th>g_Music</th>\n",
       "      <th>g_Mystery</th>\n",
       "      <th>g_Romance</th>\n",
       "      <th>g_SciFi</th>\n",
       "      <th>g_TV</th>\n",
       "      <th>g_Thriller</th>\n",
       "      <th>g_War</th>\n",
       "      <th>g_Western</th>\n",
       "    </tr>\n",
       "  </thead>\n",
       "  <tbody>\n",
       "    <tr>\n",
       "      <td>0</td>\n",
       "      <td>1</td>\n",
       "      <td>1</td>\n",
       "      <td>0</td>\n",
       "      <td>0</td>\n",
       "      <td>0</td>\n",
       "      <td>0</td>\n",
       "      <td>0</td>\n",
       "      <td>0</td>\n",
       "      <td>1</td>\n",
       "      <td>0</td>\n",
       "      <td>0</td>\n",
       "      <td>0</td>\n",
       "      <td>0</td>\n",
       "      <td>0</td>\n",
       "      <td>0</td>\n",
       "      <td>1</td>\n",
       "      <td>0</td>\n",
       "      <td>0</td>\n",
       "      <td>0</td>\n",
       "      <td>0</td>\n",
       "    </tr>\n",
       "    <tr>\n",
       "      <td>1</td>\n",
       "      <td>1</td>\n",
       "      <td>1</td>\n",
       "      <td>0</td>\n",
       "      <td>0</td>\n",
       "      <td>0</td>\n",
       "      <td>0</td>\n",
       "      <td>0</td>\n",
       "      <td>0</td>\n",
       "      <td>1</td>\n",
       "      <td>0</td>\n",
       "      <td>0</td>\n",
       "      <td>0</td>\n",
       "      <td>0</td>\n",
       "      <td>0</td>\n",
       "      <td>0</td>\n",
       "      <td>0</td>\n",
       "      <td>0</td>\n",
       "      <td>0</td>\n",
       "      <td>0</td>\n",
       "      <td>0</td>\n",
       "    </tr>\n",
       "    <tr>\n",
       "      <td>2</td>\n",
       "      <td>1</td>\n",
       "      <td>1</td>\n",
       "      <td>0</td>\n",
       "      <td>0</td>\n",
       "      <td>1</td>\n",
       "      <td>0</td>\n",
       "      <td>0</td>\n",
       "      <td>0</td>\n",
       "      <td>0</td>\n",
       "      <td>0</td>\n",
       "      <td>0</td>\n",
       "      <td>0</td>\n",
       "      <td>0</td>\n",
       "      <td>0</td>\n",
       "      <td>0</td>\n",
       "      <td>0</td>\n",
       "      <td>0</td>\n",
       "      <td>0</td>\n",
       "      <td>0</td>\n",
       "      <td>0</td>\n",
       "    </tr>\n",
       "    <tr>\n",
       "      <td>3</td>\n",
       "      <td>1</td>\n",
       "      <td>0</td>\n",
       "      <td>0</td>\n",
       "      <td>0</td>\n",
       "      <td>1</td>\n",
       "      <td>0</td>\n",
       "      <td>1</td>\n",
       "      <td>0</td>\n",
       "      <td>0</td>\n",
       "      <td>0</td>\n",
       "      <td>0</td>\n",
       "      <td>0</td>\n",
       "      <td>0</td>\n",
       "      <td>0</td>\n",
       "      <td>0</td>\n",
       "      <td>0</td>\n",
       "      <td>0</td>\n",
       "      <td>1</td>\n",
       "      <td>0</td>\n",
       "      <td>0</td>\n",
       "    </tr>\n",
       "    <tr>\n",
       "      <td>4</td>\n",
       "      <td>1</td>\n",
       "      <td>1</td>\n",
       "      <td>0</td>\n",
       "      <td>0</td>\n",
       "      <td>0</td>\n",
       "      <td>0</td>\n",
       "      <td>0</td>\n",
       "      <td>0</td>\n",
       "      <td>0</td>\n",
       "      <td>0</td>\n",
       "      <td>0</td>\n",
       "      <td>0</td>\n",
       "      <td>0</td>\n",
       "      <td>0</td>\n",
       "      <td>0</td>\n",
       "      <td>1</td>\n",
       "      <td>0</td>\n",
       "      <td>0</td>\n",
       "      <td>0</td>\n",
       "      <td>0</td>\n",
       "    </tr>\n",
       "  </tbody>\n",
       "</table>\n",
       "</div>"
      ],
      "text/plain": [
       "   g_Action  g_Adventure  g_Animation  g_Comedy  g_Crime  g_Documentary  \\\n",
       "0         1            1            0         0        0              0   \n",
       "1         1            1            0         0        0              0   \n",
       "2         1            1            0         0        1              0   \n",
       "3         1            0            0         0        1              0   \n",
       "4         1            1            0         0        0              0   \n",
       "\n",
       "   g_Drama  g_Family  g_Fantasy  g_Foreign  g_History  g_Horror  g_Music  \\\n",
       "0        0         0          1          0          0         0        0   \n",
       "1        0         0          1          0          0         0        0   \n",
       "2        0         0          0          0          0         0        0   \n",
       "3        1         0          0          0          0         0        0   \n",
       "4        0         0          0          0          0         0        0   \n",
       "\n",
       "   g_Mystery  g_Romance  g_SciFi  g_TV  g_Thriller  g_War  g_Western  \n",
       "0          0          0        1     0           0      0          0  \n",
       "1          0          0        0     0           0      0          0  \n",
       "2          0          0        0     0           0      0          0  \n",
       "3          0          0        0     0           1      0          0  \n",
       "4          0          0        1     0           0      0          0  "
      ]
     },
     "execution_count": 46,
     "metadata": {},
     "output_type": "execute_result"
    }
   ],
   "source": [
    "genres = pd.get_dummies(cleaned_gen, prefix='g').groupby(level = 0).sum().drop('g_', axis=1)\n",
    "genres.head()"
   ]
  },
  {
   "cell_type": "code",
   "execution_count": 47,
   "metadata": {},
   "outputs": [
    {
     "data": {
      "text/plain": [
       "0     0    US\n",
       "      1    GB\n",
       "1     0    US\n",
       "2     0    GB\n",
       "      1    US\n",
       "           ..\n",
       "4799  0      \n",
       "4800  0    US\n",
       "4801  0    US\n",
       "      1    CN\n",
       "4802  0    US\n",
       "Length: 6609, dtype: object"
      ]
     },
     "execution_count": 47,
     "metadata": {},
     "output_type": "execute_result"
    }
   ],
   "source": [
    "cleaned_co = data.production_countries.str.split('|', expand=True).stack()\n",
    "cleaned_co"
   ]
  },
  {
   "cell_type": "code",
   "execution_count": 48,
   "metadata": {},
   "outputs": [
    {
     "data": {
      "text/html": [
       "<div>\n",
       "<style scoped>\n",
       "    .dataframe tbody tr th:only-of-type {\n",
       "        vertical-align: middle;\n",
       "    }\n",
       "\n",
       "    .dataframe tbody tr th {\n",
       "        vertical-align: top;\n",
       "    }\n",
       "\n",
       "    .dataframe thead th {\n",
       "        text-align: right;\n",
       "    }\n",
       "</style>\n",
       "<table border=\"1\" class=\"dataframe\">\n",
       "  <thead>\n",
       "    <tr style=\"text-align: right;\">\n",
       "      <th></th>\n",
       "      <th>c_AE</th>\n",
       "      <th>c_AF</th>\n",
       "      <th>c_AO</th>\n",
       "      <th>c_AR</th>\n",
       "      <th>c_AT</th>\n",
       "      <th>c_AU</th>\n",
       "      <th>c_AW</th>\n",
       "      <th>c_BA</th>\n",
       "      <th>c_BE</th>\n",
       "      <th>c_BG</th>\n",
       "      <th>...</th>\n",
       "      <th>c_SG</th>\n",
       "      <th>c_SI</th>\n",
       "      <th>c_SK</th>\n",
       "      <th>c_TH</th>\n",
       "      <th>c_TN</th>\n",
       "      <th>c_TR</th>\n",
       "      <th>c_TW</th>\n",
       "      <th>c_UA</th>\n",
       "      <th>c_US</th>\n",
       "      <th>c_ZA</th>\n",
       "    </tr>\n",
       "  </thead>\n",
       "  <tbody>\n",
       "    <tr>\n",
       "      <td>0</td>\n",
       "      <td>0</td>\n",
       "      <td>0</td>\n",
       "      <td>0</td>\n",
       "      <td>0</td>\n",
       "      <td>0</td>\n",
       "      <td>0</td>\n",
       "      <td>0</td>\n",
       "      <td>0</td>\n",
       "      <td>0</td>\n",
       "      <td>0</td>\n",
       "      <td>...</td>\n",
       "      <td>0</td>\n",
       "      <td>0</td>\n",
       "      <td>0</td>\n",
       "      <td>0</td>\n",
       "      <td>0</td>\n",
       "      <td>0</td>\n",
       "      <td>0</td>\n",
       "      <td>0</td>\n",
       "      <td>1</td>\n",
       "      <td>0</td>\n",
       "    </tr>\n",
       "    <tr>\n",
       "      <td>1</td>\n",
       "      <td>0</td>\n",
       "      <td>0</td>\n",
       "      <td>0</td>\n",
       "      <td>0</td>\n",
       "      <td>0</td>\n",
       "      <td>0</td>\n",
       "      <td>0</td>\n",
       "      <td>0</td>\n",
       "      <td>0</td>\n",
       "      <td>0</td>\n",
       "      <td>...</td>\n",
       "      <td>0</td>\n",
       "      <td>0</td>\n",
       "      <td>0</td>\n",
       "      <td>0</td>\n",
       "      <td>0</td>\n",
       "      <td>0</td>\n",
       "      <td>0</td>\n",
       "      <td>0</td>\n",
       "      <td>1</td>\n",
       "      <td>0</td>\n",
       "    </tr>\n",
       "    <tr>\n",
       "      <td>2</td>\n",
       "      <td>0</td>\n",
       "      <td>0</td>\n",
       "      <td>0</td>\n",
       "      <td>0</td>\n",
       "      <td>0</td>\n",
       "      <td>0</td>\n",
       "      <td>0</td>\n",
       "      <td>0</td>\n",
       "      <td>0</td>\n",
       "      <td>0</td>\n",
       "      <td>...</td>\n",
       "      <td>0</td>\n",
       "      <td>0</td>\n",
       "      <td>0</td>\n",
       "      <td>0</td>\n",
       "      <td>0</td>\n",
       "      <td>0</td>\n",
       "      <td>0</td>\n",
       "      <td>0</td>\n",
       "      <td>1</td>\n",
       "      <td>0</td>\n",
       "    </tr>\n",
       "    <tr>\n",
       "      <td>3</td>\n",
       "      <td>0</td>\n",
       "      <td>0</td>\n",
       "      <td>0</td>\n",
       "      <td>0</td>\n",
       "      <td>0</td>\n",
       "      <td>0</td>\n",
       "      <td>0</td>\n",
       "      <td>0</td>\n",
       "      <td>0</td>\n",
       "      <td>0</td>\n",
       "      <td>...</td>\n",
       "      <td>0</td>\n",
       "      <td>0</td>\n",
       "      <td>0</td>\n",
       "      <td>0</td>\n",
       "      <td>0</td>\n",
       "      <td>0</td>\n",
       "      <td>0</td>\n",
       "      <td>0</td>\n",
       "      <td>1</td>\n",
       "      <td>0</td>\n",
       "    </tr>\n",
       "    <tr>\n",
       "      <td>4</td>\n",
       "      <td>0</td>\n",
       "      <td>0</td>\n",
       "      <td>0</td>\n",
       "      <td>0</td>\n",
       "      <td>0</td>\n",
       "      <td>0</td>\n",
       "      <td>0</td>\n",
       "      <td>0</td>\n",
       "      <td>0</td>\n",
       "      <td>0</td>\n",
       "      <td>...</td>\n",
       "      <td>0</td>\n",
       "      <td>0</td>\n",
       "      <td>0</td>\n",
       "      <td>0</td>\n",
       "      <td>0</td>\n",
       "      <td>0</td>\n",
       "      <td>0</td>\n",
       "      <td>0</td>\n",
       "      <td>1</td>\n",
       "      <td>0</td>\n",
       "    </tr>\n",
       "  </tbody>\n",
       "</table>\n",
       "<p>5 rows × 88 columns</p>\n",
       "</div>"
      ],
      "text/plain": [
       "   c_AE  c_AF  c_AO  c_AR  c_AT  c_AU  c_AW  c_BA  c_BE  c_BG  ...  c_SG  \\\n",
       "0     0     0     0     0     0     0     0     0     0     0  ...     0   \n",
       "1     0     0     0     0     0     0     0     0     0     0  ...     0   \n",
       "2     0     0     0     0     0     0     0     0     0     0  ...     0   \n",
       "3     0     0     0     0     0     0     0     0     0     0  ...     0   \n",
       "4     0     0     0     0     0     0     0     0     0     0  ...     0   \n",
       "\n",
       "   c_SI  c_SK  c_TH  c_TN  c_TR  c_TW  c_UA  c_US  c_ZA  \n",
       "0     0     0     0     0     0     0     0     1     0  \n",
       "1     0     0     0     0     0     0     0     1     0  \n",
       "2     0     0     0     0     0     0     0     1     0  \n",
       "3     0     0     0     0     0     0     0     1     0  \n",
       "4     0     0     0     0     0     0     0     1     0  \n",
       "\n",
       "[5 rows x 88 columns]"
      ]
     },
     "execution_count": 48,
     "metadata": {},
     "output_type": "execute_result"
    }
   ],
   "source": [
    "states = pd.get_dummies(cleaned_co, prefix='c').groupby(level = 0).sum().drop('c_', axis=1)\n",
    "states.head()"
   ]
  },
  {
   "cell_type": "code",
   "execution_count": 49,
   "metadata": {},
   "outputs": [
    {
     "data": {
      "text/plain": [
       "0     0    en\n",
       "      1    es\n",
       "1     0    en\n",
       "2     0    fr\n",
       "      1    en\n",
       "           ..\n",
       "4798  0    es\n",
       "4799  0      \n",
       "4800  0    en\n",
       "4801  0    en\n",
       "4802  0    en\n",
       "Length: 7022, dtype: object"
      ]
     },
     "execution_count": 49,
     "metadata": {},
     "output_type": "execute_result"
    }
   ],
   "source": [
    "cleaned_lan = data.spoken_languages.str.split('|', expand=True).stack()\n",
    "cleaned_lan"
   ]
  },
  {
   "cell_type": "code",
   "execution_count": 50,
   "metadata": {},
   "outputs": [
    {
     "data": {
      "text/html": [
       "<div>\n",
       "<style scoped>\n",
       "    .dataframe tbody tr th:only-of-type {\n",
       "        vertical-align: middle;\n",
       "    }\n",
       "\n",
       "    .dataframe tbody tr th {\n",
       "        vertical-align: top;\n",
       "    }\n",
       "\n",
       "    .dataframe thead th {\n",
       "        text-align: right;\n",
       "    }\n",
       "</style>\n",
       "<table border=\"1\" class=\"dataframe\">\n",
       "  <thead>\n",
       "    <tr style=\"text-align: right;\">\n",
       "      <th></th>\n",
       "      <th>l_af</th>\n",
       "      <th>l_am</th>\n",
       "      <th>l_ar</th>\n",
       "      <th>l_bg</th>\n",
       "      <th>l_bm</th>\n",
       "      <th>l_bn</th>\n",
       "      <th>l_bo</th>\n",
       "      <th>l_br</th>\n",
       "      <th>l_bs</th>\n",
       "      <th>l_ca</th>\n",
       "      <th>...</th>\n",
       "      <th>l_tr</th>\n",
       "      <th>l_uk</th>\n",
       "      <th>l_ur</th>\n",
       "      <th>l_vi</th>\n",
       "      <th>l_wo</th>\n",
       "      <th>l_xh</th>\n",
       "      <th>l_xx</th>\n",
       "      <th>l_yi</th>\n",
       "      <th>l_zh</th>\n",
       "      <th>l_zu</th>\n",
       "    </tr>\n",
       "  </thead>\n",
       "  <tbody>\n",
       "    <tr>\n",
       "      <td>0</td>\n",
       "      <td>0</td>\n",
       "      <td>0</td>\n",
       "      <td>0</td>\n",
       "      <td>0</td>\n",
       "      <td>0</td>\n",
       "      <td>0</td>\n",
       "      <td>0</td>\n",
       "      <td>0</td>\n",
       "      <td>0</td>\n",
       "      <td>0</td>\n",
       "      <td>...</td>\n",
       "      <td>0</td>\n",
       "      <td>0</td>\n",
       "      <td>0</td>\n",
       "      <td>0</td>\n",
       "      <td>0</td>\n",
       "      <td>0</td>\n",
       "      <td>0</td>\n",
       "      <td>0</td>\n",
       "      <td>0</td>\n",
       "      <td>0</td>\n",
       "    </tr>\n",
       "    <tr>\n",
       "      <td>1</td>\n",
       "      <td>0</td>\n",
       "      <td>0</td>\n",
       "      <td>0</td>\n",
       "      <td>0</td>\n",
       "      <td>0</td>\n",
       "      <td>0</td>\n",
       "      <td>0</td>\n",
       "      <td>0</td>\n",
       "      <td>0</td>\n",
       "      <td>0</td>\n",
       "      <td>...</td>\n",
       "      <td>0</td>\n",
       "      <td>0</td>\n",
       "      <td>0</td>\n",
       "      <td>0</td>\n",
       "      <td>0</td>\n",
       "      <td>0</td>\n",
       "      <td>0</td>\n",
       "      <td>0</td>\n",
       "      <td>0</td>\n",
       "      <td>0</td>\n",
       "    </tr>\n",
       "    <tr>\n",
       "      <td>2</td>\n",
       "      <td>0</td>\n",
       "      <td>0</td>\n",
       "      <td>0</td>\n",
       "      <td>0</td>\n",
       "      <td>0</td>\n",
       "      <td>0</td>\n",
       "      <td>0</td>\n",
       "      <td>0</td>\n",
       "      <td>0</td>\n",
       "      <td>0</td>\n",
       "      <td>...</td>\n",
       "      <td>0</td>\n",
       "      <td>0</td>\n",
       "      <td>0</td>\n",
       "      <td>0</td>\n",
       "      <td>0</td>\n",
       "      <td>0</td>\n",
       "      <td>0</td>\n",
       "      <td>0</td>\n",
       "      <td>0</td>\n",
       "      <td>0</td>\n",
       "    </tr>\n",
       "    <tr>\n",
       "      <td>3</td>\n",
       "      <td>0</td>\n",
       "      <td>0</td>\n",
       "      <td>0</td>\n",
       "      <td>0</td>\n",
       "      <td>0</td>\n",
       "      <td>0</td>\n",
       "      <td>0</td>\n",
       "      <td>0</td>\n",
       "      <td>0</td>\n",
       "      <td>0</td>\n",
       "      <td>...</td>\n",
       "      <td>0</td>\n",
       "      <td>0</td>\n",
       "      <td>0</td>\n",
       "      <td>0</td>\n",
       "      <td>0</td>\n",
       "      <td>0</td>\n",
       "      <td>0</td>\n",
       "      <td>0</td>\n",
       "      <td>0</td>\n",
       "      <td>0</td>\n",
       "    </tr>\n",
       "    <tr>\n",
       "      <td>4</td>\n",
       "      <td>0</td>\n",
       "      <td>0</td>\n",
       "      <td>0</td>\n",
       "      <td>0</td>\n",
       "      <td>0</td>\n",
       "      <td>0</td>\n",
       "      <td>0</td>\n",
       "      <td>0</td>\n",
       "      <td>0</td>\n",
       "      <td>0</td>\n",
       "      <td>...</td>\n",
       "      <td>0</td>\n",
       "      <td>0</td>\n",
       "      <td>0</td>\n",
       "      <td>0</td>\n",
       "      <td>0</td>\n",
       "      <td>0</td>\n",
       "      <td>0</td>\n",
       "      <td>0</td>\n",
       "      <td>0</td>\n",
       "      <td>0</td>\n",
       "    </tr>\n",
       "  </tbody>\n",
       "</table>\n",
       "<p>5 rows × 87 columns</p>\n",
       "</div>"
      ],
      "text/plain": [
       "   l_af  l_am  l_ar  l_bg  l_bm  l_bn  l_bo  l_br  l_bs  l_ca  ...  l_tr  \\\n",
       "0     0     0     0     0     0     0     0     0     0     0  ...     0   \n",
       "1     0     0     0     0     0     0     0     0     0     0  ...     0   \n",
       "2     0     0     0     0     0     0     0     0     0     0  ...     0   \n",
       "3     0     0     0     0     0     0     0     0     0     0  ...     0   \n",
       "4     0     0     0     0     0     0     0     0     0     0  ...     0   \n",
       "\n",
       "   l_uk  l_ur  l_vi  l_wo  l_xh  l_xx  l_yi  l_zh  l_zu  \n",
       "0     0     0     0     0     0     0     0     0     0  \n",
       "1     0     0     0     0     0     0     0     0     0  \n",
       "2     0     0     0     0     0     0     0     0     0  \n",
       "3     0     0     0     0     0     0     0     0     0  \n",
       "4     0     0     0     0     0     0     0     0     0  \n",
       "\n",
       "[5 rows x 87 columns]"
      ]
     },
     "execution_count": 50,
     "metadata": {},
     "output_type": "execute_result"
    }
   ],
   "source": [
    "langs = pd.get_dummies(cleaned_lan, prefix='l').groupby(level = 0).sum().drop('l_', axis=1)\n",
    "langs.head()"
   ]
  },
  {
   "cell_type": "markdown",
   "metadata": {},
   "source": [
    "Остаются Keywords, Overview, Production_Companies, Tagline и Title."
   ]
  },
  {
   "cell_type": "code",
   "execution_count": 51,
   "metadata": {},
   "outputs": [
    {
     "data": {
      "text/html": [
       "<div>\n",
       "<style scoped>\n",
       "    .dataframe tbody tr th:only-of-type {\n",
       "        vertical-align: middle;\n",
       "    }\n",
       "\n",
       "    .dataframe tbody tr th {\n",
       "        vertical-align: top;\n",
       "    }\n",
       "\n",
       "    .dataframe thead th {\n",
       "        text-align: right;\n",
       "    }\n",
       "</style>\n",
       "<table border=\"1\" class=\"dataframe\">\n",
       "  <thead>\n",
       "    <tr style=\"text-align: right;\">\n",
       "      <th></th>\n",
       "      <th>keywords</th>\n",
       "      <th>overview</th>\n",
       "      <th>production_companies</th>\n",
       "      <th>tagline</th>\n",
       "      <th>title</th>\n",
       "    </tr>\n",
       "  </thead>\n",
       "  <tbody>\n",
       "    <tr>\n",
       "      <td>0</td>\n",
       "      <td>culture clash, future, space war, space colony...</td>\n",
       "      <td>In the 22nd century, a paraplegic Marine is di...</td>\n",
       "      <td>Ingenious Film Partners|Twentieth Century Fox ...</td>\n",
       "      <td>Enter the World of Pandora.</td>\n",
       "      <td>Avatar</td>\n",
       "    </tr>\n",
       "    <tr>\n",
       "      <td>1</td>\n",
       "      <td>ocean, drug abuse, exotic island, east india t...</td>\n",
       "      <td>Captain Barbossa, long believed to be dead, ha...</td>\n",
       "      <td>Walt Disney Pictures|Jerry Bruckheimer Films|S...</td>\n",
       "      <td>At the end of the world, the adventure begins.</td>\n",
       "      <td>Pirates of the Caribbean: At World's End</td>\n",
       "    </tr>\n",
       "    <tr>\n",
       "      <td>2</td>\n",
       "      <td>spy, based on novel, secret agent, sequel, mi6...</td>\n",
       "      <td>A cryptic message from Bond’s past sends him o...</td>\n",
       "      <td>Columbia Pictures|Danjaq|B24</td>\n",
       "      <td>A Plan No One Escapes</td>\n",
       "      <td>Spectre</td>\n",
       "    </tr>\n",
       "    <tr>\n",
       "      <td>3</td>\n",
       "      <td>dc comics, crime fighter, terrorist, secret id...</td>\n",
       "      <td>Following the death of District Attorney Harve...</td>\n",
       "      <td>Legendary Pictures|Warner Bros.|DC Entertainme...</td>\n",
       "      <td>The Legend Ends</td>\n",
       "      <td>The Dark Knight Rises</td>\n",
       "    </tr>\n",
       "    <tr>\n",
       "      <td>4</td>\n",
       "      <td>based on novel, mars, medallion, space travel,...</td>\n",
       "      <td>John Carter is a war-weary, former military ca...</td>\n",
       "      <td>Walt Disney Pictures</td>\n",
       "      <td>Lost in our world, found in another.</td>\n",
       "      <td>John Carter</td>\n",
       "    </tr>\n",
       "  </tbody>\n",
       "</table>\n",
       "</div>"
      ],
      "text/plain": [
       "                                            keywords  \\\n",
       "0  culture clash, future, space war, space colony...   \n",
       "1  ocean, drug abuse, exotic island, east india t...   \n",
       "2  spy, based on novel, secret agent, sequel, mi6...   \n",
       "3  dc comics, crime fighter, terrorist, secret id...   \n",
       "4  based on novel, mars, medallion, space travel,...   \n",
       "\n",
       "                                            overview  \\\n",
       "0  In the 22nd century, a paraplegic Marine is di...   \n",
       "1  Captain Barbossa, long believed to be dead, ha...   \n",
       "2  A cryptic message from Bond’s past sends him o...   \n",
       "3  Following the death of District Attorney Harve...   \n",
       "4  John Carter is a war-weary, former military ca...   \n",
       "\n",
       "                                production_companies  \\\n",
       "0  Ingenious Film Partners|Twentieth Century Fox ...   \n",
       "1  Walt Disney Pictures|Jerry Bruckheimer Films|S...   \n",
       "2                       Columbia Pictures|Danjaq|B24   \n",
       "3  Legendary Pictures|Warner Bros.|DC Entertainme...   \n",
       "4                               Walt Disney Pictures   \n",
       "\n",
       "                                          tagline  \\\n",
       "0                     Enter the World of Pandora.   \n",
       "1  At the end of the world, the adventure begins.   \n",
       "2                           A Plan No One Escapes   \n",
       "3                                 The Legend Ends   \n",
       "4            Lost in our world, found in another.   \n",
       "\n",
       "                                      title  \n",
       "0                                    Avatar  \n",
       "1  Pirates of the Caribbean: At World's End  \n",
       "2                                   Spectre  \n",
       "3                     The Dark Knight Rises  \n",
       "4                               John Carter  "
      ]
     },
     "execution_count": 51,
     "metadata": {},
     "output_type": "execute_result"
    }
   ],
   "source": [
    "data[['keywords', 'overview', 'production_companies', 'tagline', 'title']].head()"
   ]
  },
  {
   "cell_type": "markdown",
   "metadata": {},
   "source": [
    "Keywords, Overview, Tagline и Title все являются текстовыми характеристиками непосредственно фильма, их можно объединить в один текст и репрезентировать вместе (используя, например, предобученную на Wiki GLoVE модель). С другой стороны, production_companies надо представлять отдельно. Для этого попробуем найти в интернете текст про film production companies, соскрапим его и обучим отдельную модель самостоятельно. Этот шаг, чтобы не перегружать главный jupyter файл, я произвёл в отдельном файле 'Production Embeddings.ipynb'"
   ]
  },
  {
   "cell_type": "markdown",
   "metadata": {},
   "source": [
    "Итак, мы обучили модель размерностью 50 и сохранили её в папке models (а заодно скачали модели glove с http://nlp.stanford.edu/data/glove.6B.zip, и будем использовать их для представления текстовой информации про сам фильм)."
   ]
  },
  {
   "cell_type": "markdown",
   "metadata": {},
   "source": [
    "Сначала займёмся Production companies."
   ]
  },
  {
   "cell_type": "code",
   "execution_count": 52,
   "metadata": {},
   "outputs": [],
   "source": [
    "prod_comps = [a.lower().replace('|', ' ') for a in data['production_companies']]"
   ]
  },
  {
   "cell_type": "code",
   "execution_count": 53,
   "metadata": {},
   "outputs": [
    {
     "data": {
      "text/plain": [
       "['ingenious film partners twentieth century fox film corporation dune entertainment lightstorm entertainment',\n",
       " 'walt disney pictures jerry bruckheimer films second mate productions',\n",
       " 'columbia pictures danjaq b24',\n",
       " 'legendary pictures warner bros. dc entertainment syncopy']"
      ]
     },
     "execution_count": 53,
     "metadata": {},
     "output_type": "execute_result"
    }
   ],
   "source": [
    "prod_comps[:4]"
   ]
  },
  {
   "cell_type": "code",
   "execution_count": 54,
   "metadata": {},
   "outputs": [],
   "source": [
    "from gensim.models import doc2vec, KeyedVectors\n",
    "from nltk.tokenize import word_tokenize"
   ]
  },
  {
   "cell_type": "code",
   "execution_count": 55,
   "metadata": {},
   "outputs": [],
   "source": [
    "prod_model = doc2vec.Doc2Vec.load('models/prod_companies.d2v')"
   ]
  },
  {
   "cell_type": "code",
   "execution_count": 56,
   "metadata": {},
   "outputs": [
    {
     "name": "stderr",
     "output_type": "stream",
     "text": [
      "100%|██████████| 4802/4802 [00:05<00:00, 849.64it/s]\n"
     ]
    }
   ],
   "source": [
    "prod_vectors = [prod_model.infer_vector(word_tokenize(p)) for p in tqdm(prod_comps)]"
   ]
  },
  {
   "cell_type": "code",
   "execution_count": 57,
   "metadata": {},
   "outputs": [
    {
     "data": {
      "text/html": [
       "<div>\n",
       "<style scoped>\n",
       "    .dataframe tbody tr th:only-of-type {\n",
       "        vertical-align: middle;\n",
       "    }\n",
       "\n",
       "    .dataframe tbody tr th {\n",
       "        vertical-align: top;\n",
       "    }\n",
       "\n",
       "    .dataframe thead th {\n",
       "        text-align: right;\n",
       "    }\n",
       "</style>\n",
       "<table border=\"1\" class=\"dataframe\">\n",
       "  <thead>\n",
       "    <tr style=\"text-align: right;\">\n",
       "      <th></th>\n",
       "      <th>pv_0</th>\n",
       "      <th>pv_1</th>\n",
       "      <th>pv_2</th>\n",
       "      <th>pv_3</th>\n",
       "      <th>pv_4</th>\n",
       "      <th>pv_5</th>\n",
       "      <th>pv_6</th>\n",
       "      <th>pv_7</th>\n",
       "      <th>pv_8</th>\n",
       "      <th>pv_9</th>\n",
       "      <th>...</th>\n",
       "      <th>pv_40</th>\n",
       "      <th>pv_41</th>\n",
       "      <th>pv_42</th>\n",
       "      <th>pv_43</th>\n",
       "      <th>pv_44</th>\n",
       "      <th>pv_45</th>\n",
       "      <th>pv_46</th>\n",
       "      <th>pv_47</th>\n",
       "      <th>pv_48</th>\n",
       "      <th>pv_49</th>\n",
       "    </tr>\n",
       "  </thead>\n",
       "  <tbody>\n",
       "    <tr>\n",
       "      <td>0</td>\n",
       "      <td>-0.027523</td>\n",
       "      <td>-0.008734</td>\n",
       "      <td>0.017498</td>\n",
       "      <td>-0.000013</td>\n",
       "      <td>-0.020502</td>\n",
       "      <td>0.007824</td>\n",
       "      <td>0.008504</td>\n",
       "      <td>0.017319</td>\n",
       "      <td>0.011323</td>\n",
       "      <td>-0.024108</td>\n",
       "      <td>...</td>\n",
       "      <td>0.026228</td>\n",
       "      <td>0.015427</td>\n",
       "      <td>0.017228</td>\n",
       "      <td>0.002939</td>\n",
       "      <td>-0.000846</td>\n",
       "      <td>-0.017892</td>\n",
       "      <td>0.008275</td>\n",
       "      <td>-0.004356</td>\n",
       "      <td>0.006713</td>\n",
       "      <td>0.011251</td>\n",
       "    </tr>\n",
       "    <tr>\n",
       "      <td>1</td>\n",
       "      <td>-0.053863</td>\n",
       "      <td>-0.020214</td>\n",
       "      <td>0.011060</td>\n",
       "      <td>-0.016946</td>\n",
       "      <td>0.011157</td>\n",
       "      <td>0.009410</td>\n",
       "      <td>-0.000631</td>\n",
       "      <td>0.008653</td>\n",
       "      <td>0.014372</td>\n",
       "      <td>-0.003789</td>\n",
       "      <td>...</td>\n",
       "      <td>0.010043</td>\n",
       "      <td>-0.009013</td>\n",
       "      <td>0.014582</td>\n",
       "      <td>0.033545</td>\n",
       "      <td>-0.012255</td>\n",
       "      <td>0.002681</td>\n",
       "      <td>0.000913</td>\n",
       "      <td>-0.016446</td>\n",
       "      <td>0.005000</td>\n",
       "      <td>0.015112</td>\n",
       "    </tr>\n",
       "    <tr>\n",
       "      <td>2</td>\n",
       "      <td>-0.027043</td>\n",
       "      <td>0.000514</td>\n",
       "      <td>0.000917</td>\n",
       "      <td>-0.006105</td>\n",
       "      <td>0.011951</td>\n",
       "      <td>0.008036</td>\n",
       "      <td>0.000179</td>\n",
       "      <td>0.012947</td>\n",
       "      <td>0.014112</td>\n",
       "      <td>0.010641</td>\n",
       "      <td>...</td>\n",
       "      <td>0.006900</td>\n",
       "      <td>-0.011985</td>\n",
       "      <td>0.005875</td>\n",
       "      <td>0.011478</td>\n",
       "      <td>-0.000658</td>\n",
       "      <td>-0.003750</td>\n",
       "      <td>0.006797</td>\n",
       "      <td>-0.009597</td>\n",
       "      <td>-0.002153</td>\n",
       "      <td>0.007506</td>\n",
       "    </tr>\n",
       "    <tr>\n",
       "      <td>3</td>\n",
       "      <td>-0.061729</td>\n",
       "      <td>-0.014214</td>\n",
       "      <td>0.059695</td>\n",
       "      <td>-0.026047</td>\n",
       "      <td>0.015484</td>\n",
       "      <td>0.027569</td>\n",
       "      <td>-0.016577</td>\n",
       "      <td>-0.012045</td>\n",
       "      <td>-0.005229</td>\n",
       "      <td>-0.012808</td>\n",
       "      <td>...</td>\n",
       "      <td>0.011009</td>\n",
       "      <td>-0.005820</td>\n",
       "      <td>-0.036813</td>\n",
       "      <td>0.080789</td>\n",
       "      <td>-0.007785</td>\n",
       "      <td>-0.015331</td>\n",
       "      <td>0.026871</td>\n",
       "      <td>-0.033255</td>\n",
       "      <td>0.007524</td>\n",
       "      <td>0.005693</td>\n",
       "    </tr>\n",
       "    <tr>\n",
       "      <td>4</td>\n",
       "      <td>-0.044415</td>\n",
       "      <td>-0.003650</td>\n",
       "      <td>0.011620</td>\n",
       "      <td>-0.017853</td>\n",
       "      <td>0.019880</td>\n",
       "      <td>0.020226</td>\n",
       "      <td>-0.013406</td>\n",
       "      <td>0.009457</td>\n",
       "      <td>-0.001063</td>\n",
       "      <td>0.008016</td>\n",
       "      <td>...</td>\n",
       "      <td>-0.007355</td>\n",
       "      <td>-0.006243</td>\n",
       "      <td>-0.000208</td>\n",
       "      <td>0.025809</td>\n",
       "      <td>0.003033</td>\n",
       "      <td>0.009001</td>\n",
       "      <td>-0.003951</td>\n",
       "      <td>-0.007286</td>\n",
       "      <td>0.003925</td>\n",
       "      <td>0.003293</td>\n",
       "    </tr>\n",
       "  </tbody>\n",
       "</table>\n",
       "<p>5 rows × 50 columns</p>\n",
       "</div>"
      ],
      "text/plain": [
       "       pv_0      pv_1      pv_2      pv_3      pv_4      pv_5      pv_6  \\\n",
       "0 -0.027523 -0.008734  0.017498 -0.000013 -0.020502  0.007824  0.008504   \n",
       "1 -0.053863 -0.020214  0.011060 -0.016946  0.011157  0.009410 -0.000631   \n",
       "2 -0.027043  0.000514  0.000917 -0.006105  0.011951  0.008036  0.000179   \n",
       "3 -0.061729 -0.014214  0.059695 -0.026047  0.015484  0.027569 -0.016577   \n",
       "4 -0.044415 -0.003650  0.011620 -0.017853  0.019880  0.020226 -0.013406   \n",
       "\n",
       "       pv_7      pv_8      pv_9  ...     pv_40     pv_41     pv_42     pv_43  \\\n",
       "0  0.017319  0.011323 -0.024108  ...  0.026228  0.015427  0.017228  0.002939   \n",
       "1  0.008653  0.014372 -0.003789  ...  0.010043 -0.009013  0.014582  0.033545   \n",
       "2  0.012947  0.014112  0.010641  ...  0.006900 -0.011985  0.005875  0.011478   \n",
       "3 -0.012045 -0.005229 -0.012808  ...  0.011009 -0.005820 -0.036813  0.080789   \n",
       "4  0.009457 -0.001063  0.008016  ... -0.007355 -0.006243 -0.000208  0.025809   \n",
       "\n",
       "      pv_44     pv_45     pv_46     pv_47     pv_48     pv_49  \n",
       "0 -0.000846 -0.017892  0.008275 -0.004356  0.006713  0.011251  \n",
       "1 -0.012255  0.002681  0.000913 -0.016446  0.005000  0.015112  \n",
       "2 -0.000658 -0.003750  0.006797 -0.009597 -0.002153  0.007506  \n",
       "3 -0.007785 -0.015331  0.026871 -0.033255  0.007524  0.005693  \n",
       "4  0.003033  0.009001 -0.003951 -0.007286  0.003925  0.003293  \n",
       "\n",
       "[5 rows x 50 columns]"
      ]
     },
     "execution_count": 57,
     "metadata": {},
     "output_type": "execute_result"
    }
   ],
   "source": [
    "prod_vectors = pd.DataFrame(np.array(prod_vectors)).add_prefix('pv_')\n",
    "prod_vectors.head()"
   ]
  },
  {
   "cell_type": "markdown",
   "metadata": {},
   "source": [
    "Теперь Texts. Сначала преобразуем glove-txt формат в читаемый gensim'ом, затем загрузим. (используем 50d модель)"
   ]
  },
  {
   "cell_type": "code",
   "execution_count": 58,
   "metadata": {},
   "outputs": [
    {
     "data": {
      "text/plain": [
       "(400000, 50)"
      ]
     },
     "execution_count": 58,
     "metadata": {},
     "output_type": "execute_result"
    }
   ],
   "source": [
    "from gensim.scripts.glove2word2vec import glove2word2vec\n",
    "\n",
    "glove_input_file = 'models/glove.6B.50d.txt'\n",
    "word2vec_output_file = 'models/glove.6B.50d.txt.word2vec'\n",
    "glove2word2vec(glove_input_file, word2vec_output_file)"
   ]
  },
  {
   "cell_type": "code",
   "execution_count": 59,
   "metadata": {},
   "outputs": [],
   "source": [
    "text_model = KeyedVectors.load_word2vec_format(word2vec_output_file, binary=False)"
   ]
  },
  {
   "cell_type": "markdown",
   "metadata": {},
   "source": [
    "Объединим тексты и подвергнем базовой предобработке."
   ]
  },
  {
   "cell_type": "code",
   "execution_count": 60,
   "metadata": {},
   "outputs": [],
   "source": [
    "film_desc = data['title'] + ' ' + data ['tagline'] + ' ' + data['overview'] + ' ' + data['keywords']"
   ]
  },
  {
   "cell_type": "code",
   "execution_count": 61,
   "metadata": {},
   "outputs": [],
   "source": [
    "data.insert(0, 'film_desc', film_desc)"
   ]
  },
  {
   "cell_type": "code",
   "execution_count": 62,
   "metadata": {},
   "outputs": [],
   "source": [
    "data = data.drop(['title', 'tagline', 'overview', 'keywords'], axis=1)"
   ]
  },
  {
   "cell_type": "code",
   "execution_count": 63,
   "metadata": {},
   "outputs": [
    {
     "data": {
      "text/plain": [
       "0    Avatar Enter the World of Pandora. In the 22nd...\n",
       "1    Pirates of the Caribbean: At World's End At th...\n",
       "2    Spectre A Plan No One Escapes A cryptic messag...\n",
       "3    The Dark Knight Rises The Legend Ends Followin...\n",
       "4    John Carter Lost in our world, found in anothe...\n",
       "Name: film_desc, dtype: object"
      ]
     },
     "execution_count": 63,
     "metadata": {},
     "output_type": "execute_result"
    }
   ],
   "source": [
    "data['film_desc'].head()"
   ]
  },
  {
   "cell_type": "markdown",
   "metadata": {},
   "source": [
    "Нижний регистр:"
   ]
  },
  {
   "cell_type": "code",
   "execution_count": 64,
   "metadata": {},
   "outputs": [],
   "source": [
    "data['film_desc'] = data['film_desc'].apply(lambda x: \" \".join(x.lower() for x in x.split()))"
   ]
  },
  {
   "cell_type": "markdown",
   "metadata": {},
   "source": [
    "Пунктуация:"
   ]
  },
  {
   "cell_type": "code",
   "execution_count": 65,
   "metadata": {},
   "outputs": [],
   "source": [
    "data['film_desc'] = data['film_desc'].str.replace('[^\\w\\s]','')"
   ]
  },
  {
   "cell_type": "markdown",
   "metadata": {},
   "source": [
    "Стоп-слова:"
   ]
  },
  {
   "cell_type": "code",
   "execution_count": 66,
   "metadata": {},
   "outputs": [],
   "source": [
    "from nltk.corpus import stopwords\n",
    "stop = stopwords.words('english')"
   ]
  },
  {
   "cell_type": "code",
   "execution_count": 67,
   "metadata": {},
   "outputs": [],
   "source": [
    "data['film_desc'] = data['film_desc'].apply(lambda x: \" \".join(x for x in x.split() if x not in stop))"
   ]
  },
  {
   "cell_type": "code",
   "execution_count": 68,
   "metadata": {},
   "outputs": [
    {
     "data": {
      "text/plain": [
       "0    avatar enter world pandora 22nd century parapl...\n",
       "1    pirates caribbean worlds end end world adventu...\n",
       "2    spectre plan one escapes cryptic message bonds...\n",
       "3    dark knight rises legend ends following death ...\n",
       "4    john carter lost world found another john cart...\n",
       "Name: film_desc, dtype: object"
      ]
     },
     "execution_count": 68,
     "metadata": {},
     "output_type": "execute_result"
    }
   ],
   "source": [
    "data['film_desc'].head()"
   ]
  },
  {
   "cell_type": "code",
   "execution_count": 69,
   "metadata": {},
   "outputs": [],
   "source": [
    "film_desc = data['film_desc']"
   ]
  },
  {
   "cell_type": "markdown",
   "metadata": {},
   "source": [
    "Получим векторы описаний как среднее из векторов их слов."
   ]
  },
  {
   "cell_type": "code",
   "execution_count": 70,
   "metadata": {},
   "outputs": [
    {
     "name": "stderr",
     "output_type": "stream",
     "text": [
      "100%|██████████| 4802/4802 [00:03<00:00, 1535.20it/s]\n"
     ]
    }
   ],
   "source": [
    "film_vecs = []\n",
    "for d in tqdm(film_desc):\n",
    "    words = word_tokenize(d)\n",
    "    sen_vec = []\n",
    "    \n",
    "    for w in words:\n",
    "        try:\n",
    "            sen_vec.append(text_model[w])\n",
    "        except KeyError:\n",
    "            sen_vec.append(np.zeros((50,))) # Незнакомые слова заменяем нулевым вектором размерностью 50.\n",
    "            \n",
    "    film_vecs.append((sum(sen_vec)/len(sen_vec)))"
   ]
  },
  {
   "cell_type": "code",
   "execution_count": 71,
   "metadata": {},
   "outputs": [
    {
     "data": {
      "text/html": [
       "<div>\n",
       "<style scoped>\n",
       "    .dataframe tbody tr th:only-of-type {\n",
       "        vertical-align: middle;\n",
       "    }\n",
       "\n",
       "    .dataframe tbody tr th {\n",
       "        vertical-align: top;\n",
       "    }\n",
       "\n",
       "    .dataframe thead th {\n",
       "        text-align: right;\n",
       "    }\n",
       "</style>\n",
       "<table border=\"1\" class=\"dataframe\">\n",
       "  <thead>\n",
       "    <tr style=\"text-align: right;\">\n",
       "      <th></th>\n",
       "      <th>fv_0</th>\n",
       "      <th>fv_1</th>\n",
       "      <th>fv_2</th>\n",
       "      <th>fv_3</th>\n",
       "      <th>fv_4</th>\n",
       "      <th>fv_5</th>\n",
       "      <th>fv_6</th>\n",
       "      <th>fv_7</th>\n",
       "      <th>fv_8</th>\n",
       "      <th>fv_9</th>\n",
       "      <th>...</th>\n",
       "      <th>fv_40</th>\n",
       "      <th>fv_41</th>\n",
       "      <th>fv_42</th>\n",
       "      <th>fv_43</th>\n",
       "      <th>fv_44</th>\n",
       "      <th>fv_45</th>\n",
       "      <th>fv_46</th>\n",
       "      <th>fv_47</th>\n",
       "      <th>fv_48</th>\n",
       "      <th>fv_49</th>\n",
       "    </tr>\n",
       "  </thead>\n",
       "  <tbody>\n",
       "    <tr>\n",
       "      <td>0</td>\n",
       "      <td>0.531405</td>\n",
       "      <td>0.179213</td>\n",
       "      <td>-0.155967</td>\n",
       "      <td>0.113932</td>\n",
       "      <td>0.419502</td>\n",
       "      <td>-0.060702</td>\n",
       "      <td>-0.197788</td>\n",
       "      <td>-0.202166</td>\n",
       "      <td>0.154574</td>\n",
       "      <td>-0.152241</td>\n",
       "      <td>...</td>\n",
       "      <td>-0.124251</td>\n",
       "      <td>-0.164119</td>\n",
       "      <td>0.182848</td>\n",
       "      <td>-0.001532</td>\n",
       "      <td>-0.019719</td>\n",
       "      <td>0.195204</td>\n",
       "      <td>0.095673</td>\n",
       "      <td>-0.368016</td>\n",
       "      <td>-0.221205</td>\n",
       "      <td>-0.181242</td>\n",
       "    </tr>\n",
       "    <tr>\n",
       "      <td>1</td>\n",
       "      <td>0.361225</td>\n",
       "      <td>0.106471</td>\n",
       "      <td>-0.237256</td>\n",
       "      <td>0.033109</td>\n",
       "      <td>0.270578</td>\n",
       "      <td>0.065713</td>\n",
       "      <td>-0.431070</td>\n",
       "      <td>0.003698</td>\n",
       "      <td>0.109686</td>\n",
       "      <td>0.049607</td>\n",
       "      <td>...</td>\n",
       "      <td>-0.215962</td>\n",
       "      <td>0.096166</td>\n",
       "      <td>0.250031</td>\n",
       "      <td>-0.032547</td>\n",
       "      <td>-0.024640</td>\n",
       "      <td>0.178960</td>\n",
       "      <td>-0.093781</td>\n",
       "      <td>-0.415753</td>\n",
       "      <td>-0.109149</td>\n",
       "      <td>-0.152448</td>\n",
       "    </tr>\n",
       "    <tr>\n",
       "      <td>2</td>\n",
       "      <td>0.498656</td>\n",
       "      <td>0.126325</td>\n",
       "      <td>0.071108</td>\n",
       "      <td>-0.105813</td>\n",
       "      <td>0.304617</td>\n",
       "      <td>0.137019</td>\n",
       "      <td>-0.188828</td>\n",
       "      <td>0.019941</td>\n",
       "      <td>0.027703</td>\n",
       "      <td>-0.116722</td>\n",
       "      <td>...</td>\n",
       "      <td>0.103751</td>\n",
       "      <td>-0.038581</td>\n",
       "      <td>0.142066</td>\n",
       "      <td>0.031060</td>\n",
       "      <td>0.073086</td>\n",
       "      <td>-0.106637</td>\n",
       "      <td>0.082048</td>\n",
       "      <td>0.096360</td>\n",
       "      <td>-0.022317</td>\n",
       "      <td>-0.194130</td>\n",
       "    </tr>\n",
       "    <tr>\n",
       "      <td>3</td>\n",
       "      <td>0.253731</td>\n",
       "      <td>-0.125228</td>\n",
       "      <td>-0.047040</td>\n",
       "      <td>-0.035165</td>\n",
       "      <td>0.277459</td>\n",
       "      <td>0.196237</td>\n",
       "      <td>-0.092441</td>\n",
       "      <td>-0.016844</td>\n",
       "      <td>-0.026922</td>\n",
       "      <td>-0.096220</td>\n",
       "      <td>...</td>\n",
       "      <td>-0.240868</td>\n",
       "      <td>0.219853</td>\n",
       "      <td>-0.000032</td>\n",
       "      <td>-0.155341</td>\n",
       "      <td>0.015613</td>\n",
       "      <td>0.005096</td>\n",
       "      <td>-0.111313</td>\n",
       "      <td>-0.267023</td>\n",
       "      <td>0.154081</td>\n",
       "      <td>-0.089913</td>\n",
       "    </tr>\n",
       "    <tr>\n",
       "      <td>4</td>\n",
       "      <td>0.399089</td>\n",
       "      <td>0.213234</td>\n",
       "      <td>-0.038033</td>\n",
       "      <td>0.030219</td>\n",
       "      <td>0.363641</td>\n",
       "      <td>0.162319</td>\n",
       "      <td>-0.329201</td>\n",
       "      <td>-0.093223</td>\n",
       "      <td>0.136812</td>\n",
       "      <td>0.018301</td>\n",
       "      <td>...</td>\n",
       "      <td>-0.160034</td>\n",
       "      <td>0.011944</td>\n",
       "      <td>0.112740</td>\n",
       "      <td>-0.051141</td>\n",
       "      <td>-0.115590</td>\n",
       "      <td>0.214860</td>\n",
       "      <td>0.096970</td>\n",
       "      <td>-0.366724</td>\n",
       "      <td>-0.193291</td>\n",
       "      <td>-0.322370</td>\n",
       "    </tr>\n",
       "  </tbody>\n",
       "</table>\n",
       "<p>5 rows × 50 columns</p>\n",
       "</div>"
      ],
      "text/plain": [
       "       fv_0      fv_1      fv_2      fv_3      fv_4      fv_5      fv_6  \\\n",
       "0  0.531405  0.179213 -0.155967  0.113932  0.419502 -0.060702 -0.197788   \n",
       "1  0.361225  0.106471 -0.237256  0.033109  0.270578  0.065713 -0.431070   \n",
       "2  0.498656  0.126325  0.071108 -0.105813  0.304617  0.137019 -0.188828   \n",
       "3  0.253731 -0.125228 -0.047040 -0.035165  0.277459  0.196237 -0.092441   \n",
       "4  0.399089  0.213234 -0.038033  0.030219  0.363641  0.162319 -0.329201   \n",
       "\n",
       "       fv_7      fv_8      fv_9  ...     fv_40     fv_41     fv_42     fv_43  \\\n",
       "0 -0.202166  0.154574 -0.152241  ... -0.124251 -0.164119  0.182848 -0.001532   \n",
       "1  0.003698  0.109686  0.049607  ... -0.215962  0.096166  0.250031 -0.032547   \n",
       "2  0.019941  0.027703 -0.116722  ...  0.103751 -0.038581  0.142066  0.031060   \n",
       "3 -0.016844 -0.026922 -0.096220  ... -0.240868  0.219853 -0.000032 -0.155341   \n",
       "4 -0.093223  0.136812  0.018301  ... -0.160034  0.011944  0.112740 -0.051141   \n",
       "\n",
       "      fv_44     fv_45     fv_46     fv_47     fv_48     fv_49  \n",
       "0 -0.019719  0.195204  0.095673 -0.368016 -0.221205 -0.181242  \n",
       "1 -0.024640  0.178960 -0.093781 -0.415753 -0.109149 -0.152448  \n",
       "2  0.073086 -0.106637  0.082048  0.096360 -0.022317 -0.194130  \n",
       "3  0.015613  0.005096 -0.111313 -0.267023  0.154081 -0.089913  \n",
       "4 -0.115590  0.214860  0.096970 -0.366724 -0.193291 -0.322370  \n",
       "\n",
       "[5 rows x 50 columns]"
      ]
     },
     "execution_count": 71,
     "metadata": {},
     "output_type": "execute_result"
    }
   ],
   "source": [
    "film_vecs = pd.DataFrame(np.array(film_vecs)).add_prefix('fv_')\n",
    "film_vecs.head()"
   ]
  },
  {
   "cell_type": "markdown",
   "metadata": {},
   "source": [
    "## 5) Нормализация"
   ]
  },
  {
   "cell_type": "markdown",
   "metadata": {},
   "source": [
    "Нормализуем количественные признаки (репрезентированные категориальные уже бинарны / находятся на интервале (-1, 1))"
   ]
  },
  {
   "cell_type": "code",
   "execution_count": 72,
   "metadata": {},
   "outputs": [
    {
     "data": {
      "text/html": [
       "<div>\n",
       "<style scoped>\n",
       "    .dataframe tbody tr th:only-of-type {\n",
       "        vertical-align: middle;\n",
       "    }\n",
       "\n",
       "    .dataframe tbody tr th {\n",
       "        vertical-align: top;\n",
       "    }\n",
       "\n",
       "    .dataframe thead th {\n",
       "        text-align: right;\n",
       "    }\n",
       "</style>\n",
       "<table border=\"1\" class=\"dataframe\">\n",
       "  <thead>\n",
       "    <tr style=\"text-align: right;\">\n",
       "      <th></th>\n",
       "      <th>popularity</th>\n",
       "      <th>revenue</th>\n",
       "      <th>release_date</th>\n",
       "      <th>runtime</th>\n",
       "    </tr>\n",
       "  </thead>\n",
       "  <tbody>\n",
       "    <tr>\n",
       "      <td>count</td>\n",
       "      <td>4802.000000</td>\n",
       "      <td>4.802000e+03</td>\n",
       "      <td>4.802000e+03</td>\n",
       "      <td>4802.000000</td>\n",
       "    </tr>\n",
       "    <tr>\n",
       "      <td>mean</td>\n",
       "      <td>21.496776</td>\n",
       "      <td>8.227777e+07</td>\n",
       "      <td>1.041020e+09</td>\n",
       "      <td>106.896501</td>\n",
       "    </tr>\n",
       "    <tr>\n",
       "      <td>std</td>\n",
       "      <td>31.818451</td>\n",
       "      <td>1.628697e+08</td>\n",
       "      <td>3.913124e+08</td>\n",
       "      <td>22.557033</td>\n",
       "    </tr>\n",
       "    <tr>\n",
       "      <td>min</td>\n",
       "      <td>0.000372</td>\n",
       "      <td>0.000000e+00</td>\n",
       "      <td>-1.682822e+09</td>\n",
       "      <td>0.000000</td>\n",
       "    </tr>\n",
       "    <tr>\n",
       "      <td>25%</td>\n",
       "      <td>4.671734</td>\n",
       "      <td>0.000000e+00</td>\n",
       "      <td>9.318960e+08</td>\n",
       "      <td>94.000000</td>\n",
       "    </tr>\n",
       "    <tr>\n",
       "      <td>50%</td>\n",
       "      <td>12.924931</td>\n",
       "      <td>1.917498e+07</td>\n",
       "      <td>1.128283e+09</td>\n",
       "      <td>103.000000</td>\n",
       "    </tr>\n",
       "    <tr>\n",
       "      <td>75%</td>\n",
       "      <td>28.332017</td>\n",
       "      <td>9.291920e+07</td>\n",
       "      <td>1.297804e+09</td>\n",
       "      <td>117.750000</td>\n",
       "    </tr>\n",
       "    <tr>\n",
       "      <td>max</td>\n",
       "      <td>875.581305</td>\n",
       "      <td>2.787965e+09</td>\n",
       "      <td>1.486069e+09</td>\n",
       "      <td>338.000000</td>\n",
       "    </tr>\n",
       "  </tbody>\n",
       "</table>\n",
       "</div>"
      ],
      "text/plain": [
       "        popularity       revenue  release_date      runtime\n",
       "count  4802.000000  4.802000e+03  4.802000e+03  4802.000000\n",
       "mean     21.496776  8.227777e+07  1.041020e+09   106.896501\n",
       "std      31.818451  1.628697e+08  3.913124e+08    22.557033\n",
       "min       0.000372  0.000000e+00 -1.682822e+09     0.000000\n",
       "25%       4.671734  0.000000e+00  9.318960e+08    94.000000\n",
       "50%      12.924931  1.917498e+07  1.128283e+09   103.000000\n",
       "75%      28.332017  9.291920e+07  1.297804e+09   117.750000\n",
       "max     875.581305  2.787965e+09  1.486069e+09   338.000000"
      ]
     },
     "execution_count": 72,
     "metadata": {},
     "output_type": "execute_result"
    }
   ],
   "source": [
    "data_numerical = data[numerical_columns]\n",
    "data_numerical.describe()"
   ]
  },
  {
   "cell_type": "code",
   "execution_count": 73,
   "metadata": {},
   "outputs": [],
   "source": [
    "data_numerical = (data_numerical - data_numerical.mean(axis = 0))/data_numerical.std(axis = 0)"
   ]
  },
  {
   "cell_type": "code",
   "execution_count": 74,
   "metadata": {},
   "outputs": [
    {
     "data": {
      "text/html": [
       "<div>\n",
       "<style scoped>\n",
       "    .dataframe tbody tr th:only-of-type {\n",
       "        vertical-align: middle;\n",
       "    }\n",
       "\n",
       "    .dataframe tbody tr th {\n",
       "        vertical-align: top;\n",
       "    }\n",
       "\n",
       "    .dataframe thead th {\n",
       "        text-align: right;\n",
       "    }\n",
       "</style>\n",
       "<table border=\"1\" class=\"dataframe\">\n",
       "  <thead>\n",
       "    <tr style=\"text-align: right;\">\n",
       "      <th></th>\n",
       "      <th>popularity</th>\n",
       "      <th>revenue</th>\n",
       "      <th>release_date</th>\n",
       "      <th>runtime</th>\n",
       "    </tr>\n",
       "  </thead>\n",
       "  <tbody>\n",
       "    <tr>\n",
       "      <td>count</td>\n",
       "      <td>4.802000e+03</td>\n",
       "      <td>4.802000e+03</td>\n",
       "      <td>4.802000e+03</td>\n",
       "      <td>4.802000e+03</td>\n",
       "    </tr>\n",
       "    <tr>\n",
       "      <td>mean</td>\n",
       "      <td>-1.018020e-15</td>\n",
       "      <td>7.102468e-17</td>\n",
       "      <td>1.302119e-16</td>\n",
       "      <td>4.734979e-17</td>\n",
       "    </tr>\n",
       "    <tr>\n",
       "      <td>std</td>\n",
       "      <td>1.000000e+00</td>\n",
       "      <td>1.000000e+00</td>\n",
       "      <td>1.000000e+00</td>\n",
       "      <td>1.000000e+00</td>\n",
       "    </tr>\n",
       "    <tr>\n",
       "      <td>min</td>\n",
       "      <td>-6.755956e-01</td>\n",
       "      <td>-5.051753e-01</td>\n",
       "      <td>-6.960785e+00</td>\n",
       "      <td>-4.738943e+00</td>\n",
       "    </tr>\n",
       "    <tr>\n",
       "      <td>25%</td>\n",
       "      <td>-5.287826e-01</td>\n",
       "      <td>-5.051753e-01</td>\n",
       "      <td>-2.788664e-01</td>\n",
       "      <td>-5.717286e-01</td>\n",
       "    </tr>\n",
       "    <tr>\n",
       "      <td>50%</td>\n",
       "      <td>-2.693986e-01</td>\n",
       "      <td>-3.874433e-01</td>\n",
       "      <td>2.230016e-01</td>\n",
       "      <td>-1.727400e-01</td>\n",
       "    </tr>\n",
       "    <tr>\n",
       "      <td>75%</td>\n",
       "      <td>2.148200e-01</td>\n",
       "      <td>6.533704e-02</td>\n",
       "      <td>6.562115e-01</td>\n",
       "      <td>4.811581e-01</td>\n",
       "    </tr>\n",
       "    <tr>\n",
       "      <td>max</td>\n",
       "      <td>2.684243e+01</td>\n",
       "      <td>1.661259e+01</td>\n",
       "      <td>1.137325e+00</td>\n",
       "      <td>1.024530e+01</td>\n",
       "    </tr>\n",
       "  </tbody>\n",
       "</table>\n",
       "</div>"
      ],
      "text/plain": [
       "         popularity       revenue  release_date       runtime\n",
       "count  4.802000e+03  4.802000e+03  4.802000e+03  4.802000e+03\n",
       "mean  -1.018020e-15  7.102468e-17  1.302119e-16  4.734979e-17\n",
       "std    1.000000e+00  1.000000e+00  1.000000e+00  1.000000e+00\n",
       "min   -6.755956e-01 -5.051753e-01 -6.960785e+00 -4.738943e+00\n",
       "25%   -5.287826e-01 -5.051753e-01 -2.788664e-01 -5.717286e-01\n",
       "50%   -2.693986e-01 -3.874433e-01  2.230016e-01 -1.727400e-01\n",
       "75%    2.148200e-01  6.533704e-02  6.562115e-01  4.811581e-01\n",
       "max    2.684243e+01  1.661259e+01  1.137325e+00  1.024530e+01"
      ]
     },
     "execution_count": 74,
     "metadata": {},
     "output_type": "execute_result"
    }
   ],
   "source": [
    "data_numerical.describe()"
   ]
  },
  {
   "cell_type": "markdown",
   "metadata": {},
   "source": [
    "### Соединим данные в одну таблицу."
   ]
  },
  {
   "cell_type": "code",
   "execution_count": 75,
   "metadata": {},
   "outputs": [],
   "source": [
    "data = pd.concat((data_numerical, prod_vectors, film_vecs, genres, states, langs, data.vote_average), axis=1)"
   ]
  },
  {
   "cell_type": "code",
   "execution_count": 76,
   "metadata": {},
   "outputs": [
    {
     "data": {
      "text/plain": [
       "(4803, 300)"
      ]
     },
     "execution_count": 76,
     "metadata": {},
     "output_type": "execute_result"
    }
   ],
   "source": [
    "data.shape"
   ]
  },
  {
   "cell_type": "code",
   "execution_count": 77,
   "metadata": {},
   "outputs": [
    {
     "data": {
      "text/plain": [
       "popularity      1\n",
       "revenue         1\n",
       "release_date    1\n",
       "runtime         1\n",
       "pv_0            1\n",
       "               ..\n",
       "l_xx            1\n",
       "l_yi            1\n",
       "l_zh            1\n",
       "l_zu            1\n",
       "vote_average    1\n",
       "Length: 300, dtype: int64"
      ]
     },
     "execution_count": 77,
     "metadata": {},
     "output_type": "execute_result"
    }
   ],
   "source": [
    "data.isna().sum()"
   ]
  },
  {
   "cell_type": "code",
   "execution_count": 78,
   "metadata": {},
   "outputs": [
    {
     "data": {
      "text/plain": [
       "(4801, 300)"
      ]
     },
     "execution_count": 78,
     "metadata": {},
     "output_type": "execute_result"
    }
   ],
   "source": [
    "data.dropna().shape"
   ]
  },
  {
   "cell_type": "markdown",
   "metadata": {},
   "source": [
    "Потери небольшие, так и оставим."
   ]
  },
  {
   "cell_type": "code",
   "execution_count": 79,
   "metadata": {},
   "outputs": [
    {
     "data": {
      "text/html": [
       "<div>\n",
       "<style scoped>\n",
       "    .dataframe tbody tr th:only-of-type {\n",
       "        vertical-align: middle;\n",
       "    }\n",
       "\n",
       "    .dataframe tbody tr th {\n",
       "        vertical-align: top;\n",
       "    }\n",
       "\n",
       "    .dataframe thead th {\n",
       "        text-align: right;\n",
       "    }\n",
       "</style>\n",
       "<table border=\"1\" class=\"dataframe\">\n",
       "  <thead>\n",
       "    <tr style=\"text-align: right;\">\n",
       "      <th></th>\n",
       "      <th>popularity</th>\n",
       "      <th>revenue</th>\n",
       "      <th>release_date</th>\n",
       "      <th>runtime</th>\n",
       "      <th>pv_0</th>\n",
       "      <th>pv_1</th>\n",
       "      <th>pv_2</th>\n",
       "      <th>pv_3</th>\n",
       "      <th>pv_4</th>\n",
       "      <th>pv_5</th>\n",
       "      <th>...</th>\n",
       "      <th>l_uk</th>\n",
       "      <th>l_ur</th>\n",
       "      <th>l_vi</th>\n",
       "      <th>l_wo</th>\n",
       "      <th>l_xh</th>\n",
       "      <th>l_xx</th>\n",
       "      <th>l_yi</th>\n",
       "      <th>l_zh</th>\n",
       "      <th>l_zu</th>\n",
       "      <th>vote_average</th>\n",
       "    </tr>\n",
       "  </thead>\n",
       "  <tbody>\n",
       "    <tr>\n",
       "      <td>0</td>\n",
       "      <td>4.052391</td>\n",
       "      <td>16.612585</td>\n",
       "      <td>0.560607</td>\n",
       "      <td>2.442852</td>\n",
       "      <td>-0.027523</td>\n",
       "      <td>-0.008734</td>\n",
       "      <td>0.017498</td>\n",
       "      <td>-0.000013</td>\n",
       "      <td>-0.020502</td>\n",
       "      <td>0.007824</td>\n",
       "      <td>...</td>\n",
       "      <td>0.0</td>\n",
       "      <td>0.0</td>\n",
       "      <td>0.0</td>\n",
       "      <td>0.0</td>\n",
       "      <td>0.0</td>\n",
       "      <td>0.0</td>\n",
       "      <td>0.0</td>\n",
       "      <td>0.0</td>\n",
       "      <td>0.0</td>\n",
       "      <td>7</td>\n",
       "    </tr>\n",
       "    <tr>\n",
       "      <td>1</td>\n",
       "      <td>3.695524</td>\n",
       "      <td>5.395246</td>\n",
       "      <td>0.353933</td>\n",
       "      <td>2.753177</td>\n",
       "      <td>-0.053863</td>\n",
       "      <td>-0.020214</td>\n",
       "      <td>0.011060</td>\n",
       "      <td>-0.016946</td>\n",
       "      <td>0.011157</td>\n",
       "      <td>0.009410</td>\n",
       "      <td>...</td>\n",
       "      <td>0.0</td>\n",
       "      <td>0.0</td>\n",
       "      <td>0.0</td>\n",
       "      <td>0.0</td>\n",
       "      <td>0.0</td>\n",
       "      <td>0.0</td>\n",
       "      <td>0.0</td>\n",
       "      <td>0.0</td>\n",
       "      <td>0.0</td>\n",
       "      <td>7</td>\n",
       "    </tr>\n",
       "    <tr>\n",
       "      <td>2</td>\n",
       "      <td>2.699063</td>\n",
       "      <td>4.902058</td>\n",
       "      <td>1.034434</td>\n",
       "      <td>1.822203</td>\n",
       "      <td>-0.027043</td>\n",
       "      <td>0.000514</td>\n",
       "      <td>0.000917</td>\n",
       "      <td>-0.006105</td>\n",
       "      <td>0.011951</td>\n",
       "      <td>0.008036</td>\n",
       "      <td>...</td>\n",
       "      <td>0.0</td>\n",
       "      <td>0.0</td>\n",
       "      <td>0.0</td>\n",
       "      <td>0.0</td>\n",
       "      <td>0.0</td>\n",
       "      <td>0.0</td>\n",
       "      <td>0.0</td>\n",
       "      <td>0.0</td>\n",
       "      <td>0.0</td>\n",
       "      <td>6</td>\n",
       "    </tr>\n",
       "    <tr>\n",
       "      <td>3</td>\n",
       "      <td>2.854198</td>\n",
       "      <td>6.156216</td>\n",
       "      <td>0.770133</td>\n",
       "      <td>2.575848</td>\n",
       "      <td>-0.061729</td>\n",
       "      <td>-0.014214</td>\n",
       "      <td>0.059695</td>\n",
       "      <td>-0.026047</td>\n",
       "      <td>0.015484</td>\n",
       "      <td>0.027569</td>\n",
       "      <td>...</td>\n",
       "      <td>0.0</td>\n",
       "      <td>0.0</td>\n",
       "      <td>0.0</td>\n",
       "      <td>0.0</td>\n",
       "      <td>0.0</td>\n",
       "      <td>0.0</td>\n",
       "      <td>0.0</td>\n",
       "      <td>0.0</td>\n",
       "      <td>0.0</td>\n",
       "      <td>8</td>\n",
       "    </tr>\n",
       "    <tr>\n",
       "      <td>4</td>\n",
       "      <td>0.704944</td>\n",
       "      <td>1.239404</td>\n",
       "      <td>0.741209</td>\n",
       "      <td>1.112890</td>\n",
       "      <td>-0.044415</td>\n",
       "      <td>-0.003650</td>\n",
       "      <td>0.011620</td>\n",
       "      <td>-0.017853</td>\n",
       "      <td>0.019880</td>\n",
       "      <td>0.020226</td>\n",
       "      <td>...</td>\n",
       "      <td>0.0</td>\n",
       "      <td>0.0</td>\n",
       "      <td>0.0</td>\n",
       "      <td>0.0</td>\n",
       "      <td>0.0</td>\n",
       "      <td>0.0</td>\n",
       "      <td>0.0</td>\n",
       "      <td>0.0</td>\n",
       "      <td>0.0</td>\n",
       "      <td>6</td>\n",
       "    </tr>\n",
       "  </tbody>\n",
       "</table>\n",
       "<p>5 rows × 300 columns</p>\n",
       "</div>"
      ],
      "text/plain": [
       "   popularity    revenue  release_date   runtime      pv_0      pv_1  \\\n",
       "0    4.052391  16.612585      0.560607  2.442852 -0.027523 -0.008734   \n",
       "1    3.695524   5.395246      0.353933  2.753177 -0.053863 -0.020214   \n",
       "2    2.699063   4.902058      1.034434  1.822203 -0.027043  0.000514   \n",
       "3    2.854198   6.156216      0.770133  2.575848 -0.061729 -0.014214   \n",
       "4    0.704944   1.239404      0.741209  1.112890 -0.044415 -0.003650   \n",
       "\n",
       "       pv_2      pv_3      pv_4      pv_5  ...  l_uk  l_ur  l_vi  l_wo  l_xh  \\\n",
       "0  0.017498 -0.000013 -0.020502  0.007824  ...   0.0   0.0   0.0   0.0   0.0   \n",
       "1  0.011060 -0.016946  0.011157  0.009410  ...   0.0   0.0   0.0   0.0   0.0   \n",
       "2  0.000917 -0.006105  0.011951  0.008036  ...   0.0   0.0   0.0   0.0   0.0   \n",
       "3  0.059695 -0.026047  0.015484  0.027569  ...   0.0   0.0   0.0   0.0   0.0   \n",
       "4  0.011620 -0.017853  0.019880  0.020226  ...   0.0   0.0   0.0   0.0   0.0   \n",
       "\n",
       "   l_xx  l_yi  l_zh  l_zu  vote_average  \n",
       "0   0.0   0.0   0.0   0.0             7  \n",
       "1   0.0   0.0   0.0   0.0             7  \n",
       "2   0.0   0.0   0.0   0.0             6  \n",
       "3   0.0   0.0   0.0   0.0             8  \n",
       "4   0.0   0.0   0.0   0.0             6  \n",
       "\n",
       "[5 rows x 300 columns]"
      ]
     },
     "execution_count": 79,
     "metadata": {},
     "output_type": "execute_result"
    }
   ],
   "source": [
    "data = data.dropna()\n",
    "data.head()"
   ]
  },
  {
   "cell_type": "code",
   "execution_count": 80,
   "metadata": {},
   "outputs": [
    {
     "data": {
      "text/html": [
       "<div>\n",
       "<style scoped>\n",
       "    .dataframe tbody tr th:only-of-type {\n",
       "        vertical-align: middle;\n",
       "    }\n",
       "\n",
       "    .dataframe tbody tr th {\n",
       "        vertical-align: top;\n",
       "    }\n",
       "\n",
       "    .dataframe thead th {\n",
       "        text-align: right;\n",
       "    }\n",
       "</style>\n",
       "<table border=\"1\" class=\"dataframe\">\n",
       "  <thead>\n",
       "    <tr style=\"text-align: right;\">\n",
       "      <th></th>\n",
       "      <th>popularity</th>\n",
       "      <th>revenue</th>\n",
       "      <th>release_date</th>\n",
       "      <th>runtime</th>\n",
       "      <th>pv_0</th>\n",
       "      <th>pv_1</th>\n",
       "      <th>pv_2</th>\n",
       "      <th>pv_3</th>\n",
       "      <th>pv_4</th>\n",
       "      <th>pv_5</th>\n",
       "      <th>...</th>\n",
       "      <th>l_tr</th>\n",
       "      <th>l_uk</th>\n",
       "      <th>l_ur</th>\n",
       "      <th>l_vi</th>\n",
       "      <th>l_wo</th>\n",
       "      <th>l_xh</th>\n",
       "      <th>l_xx</th>\n",
       "      <th>l_yi</th>\n",
       "      <th>l_zh</th>\n",
       "      <th>l_zu</th>\n",
       "    </tr>\n",
       "  </thead>\n",
       "  <tbody>\n",
       "    <tr>\n",
       "      <td>count</td>\n",
       "      <td>4801.000000</td>\n",
       "      <td>4801.000000</td>\n",
       "      <td>4801.000000</td>\n",
       "      <td>4801.000000</td>\n",
       "      <td>4801.000000</td>\n",
       "      <td>4801.000000</td>\n",
       "      <td>4801.000000</td>\n",
       "      <td>4801.000000</td>\n",
       "      <td>4801.000000</td>\n",
       "      <td>4801.000000</td>\n",
       "      <td>...</td>\n",
       "      <td>4801.000000</td>\n",
       "      <td>4801.000000</td>\n",
       "      <td>4801.000000</td>\n",
       "      <td>4801.000000</td>\n",
       "      <td>4801.000000</td>\n",
       "      <td>4801.000000</td>\n",
       "      <td>4801.000000</td>\n",
       "      <td>4801.000000</td>\n",
       "      <td>4801.000000</td>\n",
       "      <td>4801.000000</td>\n",
       "    </tr>\n",
       "    <tr>\n",
       "      <td>mean</td>\n",
       "      <td>0.000128</td>\n",
       "      <td>0.000105</td>\n",
       "      <td>-0.000044</td>\n",
       "      <td>0.000156</td>\n",
       "      <td>-0.024358</td>\n",
       "      <td>-0.006673</td>\n",
       "      <td>0.010637</td>\n",
       "      <td>-0.010879</td>\n",
       "      <td>0.007123</td>\n",
       "      <td>0.007081</td>\n",
       "      <td>...</td>\n",
       "      <td>0.003749</td>\n",
       "      <td>0.001875</td>\n",
       "      <td>0.003124</td>\n",
       "      <td>0.003541</td>\n",
       "      <td>0.000208</td>\n",
       "      <td>0.000833</td>\n",
       "      <td>0.000417</td>\n",
       "      <td>0.001666</td>\n",
       "      <td>0.022287</td>\n",
       "      <td>0.000833</td>\n",
       "    </tr>\n",
       "    <tr>\n",
       "      <td>std</td>\n",
       "      <td>1.000065</td>\n",
       "      <td>1.000078</td>\n",
       "      <td>1.000100</td>\n",
       "      <td>1.000046</td>\n",
       "      <td>0.029114</td>\n",
       "      <td>0.013377</td>\n",
       "      <td>0.017039</td>\n",
       "      <td>0.016037</td>\n",
       "      <td>0.013719</td>\n",
       "      <td>0.017513</td>\n",
       "      <td>...</td>\n",
       "      <td>0.061122</td>\n",
       "      <td>0.043261</td>\n",
       "      <td>0.055814</td>\n",
       "      <td>0.059406</td>\n",
       "      <td>0.014432</td>\n",
       "      <td>0.028855</td>\n",
       "      <td>0.020408</td>\n",
       "      <td>0.040791</td>\n",
       "      <td>0.147631</td>\n",
       "      <td>0.028855</td>\n",
       "    </tr>\n",
       "    <tr>\n",
       "      <td>min</td>\n",
       "      <td>-0.675596</td>\n",
       "      <td>-0.505175</td>\n",
       "      <td>-6.960785</td>\n",
       "      <td>-4.738943</td>\n",
       "      <td>-0.209876</td>\n",
       "      <td>-0.088334</td>\n",
       "      <td>-0.092264</td>\n",
       "      <td>-0.154703</td>\n",
       "      <td>-0.149787</td>\n",
       "      <td>-0.138311</td>\n",
       "      <td>...</td>\n",
       "      <td>0.000000</td>\n",
       "      <td>0.000000</td>\n",
       "      <td>0.000000</td>\n",
       "      <td>0.000000</td>\n",
       "      <td>0.000000</td>\n",
       "      <td>0.000000</td>\n",
       "      <td>0.000000</td>\n",
       "      <td>0.000000</td>\n",
       "      <td>0.000000</td>\n",
       "      <td>0.000000</td>\n",
       "    </tr>\n",
       "    <tr>\n",
       "      <td>25%</td>\n",
       "      <td>-0.528516</td>\n",
       "      <td>-0.505175</td>\n",
       "      <td>-0.278866</td>\n",
       "      <td>-0.571729</td>\n",
       "      <td>-0.038320</td>\n",
       "      <td>-0.014245</td>\n",
       "      <td>0.002055</td>\n",
       "      <td>-0.019705</td>\n",
       "      <td>-0.001275</td>\n",
       "      <td>0.000042</td>\n",
       "      <td>...</td>\n",
       "      <td>0.000000</td>\n",
       "      <td>0.000000</td>\n",
       "      <td>0.000000</td>\n",
       "      <td>0.000000</td>\n",
       "      <td>0.000000</td>\n",
       "      <td>0.000000</td>\n",
       "      <td>0.000000</td>\n",
       "      <td>0.000000</td>\n",
       "      <td>0.000000</td>\n",
       "      <td>0.000000</td>\n",
       "    </tr>\n",
       "    <tr>\n",
       "      <td>50%</td>\n",
       "      <td>-0.269294</td>\n",
       "      <td>-0.387413</td>\n",
       "      <td>0.223443</td>\n",
       "      <td>-0.172740</td>\n",
       "      <td>-0.023899</td>\n",
       "      <td>-0.006293</td>\n",
       "      <td>0.009843</td>\n",
       "      <td>-0.010623</td>\n",
       "      <td>0.007511</td>\n",
       "      <td>0.007003</td>\n",
       "      <td>...</td>\n",
       "      <td>0.000000</td>\n",
       "      <td>0.000000</td>\n",
       "      <td>0.000000</td>\n",
       "      <td>0.000000</td>\n",
       "      <td>0.000000</td>\n",
       "      <td>0.000000</td>\n",
       "      <td>0.000000</td>\n",
       "      <td>0.000000</td>\n",
       "      <td>0.000000</td>\n",
       "      <td>0.000000</td>\n",
       "    </tr>\n",
       "    <tr>\n",
       "      <td>75%</td>\n",
       "      <td>0.215402</td>\n",
       "      <td>0.065349</td>\n",
       "      <td>0.656211</td>\n",
       "      <td>0.492241</td>\n",
       "      <td>-0.008136</td>\n",
       "      <td>0.002283</td>\n",
       "      <td>0.020011</td>\n",
       "      <td>-0.001419</td>\n",
       "      <td>0.014983</td>\n",
       "      <td>0.016573</td>\n",
       "      <td>...</td>\n",
       "      <td>0.000000</td>\n",
       "      <td>0.000000</td>\n",
       "      <td>0.000000</td>\n",
       "      <td>0.000000</td>\n",
       "      <td>0.000000</td>\n",
       "      <td>0.000000</td>\n",
       "      <td>0.000000</td>\n",
       "      <td>0.000000</td>\n",
       "      <td>0.000000</td>\n",
       "      <td>0.000000</td>\n",
       "    </tr>\n",
       "    <tr>\n",
       "      <td>max</td>\n",
       "      <td>26.842430</td>\n",
       "      <td>16.612585</td>\n",
       "      <td>1.137325</td>\n",
       "      <td>10.245297</td>\n",
       "      <td>0.244795</td>\n",
       "      <td>0.101002</td>\n",
       "      <td>0.114091</td>\n",
       "      <td>0.120499</td>\n",
       "      <td>0.071285</td>\n",
       "      <td>0.112554</td>\n",
       "      <td>...</td>\n",
       "      <td>1.000000</td>\n",
       "      <td>1.000000</td>\n",
       "      <td>1.000000</td>\n",
       "      <td>1.000000</td>\n",
       "      <td>1.000000</td>\n",
       "      <td>1.000000</td>\n",
       "      <td>1.000000</td>\n",
       "      <td>1.000000</td>\n",
       "      <td>1.000000</td>\n",
       "      <td>1.000000</td>\n",
       "    </tr>\n",
       "  </tbody>\n",
       "</table>\n",
       "<p>8 rows × 299 columns</p>\n",
       "</div>"
      ],
      "text/plain": [
       "        popularity      revenue  release_date      runtime         pv_0  \\\n",
       "count  4801.000000  4801.000000   4801.000000  4801.000000  4801.000000   \n",
       "mean      0.000128     0.000105     -0.000044     0.000156    -0.024358   \n",
       "std       1.000065     1.000078      1.000100     1.000046     0.029114   \n",
       "min      -0.675596    -0.505175     -6.960785    -4.738943    -0.209876   \n",
       "25%      -0.528516    -0.505175     -0.278866    -0.571729    -0.038320   \n",
       "50%      -0.269294    -0.387413      0.223443    -0.172740    -0.023899   \n",
       "75%       0.215402     0.065349      0.656211     0.492241    -0.008136   \n",
       "max      26.842430    16.612585      1.137325    10.245297     0.244795   \n",
       "\n",
       "              pv_1         pv_2         pv_3         pv_4         pv_5  ...  \\\n",
       "count  4801.000000  4801.000000  4801.000000  4801.000000  4801.000000  ...   \n",
       "mean     -0.006673     0.010637    -0.010879     0.007123     0.007081  ...   \n",
       "std       0.013377     0.017039     0.016037     0.013719     0.017513  ...   \n",
       "min      -0.088334    -0.092264    -0.154703    -0.149787    -0.138311  ...   \n",
       "25%      -0.014245     0.002055    -0.019705    -0.001275     0.000042  ...   \n",
       "50%      -0.006293     0.009843    -0.010623     0.007511     0.007003  ...   \n",
       "75%       0.002283     0.020011    -0.001419     0.014983     0.016573  ...   \n",
       "max       0.101002     0.114091     0.120499     0.071285     0.112554  ...   \n",
       "\n",
       "              l_tr         l_uk         l_ur         l_vi         l_wo  \\\n",
       "count  4801.000000  4801.000000  4801.000000  4801.000000  4801.000000   \n",
       "mean      0.003749     0.001875     0.003124     0.003541     0.000208   \n",
       "std       0.061122     0.043261     0.055814     0.059406     0.014432   \n",
       "min       0.000000     0.000000     0.000000     0.000000     0.000000   \n",
       "25%       0.000000     0.000000     0.000000     0.000000     0.000000   \n",
       "50%       0.000000     0.000000     0.000000     0.000000     0.000000   \n",
       "75%       0.000000     0.000000     0.000000     0.000000     0.000000   \n",
       "max       1.000000     1.000000     1.000000     1.000000     1.000000   \n",
       "\n",
       "              l_xh         l_xx         l_yi         l_zh         l_zu  \n",
       "count  4801.000000  4801.000000  4801.000000  4801.000000  4801.000000  \n",
       "mean      0.000833     0.000417     0.001666     0.022287     0.000833  \n",
       "std       0.028855     0.020408     0.040791     0.147631     0.028855  \n",
       "min       0.000000     0.000000     0.000000     0.000000     0.000000  \n",
       "25%       0.000000     0.000000     0.000000     0.000000     0.000000  \n",
       "50%       0.000000     0.000000     0.000000     0.000000     0.000000  \n",
       "75%       0.000000     0.000000     0.000000     0.000000     0.000000  \n",
       "max       1.000000     1.000000     1.000000     1.000000     1.000000  \n",
       "\n",
       "[8 rows x 299 columns]"
      ]
     },
     "execution_count": 80,
     "metadata": {},
     "output_type": "execute_result"
    }
   ],
   "source": [
    "data.describe()"
   ]
  },
  {
   "cell_type": "markdown",
   "metadata": {},
   "source": [
    "## 6) X и y"
   ]
  },
  {
   "cell_type": "markdown",
   "metadata": {},
   "source": [
    "Посмотрим на баланс классов."
   ]
  },
  {
   "cell_type": "code",
   "execution_count": 81,
   "metadata": {},
   "outputs": [
    {
     "data": {
      "text/plain": [
       "6     2072\n",
       "7     1394\n",
       "5      679\n",
       "8      331\n",
       "4      195\n",
       "0       63\n",
       "3       48\n",
       "2       11\n",
       "10       5\n",
       "1        2\n",
       "9        1\n",
       "Name: vote_average, dtype: int64"
      ]
     },
     "execution_count": 81,
     "metadata": {},
     "output_type": "execute_result"
    }
   ],
   "source": [
    "data['vote_average'].value_counts()"
   ]
  },
  {
   "cell_type": "markdown",
   "metadata": {},
   "source": [
    "Как мы видим, датасет КРАЙНЕ несбалансирован (в одном классе всего одно значение), и было бы разумнее рассматривать задачу с позиции регрессии; но мы работаем с классификацией."
   ]
  },
  {
   "cell_type": "markdown",
   "metadata": {},
   "source": [
    "В реальных условиях рассмотрения фильма среднестатистическим пользователем, любая оценка от \"4\" воспринимается им как очень плохой фильм (который однозначно не стоит смотреть), а любая оценка от \"8\" как очень хороший фильм (который стоит посмотреть); плюс \"extremes\" на таких сайтах довольно редки. В условиях ограниченности данных, вероятнее всего (если всё же рассматривать эту задачу как классификационную, а не регрессионную), стоит объединить extremes в соответствующие группы (as-is это скорее выбросы)."
   ]
  },
  {
   "cell_type": "code",
   "execution_count": 82,
   "metadata": {},
   "outputs": [],
   "source": [
    "repl_d = {'10': '>=8', '9': '>=8', '8': '>=8', '4': '<=4', '3': '<=4', '2': '<=4', '1': '<=4', '0': '<=4'}\n",
    "\n",
    "data = data.replace({'vote_average': repl_d})"
   ]
  },
  {
   "cell_type": "code",
   "execution_count": 83,
   "metadata": {},
   "outputs": [
    {
     "data": {
      "text/plain": [
       "0         7\n",
       "1         7\n",
       "2         6\n",
       "3       >=8\n",
       "4         6\n",
       "       ... \n",
       "4797    >=8\n",
       "4798      7\n",
       "4799      6\n",
       "4800      7\n",
       "4801      6\n",
       "Name: vote_average, Length: 4801, dtype: object"
      ]
     },
     "execution_count": 83,
     "metadata": {},
     "output_type": "execute_result"
    }
   ],
   "source": [
    "data['vote_average']"
   ]
  },
  {
   "cell_type": "code",
   "execution_count": 84,
   "metadata": {},
   "outputs": [
    {
     "data": {
      "text/plain": [
       "6      2072\n",
       "7      1394\n",
       "5       679\n",
       ">=8     337\n",
       "<=4     319\n",
       "Name: vote_average, dtype: int64"
      ]
     },
     "execution_count": 84,
     "metadata": {},
     "output_type": "execute_result"
    }
   ],
   "source": [
    "data['vote_average'].value_counts()"
   ]
  },
  {
   "cell_type": "markdown",
   "metadata": {},
   "source": [
    "Теперь условия гораздо лучше!"
   ]
  },
  {
   "cell_type": "code",
   "execution_count": 85,
   "metadata": {},
   "outputs": [],
   "source": [
    "X = data.drop('vote_average', axis = 1) # выбрасываем столбец 'class'\n",
    "y = data['vote_average']\n",
    "feature_names = X.columns"
   ]
  },
  {
   "cell_type": "code",
   "execution_count": 86,
   "metadata": {},
   "outputs": [
    {
     "data": {
      "text/plain": [
       "pandas.core.indexes.base.Index"
      ]
     },
     "execution_count": 86,
     "metadata": {},
     "output_type": "execute_result"
    }
   ],
   "source": [
    "type(feature_names)"
   ]
  },
  {
   "cell_type": "code",
   "execution_count": 87,
   "metadata": {},
   "outputs": [],
   "source": [
    "X = X.to_numpy()"
   ]
  },
  {
   "cell_type": "markdown",
   "metadata": {},
   "source": [
    "One-hot'нем метки."
   ]
  },
  {
   "cell_type": "code",
   "execution_count": 88,
   "metadata": {},
   "outputs": [],
   "source": [
    "from sklearn.preprocessing import LabelBinarizer"
   ]
  },
  {
   "cell_type": "code",
   "execution_count": 89,
   "metadata": {},
   "outputs": [],
   "source": [
    "lb = LabelBinarizer()"
   ]
  },
  {
   "cell_type": "code",
   "execution_count": 90,
   "metadata": {},
   "outputs": [
    {
     "data": {
      "text/plain": [
       "array([[0, 0, 1, 0, 0],\n",
       "       [0, 0, 1, 0, 0],\n",
       "       [0, 1, 0, 0, 0],\n",
       "       ...,\n",
       "       [0, 1, 0, 0, 0],\n",
       "       [0, 0, 1, 0, 0],\n",
       "       [0, 1, 0, 0, 0]])"
      ]
     },
     "execution_count": 90,
     "metadata": {},
     "output_type": "execute_result"
    }
   ],
   "source": [
    "y = lb.fit_transform(y)\n",
    "y"
   ]
  },
  {
   "cell_type": "code",
   "execution_count": 91,
   "metadata": {},
   "outputs": [
    {
     "data": {
      "text/plain": [
       "array(['7', '7', '6', ..., '6', '7', '6'], dtype='<U3')"
      ]
     },
     "execution_count": 91,
     "metadata": {},
     "output_type": "execute_result"
    }
   ],
   "source": [
    "lb.inverse_transform(y)"
   ]
  },
  {
   "cell_type": "code",
   "execution_count": 92,
   "metadata": {},
   "outputs": [
    {
     "data": {
      "text/plain": [
       "array(['5', '6', '7', '<=4', '>=8'], dtype='<U3')"
      ]
     },
     "execution_count": 92,
     "metadata": {},
     "output_type": "execute_result"
    }
   ],
   "source": [
    "lb.classes_"
   ]
  },
  {
   "cell_type": "code",
   "execution_count": 93,
   "metadata": {},
   "outputs": [
    {
     "name": "stdout",
     "output_type": "stream",
     "text": [
      "(4801, 299)\n",
      "(4801, 5)\n"
     ]
    }
   ],
   "source": [
    "print(X.shape)\n",
    "print(y.shape)\n",
    "N, d = X.shape"
   ]
  },
  {
   "cell_type": "code",
   "execution_count": 94,
   "metadata": {},
   "outputs": [
    {
     "data": {
      "text/plain": [
       "numpy.ndarray"
      ]
     },
     "execution_count": 94,
     "metadata": {},
     "output_type": "execute_result"
    }
   ],
   "source": [
    "type(X)"
   ]
  },
  {
   "cell_type": "code",
   "execution_count": 95,
   "metadata": {},
   "outputs": [
    {
     "data": {
      "text/plain": [
       "numpy.ndarray"
      ]
     },
     "execution_count": 95,
     "metadata": {},
     "output_type": "execute_result"
    }
   ],
   "source": [
    "type(y)"
   ]
  },
  {
   "cell_type": "code",
   "execution_count": 96,
   "metadata": {},
   "outputs": [
    {
     "name": "stdout",
     "output_type": "stream",
     "text": [
      "4320 481\n"
     ]
    }
   ],
   "source": [
    "from sklearn.model_selection import train_test_split\n",
    "X_train, X_test, y_train, y_test = train_test_split(X, y, test_size = 0.1, random_state = 666)\n",
    "\n",
    "N_train, _ = X_train.shape \n",
    "N_test,  _ = X_test.shape \n",
    "\n",
    "print(N_train, N_test)"
   ]
  },
  {
   "cell_type": "markdown",
   "metadata": {},
   "source": [
    "## 7) Модели\n",
    "### K-NN:"
   ]
  },
  {
   "cell_type": "code",
   "execution_count": 97,
   "metadata": {},
   "outputs": [
    {
     "data": {
      "text/plain": [
       "KNeighborsClassifier(algorithm='auto', leaf_size=30, metric='minkowski',\n",
       "                     metric_params=None, n_jobs=None, n_neighbors=10, p=2,\n",
       "                     weights='uniform')"
      ]
     },
     "execution_count": 97,
     "metadata": {},
     "output_type": "execute_result"
    }
   ],
   "source": [
    "from sklearn.neighbors import KNeighborsClassifier\n",
    "from sklearn.metrics import classification_report\n",
    "\n",
    "knn = KNeighborsClassifier(n_neighbors = 10)\n",
    "\n",
    "knn.fit(X_train, y_train)"
   ]
  },
  {
   "cell_type": "code",
   "execution_count": 98,
   "metadata": {},
   "outputs": [],
   "source": [
    "y_test_predict = knn.predict(X_test)\n",
    "err_test  = np.mean(y_test != y_test_predict)"
   ]
  },
  {
   "cell_type": "code",
   "execution_count": 99,
   "metadata": {},
   "outputs": [
    {
     "data": {
      "text/plain": [
       "0.18503118503118504"
      ]
     },
     "execution_count": 99,
     "metadata": {},
     "output_type": "execute_result"
    }
   ],
   "source": [
    "err_test"
   ]
  },
  {
   "cell_type": "markdown",
   "metadata": {},
   "source": [
    "Подберём оптимальные значения соседей:"
   ]
  },
  {
   "cell_type": "code",
   "execution_count": 100,
   "metadata": {},
   "outputs": [
    {
     "name": "stdout",
     "output_type": "stream",
     "text": [
      "0.5608796296296297 1\n"
     ]
    }
   ],
   "source": [
    "from sklearn.model_selection import GridSearchCV\n",
    "nnb = [1, 3, 5, 10, 15, 20, 25, 35, 45, 55]\n",
    "knn = KNeighborsClassifier()\n",
    "grid = GridSearchCV(knn, param_grid = {'n_neighbors': nnb}, cv=10, verbose = 0)\n",
    "grid.fit(X_train, y_train)\n",
    "\n",
    "best_cv_err = 1 - grid.best_score_\n",
    "best_n_neighbors = grid.best_estimator_.n_neighbors\n",
    "print(best_cv_err, best_n_neighbors)"
   ]
  },
  {
   "cell_type": "code",
   "execution_count": 101,
   "metadata": {},
   "outputs": [
    {
     "data": {
      "text/plain": [
       "0.23201663201663203"
      ]
     },
     "execution_count": 101,
     "metadata": {},
     "output_type": "execute_result"
    }
   ],
   "source": [
    "knn = KNeighborsClassifier(n_neighbors = 1)\n",
    "\n",
    "knn.fit(X_train, y_train)\n",
    "\n",
    "y_test_predict = knn.predict(X_test)\n",
    "err_test  = np.mean(y_test != y_test_predict)\n",
    "\n",
    "err_test"
   ]
  },
  {
   "cell_type": "code",
   "execution_count": 102,
   "metadata": {},
   "outputs": [
    {
     "name": "stdout",
     "output_type": "stream",
     "text": [
      "              precision    recall  f1-score   support\n",
      "\n",
      "           0       0.26      0.35      0.30        63\n",
      "           1       0.50      0.51      0.50       207\n",
      "           2       0.39      0.42      0.40       125\n",
      "           3       0.52      0.23      0.32        47\n",
      "           4       0.39      0.28      0.33        39\n",
      "\n",
      "   micro avg       0.42      0.42      0.42       481\n",
      "   macro avg       0.41      0.36      0.37       481\n",
      "weighted avg       0.43      0.42      0.42       481\n",
      " samples avg       0.42      0.42      0.42       481\n",
      "\n"
     ]
    }
   ],
   "source": [
    "print(classification_report(y_test, y_test_predict))"
   ]
  },
  {
   "cell_type": "markdown",
   "metadata": {},
   "source": [
    "## K-nearest, как правило, не слишком эффективен для задач с данными высокой размерности, а для NLP зачастую лучше работает Naive Bayes. Попробуем другие методы"
   ]
  },
  {
   "cell_type": "markdown",
   "metadata": {},
   "source": [
    "### SVC:"
   ]
  },
  {
   "cell_type": "code",
   "execution_count": 103,
   "metadata": {},
   "outputs": [],
   "source": [
    "y_train_full = lb.inverse_transform(y_train)\n",
    "y_test_full = lb.inverse_transform(y_test)"
   ]
  },
  {
   "cell_type": "code",
   "execution_count": 104,
   "metadata": {},
   "outputs": [
    {
     "name": "stdout",
     "output_type": "stream",
     "text": [
      "0.5053240740740741 0.5301455301455301\n"
     ]
    }
   ],
   "source": [
    "from sklearn.svm import SVC\n",
    "svc = SVC(gamma='auto')\n",
    "svc.fit(X_train, y_train_full)\n",
    "\n",
    "err_train = np.mean(y_train_full != svc.predict(X_train))\n",
    "err_test  = np.mean(y_test_full  != svc.predict(X_test))\n",
    "\n",
    "print(err_train, err_test)"
   ]
  },
  {
   "cell_type": "code",
   "execution_count": 105,
   "metadata": {},
   "outputs": [
    {
     "name": "stdout",
     "output_type": "stream",
     "text": [
      "              precision    recall  f1-score   support\n",
      "\n",
      "           5       0.00      0.00      0.00        63\n",
      "           6       0.48      0.86      0.61       207\n",
      "           7       0.45      0.38      0.41       125\n",
      "         <=4       0.00      0.00      0.00        47\n",
      "         >=8       0.00      0.00      0.00        39\n",
      "\n",
      "    accuracy                           0.47       481\n",
      "   macro avg       0.18      0.25      0.20       481\n",
      "weighted avg       0.32      0.47      0.37       481\n",
      "\n"
     ]
    },
    {
     "name": "stderr",
     "output_type": "stream",
     "text": [
      "/home/knikolaev/.local/lib/python3.6/site-packages/sklearn/metrics/classification.py:1437: UndefinedMetricWarning: Precision and F-score are ill-defined and being set to 0.0 in labels with no predicted samples.\n",
      "  'precision', 'predicted', average, warn_for)\n"
     ]
    }
   ],
   "source": [
    "print(classification_report(y_test_full, svc.predict(X_test)))"
   ]
  },
  {
   "cell_type": "markdown",
   "metadata": {},
   "source": [
    "### Bayes:"
   ]
  },
  {
   "cell_type": "code",
   "execution_count": 106,
   "metadata": {},
   "outputs": [],
   "source": [
    "from sklearn.naive_bayes import BernoulliNB"
   ]
  },
  {
   "cell_type": "code",
   "execution_count": 107,
   "metadata": {},
   "outputs": [
    {
     "name": "stdout",
     "output_type": "stream",
     "text": [
      "0.5291666666666667 0.5363825363825364\n"
     ]
    }
   ],
   "source": [
    "clf = BernoulliNB()\n",
    "clf.fit(X_train, y_train_full)\n",
    "\n",
    "err_train = np.mean(y_train_full != clf.predict(X_train))\n",
    "err_test  = np.mean(y_test_full  != clf.predict(X_test))\n",
    "\n",
    "print(err_train, err_test)"
   ]
  },
  {
   "cell_type": "code",
   "execution_count": 108,
   "metadata": {},
   "outputs": [
    {
     "name": "stdout",
     "output_type": "stream",
     "text": [
      "              precision    recall  f1-score   support\n",
      "\n",
      "           5       0.55      0.19      0.28        63\n",
      "           6       0.52      0.68      0.59       207\n",
      "           7       0.44      0.42      0.43       125\n",
      "         <=4       0.21      0.23      0.22        47\n",
      "         >=8       0.44      0.18      0.25        39\n",
      "\n",
      "    accuracy                           0.46       481\n",
      "   macro avg       0.43      0.34      0.35       481\n",
      "weighted avg       0.46      0.46      0.44       481\n",
      "\n"
     ]
    }
   ],
   "source": [
    "print(classification_report(y_test_full, clf.predict(X_test)))"
   ]
  },
  {
   "cell_type": "markdown",
   "metadata": {},
   "source": [
    "Пока наилучшие результаты у наивного байесовского классификатора (что коррелирует с тем, что NB - одна из лучших моделей для NLP-задач. Тем не менее, результаты все равно очень низкие."
   ]
  },
  {
   "cell_type": "markdown",
   "metadata": {},
   "source": [
    "###  Extremely Randomized Trees + наиболее информативные фичи:"
   ]
  },
  {
   "cell_type": "code",
   "execution_count": 109,
   "metadata": {},
   "outputs": [],
   "source": [
    "from sklearn import ensemble"
   ]
  },
  {
   "cell_type": "code",
   "execution_count": 110,
   "metadata": {},
   "outputs": [
    {
     "name": "stdout",
     "output_type": "stream",
     "text": [
      "0.0 0.18586278586278587\n"
     ]
    }
   ],
   "source": [
    "ert = ensemble.ExtraTreesClassifier(n_estimators = 100).fit(X_train, y_train)\n",
    "\n",
    "err_train = np.mean(y_train != ert.predict(X_train))\n",
    "err_test  = np.mean(y_test  != ert.predict(X_test))\n",
    "\n",
    "print(err_train, err_test)"
   ]
  },
  {
   "cell_type": "code",
   "execution_count": 111,
   "metadata": {},
   "outputs": [
    {
     "name": "stdout",
     "output_type": "stream",
     "text": [
      "              precision    recall  f1-score   support\n",
      "\n",
      "           0       0.00      0.00      0.00        63\n",
      "           1       0.63      0.36      0.46       207\n",
      "           2       0.56      0.11      0.19       125\n",
      "           3       1.00      0.02      0.04        47\n",
      "           4       0.00      0.00      0.00        39\n",
      "\n",
      "   micro avg       0.62      0.19      0.28       481\n",
      "   macro avg       0.44      0.10      0.14       481\n",
      "weighted avg       0.51      0.19      0.25       481\n",
      " samples avg       0.19      0.19      0.19       481\n",
      "\n"
     ]
    },
    {
     "name": "stderr",
     "output_type": "stream",
     "text": [
      "/home/knikolaev/.local/lib/python3.6/site-packages/sklearn/metrics/classification.py:1437: UndefinedMetricWarning: Precision and F-score are ill-defined and being set to 0.0 in labels with no predicted samples.\n",
      "  'precision', 'predicted', average, warn_for)\n",
      "/home/knikolaev/.local/lib/python3.6/site-packages/sklearn/metrics/classification.py:1437: UndefinedMetricWarning: Precision and F-score are ill-defined and being set to 0.0 in samples with no predicted labels.\n",
      "  'precision', 'predicted', average, warn_for)\n"
     ]
    }
   ],
   "source": [
    "print(classification_report(y_test, ert.predict(X_test)))"
   ]
  },
  {
   "cell_type": "code",
   "execution_count": 112,
   "metadata": {},
   "outputs": [
    {
     "data": {
      "text/plain": [
       "1.0"
      ]
     },
     "execution_count": 112,
     "metadata": {},
     "output_type": "execute_result"
    }
   ],
   "source": [
    "np.sum(ert.feature_importances_)"
   ]
  },
  {
   "cell_type": "code",
   "execution_count": 113,
   "metadata": {},
   "outputs": [
    {
     "name": "stdout",
     "output_type": "stream",
     "text": [
      "Feature ranking:\n",
      " 1. feature 'popularity' (0.019068)\n",
      " 2. feature 'runtime' (0.015650)\n",
      " 3. feature 'g_Drama' (0.014514)\n",
      " 4. feature 'release_date' (0.013669)\n",
      " 5. feature 'revenue' (0.012910)\n",
      " 6. feature 'g_Comedy' (0.010203)\n",
      " 7. feature 'fv_15' (0.009047)\n",
      " 8. feature 'fv_49' (0.008891)\n",
      " 9. feature 'fv_26' (0.008860)\n",
      "10. feature ' fv_2' (0.008718)\n",
      "11. feature 'fv_27' (0.008712)\n",
      "12. feature ' fv_1' (0.008680)\n",
      "13. feature ' fv_3' (0.008675)\n",
      "14. feature 'fv_13' (0.008632)\n",
      "15. feature 'fv_35' (0.008619)\n",
      "16. feature 'fv_25' (0.008615)\n",
      "17. feature 'fv_41' (0.008612)\n",
      "18. feature 'fv_37' (0.008587)\n",
      "19. feature ' fv_5' (0.008576)\n",
      "20. feature 'fv_29' (0.008567)\n",
      "21. feature 'fv_32' (0.008563)\n",
      "22. feature 'fv_10' (0.008562)\n",
      "23. feature 'fv_39' (0.008554)\n",
      "24. feature ' fv_0' (0.008532)\n",
      "25. feature 'fv_33' (0.008501)\n",
      "26. feature 'fv_48' (0.008467)\n",
      "27. feature 'fv_38' (0.008465)\n",
      "28. feature 'fv_30' (0.008456)\n",
      "29. feature 'fv_45' (0.008437)\n",
      "30. feature 'fv_44' (0.008410)\n",
      "31. feature ' fv_6' (0.008374)\n",
      "32. feature 'fv_14' (0.008369)\n",
      "33. feature ' fv_9' (0.008349)\n",
      "34. feature 'fv_28' (0.008346)\n",
      "35. feature 'fv_12' (0.008345)\n",
      "36. feature 'fv_31' (0.008327)\n",
      "37. feature 'fv_19' (0.008316)\n",
      "38. feature 'fv_17' (0.008301)\n",
      "39. feature ' fv_4' (0.008297)\n",
      "40. feature 'fv_11' (0.008287)\n",
      "41. feature 'fv_24' (0.008285)\n",
      "42. feature ' fv_7' (0.008265)\n",
      "43. feature 'fv_40' (0.008239)\n",
      "44. feature 'fv_22' (0.008237)\n",
      "45. feature 'fv_36' (0.008229)\n",
      "46. feature 'fv_23' (0.008227)\n",
      "47. feature 'fv_21' (0.008193)\n",
      "48. feature 'fv_46' (0.008173)\n",
      "49. feature 'fv_43' (0.008155)\n",
      "50. feature 'fv_34' (0.008124)\n",
      "51. feature 'fv_47' (0.008117)\n",
      "52. feature 'fv_42' (0.008105)\n",
      "53. feature 'fv_16' (0.008099)\n",
      "54. feature 'fv_18' (0.008030)\n",
      "55. feature 'fv_20' (0.007991)\n",
      "56. feature 'pv_21' (0.007901)\n",
      "57. feature 'pv_22' (0.007846)\n",
      "58. feature ' fv_8' (0.007798)\n",
      "59. feature 'pv_17' (0.007751)\n",
      "60. feature 'pv_36' (0.007689)\n",
      "61. feature ' pv_2' (0.007653)\n",
      "62. feature 'pv_38' (0.007635)\n",
      "63. feature 'pv_13' (0.007577)\n",
      "64. feature 'pv_15' (0.007568)\n",
      "65. feature 'pv_18' (0.007551)\n",
      "66. feature 'pv_25' (0.007527)\n",
      "67. feature ' pv_8' (0.007498)\n",
      "68. feature 'pv_40' (0.007475)\n",
      "69. feature ' pv_9' (0.007455)\n",
      "70. feature ' pv_7' (0.007437)\n",
      "71. feature 'pv_11' (0.007436)\n",
      "72. feature 'pv_23' (0.007429)\n",
      "73. feature 'pv_45' (0.007413)\n",
      "74. feature 'pv_41' (0.007400)\n",
      "75. feature 'pv_39' (0.007370)\n",
      "76. feature 'pv_29' (0.007353)\n",
      "77. feature ' pv_6' (0.007339)\n",
      "78. feature ' pv_1' (0.007333)\n",
      "79. feature 'pv_28' (0.007324)\n",
      "80. feature 'pv_33' (0.007318)\n",
      "81. feature ' pv_4' (0.007316)\n",
      "82. feature 'pv_47' (0.007294)\n",
      "83. feature 'pv_46' (0.007293)\n",
      "84. feature ' pv_3' (0.007253)\n",
      "85. feature 'pv_10' (0.007232)\n",
      "86. feature 'pv_16' (0.007210)\n",
      "87. feature 'pv_43' (0.007208)\n",
      "88. feature 'pv_31' (0.007206)\n",
      "89. feature 'pv_44' (0.007196)\n",
      "90. feature ' pv_5' (0.007159)\n",
      "91. feature 'pv_32' (0.007149)\n",
      "92. feature 'pv_27' (0.007137)\n",
      "93. feature 'pv_30' (0.007136)\n",
      "94. feature 'pv_42' (0.007127)\n",
      "95. feature ' pv_0' (0.007076)\n",
      "96. feature 'pv_20' (0.007063)\n",
      "97. feature 'pv_37' (0.007054)\n",
      "98. feature 'pv_49' (0.006918)\n",
      "99. feature 'pv_26' (0.006876)\n",
      "100. feature 'pv_14' (0.006834)\n",
      "101. feature 'pv_48' (0.006801)\n",
      "102. feature 'pv_24' (0.006777)\n",
      "103. feature 'pv_34' (0.006745)\n",
      "104. feature 'pv_35' (0.006743)\n",
      "105. feature 'pv_19' (0.006695)\n",
      "106. feature 'pv_12' (0.006673)\n",
      "107. feature 'g_Thriller' (0.006386)\n",
      "108. feature ' c_US' (0.006157)\n",
      "109. feature 'g_Action' (0.005998)\n",
      "110. feature 'g_Horror' (0.005894)\n",
      "111. feature 'g_Romance' (0.004812)\n",
      "112. feature ' c_GB' (0.004601)\n",
      "113. feature 'g_Adventure' (0.004536)\n",
      "114. feature 'g_SciFi' (0.004214)\n",
      "115. feature 'g_Crime' (0.004154)\n",
      "116. feature ' l_en' (0.003838)\n",
      "117. feature 'g_Family' (0.003754)\n",
      "118. feature ' l_fr' (0.003650)\n",
      "119. feature 'g_Fantasy' (0.003529)\n",
      "120. feature ' l_es' (0.003263)\n",
      "121. feature 'g_Mystery' (0.003172)\n",
      "122. feature ' c_DE' (0.002993)\n",
      "123. feature 'g_Animation' (0.002974)\n",
      "124. feature ' c_CA' (0.002768)\n",
      "125. feature ' l_de' (0.002742)\n",
      "126. feature 'g_Documentary' (0.002678)\n",
      "127. feature 'g_Music' (0.002550)\n",
      "128. feature ' c_FR' (0.002547)\n",
      "129. feature 'g_History' (0.002287)\n",
      "130. feature ' l_it' (0.002091)\n",
      "131. feature 'g_War' (0.001833)\n",
      "132. feature ' l_ru' (0.001676)\n",
      "133. feature 'g_Western' (0.001587)\n",
      "134. feature ' c_AU' (0.001484)\n",
      "135. feature ' l_ja' (0.001389)\n",
      "136. feature ' l_zh' (0.001233)\n",
      "137. feature ' l_pt' (0.001166)\n",
      "138. feature ' c_ES' (0.001039)\n",
      "139. feature ' l_ar' (0.000995)\n",
      "140. feature ' c_IN' (0.000989)\n",
      "141. feature ' l_hi' (0.000931)\n",
      "142. feature ' c_JP' (0.000928)\n",
      "143. feature ' c_IT' (0.000857)\n",
      "144. feature ' l_la' (0.000851)\n",
      "145. feature ' l_cn' (0.000844)\n",
      "146. feature ' l_pl' (0.000801)\n",
      "147. feature ' l_hu' (0.000744)\n",
      "148. feature ' c_NZ' (0.000656)\n",
      "149. feature 'g_Foreign' (0.000640)\n",
      "150. feature ' c_HK' (0.000602)\n",
      "151. feature ' c_CN' (0.000591)\n",
      "152. feature ' l_sv' (0.000561)\n",
      "153. feature ' c_IE' (0.000537)\n",
      "154. feature ' l_th' (0.000521)\n",
      "155. feature ' c_ZA' (0.000510)\n",
      "156. feature ' l_yi' (0.000501)\n",
      "157. feature ' c_MX' (0.000489)\n",
      "158. feature ' c_LU' (0.000447)\n",
      "159. feature ' l_cs' (0.000442)\n",
      "160. feature ' l_vi' (0.000435)\n",
      "161. feature ' l_da' (0.000407)\n",
      "162. feature ' l_he' (0.000382)\n",
      "163. feature ' l_ko' (0.000378)\n",
      "164. feature ' g_TV' (0.000372)\n",
      "165. feature ' l_el' (0.000371)\n",
      "166. feature ' c_NO' (0.000352)\n",
      "167. feature ' c_DK' (0.000349)\n",
      "168. feature ' l_fa' (0.000346)\n",
      "169. feature ' c_BR' (0.000326)\n",
      "170. feature ' c_BE' (0.000321)\n",
      "171. feature ' c_CZ' (0.000319)\n",
      "172. feature ' c_AE' (0.000319)\n",
      "173. feature ' c_CH' (0.000312)\n",
      "174. feature ' c_RU' (0.000310)\n",
      "175. feature ' l_ur' (0.000304)\n",
      "176. feature ' c_HU' (0.000295)\n",
      "177. feature ' l_no' (0.000292)\n",
      "178. feature ' c_SE' (0.000280)\n",
      "179. feature ' c_KR' (0.000279)\n",
      "180. feature ' l_uk' (0.000272)\n",
      "181. feature ' l_ro' (0.000261)\n",
      "182. feature ' l_sw' (0.000244)\n",
      "183. feature ' l_tr' (0.000235)\n",
      "184. feature ' c_AT' (0.000225)\n",
      "185. feature ' l_ga' (0.000210)\n",
      "186. feature ' c_RO' (0.000151)\n",
      "187. feature ' c_NL' (0.000142)\n",
      "188. feature ' l_gd' (0.000139)\n",
      "189. feature ' c_GY' (0.000134)\n",
      "190. feature ' l_pa' (0.000132)\n",
      "191. feature ' l_nl' (0.000132)\n",
      "192. feature ' c_AR' (0.000129)\n",
      "193. feature ' l_so' (0.000127)\n",
      "194. feature ' c_TW' (0.000110)\n",
      "195. feature ' l_ta' (0.000103)\n",
      "196. feature ' l_id' (0.000095)\n",
      "197. feature ' c_IR' (0.000094)\n",
      "198. feature ' l_eo' (0.000091)\n",
      "199. feature ' c_EG' (0.000091)\n",
      "200. feature ' c_TH' (0.000080)\n",
      "201. feature ' l_ku' (0.000073)\n",
      "202. feature ' c_TR' (0.000071)\n",
      "203. feature ' l_ky' (0.000069)\n",
      "204. feature ' c_PL' (0.000068)\n",
      "205. feature ' c_MT' (0.000068)\n",
      "206. feature ' l_is' (0.000068)\n",
      "207. feature ' c_GP' (0.000067)\n",
      "208. feature ' l_hy' (0.000064)\n",
      "209. feature ' c_DO' (0.000062)\n",
      "210. feature ' c_CY' (0.000060)\n",
      "211. feature ' c_IL' (0.000060)\n",
      "212. feature ' l_sh' (0.000058)\n",
      "213. feature ' l_af' (0.000057)\n",
      "214. feature ' l_km' (0.000057)\n",
      "215. feature ' l_sa' (0.000056)\n",
      "216. feature ' l_ne' (0.000056)\n",
      "217. feature ' c_FJ' (0.000056)\n",
      "218. feature ' c_KG' (0.000055)\n",
      "219. feature ' c_PK' (0.000055)\n",
      "220. feature ' l_fi' (0.000055)\n",
      "221. feature ' c_KE' (0.000055)\n",
      "222. feature ' l_sr' (0.000052)\n",
      "223. feature ' c_IS' (0.000048)\n",
      "224. feature ' c_FI' (0.000046)\n",
      "225. feature ' l_bo' (0.000046)\n",
      "226. feature ' l_bg' (0.000046)\n",
      "227. feature ' l_sq' (0.000044)\n",
      "228. feature ' c_CO' (0.000044)\n",
      "229. feature ' c_CL' (0.000044)\n",
      "230. feature ' c_BS' (0.000044)\n",
      "231. feature ' c_BG' (0.000041)\n",
      "232. feature ' l_kk' (0.000040)\n",
      "233. feature ' l_ml' (0.000039)\n",
      "234. feature ' l_et' (0.000039)\n",
      "235. feature ' c_JM' (0.000039)\n",
      "236. feature ' c_ID' (0.000038)\n",
      "237. feature ' c_BA' (0.000037)\n",
      "238. feature ' l_bm' (0.000035)\n",
      "239. feature ' c_AW' (0.000035)\n",
      "240. feature ' c_MY' (0.000035)\n",
      "241. feature ' c_MA' (0.000034)\n",
      "242. feature ' l_si' (0.000034)\n",
      "243. feature ' l_te' (0.000034)\n",
      "244. feature ' l_xx' (0.000034)\n",
      "245. feature ' l_br' (0.000033)\n",
      "246. feature ' c_DZ' (0.000033)\n",
      "247. feature ' c_KZ' (0.000033)\n",
      "248. feature ' l_zu' (0.000032)\n",
      "249. feature ' c_UA' (0.000027)\n",
      "250. feature ' c_JO' (0.000027)\n",
      "251. feature ' l_mi' (0.000025)\n",
      "252. feature ' l_to' (0.000025)\n",
      "253. feature ' c_SK' (0.000025)\n",
      "254. feature ' l_am' (0.000023)\n",
      "255. feature ' c_EC' (0.000020)\n",
      "256. feature ' l_mn' (0.000019)\n",
      "257. feature ' c_TN' (0.000017)\n",
      "258. feature ' l_ka' (0.000016)\n",
      "259. feature ' c_SG' (0.000016)\n",
      "260. feature ' c_PE' (0.000015)\n",
      "261. feature ' c_PA' (0.000014)\n",
      "262. feature ' l_hr' (0.000013)\n",
      "263. feature ' c_BO' (0.000012)\n",
      "264. feature ' l_iu' (0.000012)\n",
      "265. feature ' c_GR' (0.000011)\n",
      "266. feature ' c_DM' (0.000011)\n",
      "267. feature ' l_tl' (0.000011)\n",
      "268. feature ' l_ps' (0.000010)\n",
      "269. feature ' l_bs' (0.000010)\n",
      "270. feature ' c_BT' (0.000009)\n",
      "271. feature ' l_co' (0.000009)\n",
      "272. feature ' l_xh' (0.000009)\n",
      "273. feature ' l_cy' (0.000009)\n",
      "274. feature ' c_AO' (0.000008)\n",
      "275. feature ' c_PH' (0.000008)\n",
      "276. feature ' c_LY' (0.000008)\n",
      "277. feature ' c_NG' (0.000007)\n",
      "278. feature ' l_ca' (0.000007)\n",
      "279. feature ' c_SI' (0.000007)\n",
      "280. feature ' c_AF' (0.000006)\n",
      "281. feature ' l_sl' (0.000006)\n",
      "282. feature ' l_wo' (0.000005)\n",
      "283. feature ' l_sk' (0.000005)\n",
      "284. feature ' l_ce' (0.000005)\n",
      "285. feature ' c_CS' (0.000005)\n",
      "286. feature ' c_PT' (0.000004)\n",
      "287. feature ' l_gl' (0.000004)\n",
      "288. feature ' l_dz' (0.000004)\n",
      "289. feature ' l_kw' (0.000003)\n",
      "290. feature ' l_ny' (0.000003)\n",
      "291. feature ' c_LB' (0.000003)\n",
      "292. feature ' l_nv' (0.000002)\n",
      "293. feature ' c_CM' (0.000000)\n",
      "294. feature ' c_KH' (0.000000)\n",
      "295. feature ' c_RS' (0.000000)\n",
      "296. feature ' l_st' (0.000000)\n",
      "297. feature ' l_bn' (0.000000)\n",
      "298. feature ' c_MC' (0.000000)\n",
      "299. feature ' c_LT' (0.000000)\n"
     ]
    }
   ],
   "source": [
    "importances = ert.feature_importances_\n",
    "indices = np.argsort(importances)[::-1]\n",
    "\n",
    "print(\"Feature ranking:\")\n",
    "\n",
    "for f in range(d):\n",
    "    print(\"%2d. feature '%5s' (%f)\" % (f + 1, feature_names[indices[f]], importances[indices[f]]))   "
   ]
  },
  {
   "cell_type": "markdown",
   "metadata": {},
   "source": [
    "Как мы видим, все векторные (pv, fv) и изначально численные признаки обладают высокой важностью относительно остальных. Этим же отличается и большая часть \"жанровых\" признаков (кроме Foreign)."
   ]
  },
  {
   "cell_type": "markdown",
   "metadata": {},
   "source": [
    "В то же время, можно заметить, что страна производства и языки фильма на рейтинг почти не влияют (за исключением некоторых крупных стран, вроде США, Британии и т.д., и языков, вроде японского, португальского, и китайского."
   ]
  },
  {
   "cell_type": "markdown",
   "metadata": {},
   "source": [
    "Исключим все признаки с важностью меньше 0.001: это и уберёт малозначительные фичи, и более, чем в два раза, уменьшит размерность."
   ]
  },
  {
   "cell_type": "code",
   "execution_count": 114,
   "metadata": {},
   "outputs": [],
   "source": [
    "toremove = [feature_names[indices[f]] for f in range(d) if importances[indices[f]] < 0.001]"
   ]
  },
  {
   "cell_type": "code",
   "execution_count": 115,
   "metadata": {},
   "outputs": [],
   "source": [
    "data = data.drop(toremove, axis = 1)"
   ]
  },
  {
   "cell_type": "code",
   "execution_count": 116,
   "metadata": {},
   "outputs": [
    {
     "data": {
      "text/html": [
       "<div>\n",
       "<style scoped>\n",
       "    .dataframe tbody tr th:only-of-type {\n",
       "        vertical-align: middle;\n",
       "    }\n",
       "\n",
       "    .dataframe tbody tr th {\n",
       "        vertical-align: top;\n",
       "    }\n",
       "\n",
       "    .dataframe thead th {\n",
       "        text-align: right;\n",
       "    }\n",
       "</style>\n",
       "<table border=\"1\" class=\"dataframe\">\n",
       "  <thead>\n",
       "    <tr style=\"text-align: right;\">\n",
       "      <th></th>\n",
       "      <th>popularity</th>\n",
       "      <th>revenue</th>\n",
       "      <th>release_date</th>\n",
       "      <th>runtime</th>\n",
       "      <th>pv_0</th>\n",
       "      <th>pv_1</th>\n",
       "      <th>pv_2</th>\n",
       "      <th>pv_3</th>\n",
       "      <th>pv_4</th>\n",
       "      <th>pv_5</th>\n",
       "      <th>...</th>\n",
       "      <th>c_US</th>\n",
       "      <th>l_de</th>\n",
       "      <th>l_en</th>\n",
       "      <th>l_es</th>\n",
       "      <th>l_fr</th>\n",
       "      <th>l_it</th>\n",
       "      <th>l_ja</th>\n",
       "      <th>l_pt</th>\n",
       "      <th>l_ru</th>\n",
       "      <th>l_zh</th>\n",
       "    </tr>\n",
       "  </thead>\n",
       "  <tbody>\n",
       "    <tr>\n",
       "      <td>count</td>\n",
       "      <td>4801.000000</td>\n",
       "      <td>4801.000000</td>\n",
       "      <td>4801.000000</td>\n",
       "      <td>4801.000000</td>\n",
       "      <td>4801.000000</td>\n",
       "      <td>4801.000000</td>\n",
       "      <td>4801.000000</td>\n",
       "      <td>4801.000000</td>\n",
       "      <td>4801.000000</td>\n",
       "      <td>4801.000000</td>\n",
       "      <td>...</td>\n",
       "      <td>4801.000000</td>\n",
       "      <td>4801.000000</td>\n",
       "      <td>4801.000000</td>\n",
       "      <td>4801.000000</td>\n",
       "      <td>4801.000000</td>\n",
       "      <td>4801.000000</td>\n",
       "      <td>4801.000000</td>\n",
       "      <td>4801.000000</td>\n",
       "      <td>4801.000000</td>\n",
       "      <td>4801.000000</td>\n",
       "    </tr>\n",
       "    <tr>\n",
       "      <td>mean</td>\n",
       "      <td>0.000128</td>\n",
       "      <td>0.000105</td>\n",
       "      <td>-0.000044</td>\n",
       "      <td>0.000156</td>\n",
       "      <td>-0.024358</td>\n",
       "      <td>-0.006673</td>\n",
       "      <td>0.010637</td>\n",
       "      <td>-0.010879</td>\n",
       "      <td>0.007123</td>\n",
       "      <td>0.007081</td>\n",
       "      <td>...</td>\n",
       "      <td>0.823787</td>\n",
       "      <td>0.054572</td>\n",
       "      <td>0.933972</td>\n",
       "      <td>0.073110</td>\n",
       "      <td>0.091023</td>\n",
       "      <td>0.039159</td>\n",
       "      <td>0.020204</td>\n",
       "      <td>0.014164</td>\n",
       "      <td>0.038534</td>\n",
       "      <td>0.022287</td>\n",
       "    </tr>\n",
       "    <tr>\n",
       "      <td>std</td>\n",
       "      <td>1.000065</td>\n",
       "      <td>1.000078</td>\n",
       "      <td>1.000100</td>\n",
       "      <td>1.000046</td>\n",
       "      <td>0.029114</td>\n",
       "      <td>0.013377</td>\n",
       "      <td>0.017039</td>\n",
       "      <td>0.016037</td>\n",
       "      <td>0.013719</td>\n",
       "      <td>0.017513</td>\n",
       "      <td>...</td>\n",
       "      <td>0.381041</td>\n",
       "      <td>0.227166</td>\n",
       "      <td>0.248357</td>\n",
       "      <td>0.260344</td>\n",
       "      <td>0.287671</td>\n",
       "      <td>0.193992</td>\n",
       "      <td>0.140713</td>\n",
       "      <td>0.118178</td>\n",
       "      <td>0.192501</td>\n",
       "      <td>0.147631</td>\n",
       "    </tr>\n",
       "    <tr>\n",
       "      <td>min</td>\n",
       "      <td>-0.675596</td>\n",
       "      <td>-0.505175</td>\n",
       "      <td>-6.960785</td>\n",
       "      <td>-4.738943</td>\n",
       "      <td>-0.209876</td>\n",
       "      <td>-0.088334</td>\n",
       "      <td>-0.092264</td>\n",
       "      <td>-0.154703</td>\n",
       "      <td>-0.149787</td>\n",
       "      <td>-0.138311</td>\n",
       "      <td>...</td>\n",
       "      <td>0.000000</td>\n",
       "      <td>0.000000</td>\n",
       "      <td>0.000000</td>\n",
       "      <td>0.000000</td>\n",
       "      <td>0.000000</td>\n",
       "      <td>0.000000</td>\n",
       "      <td>0.000000</td>\n",
       "      <td>0.000000</td>\n",
       "      <td>0.000000</td>\n",
       "      <td>0.000000</td>\n",
       "    </tr>\n",
       "    <tr>\n",
       "      <td>25%</td>\n",
       "      <td>-0.528516</td>\n",
       "      <td>-0.505175</td>\n",
       "      <td>-0.278866</td>\n",
       "      <td>-0.571729</td>\n",
       "      <td>-0.038320</td>\n",
       "      <td>-0.014245</td>\n",
       "      <td>0.002055</td>\n",
       "      <td>-0.019705</td>\n",
       "      <td>-0.001275</td>\n",
       "      <td>0.000042</td>\n",
       "      <td>...</td>\n",
       "      <td>1.000000</td>\n",
       "      <td>0.000000</td>\n",
       "      <td>1.000000</td>\n",
       "      <td>0.000000</td>\n",
       "      <td>0.000000</td>\n",
       "      <td>0.000000</td>\n",
       "      <td>0.000000</td>\n",
       "      <td>0.000000</td>\n",
       "      <td>0.000000</td>\n",
       "      <td>0.000000</td>\n",
       "    </tr>\n",
       "    <tr>\n",
       "      <td>50%</td>\n",
       "      <td>-0.269294</td>\n",
       "      <td>-0.387413</td>\n",
       "      <td>0.223443</td>\n",
       "      <td>-0.172740</td>\n",
       "      <td>-0.023899</td>\n",
       "      <td>-0.006293</td>\n",
       "      <td>0.009843</td>\n",
       "      <td>-0.010623</td>\n",
       "      <td>0.007511</td>\n",
       "      <td>0.007003</td>\n",
       "      <td>...</td>\n",
       "      <td>1.000000</td>\n",
       "      <td>0.000000</td>\n",
       "      <td>1.000000</td>\n",
       "      <td>0.000000</td>\n",
       "      <td>0.000000</td>\n",
       "      <td>0.000000</td>\n",
       "      <td>0.000000</td>\n",
       "      <td>0.000000</td>\n",
       "      <td>0.000000</td>\n",
       "      <td>0.000000</td>\n",
       "    </tr>\n",
       "    <tr>\n",
       "      <td>75%</td>\n",
       "      <td>0.215402</td>\n",
       "      <td>0.065349</td>\n",
       "      <td>0.656211</td>\n",
       "      <td>0.492241</td>\n",
       "      <td>-0.008136</td>\n",
       "      <td>0.002283</td>\n",
       "      <td>0.020011</td>\n",
       "      <td>-0.001419</td>\n",
       "      <td>0.014983</td>\n",
       "      <td>0.016573</td>\n",
       "      <td>...</td>\n",
       "      <td>1.000000</td>\n",
       "      <td>0.000000</td>\n",
       "      <td>1.000000</td>\n",
       "      <td>0.000000</td>\n",
       "      <td>0.000000</td>\n",
       "      <td>0.000000</td>\n",
       "      <td>0.000000</td>\n",
       "      <td>0.000000</td>\n",
       "      <td>0.000000</td>\n",
       "      <td>0.000000</td>\n",
       "    </tr>\n",
       "    <tr>\n",
       "      <td>max</td>\n",
       "      <td>26.842430</td>\n",
       "      <td>16.612585</td>\n",
       "      <td>1.137325</td>\n",
       "      <td>10.245297</td>\n",
       "      <td>0.244795</td>\n",
       "      <td>0.101002</td>\n",
       "      <td>0.114091</td>\n",
       "      <td>0.120499</td>\n",
       "      <td>0.071285</td>\n",
       "      <td>0.112554</td>\n",
       "      <td>...</td>\n",
       "      <td>1.000000</td>\n",
       "      <td>1.000000</td>\n",
       "      <td>1.000000</td>\n",
       "      <td>1.000000</td>\n",
       "      <td>1.000000</td>\n",
       "      <td>1.000000</td>\n",
       "      <td>1.000000</td>\n",
       "      <td>1.000000</td>\n",
       "      <td>1.000000</td>\n",
       "      <td>1.000000</td>\n",
       "    </tr>\n",
       "  </tbody>\n",
       "</table>\n",
       "<p>8 rows × 138 columns</p>\n",
       "</div>"
      ],
      "text/plain": [
       "        popularity      revenue  release_date      runtime         pv_0  \\\n",
       "count  4801.000000  4801.000000   4801.000000  4801.000000  4801.000000   \n",
       "mean      0.000128     0.000105     -0.000044     0.000156    -0.024358   \n",
       "std       1.000065     1.000078      1.000100     1.000046     0.029114   \n",
       "min      -0.675596    -0.505175     -6.960785    -4.738943    -0.209876   \n",
       "25%      -0.528516    -0.505175     -0.278866    -0.571729    -0.038320   \n",
       "50%      -0.269294    -0.387413      0.223443    -0.172740    -0.023899   \n",
       "75%       0.215402     0.065349      0.656211     0.492241    -0.008136   \n",
       "max      26.842430    16.612585      1.137325    10.245297     0.244795   \n",
       "\n",
       "              pv_1         pv_2         pv_3         pv_4         pv_5  ...  \\\n",
       "count  4801.000000  4801.000000  4801.000000  4801.000000  4801.000000  ...   \n",
       "mean     -0.006673     0.010637    -0.010879     0.007123     0.007081  ...   \n",
       "std       0.013377     0.017039     0.016037     0.013719     0.017513  ...   \n",
       "min      -0.088334    -0.092264    -0.154703    -0.149787    -0.138311  ...   \n",
       "25%      -0.014245     0.002055    -0.019705    -0.001275     0.000042  ...   \n",
       "50%      -0.006293     0.009843    -0.010623     0.007511     0.007003  ...   \n",
       "75%       0.002283     0.020011    -0.001419     0.014983     0.016573  ...   \n",
       "max       0.101002     0.114091     0.120499     0.071285     0.112554  ...   \n",
       "\n",
       "              c_US         l_de         l_en         l_es         l_fr  \\\n",
       "count  4801.000000  4801.000000  4801.000000  4801.000000  4801.000000   \n",
       "mean      0.823787     0.054572     0.933972     0.073110     0.091023   \n",
       "std       0.381041     0.227166     0.248357     0.260344     0.287671   \n",
       "min       0.000000     0.000000     0.000000     0.000000     0.000000   \n",
       "25%       1.000000     0.000000     1.000000     0.000000     0.000000   \n",
       "50%       1.000000     0.000000     1.000000     0.000000     0.000000   \n",
       "75%       1.000000     0.000000     1.000000     0.000000     0.000000   \n",
       "max       1.000000     1.000000     1.000000     1.000000     1.000000   \n",
       "\n",
       "              l_it         l_ja         l_pt         l_ru         l_zh  \n",
       "count  4801.000000  4801.000000  4801.000000  4801.000000  4801.000000  \n",
       "mean      0.039159     0.020204     0.014164     0.038534     0.022287  \n",
       "std       0.193992     0.140713     0.118178     0.192501     0.147631  \n",
       "min       0.000000     0.000000     0.000000     0.000000     0.000000  \n",
       "25%       0.000000     0.000000     0.000000     0.000000     0.000000  \n",
       "50%       0.000000     0.000000     0.000000     0.000000     0.000000  \n",
       "75%       0.000000     0.000000     0.000000     0.000000     0.000000  \n",
       "max       1.000000     1.000000     1.000000     1.000000     1.000000  \n",
       "\n",
       "[8 rows x 138 columns]"
      ]
     },
     "execution_count": 116,
     "metadata": {},
     "output_type": "execute_result"
    }
   ],
   "source": [
    "data.describe()"
   ]
  },
  {
   "cell_type": "markdown",
   "metadata": {},
   "source": [
    "## Попробуем с новыми значениями!"
   ]
  },
  {
   "cell_type": "code",
   "execution_count": 117,
   "metadata": {},
   "outputs": [],
   "source": [
    "X = data.drop('vote_average', axis = 1) # выбрасываем столбец 'class'\n",
    "feature_names = X.columns"
   ]
  },
  {
   "cell_type": "code",
   "execution_count": 118,
   "metadata": {},
   "outputs": [],
   "source": [
    "X = X.to_numpy()"
   ]
  },
  {
   "cell_type": "code",
   "execution_count": 119,
   "metadata": {},
   "outputs": [
    {
     "name": "stdout",
     "output_type": "stream",
     "text": [
      "4320 481\n"
     ]
    }
   ],
   "source": [
    "X_train, X_test, y_train, y_test = train_test_split(X, y, test_size = 0.1, random_state = 666)\n",
    "\n",
    "N_train, _ = X_train.shape \n",
    "N_test,  _ = X_test.shape \n",
    "\n",
    "print(N_train, N_test)\n",
    "\n",
    "N, d = X.shape"
   ]
  },
  {
   "cell_type": "code",
   "execution_count": 120,
   "metadata": {},
   "outputs": [],
   "source": [
    "y_train_full = lb.inverse_transform(y_train)\n",
    "y_test_full = lb.inverse_transform(y_test)"
   ]
  },
  {
   "cell_type": "markdown",
   "metadata": {},
   "source": [
    "## Bayes"
   ]
  },
  {
   "cell_type": "code",
   "execution_count": 121,
   "metadata": {},
   "outputs": [
    {
     "name": "stdout",
     "output_type": "stream",
     "text": [
      "0.5423611111111111 0.5363825363825364\n"
     ]
    }
   ],
   "source": [
    "clf = BernoulliNB()\n",
    "clf.fit(X_train, y_train_full)\n",
    "\n",
    "err_train = np.mean(y_train_full != clf.predict(X_train))\n",
    "err_test  = np.mean(y_test_full  != clf.predict(X_test))\n",
    "\n",
    "print(err_train, err_test)"
   ]
  },
  {
   "cell_type": "code",
   "execution_count": 122,
   "metadata": {},
   "outputs": [
    {
     "name": "stdout",
     "output_type": "stream",
     "text": [
      "              precision    recall  f1-score   support\n",
      "\n",
      "           5       0.45      0.21      0.28        63\n",
      "           6       0.52      0.65      0.58       207\n",
      "           7       0.47      0.45      0.46       125\n",
      "         <=4       0.19      0.23      0.21        47\n",
      "         >=8       0.56      0.23      0.33        39\n",
      "\n",
      "    accuracy                           0.46       481\n",
      "   macro avg       0.44      0.35      0.37       481\n",
      "weighted avg       0.47      0.46      0.45       481\n",
      "\n"
     ]
    }
   ],
   "source": [
    "print(classification_report(y_test_full, clf.predict(X_test)))"
   ]
  },
  {
   "cell_type": "markdown",
   "metadata": {},
   "source": [
    "## K-NN"
   ]
  },
  {
   "cell_type": "code",
   "execution_count": 123,
   "metadata": {},
   "outputs": [
    {
     "data": {
      "text/plain": [
       "KNeighborsClassifier(algorithm='auto', leaf_size=30, metric='minkowski',\n",
       "                     metric_params=None, n_jobs=None, n_neighbors=1, p=2,\n",
       "                     weights='uniform')"
      ]
     },
     "execution_count": 123,
     "metadata": {},
     "output_type": "execute_result"
    }
   ],
   "source": [
    "knn = KNeighborsClassifier(n_neighbors = 1)\n",
    "\n",
    "knn.fit(X_train, y_train)"
   ]
  },
  {
   "cell_type": "code",
   "execution_count": 124,
   "metadata": {},
   "outputs": [
    {
     "data": {
      "text/plain": [
       "0.2261954261954262"
      ]
     },
     "execution_count": 124,
     "metadata": {},
     "output_type": "execute_result"
    }
   ],
   "source": [
    "y_test_predict = knn.predict(X_test)\n",
    "err_test  = np.mean(y_test != y_test_predict)\n",
    "\n",
    "err_test"
   ]
  },
  {
   "cell_type": "code",
   "execution_count": 125,
   "metadata": {},
   "outputs": [
    {
     "name": "stdout",
     "output_type": "stream",
     "text": [
      "              precision    recall  f1-score   support\n",
      "\n",
      "           0       0.27      0.35      0.31        63\n",
      "           1       0.51      0.54      0.53       207\n",
      "           2       0.42      0.45      0.43       125\n",
      "           3       0.47      0.19      0.27        47\n",
      "           4       0.36      0.26      0.30        39\n",
      "\n",
      "   micro avg       0.43      0.43      0.43       481\n",
      "   macro avg       0.41      0.36      0.37       481\n",
      "weighted avg       0.44      0.43      0.43       481\n",
      " samples avg       0.43      0.43      0.43       481\n",
      "\n"
     ]
    }
   ],
   "source": [
    "print(classification_report(y_test, y_test_predict))"
   ]
  },
  {
   "cell_type": "markdown",
   "metadata": {},
   "source": [
    "## Neural Network"
   ]
  },
  {
   "cell_type": "code",
   "execution_count": 126,
   "metadata": {},
   "outputs": [],
   "source": [
    "from sklearn.neural_network import MLPClassifier"
   ]
  },
  {
   "cell_type": "code",
   "execution_count": 127,
   "metadata": {},
   "outputs": [
    {
     "name": "stderr",
     "output_type": "stream",
     "text": [
      "/home/knikolaev/.local/lib/python3.6/site-packages/sklearn/neural_network/multilayer_perceptron.py:566: ConvergenceWarning: Stochastic Optimizer: Maximum iterations (1000) reached and the optimization hasn't converged yet.\n",
      "  % self.max_iter, ConvergenceWarning)\n"
     ]
    },
    {
     "data": {
      "text/plain": [
       "MLPClassifier(activation='relu', alpha=0.0001, batch_size='auto', beta_1=0.9,\n",
       "              beta_2=0.999, early_stopping=False, epsilon=1e-08,\n",
       "              hidden_layer_sizes=(100,), learning_rate='constant',\n",
       "              learning_rate_init=0.001, max_iter=1000, momentum=0.9,\n",
       "              n_iter_no_change=10, nesterovs_momentum=True, power_t=0.5,\n",
       "              random_state=None, shuffle=True, solver='adam', tol=0.0001,\n",
       "              validation_fraction=0.1, verbose=False, warm_start=False)"
      ]
     },
     "execution_count": 127,
     "metadata": {},
     "output_type": "execute_result"
    }
   ],
   "source": [
    "nn = MLPClassifier(max_iter = 1000)\n",
    "\n",
    "nn.fit(X_train, y_train)"
   ]
  },
  {
   "cell_type": "code",
   "execution_count": 128,
   "metadata": {},
   "outputs": [
    {
     "name": "stdout",
     "output_type": "stream",
     "text": [
      "4.6296296296296294e-05 0.2336798336798337\n"
     ]
    }
   ],
   "source": [
    "err_train = np.mean(y_train != nn.predict(X_train))\n",
    "err_test  = np.mean(y_test  != nn.predict(X_test))\n",
    "\n",
    "print(err_train, err_test)"
   ]
  },
  {
   "cell_type": "code",
   "execution_count": 129,
   "metadata": {},
   "outputs": [
    {
     "name": "stdout",
     "output_type": "stream",
     "text": [
      "              precision    recall  f1-score   support\n",
      "\n",
      "           0       0.20      0.19      0.20        63\n",
      "           1       0.49      0.46      0.47       207\n",
      "           2       0.38      0.47      0.42       125\n",
      "           3       0.54      0.28      0.37        47\n",
      "           4       0.42      0.41      0.42        39\n",
      "\n",
      "   micro avg       0.41      0.41      0.41       481\n",
      "   macro avg       0.41      0.36      0.37       481\n",
      "weighted avg       0.42      0.41      0.41       481\n",
      " samples avg       0.35      0.41      0.37       481\n",
      "\n"
     ]
    },
    {
     "name": "stderr",
     "output_type": "stream",
     "text": [
      "/home/knikolaev/.local/lib/python3.6/site-packages/sklearn/metrics/classification.py:1437: UndefinedMetricWarning: Precision and F-score are ill-defined and being set to 0.0 in samples with no predicted labels.\n",
      "  'precision', 'predicted', average, warn_for)\n"
     ]
    }
   ],
   "source": [
    "print(classification_report(y_test, nn.predict(X_test)))"
   ]
  },
  {
   "cell_type": "markdown",
   "metadata": {},
   "source": [
    "## Random Forest Classifier"
   ]
  },
  {
   "cell_type": "code",
   "execution_count": 130,
   "metadata": {},
   "outputs": [
    {
     "name": "stdout",
     "output_type": "stream",
     "text": [
      "0.0 0.19584199584199585\n"
     ]
    }
   ],
   "source": [
    "from sklearn import ensemble\n",
    "rf = ensemble.RandomForestClassifier(n_estimators = 1000)\n",
    "rf.fit(X_train, y_train)\n",
    "\n",
    "err_train = np.mean(y_train != rf.predict(X_train))\n",
    "err_test  = np.mean(y_test  != rf.predict(X_test))\n",
    "\n",
    "print(err_train, err_test)"
   ]
  },
  {
   "cell_type": "code",
   "execution_count": 131,
   "metadata": {},
   "outputs": [
    {
     "name": "stdout",
     "output_type": "stream",
     "text": [
      "              precision    recall  f1-score   support\n",
      "\n",
      "           0       0.00      0.00      0.00        63\n",
      "           1       0.56      0.21      0.30       207\n",
      "           2       0.56      0.04      0.07       125\n",
      "           3       0.00      0.00      0.00        47\n",
      "           4       0.00      0.00      0.00        39\n",
      "\n",
      "   micro avg       0.56      0.10      0.17       481\n",
      "   macro avg       0.22      0.05      0.08       481\n",
      "weighted avg       0.38      0.10      0.15       481\n",
      " samples avg       0.10      0.10      0.10       481\n",
      "\n"
     ]
    },
    {
     "name": "stderr",
     "output_type": "stream",
     "text": [
      "/home/knikolaev/.local/lib/python3.6/site-packages/sklearn/metrics/classification.py:1437: UndefinedMetricWarning: Precision and F-score are ill-defined and being set to 0.0 in labels with no predicted samples.\n",
      "  'precision', 'predicted', average, warn_for)\n",
      "/home/knikolaev/.local/lib/python3.6/site-packages/sklearn/metrics/classification.py:1437: UndefinedMetricWarning: Precision and F-score are ill-defined and being set to 0.0 in samples with no predicted labels.\n",
      "  'precision', 'predicted', average, warn_for)\n"
     ]
    }
   ],
   "source": [
    "print(classification_report(y_test, rf.predict(X_test)))"
   ]
  },
  {
   "cell_type": "markdown",
   "metadata": {},
   "source": [
    "## ADA"
   ]
  },
  {
   "cell_type": "code",
   "execution_count": 132,
   "metadata": {},
   "outputs": [
    {
     "name": "stdout",
     "output_type": "stream",
     "text": [
      "0.5388888888888889 0.5821205821205822\n"
     ]
    }
   ],
   "source": [
    "ada = ensemble.AdaBoostClassifier(n_estimators = 1000)\n",
    "ada.fit(X_train, y_train_full)\n",
    "\n",
    "err_train = np.mean(y_train_full != ada.predict(X_train))\n",
    "err_test = np.mean(y_test_full != ada.predict(X_test))\n",
    "\n",
    "print(err_train, err_test)"
   ]
  },
  {
   "cell_type": "code",
   "execution_count": 133,
   "metadata": {},
   "outputs": [
    {
     "name": "stdout",
     "output_type": "stream",
     "text": [
      "              precision    recall  f1-score   support\n",
      "\n",
      "           5       0.32      0.33      0.33        63\n",
      "           6       0.57      0.44      0.50       207\n",
      "           7       0.35      0.43      0.38       125\n",
      "         <=4       0.42      0.40      0.41        47\n",
      "         >=8       0.29      0.41      0.34        39\n",
      "\n",
      "    accuracy                           0.42       481\n",
      "   macro avg       0.39      0.40      0.39       481\n",
      "weighted avg       0.44      0.42      0.42       481\n",
      "\n"
     ]
    }
   ],
   "source": [
    "print(classification_report(y_test_full, ada.predict(X_test)))"
   ]
  },
  {
   "cell_type": "markdown",
   "metadata": {},
   "source": [
    "## Logistic Regression"
   ]
  },
  {
   "cell_type": "code",
   "execution_count": 134,
   "metadata": {},
   "outputs": [],
   "source": [
    "from sklearn.linear_model import LogisticRegression"
   ]
  },
  {
   "cell_type": "code",
   "execution_count": 135,
   "metadata": {},
   "outputs": [
    {
     "name": "stderr",
     "output_type": "stream",
     "text": [
      "/home/knikolaev/.local/lib/python3.6/site-packages/sklearn/linear_model/logistic.py:432: FutureWarning: Default solver will be changed to 'lbfgs' in 0.22. Specify a solver to silence this warning.\n",
      "  FutureWarning)\n",
      "/home/knikolaev/.local/lib/python3.6/site-packages/sklearn/linear_model/logistic.py:469: FutureWarning: Default multi_class will be changed to 'auto' in 0.22. Specify the multi_class option to silence this warning.\n",
      "  \"this warning.\", FutureWarning)\n"
     ]
    },
    {
     "name": "stdout",
     "output_type": "stream",
     "text": [
      "0.4668981481481482 0.501039501039501\n"
     ]
    }
   ],
   "source": [
    "clf = LogisticRegression(random_state = 0)\n",
    "\n",
    "# Train model\n",
    "model = clf.fit(X_train, y_train_full)\n",
    "\n",
    "err_train = np.mean(y_train_full != clf.predict(X_train))\n",
    "err_test = np.mean(y_test_full != clf.predict(X_test))\n",
    "\n",
    "print(err_train, err_test)"
   ]
  },
  {
   "cell_type": "code",
   "execution_count": 136,
   "metadata": {},
   "outputs": [
    {
     "name": "stdout",
     "output_type": "stream",
     "text": [
      "              precision    recall  f1-score   support\n",
      "\n",
      "           5       0.22      0.03      0.06        63\n",
      "           6       0.52      0.79      0.62       207\n",
      "           7       0.45      0.48      0.46       125\n",
      "         <=4       0.64      0.15      0.24        47\n",
      "         >=8       0.78      0.18      0.29        39\n",
      "\n",
      "    accuracy                           0.50       481\n",
      "   macro avg       0.52      0.33      0.34       481\n",
      "weighted avg       0.49      0.50      0.44       481\n",
      "\n"
     ]
    }
   ],
   "source": [
    "print(classification_report(y_test_full, clf.predict(X_test)))"
   ]
  },
  {
   "cell_type": "markdown",
   "metadata": {},
   "source": [
    "По алгоритмам, которые мы использовали ранее, показатели выросли, но незначительно. Прежде, чем радикально уменьшать количество признаков, можно что-то сделать с весами классов."
   ]
  },
  {
   "cell_type": "markdown",
   "metadata": {},
   "source": [
    "Логистическая регрессия имеет соответствующий параметр по умолчанию."
   ]
  },
  {
   "cell_type": "code",
   "execution_count": 137,
   "metadata": {},
   "outputs": [
    {
     "name": "stderr",
     "output_type": "stream",
     "text": [
      "/home/knikolaev/.local/lib/python3.6/site-packages/sklearn/linear_model/logistic.py:432: FutureWarning: Default solver will be changed to 'lbfgs' in 0.22. Specify a solver to silence this warning.\n",
      "  FutureWarning)\n",
      "/home/knikolaev/.local/lib/python3.6/site-packages/sklearn/linear_model/logistic.py:469: FutureWarning: Default multi_class will be changed to 'auto' in 0.22. Specify the multi_class option to silence this warning.\n",
      "  \"this warning.\", FutureWarning)\n"
     ]
    },
    {
     "name": "stdout",
     "output_type": "stream",
     "text": [
      "0.47847222222222224 0.4760914760914761\n"
     ]
    }
   ],
   "source": [
    "clf = LogisticRegression(random_state=0, class_weight='balanced')\n",
    "\n",
    "# Train model\n",
    "model = clf.fit(X_train, y_train_full)\n",
    "\n",
    "err_train = np.mean(y_train_full != clf.predict(X_train))\n",
    "err_test = np.mean(y_test_full != clf.predict(X_test))\n",
    "\n",
    "print(err_train, err_test)"
   ]
  },
  {
   "cell_type": "code",
   "execution_count": 138,
   "metadata": {},
   "outputs": [
    {
     "name": "stdout",
     "output_type": "stream",
     "text": [
      "              precision    recall  f1-score   support\n",
      "\n",
      "           5       0.33      0.27      0.30        63\n",
      "           6       0.64      0.59      0.61       207\n",
      "           7       0.53      0.50      0.52       125\n",
      "         <=4       0.42      0.53      0.47        47\n",
      "         >=8       0.42      0.64      0.51        39\n",
      "\n",
      "    accuracy                           0.52       481\n",
      "   macro avg       0.47      0.51      0.48       481\n",
      "weighted avg       0.53      0.52      0.52       481\n",
      "\n"
     ]
    }
   ],
   "source": [
    "print(classification_report(y_test_full, clf.predict(X_test)))"
   ]
  },
  {
   "cell_type": "markdown",
   "metadata": {},
   "source": [
    "Мы видим, что точность действительно выросла."
   ]
  },
  {
   "cell_type": "markdown",
   "metadata": {},
   "source": [
    "Также можно получить веса классов инструментами sklearn и использовать их в дальнейшем как параметр при обучении, например, keras / torch / tf модели (и это то, как бы я поступил в реальных условиях)"
   ]
  },
  {
   "cell_type": "code",
   "execution_count": 139,
   "metadata": {},
   "outputs": [
    {
     "data": {
      "text/plain": [
       "array([1.4025974 , 0.46327078, 0.68085106, 3.17647059, 2.89932886])"
      ]
     },
     "execution_count": 139,
     "metadata": {},
     "output_type": "execute_result"
    }
   ],
   "source": [
    "from sklearn.utils import class_weight\n",
    "\n",
    "weights = class_weight.compute_class_weight('balanced', np.unique(y_train_full), y_train_full)\n",
    "\n",
    "weights # можно подавать как параметр в keras: model.fit(X_train, Y_train, class_weight=class_weight)"
   ]
  },
  {
   "cell_type": "markdown",
   "metadata": {},
   "source": [
    "Тем не менее, в рамках данной работы ограничиваемся инструментами Sklearn."
   ]
  },
  {
   "cell_type": "markdown",
   "metadata": {},
   "source": [
    "Ещё один способ побороться с несбалансированными классами - over/undersampling. Для удобной работы с over/undersampling, а также алгоритмами вроде ADASYN и SMOTE, есть хорошая библиотечка imblearn. К сожалению, она мгновенно убивает kernel моего jupyter'а при попытке её импортировать."
   ]
  },
  {
   "cell_type": "markdown",
   "metadata": {},
   "source": [
    "В Oversampling данной задачи мы не можем вносить отклонение в данные, потому что для эмбеддингов при случайных отклонениях это может не иметь смысла / внести данным совершенно другой смысл; нужно вообще генерировать другой текст, например, из синонимов, и репрезентировать заново. Обойдёмся простым дублированием случайных значений. (до класса \"6\")"
   ]
  },
  {
   "cell_type": "markdown",
   "metadata": {},
   "source": [
    "Для Undersampling же просто сократим объём всех классов до самого маленького (<=4; for the sake of simplicity будем работать только с X_train / y_train_full, и тестить на том же алгоритме с тем же random state)."
   ]
  },
  {
   "cell_type": "markdown",
   "metadata": {},
   "source": [
    "Дополнительно ещё попробуем привести все классы к средней длине на класс и посмотрим, как это повлияет."
   ]
  },
  {
   "cell_type": "code",
   "execution_count": 140,
   "metadata": {},
   "outputs": [
    {
     "data": {
      "text/plain": [
       "{'5', '6', '7', '<=4', '>=8'}"
      ]
     },
     "execution_count": 140,
     "metadata": {},
     "output_type": "execute_result"
    }
   ],
   "source": [
    "set(y_train_full)"
   ]
  },
  {
   "cell_type": "code",
   "execution_count": 141,
   "metadata": {},
   "outputs": [],
   "source": [
    "less4 = [a for a in range(len(y_train_full)) if y_train_full[a] == '<=4']\n",
    "five = [a for a in range(len(y_train_full)) if y_train_full[a] == '5']\n",
    "six = [a for a in range(len(y_train_full)) if y_train_full[a] == '6']\n",
    "seven = [a for a in range(len(y_train_full)) if y_train_full[a] == '7']\n",
    "great8 = [a for a in range(len(y_train_full)) if y_train_full[a] == '>=8']"
   ]
  },
  {
   "cell_type": "code",
   "execution_count": 142,
   "metadata": {},
   "outputs": [],
   "source": [
    "min_len = min([len(less4), len(five), len(six), len(seven), len(great8)])\n",
    "max_len = max([len(less4), len(five), len(six), len(seven), len(great8)])\n",
    "avg_len = int(sum([len(less4), len(five), len(six), len(seven), len(great8)]) / 5) # средняя длина класса"
   ]
  },
  {
   "cell_type": "code",
   "execution_count": 143,
   "metadata": {},
   "outputs": [
    {
     "data": {
      "text/plain": [
       "(272, 1865, 864)"
      ]
     },
     "execution_count": 143,
     "metadata": {},
     "output_type": "execute_result"
    }
   ],
   "source": [
    "min_len, max_len, avg_len"
   ]
  },
  {
   "cell_type": "markdown",
   "metadata": {},
   "source": [
    "Напишем простую функцию для приведения списка к какой-то длине: если нужно расширить, она расширяет, если нужно сузить, она сужает."
   ]
  },
  {
   "cell_type": "code",
   "execution_count": 144,
   "metadata": {},
   "outputs": [],
   "source": [
    "import random"
   ]
  },
  {
   "cell_type": "code",
   "execution_count": 145,
   "metadata": {},
   "outputs": [],
   "source": [
    "def sample_by_len(to_sample, length): # сэмплим список к какой-то длине:\n",
    "                                      # oversampling или undersampling, в зависимости, больше или меньше нужно\n",
    "    body_multi = length // len(to_sample) # сколько раз нам надо расширить оригинальный список\n",
    "    tail_len = length % len(to_sample) # сколько ещё добавить\n",
    "    sample = to_sample * body_multi + random.sample(to_sample, tail_len)\n",
    "    \n",
    "    return sample"
   ]
  },
  {
   "cell_type": "markdown",
   "metadata": {},
   "source": [
    "### Undersampling"
   ]
  },
  {
   "cell_type": "code",
   "execution_count": 146,
   "metadata": {},
   "outputs": [],
   "source": [
    "less4_u = sample_by_len(less4, min_len)\n",
    "five_u = sample_by_len(five, min_len)\n",
    "six_u = sample_by_len(six, min_len)\n",
    "seven_u = sample_by_len(seven, min_len)\n",
    "great8_u = sample_by_len(great8, min_len)\n",
    "\n",
    "total_u = less4_u + five_u + six_u + seven_u + great8_u # список индексов"
   ]
  },
  {
   "cell_type": "code",
   "execution_count": 147,
   "metadata": {},
   "outputs": [],
   "source": [
    "X_train_u = [X_train[i] for i in total_u]\n",
    "y_train_full_u = sum([[i]*min_len for i in ['<=4', '5', '6', '7', '>=8']], [])"
   ]
  },
  {
   "cell_type": "markdown",
   "metadata": {},
   "source": [
    "#### Shuffle_data: простая ф-ция для перемешивания данных и ярлыков в одной последовательности"
   ]
  },
  {
   "cell_type": "code",
   "execution_count": 148,
   "metadata": {},
   "outputs": [],
   "source": [
    "def shuffle_data(x, y):\n",
    "    data_full = list(zip(x, y))\n",
    "    random.shuffle(data_full)\n",
    "    x, y = zip(*data_full)\n",
    "    return x, y"
   ]
  },
  {
   "cell_type": "code",
   "execution_count": 149,
   "metadata": {},
   "outputs": [],
   "source": [
    "X_train_u, y_train_full_u = shuffle_data(X_train_u, y_train_full_u)"
   ]
  },
  {
   "cell_type": "code",
   "execution_count": 150,
   "metadata": {},
   "outputs": [
    {
     "data": {
      "text/plain": [
       "1360"
      ]
     },
     "execution_count": 150,
     "metadata": {},
     "output_type": "execute_result"
    }
   ],
   "source": [
    "len(y_train_full_u)"
   ]
  },
  {
   "cell_type": "markdown",
   "metadata": {},
   "source": [
    "### Logistic Regression - Undersampled"
   ]
  },
  {
   "cell_type": "code",
   "execution_count": 151,
   "metadata": {},
   "outputs": [
    {
     "name": "stderr",
     "output_type": "stream",
     "text": [
      "/home/knikolaev/.local/lib/python3.6/site-packages/sklearn/linear_model/logistic.py:432: FutureWarning: Default solver will be changed to 'lbfgs' in 0.22. Specify a solver to silence this warning.\n",
      "  FutureWarning)\n",
      "/home/knikolaev/.local/lib/python3.6/site-packages/sklearn/linear_model/logistic.py:469: FutureWarning: Default multi_class will be changed to 'auto' in 0.22. Specify the multi_class option to silence this warning.\n",
      "  \"this warning.\", FutureWarning)\n"
     ]
    },
    {
     "name": "stdout",
     "output_type": "stream",
     "text": [
      "0.4375 0.6216216216216216\n"
     ]
    }
   ],
   "source": [
    "clf = LogisticRegression(random_state=0, class_weight='balanced')\n",
    "\n",
    "# Train model\n",
    "model = clf.fit(X_train_u, y_train_full_u)\n",
    "\n",
    "err_train = np.mean(y_train_full_u != clf.predict(X_train_u))\n",
    "err_test = np.mean(y_test_full != clf.predict(X_test))\n",
    "\n",
    "print(err_train, err_test)"
   ]
  },
  {
   "cell_type": "code",
   "execution_count": 152,
   "metadata": {},
   "outputs": [
    {
     "name": "stdout",
     "output_type": "stream",
     "text": [
      "              precision    recall  f1-score   support\n",
      "\n",
      "           5       0.25      0.37      0.30        63\n",
      "           6       0.59      0.31      0.41       207\n",
      "           7       0.39      0.32      0.35       125\n",
      "         <=4       0.37      0.66      0.47        47\n",
      "         >=8       0.26      0.62      0.36        39\n",
      "\n",
      "    accuracy                           0.38       481\n",
      "   macro avg       0.37      0.45      0.38       481\n",
      "weighted avg       0.44      0.38      0.38       481\n",
      "\n"
     ]
    }
   ],
   "source": [
    "print(classification_report(y_test_full, clf.predict(X_test)))"
   ]
  },
  {
   "cell_type": "markdown",
   "metadata": {},
   "source": [
    "Точность значительно упала, что логично, потому что данных стало в несколько раз меньше. Попробуем Oversampling:"
   ]
  },
  {
   "cell_type": "markdown",
   "metadata": {},
   "source": [
    "### Oversampling"
   ]
  },
  {
   "cell_type": "code",
   "execution_count": 153,
   "metadata": {},
   "outputs": [],
   "source": [
    "less4_o = sample_by_len(less4, max_len)\n",
    "five_o = sample_by_len(five, max_len)\n",
    "six_o = sample_by_len(six, max_len)\n",
    "seven_o = sample_by_len(seven, max_len)\n",
    "great8_o = sample_by_len(great8, max_len)\n",
    "\n",
    "total_o = less4_o + five_o + six_o + seven_o + great8_o"
   ]
  },
  {
   "cell_type": "code",
   "execution_count": 154,
   "metadata": {},
   "outputs": [],
   "source": [
    "X_train_o = [X_train[i] for i in total_o]\n",
    "y_train_full_o = sum([[i]*max_len for i in ['<=4', '5', '6', '7', '>=8']], [])"
   ]
  },
  {
   "cell_type": "code",
   "execution_count": 155,
   "metadata": {},
   "outputs": [],
   "source": [
    "X_train_o, y_train_full_o = shuffle_data(X_train_o, y_train_full_o)"
   ]
  },
  {
   "cell_type": "code",
   "execution_count": 156,
   "metadata": {},
   "outputs": [
    {
     "data": {
      "text/plain": [
       "9325"
      ]
     },
     "execution_count": 156,
     "metadata": {},
     "output_type": "execute_result"
    }
   ],
   "source": [
    "len(y_train_full_o)"
   ]
  },
  {
   "cell_type": "markdown",
   "metadata": {},
   "source": [
    "### Logistic Regression - Oversampled"
   ]
  },
  {
   "cell_type": "code",
   "execution_count": 157,
   "metadata": {},
   "outputs": [
    {
     "name": "stderr",
     "output_type": "stream",
     "text": [
      "/home/knikolaev/.local/lib/python3.6/site-packages/sklearn/linear_model/logistic.py:432: FutureWarning: Default solver will be changed to 'lbfgs' in 0.22. Specify a solver to silence this warning.\n",
      "  FutureWarning)\n",
      "/home/knikolaev/.local/lib/python3.6/site-packages/sklearn/linear_model/logistic.py:469: FutureWarning: Default multi_class will be changed to 'auto' in 0.22. Specify the multi_class option to silence this warning.\n",
      "  \"this warning.\", FutureWarning)\n"
     ]
    },
    {
     "name": "stdout",
     "output_type": "stream",
     "text": [
      "0.46048257372654156 0.6029106029106029\n"
     ]
    }
   ],
   "source": [
    "clf = LogisticRegression(random_state=0, class_weight='balanced')\n",
    "\n",
    "# Train model\n",
    "model = clf.fit(X_train_o, y_train_full_o)\n",
    "\n",
    "err_train = np.mean(y_train_full_o != clf.predict(X_train_o))\n",
    "err_test = np.mean(y_test_full != clf.predict(X_test))\n",
    "\n",
    "print(err_train, err_test)"
   ]
  },
  {
   "cell_type": "code",
   "execution_count": 158,
   "metadata": {},
   "outputs": [
    {
     "name": "stdout",
     "output_type": "stream",
     "text": [
      "              precision    recall  f1-score   support\n",
      "\n",
      "           5       0.25      0.40      0.30        63\n",
      "           6       0.59      0.31      0.41       207\n",
      "           7       0.44      0.35      0.39       125\n",
      "         <=4       0.40      0.66      0.50        47\n",
      "         >=8       0.29      0.69      0.41        39\n",
      "\n",
      "    accuracy                           0.40       481\n",
      "   macro avg       0.39      0.48      0.40       481\n",
      "weighted avg       0.46      0.40      0.40       481\n",
      "\n"
     ]
    }
   ],
   "source": [
    "print(classification_report(y_test_full, clf.predict(X_test)))"
   ]
  },
  {
   "cell_type": "markdown",
   "metadata": {},
   "source": [
    "Здесь у нас огромное количество дубликатов, так что точность подросла относительно Undersampling (за счёт объёма данных), но незначительно. Попробуем усреднить."
   ]
  },
  {
   "cell_type": "markdown",
   "metadata": {},
   "source": [
    "## Averaging"
   ]
  },
  {
   "cell_type": "code",
   "execution_count": 159,
   "metadata": {},
   "outputs": [],
   "source": [
    "less4_a = sample_by_len(less4, avg_len)\n",
    "five_a = sample_by_len(five, avg_len)\n",
    "six_a = sample_by_len(six, avg_len)\n",
    "seven_a = sample_by_len(seven, avg_len)\n",
    "great8_a = sample_by_len(great8, avg_len)\n",
    "\n",
    "total_a = less4_a + five_a + six_a + seven_a + great8_a"
   ]
  },
  {
   "cell_type": "code",
   "execution_count": 160,
   "metadata": {},
   "outputs": [],
   "source": [
    "X_train_a = [X_train[i] for i in total_a]\n",
    "y_train_full_a = sum([[i]*avg_len for i in ['<=4', '5', '6', '7', '>=8']], [])"
   ]
  },
  {
   "cell_type": "code",
   "execution_count": 161,
   "metadata": {},
   "outputs": [],
   "source": [
    "X_train_a, y_train_full_a = shuffle_data(X_train_a, y_train_full_a)"
   ]
  },
  {
   "cell_type": "code",
   "execution_count": 162,
   "metadata": {},
   "outputs": [
    {
     "data": {
      "text/plain": [
       "4320"
      ]
     },
     "execution_count": 162,
     "metadata": {},
     "output_type": "execute_result"
    }
   ],
   "source": [
    "len(y_train_full_a)"
   ]
  },
  {
   "cell_type": "markdown",
   "metadata": {},
   "source": [
    "### Logistic Regression - Averaged"
   ]
  },
  {
   "cell_type": "code",
   "execution_count": 163,
   "metadata": {},
   "outputs": [
    {
     "name": "stderr",
     "output_type": "stream",
     "text": [
      "/home/knikolaev/.local/lib/python3.6/site-packages/sklearn/linear_model/logistic.py:432: FutureWarning: Default solver will be changed to 'lbfgs' in 0.22. Specify a solver to silence this warning.\n",
      "  FutureWarning)\n",
      "/home/knikolaev/.local/lib/python3.6/site-packages/sklearn/linear_model/logistic.py:469: FutureWarning: Default multi_class will be changed to 'auto' in 0.22. Specify the multi_class option to silence this warning.\n",
      "  \"this warning.\", FutureWarning)\n"
     ]
    },
    {
     "name": "stdout",
     "output_type": "stream",
     "text": [
      "0.45208333333333334 0.6008316008316008\n"
     ]
    }
   ],
   "source": [
    "clf = LogisticRegression(random_state=0, class_weight='balanced')\n",
    "\n",
    "# Train model\n",
    "model = clf.fit(X_train_a, y_train_full_a)\n",
    "\n",
    "err_train = np.mean(y_train_full_a != clf.predict(X_train_a))\n",
    "err_test = np.mean(y_test_full != clf.predict(X_test))\n",
    "\n",
    "print(err_train, err_test)"
   ]
  },
  {
   "cell_type": "code",
   "execution_count": 164,
   "metadata": {},
   "outputs": [
    {
     "name": "stdout",
     "output_type": "stream",
     "text": [
      "              precision    recall  f1-score   support\n",
      "\n",
      "           5       0.26      0.37      0.30        63\n",
      "           6       0.60      0.32      0.42       207\n",
      "           7       0.42      0.34      0.37       125\n",
      "         <=4       0.41      0.70      0.52        47\n",
      "         >=8       0.27      0.69      0.39        39\n",
      "\n",
      "    accuracy                           0.40       481\n",
      "   macro avg       0.39      0.48      0.40       481\n",
      "weighted avg       0.46      0.40      0.40       481\n",
      "\n"
     ]
    }
   ],
   "source": [
    "print(classification_report(y_test_full, clf.predict(X_test)))"
   ]
  },
  {
   "cell_type": "markdown",
   "metadata": {},
   "source": [
    "На результаты это не повлияло. Пробуем резать ещё неинформативные признаки."
   ]
  },
  {
   "cell_type": "markdown",
   "metadata": {},
   "source": [
    "## Additional dimensionality reduction"
   ]
  },
  {
   "cell_type": "code",
   "execution_count": 165,
   "metadata": {},
   "outputs": [
    {
     "name": "stdout",
     "output_type": "stream",
     "text": [
      "Feature ranking:\n",
      " 1. feature 'popularity' (0.036065)\n",
      " 2. feature 'runtime' (0.026770)\n",
      " 3. feature 'release_date' (0.019461)\n",
      " 4. feature 'revenue' (0.015556)\n",
      " 5. feature ' fv_2' (0.011512)\n",
      " 6. feature 'fv_13' (0.011205)\n",
      " 7. feature 'fv_15' (0.010692)\n",
      " 8. feature 'fv_29' (0.010505)\n",
      " 9. feature 'fv_49' (0.010345)\n",
      "10. feature 'fv_48' (0.010303)\n",
      "11. feature ' fv_3' (0.010217)\n",
      "12. feature 'fv_30' (0.010150)\n",
      "13. feature ' fv_0' (0.010095)\n",
      "14. feature 'fv_26' (0.010063)\n",
      "15. feature 'fv_22' (0.010023)\n",
      "16. feature ' fv_1' (0.009986)\n",
      "17. feature 'fv_38' (0.009922)\n",
      "18. feature 'fv_14' (0.009900)\n",
      "19. feature 'fv_36' (0.009891)\n",
      "20. feature 'fv_43' (0.009780)\n",
      "21. feature 'fv_33' (0.009765)\n",
      "22. feature 'fv_44' (0.009730)\n",
      "23. feature 'fv_12' (0.009725)\n",
      "24. feature 'fv_31' (0.009699)\n",
      "25. feature 'fv_41' (0.009698)\n",
      "26. feature 'fv_11' (0.009692)\n",
      "27. feature 'fv_39' (0.009668)\n",
      "28. feature ' fv_7' (0.009648)\n",
      "29. feature 'fv_23' (0.009606)\n",
      "30. feature 'fv_19' (0.009606)\n",
      "31. feature 'fv_32' (0.009579)\n",
      "32. feature 'g_Drama' (0.009565)\n",
      "33. feature ' fv_9' (0.009545)\n",
      "34. feature 'fv_27' (0.009533)\n",
      "35. feature 'fv_17' (0.009533)\n",
      "36. feature 'fv_24' (0.009527)\n",
      "37. feature 'fv_42' (0.009526)\n",
      "38. feature 'fv_37' (0.009525)\n",
      "39. feature 'fv_45' (0.009521)\n",
      "40. feature 'fv_35' (0.009511)\n",
      "41. feature ' fv_6' (0.009493)\n",
      "42. feature ' fv_8' (0.009486)\n",
      "43. feature 'fv_25' (0.009472)\n",
      "44. feature ' fv_4' (0.009426)\n",
      "45. feature 'fv_47' (0.009389)\n",
      "46. feature 'fv_46' (0.009376)\n",
      "47. feature 'fv_21' (0.009354)\n",
      "48. feature ' fv_5' (0.009348)\n",
      "49. feature 'fv_10' (0.009334)\n",
      "50. feature 'fv_16' (0.009320)\n",
      "51. feature 'fv_34' (0.009269)\n",
      "52. feature 'fv_40' (0.009171)\n",
      "53. feature 'fv_20' (0.009153)\n",
      "54. feature 'fv_28' (0.009135)\n",
      "55. feature 'fv_18' (0.008964)\n",
      "56. feature ' pv_6' (0.008422)\n",
      "57. feature 'pv_15' (0.008231)\n",
      "58. feature 'pv_48' (0.008217)\n",
      "59. feature 'pv_17' (0.008206)\n",
      "60. feature 'pv_42' (0.008166)\n",
      "61. feature ' pv_8' (0.008145)\n",
      "62. feature 'pv_22' (0.008140)\n",
      "63. feature 'pv_21' (0.008134)\n",
      "64. feature ' pv_7' (0.007998)\n",
      "65. feature 'pv_18' (0.007993)\n",
      "66. feature ' pv_9' (0.007984)\n",
      "67. feature 'pv_36' (0.007949)\n",
      "68. feature 'pv_38' (0.007943)\n",
      "69. feature 'pv_11' (0.007871)\n",
      "70. feature 'pv_45' (0.007818)\n",
      "71. feature 'pv_41' (0.007799)\n",
      "72. feature 'pv_40' (0.007791)\n",
      "73. feature ' pv_5' (0.007724)\n",
      "74. feature ' pv_1' (0.007682)\n",
      "75. feature 'pv_49' (0.007680)\n",
      "76. feature 'pv_23' (0.007658)\n",
      "77. feature ' pv_4' (0.007641)\n",
      "78. feature 'pv_16' (0.007630)\n",
      "79. feature 'pv_25' (0.007629)\n",
      "80. feature 'pv_28' (0.007611)\n",
      "81. feature 'pv_46' (0.007585)\n",
      "82. feature 'pv_13' (0.007413)\n",
      "83. feature ' pv_2' (0.007407)\n",
      "84. feature 'pv_19' (0.007389)\n",
      "85. feature 'pv_47' (0.007369)\n",
      "86. feature 'pv_32' (0.007354)\n",
      "87. feature 'pv_30' (0.007340)\n",
      "88. feature ' pv_3' (0.007328)\n",
      "89. feature 'pv_44' (0.007313)\n",
      "90. feature 'pv_20' (0.007273)\n",
      "91. feature 'pv_26' (0.007215)\n",
      "92. feature 'pv_31' (0.007205)\n",
      "93. feature 'pv_33' (0.007147)\n",
      "94. feature 'pv_27' (0.007116)\n",
      "95. feature 'pv_39' (0.006990)\n",
      "96. feature ' pv_0' (0.006987)\n",
      "97. feature 'pv_29' (0.006914)\n",
      "98. feature 'pv_24' (0.006864)\n",
      "99. feature 'pv_37' (0.006823)\n",
      "100. feature 'pv_10' (0.006784)\n",
      "101. feature 'pv_14' (0.006766)\n",
      "102. feature 'pv_35' (0.006765)\n",
      "103. feature 'pv_12' (0.006473)\n",
      "104. feature 'pv_43' (0.006468)\n",
      "105. feature 'pv_34' (0.006456)\n",
      "106. feature 'g_Comedy' (0.003684)\n",
      "107. feature ' c_US' (0.002463)\n",
      "108. feature 'g_Horror' (0.002286)\n",
      "109. feature 'g_Action' (0.002125)\n",
      "110. feature 'g_Thriller' (0.002029)\n",
      "111. feature ' l_en' (0.001539)\n",
      "112. feature ' c_GB' (0.001185)\n",
      "113. feature 'g_Documentary' (0.001149)\n",
      "114. feature 'g_Romance' (0.001040)\n",
      "115. feature 'g_SciFi' (0.000928)\n",
      "116. feature 'g_Adventure' (0.000914)\n",
      "117. feature 'g_Family' (0.000841)\n",
      "118. feature 'g_Fantasy' (0.000824)\n",
      "119. feature 'g_Animation' (0.000820)\n",
      "120. feature 'g_Crime' (0.000794)\n",
      "121. feature ' l_fr' (0.000789)\n",
      "122. feature ' l_es' (0.000674)\n",
      "123. feature 'g_Mystery' (0.000650)\n",
      "124. feature 'g_Music' (0.000625)\n",
      "125. feature 'g_History' (0.000573)\n",
      "126. feature ' c_CA' (0.000561)\n",
      "127. feature ' c_FR' (0.000537)\n",
      "128. feature ' l_de' (0.000521)\n",
      "129. feature ' c_DE' (0.000512)\n",
      "130. feature ' l_it' (0.000433)\n",
      "131. feature 'g_War' (0.000384)\n",
      "132. feature ' l_ru' (0.000360)\n",
      "133. feature 'g_Western' (0.000353)\n",
      "134. feature ' l_ja' (0.000277)\n",
      "135. feature ' l_pt' (0.000277)\n",
      "136. feature ' c_AU' (0.000269)\n",
      "137. feature ' l_zh' (0.000243)\n",
      "138. feature ' c_ES' (0.000202)\n"
     ]
    }
   ],
   "source": [
    "importances = rf.feature_importances_\n",
    "indices = np.argsort(importances)[::-1]\n",
    "\n",
    "print(\"Feature ranking:\")\n",
    "\n",
    "for f in range(d):\n",
    "    print(\"%2d. feature '%5s' (%f)\" % (f + 1, feature_names[indices[f]], importances[indices[f]]))   "
   ]
  },
  {
   "cell_type": "markdown",
   "metadata": {},
   "source": [
    "Попробуем здесь ultra-low dimensionality: исключить все признаки, importance которых менее 0.01 (вектор размерностью 12)"
   ]
  },
  {
   "cell_type": "code",
   "execution_count": 166,
   "metadata": {},
   "outputs": [
    {
     "data": {
      "text/html": [
       "<div>\n",
       "<style scoped>\n",
       "    .dataframe tbody tr th:only-of-type {\n",
       "        vertical-align: middle;\n",
       "    }\n",
       "\n",
       "    .dataframe tbody tr th {\n",
       "        vertical-align: top;\n",
       "    }\n",
       "\n",
       "    .dataframe thead th {\n",
       "        text-align: right;\n",
       "    }\n",
       "</style>\n",
       "<table border=\"1\" class=\"dataframe\">\n",
       "  <thead>\n",
       "    <tr style=\"text-align: right;\">\n",
       "      <th></th>\n",
       "      <th>popularity</th>\n",
       "      <th>revenue</th>\n",
       "      <th>release_date</th>\n",
       "      <th>runtime</th>\n",
       "      <th>fv_0</th>\n",
       "      <th>fv_2</th>\n",
       "      <th>fv_3</th>\n",
       "      <th>fv_13</th>\n",
       "      <th>fv_15</th>\n",
       "      <th>fv_22</th>\n",
       "      <th>fv_26</th>\n",
       "      <th>fv_29</th>\n",
       "      <th>fv_30</th>\n",
       "      <th>fv_48</th>\n",
       "      <th>fv_49</th>\n",
       "    </tr>\n",
       "  </thead>\n",
       "  <tbody>\n",
       "    <tr>\n",
       "      <td>count</td>\n",
       "      <td>4801.000000</td>\n",
       "      <td>4801.000000</td>\n",
       "      <td>4801.000000</td>\n",
       "      <td>4801.000000</td>\n",
       "      <td>4801.000000</td>\n",
       "      <td>4801.000000</td>\n",
       "      <td>4801.000000</td>\n",
       "      <td>4801.000000</td>\n",
       "      <td>4801.000000</td>\n",
       "      <td>4801.000000</td>\n",
       "      <td>4801.000000</td>\n",
       "      <td>4801.000000</td>\n",
       "      <td>4801.000000</td>\n",
       "      <td>4801.000000</td>\n",
       "      <td>4801.000000</td>\n",
       "    </tr>\n",
       "    <tr>\n",
       "      <td>mean</td>\n",
       "      <td>0.000128</td>\n",
       "      <td>0.000105</td>\n",
       "      <td>-0.000044</td>\n",
       "      <td>0.000156</td>\n",
       "      <td>0.185099</td>\n",
       "      <td>-0.108227</td>\n",
       "      <td>-0.126905</td>\n",
       "      <td>0.084190</td>\n",
       "      <td>-0.047271</td>\n",
       "      <td>0.024790</td>\n",
       "      <td>-0.341246</td>\n",
       "      <td>-0.117787</td>\n",
       "      <td>1.896222</td>\n",
       "      <td>-0.025164</td>\n",
       "      <td>0.017344</td>\n",
       "    </tr>\n",
       "    <tr>\n",
       "      <td>std</td>\n",
       "      <td>1.000065</td>\n",
       "      <td>1.000078</td>\n",
       "      <td>1.000100</td>\n",
       "      <td>1.000046</td>\n",
       "      <td>0.192366</td>\n",
       "      <td>0.183274</td>\n",
       "      <td>0.147926</td>\n",
       "      <td>0.157430</td>\n",
       "      <td>0.135611</td>\n",
       "      <td>0.123820</td>\n",
       "      <td>0.176603</td>\n",
       "      <td>0.156682</td>\n",
       "      <td>0.302334</td>\n",
       "      <td>0.133866</td>\n",
       "      <td>0.186968</td>\n",
       "    </tr>\n",
       "    <tr>\n",
       "      <td>min</td>\n",
       "      <td>-0.675596</td>\n",
       "      <td>-0.505175</td>\n",
       "      <td>-6.960785</td>\n",
       "      <td>-4.738943</td>\n",
       "      <td>-0.796504</td>\n",
       "      <td>-0.738025</td>\n",
       "      <td>-0.804645</td>\n",
       "      <td>-0.482059</td>\n",
       "      <td>-0.974685</td>\n",
       "      <td>-0.600157</td>\n",
       "      <td>-1.180269</td>\n",
       "      <td>-0.931305</td>\n",
       "      <td>0.468656</td>\n",
       "      <td>-0.749672</td>\n",
       "      <td>-1.020750</td>\n",
       "    </tr>\n",
       "    <tr>\n",
       "      <td>25%</td>\n",
       "      <td>-0.528516</td>\n",
       "      <td>-0.505175</td>\n",
       "      <td>-0.278866</td>\n",
       "      <td>-0.571729</td>\n",
       "      <td>0.066939</td>\n",
       "      <td>-0.227989</td>\n",
       "      <td>-0.220888</td>\n",
       "      <td>-0.017598</td>\n",
       "      <td>-0.132321</td>\n",
       "      <td>-0.053941</td>\n",
       "      <td>-0.454400</td>\n",
       "      <td>-0.221838</td>\n",
       "      <td>1.698454</td>\n",
       "      <td>-0.106533</td>\n",
       "      <td>-0.104712</td>\n",
       "    </tr>\n",
       "    <tr>\n",
       "      <td>50%</td>\n",
       "      <td>-0.269294</td>\n",
       "      <td>-0.387413</td>\n",
       "      <td>0.223443</td>\n",
       "      <td>-0.172740</td>\n",
       "      <td>0.193371</td>\n",
       "      <td>-0.110442</td>\n",
       "      <td>-0.131111</td>\n",
       "      <td>0.079593</td>\n",
       "      <td>-0.039241</td>\n",
       "      <td>0.025010</td>\n",
       "      <td>-0.329591</td>\n",
       "      <td>-0.122469</td>\n",
       "      <td>1.900673</td>\n",
       "      <td>-0.019630</td>\n",
       "      <td>0.026694</td>\n",
       "    </tr>\n",
       "    <tr>\n",
       "      <td>75%</td>\n",
       "      <td>0.215402</td>\n",
       "      <td>0.065349</td>\n",
       "      <td>0.656211</td>\n",
       "      <td>0.492241</td>\n",
       "      <td>0.310155</td>\n",
       "      <td>0.010851</td>\n",
       "      <td>-0.033792</td>\n",
       "      <td>0.181766</td>\n",
       "      <td>0.043071</td>\n",
       "      <td>0.102982</td>\n",
       "      <td>-0.219572</td>\n",
       "      <td>-0.019672</td>\n",
       "      <td>2.098043</td>\n",
       "      <td>0.059266</td>\n",
       "      <td>0.145551</td>\n",
       "    </tr>\n",
       "    <tr>\n",
       "      <td>max</td>\n",
       "      <td>26.842430</td>\n",
       "      <td>16.612585</td>\n",
       "      <td>1.137325</td>\n",
       "      <td>10.245297</td>\n",
       "      <td>1.062509</td>\n",
       "      <td>0.698135</td>\n",
       "      <td>0.547924</td>\n",
       "      <td>1.099425</td>\n",
       "      <td>0.710110</td>\n",
       "      <td>0.756939</td>\n",
       "      <td>0.338755</td>\n",
       "      <td>0.746563</td>\n",
       "      <td>3.063437</td>\n",
       "      <td>0.805677</td>\n",
       "      <td>0.747018</td>\n",
       "    </tr>\n",
       "  </tbody>\n",
       "</table>\n",
       "</div>"
      ],
      "text/plain": [
       "        popularity      revenue  release_date      runtime         fv_0  \\\n",
       "count  4801.000000  4801.000000   4801.000000  4801.000000  4801.000000   \n",
       "mean      0.000128     0.000105     -0.000044     0.000156     0.185099   \n",
       "std       1.000065     1.000078      1.000100     1.000046     0.192366   \n",
       "min      -0.675596    -0.505175     -6.960785    -4.738943    -0.796504   \n",
       "25%      -0.528516    -0.505175     -0.278866    -0.571729     0.066939   \n",
       "50%      -0.269294    -0.387413      0.223443    -0.172740     0.193371   \n",
       "75%       0.215402     0.065349      0.656211     0.492241     0.310155   \n",
       "max      26.842430    16.612585      1.137325    10.245297     1.062509   \n",
       "\n",
       "              fv_2         fv_3        fv_13        fv_15        fv_22  \\\n",
       "count  4801.000000  4801.000000  4801.000000  4801.000000  4801.000000   \n",
       "mean     -0.108227    -0.126905     0.084190    -0.047271     0.024790   \n",
       "std       0.183274     0.147926     0.157430     0.135611     0.123820   \n",
       "min      -0.738025    -0.804645    -0.482059    -0.974685    -0.600157   \n",
       "25%      -0.227989    -0.220888    -0.017598    -0.132321    -0.053941   \n",
       "50%      -0.110442    -0.131111     0.079593    -0.039241     0.025010   \n",
       "75%       0.010851    -0.033792     0.181766     0.043071     0.102982   \n",
       "max       0.698135     0.547924     1.099425     0.710110     0.756939   \n",
       "\n",
       "             fv_26        fv_29        fv_30        fv_48        fv_49  \n",
       "count  4801.000000  4801.000000  4801.000000  4801.000000  4801.000000  \n",
       "mean     -0.341246    -0.117787     1.896222    -0.025164     0.017344  \n",
       "std       0.176603     0.156682     0.302334     0.133866     0.186968  \n",
       "min      -1.180269    -0.931305     0.468656    -0.749672    -1.020750  \n",
       "25%      -0.454400    -0.221838     1.698454    -0.106533    -0.104712  \n",
       "50%      -0.329591    -0.122469     1.900673    -0.019630     0.026694  \n",
       "75%      -0.219572    -0.019672     2.098043     0.059266     0.145551  \n",
       "max       0.338755     0.746563     3.063437     0.805677     0.747018  "
      ]
     },
     "execution_count": 166,
     "metadata": {},
     "output_type": "execute_result"
    }
   ],
   "source": [
    "toremove = [feature_names[indices[f]] for f in range(d) if importances[indices[f]] < 0.01]\n",
    "data = data.drop(toremove, axis = 1)\n",
    "data.describe()"
   ]
  },
  {
   "cell_type": "markdown",
   "metadata": {},
   "source": [
    "Остались изначальные численные признаки и 8/50 признаков вектора сконкатенированного описания фильма."
   ]
  },
  {
   "cell_type": "code",
   "execution_count": 167,
   "metadata": {},
   "outputs": [
    {
     "name": "stdout",
     "output_type": "stream",
     "text": [
      "4320 481\n"
     ]
    }
   ],
   "source": [
    "X = data.drop('vote_average', axis = 1) # выбрасываем столбец 'class'\n",
    "feature_names = X.columns\n",
    "\n",
    "X = X.to_numpy()\n",
    "\n",
    "X_train, X_test, y_train, y_test = train_test_split(X, y, test_size = 0.1, random_state = 666)\n",
    "\n",
    "N_train, _ = X_train.shape \n",
    "N_test,  _ = X_test.shape \n",
    "\n",
    "print(N_train, N_test)\n",
    "\n",
    "N, d = X.shape\n",
    "\n",
    "y_train_full = lb.inverse_transform(y_train)\n",
    "y_test_full = lb.inverse_transform(y_test)"
   ]
  },
  {
   "cell_type": "markdown",
   "metadata": {},
   "source": [
    "Пока наилучший результат был у алгоритма логистической регрессии с оригинальными данными и включенным взвешиванием."
   ]
  },
  {
   "cell_type": "markdown",
   "metadata": {},
   "source": [
    "## Logistic Regression"
   ]
  },
  {
   "cell_type": "code",
   "execution_count": 168,
   "metadata": {},
   "outputs": [
    {
     "name": "stdout",
     "output_type": "stream",
     "text": [
      "0.5453703703703704 0.5405405405405406\n"
     ]
    },
    {
     "name": "stderr",
     "output_type": "stream",
     "text": [
      "/home/knikolaev/.local/lib/python3.6/site-packages/sklearn/linear_model/logistic.py:432: FutureWarning: Default solver will be changed to 'lbfgs' in 0.22. Specify a solver to silence this warning.\n",
      "  FutureWarning)\n",
      "/home/knikolaev/.local/lib/python3.6/site-packages/sklearn/linear_model/logistic.py:469: FutureWarning: Default multi_class will be changed to 'auto' in 0.22. Specify the multi_class option to silence this warning.\n",
      "  \"this warning.\", FutureWarning)\n"
     ]
    }
   ],
   "source": [
    "clf = LogisticRegression(random_state=0, class_weight='balanced')\n",
    "\n",
    "# Train model\n",
    "model = clf.fit(X_train, y_train_full)\n",
    "\n",
    "err_train = np.mean(y_train_full != clf.predict(X_train))\n",
    "err_test = np.mean(y_test_full != clf.predict(X_test))\n",
    "\n",
    "print(err_train, err_test)"
   ]
  },
  {
   "cell_type": "code",
   "execution_count": 169,
   "metadata": {},
   "outputs": [
    {
     "name": "stdout",
     "output_type": "stream",
     "text": [
      "              precision    recall  f1-score   support\n",
      "\n",
      "           5       0.21      0.11      0.15        63\n",
      "           6       0.55      0.56      0.55       207\n",
      "           7       0.45      0.39      0.42       125\n",
      "         <=4       0.39      0.66      0.49        47\n",
      "         >=8       0.38      0.49      0.43        39\n",
      "\n",
      "    accuracy                           0.46       481\n",
      "   macro avg       0.40      0.44      0.41       481\n",
      "weighted avg       0.45      0.46      0.45       481\n",
      "\n"
     ]
    }
   ],
   "source": [
    "print(classification_report(y_test_full, clf.predict(X_test)))"
   ]
  },
  {
   "cell_type": "markdown",
   "metadata": {},
   "source": [
    "Точность этого алгоритма упала; проверим другие."
   ]
  },
  {
   "cell_type": "markdown",
   "metadata": {},
   "source": [
    "## K-NN"
   ]
  },
  {
   "cell_type": "code",
   "execution_count": 170,
   "metadata": {},
   "outputs": [
    {
     "data": {
      "text/plain": [
       "KNeighborsClassifier(algorithm='auto', leaf_size=30, metric='minkowski',\n",
       "                     metric_params=None, n_jobs=None, n_neighbors=10, p=2,\n",
       "                     weights='uniform')"
      ]
     },
     "execution_count": 170,
     "metadata": {},
     "output_type": "execute_result"
    }
   ],
   "source": [
    "knn = KNeighborsClassifier(n_neighbors = 10)\n",
    "\n",
    "knn.fit(X_train, y_train)"
   ]
  },
  {
   "cell_type": "code",
   "execution_count": 171,
   "metadata": {},
   "outputs": [
    {
     "data": {
      "text/plain": [
       "0.1941787941787942"
      ]
     },
     "execution_count": 171,
     "metadata": {},
     "output_type": "execute_result"
    }
   ],
   "source": [
    "y_test_predict = knn.predict(X_test)\n",
    "err_test  = np.mean(y_test != y_test_predict)\n",
    "\n",
    "err_test"
   ]
  },
  {
   "cell_type": "code",
   "execution_count": 172,
   "metadata": {},
   "outputs": [
    {
     "name": "stdout",
     "output_type": "stream",
     "text": [
      "              precision    recall  f1-score   support\n",
      "\n",
      "           0       0.00      0.00      0.00        63\n",
      "           1       0.57      0.41      0.48       207\n",
      "           2       0.44      0.20      0.27       125\n",
      "           3       0.75      0.06      0.12        47\n",
      "           4       0.80      0.10      0.18        39\n",
      "\n",
      "   micro avg       0.53      0.24      0.33       481\n",
      "   macro avg       0.51      0.16      0.21       481\n",
      "weighted avg       0.50      0.24      0.30       481\n",
      " samples avg       0.24      0.24      0.24       481\n",
      "\n"
     ]
    },
    {
     "name": "stderr",
     "output_type": "stream",
     "text": [
      "/home/knikolaev/.local/lib/python3.6/site-packages/sklearn/metrics/classification.py:1437: UndefinedMetricWarning: Precision and F-score are ill-defined and being set to 0.0 in samples with no predicted labels.\n",
      "  'precision', 'predicted', average, warn_for)\n"
     ]
    }
   ],
   "source": [
    "print(classification_report(y_test, y_test_predict))"
   ]
  },
  {
   "cell_type": "markdown",
   "metadata": {},
   "source": [
    "## Naive Bayes"
   ]
  },
  {
   "cell_type": "code",
   "execution_count": 173,
   "metadata": {},
   "outputs": [
    {
     "name": "stdout",
     "output_type": "stream",
     "text": [
      "0.5416666666666666 0.5717255717255717\n"
     ]
    }
   ],
   "source": [
    "clf = BernoulliNB()\n",
    "clf.fit(X_train, y_train_full)\n",
    "\n",
    "err_train = np.mean(y_train_full != clf.predict(X_train))\n",
    "err_test  = np.mean(y_test_full  != clf.predict(X_test))\n",
    "\n",
    "print(err_train, err_test)"
   ]
  },
  {
   "cell_type": "code",
   "execution_count": 174,
   "metadata": {},
   "outputs": [
    {
     "name": "stdout",
     "output_type": "stream",
     "text": [
      "              precision    recall  f1-score   support\n",
      "\n",
      "           5       0.22      0.03      0.06        63\n",
      "           6       0.45      0.75      0.56       207\n",
      "           7       0.40      0.38      0.39       125\n",
      "         <=4       0.20      0.02      0.04        47\n",
      "         >=8       0.00      0.00      0.00        39\n",
      "\n",
      "    accuracy                           0.43       481\n",
      "   macro avg       0.25      0.24      0.21       481\n",
      "weighted avg       0.35      0.43      0.35       481\n",
      "\n"
     ]
    }
   ],
   "source": [
    "print(classification_report(y_test_full, clf.predict(X_test)))"
   ]
  },
  {
   "cell_type": "markdown",
   "metadata": {},
   "source": [
    "Мы видим, что показатели точности упали all across the board."
   ]
  },
  {
   "cell_type": "markdown",
   "metadata": {},
   "source": [
    "## Некоторые заключения"
   ]
  },
  {
   "cell_type": "markdown",
   "metadata": {},
   "source": [
    "$*$ Данная задача может лучше функционировать как задача регрессии;\n",
    "<br>\n",
    "$*$ NLP задачи с неинтерпретируемыми признаками (e.g. эмбеддинги), как правило, лучше решаются нейронными сетями (e.g. стоило бы подключить keras / pytorch / tensorflow);\n",
    "<br>\n",
    "$*$ Возможное пространство для улучшения: эмбеддинги большей размерности; для Film Companies - больший / более чистый корпус для формирования модели; подключение credits (как-то задействовать имена актёров);\n",
    "<br>\n",
    "$*$ Хотя индивидуальное влияние numerical-признаков на результат максимально, совокупное влияние эмбеддингов выше (и их исключение негативно повлияло на результат). В то же время, страна производства / языки фильма практически не влияют на их среднюю оценку;\n",
    "$*$ Можно попробовать улучшить результат, расширив классы синтетическими данными: внести искажение только в оригинальные денежно-временные признаки и добавить новых обзоров различными средствами (подбор синонимов, машинный перевод, и т.д.)"
   ]
  },
  {
   "cell_type": "code",
   "execution_count": null,
   "metadata": {},
   "outputs": [],
   "source": []
  }
 ],
 "metadata": {
  "kernelspec": {
   "display_name": "Python 3",
   "language": "python",
   "name": "python3"
  },
  "language_info": {
   "codemirror_mode": {
    "name": "ipython",
    "version": 3
   },
   "file_extension": ".py",
   "mimetype": "text/x-python",
   "name": "python",
   "nbconvert_exporter": "python",
   "pygments_lexer": "ipython3",
   "version": "3.6.7"
  }
 },
 "nbformat": 4,
 "nbformat_minor": 2
}
