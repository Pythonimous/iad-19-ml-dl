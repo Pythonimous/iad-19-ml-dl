{
 "cells": [
  {
   "cell_type": "code",
   "execution_count": 1,
   "metadata": {
    "colab": {
     "base_uri": "https://localhost:8080/",
     "height": 34
    },
    "colab_type": "code",
    "id": "2OKm3caoSt0d",
    "outputId": "9195324a-0d7e-445b-f3ee-50a8a20453ac"
   },
   "outputs": [
    {
     "name": "stdout",
     "output_type": "stream",
     "text": [
      "Mounted at /content/gdrive\n"
     ]
    }
   ],
   "source": [
    "from google.colab import drive\n",
    "drive.mount('/content/gdrive')"
   ]
  },
  {
   "cell_type": "code",
   "execution_count": null,
   "metadata": {
    "colab": {},
    "colab_type": "code",
    "id": "LneQv3AkeD0k"
   },
   "outputs": [],
   "source": [
    "import os\n",
    "import glob\n",
    "import collections\n",
    "import numpy as np\n",
    "from tqdm import tqdm\n",
    "from PIL import Image"
   ]
  },
  {
   "cell_type": "code",
   "execution_count": null,
   "metadata": {
    "colab": {},
    "colab_type": "code",
    "id": "XKBysLtJf9HR"
   },
   "outputs": [],
   "source": [
    "os.chdir('gdrive/My Drive/hotdog_data')"
   ]
  },
  {
   "cell_type": "code",
   "execution_count": null,
   "metadata": {},
   "outputs": [],
   "source": [
    "random_state=seed"
   ]
  },
  {
   "cell_type": "code",
   "execution_count": 4,
   "metadata": {
    "colab": {
     "base_uri": "https://localhost:8080/",
     "height": 34
    },
    "colab_type": "code",
    "id": "I7cQGoOtgF_Y",
    "outputId": "f4c5e8f6-1171-4a76-aaf3-919ec2b8bfa5"
   },
   "outputs": [
    {
     "name": "stderr",
     "output_type": "stream",
     "text": [
      "100%|██████████| 708/708 [00:03<00:00, 188.24it/s]\n"
     ]
    }
   ],
   "source": [
    "image_list = []\n",
    "for filename in tqdm(glob.glob('train/hotdog/*.jpg')):\n",
    "    im = Image.open(filename).convert('RGB')  # in case some are grayscale\n",
    "    image_list.append((im, 1))"
   ]
  },
  {
   "cell_type": "code",
   "execution_count": 5,
   "metadata": {
    "colab": {
     "base_uri": "https://localhost:8080/",
     "height": 34
    },
    "colab_type": "code",
    "id": "8q5itu5Ghj0n",
    "outputId": "5b497578-984f-46ce-e107-192f277db042"
   },
   "outputs": [
    {
     "name": "stderr",
     "output_type": "stream",
     "text": [
      "100%|██████████| 963/963 [00:05<00:00, 179.43it/s]\n"
     ]
    }
   ],
   "source": [
    "for filename in tqdm(glob.glob('train/not_hotdog/*.jpg')):\n",
    "    im = Image.open(filename).convert('RGB')\n",
    "    image_list.append((im, 0))"
   ]
  },
  {
   "cell_type": "code",
   "execution_count": null,
   "metadata": {
    "colab": {},
    "colab_type": "code",
    "id": "L9SN9AbynExx"
   },
   "outputs": [],
   "source": [
    "image_list = [(item[0].rotate(90, expand=True),item[1]) if item[0].size[0]<item[0].size[1] else item for item in image_list]\n",
    "image_list = [(item[0].resize((500,375)),item[1]) for item in image_list]"
   ]
  },
  {
   "cell_type": "code",
   "execution_count": null,
   "metadata": {
    "colab": {},
    "colab_type": "code",
    "id": "87KrIwoFhTz6"
   },
   "outputs": [],
   "source": [
    "X_train = [np.array(item[0]) for item in image_list]\n",
    "y_train = [item[1] for item in image_list]"
   ]
  },
  {
   "cell_type": "markdown",
   "metadata": {
    "colab_type": "text",
    "id": "fVcgW2orpVnx"
   },
   "source": [
    "# Задание 2. Tensorflow 2.0 / Keras."
   ]
  },
  {
   "cell_type": "code",
   "execution_count": null,
   "metadata": {
    "colab": {},
    "colab_type": "code",
    "id": "Wq1n02XGMnu-"
   },
   "outputs": [],
   "source": [
    "y_train = np.array(y_train).reshape(1671,1)"
   ]
  },
  {
   "cell_type": "code",
   "execution_count": null,
   "metadata": {
    "colab": {},
    "colab_type": "code",
    "id": "ZHWXe9yZMwGO"
   },
   "outputs": [],
   "source": [
    "X_train = np.array(X_train).reshape(1671, 500, 375, 3).astype('float32')"
   ]
  },
  {
   "cell_type": "code",
   "execution_count": null,
   "metadata": {
    "colab": {},
    "colab_type": "code",
    "id": "6kg6A3RKlC5d"
   },
   "outputs": [],
   "source": [
    "X_train /= 255"
   ]
  },
  {
   "cell_type": "code",
   "execution_count": null,
   "metadata": {
    "colab": {},
    "colab_type": "code",
    "id": "ad9WAyyAsB_m"
   },
   "outputs": [],
   "source": [
    "from sklearn.model_selection import train_test_split"
   ]
  },
  {
   "cell_type": "code",
   "execution_count": 12,
   "metadata": {
    "colab": {
     "base_uri": "https://localhost:8080/",
     "height": 34
    },
    "colab_type": "code",
    "id": "e_Cnb-Ce6Nau",
    "outputId": "93c0481f-a8f9-4226-c004-6e05741c79cb"
   },
   "outputs": [
    {
     "name": "stdout",
     "output_type": "stream",
     "text": [
      "2.2.0-rc3\n"
     ]
    }
   ],
   "source": [
    "try:\n",
    "  # Colab only\n",
    "  %tensorflow_version 2.x\n",
    "except Exception:\n",
    "    pass\n",
    "import tensorflow as tf\n",
    "print(tf.__version__)\n",
    "import tensorflow.keras as keras\n",
    "from tensorflow.keras.datasets import mnist\n",
    "from tensorflow.keras.models import Sequential, Model\n",
    "from tensorflow.keras.layers import Dense, Dropout, Flatten, Reshape, Conv2D, MaxPooling2D, AveragePooling2D\n",
    "from tensorflow.keras import backend as K\n",
    "from tensorflow.keras.utils import to_categorical\n",
    "\n",
    "from tensorflow.keras.callbacks import EarlyStopping"
   ]
  },
  {
   "cell_type": "code",
   "execution_count": null,
   "metadata": {
    "colab": {},
    "colab_type": "code",
    "id": "IjAJx2ilOCWT"
   },
   "outputs": [],
   "source": [
    "X_train, X_test, y_train, y_test = train_test_split(X_train, y_train, test_size=0.3, random_state=seed)"
   ]
  },
  {
   "cell_type": "code",
   "execution_count": null,
   "metadata": {
    "colab": {},
    "colab_type": "code",
    "id": "94lADSrkUh7l"
   },
   "outputs": [],
   "source": [
    "X_test, X_dev, y_test, y_dev = train_test_split(X_test, y_test, test_size=0.5, random_state=seed)  # 0.7 0.15 0.15 train test dev"
   ]
  },
  {
   "cell_type": "code",
   "execution_count": 15,
   "metadata": {
    "colab": {
     "base_uri": "https://localhost:8080/",
     "height": 34
    },
    "colab_type": "code",
    "id": "NMazJzFCORpz",
    "outputId": "bbd405e1-6adf-4ffb-bde3-1f4afde2d6d8"
   },
   "outputs": [
    {
     "data": {
      "text/plain": [
       "((1169, 500, 375, 3), (1169, 1))"
      ]
     },
     "execution_count": 15,
     "metadata": {
      "tags": []
     },
     "output_type": "execute_result"
    }
   ],
   "source": [
    "X_train.shape, y_train.shape"
   ]
  },
  {
   "cell_type": "code",
   "execution_count": null,
   "metadata": {
    "colab": {},
    "colab_type": "code",
    "id": "AZpZghe3OkKM"
   },
   "outputs": [],
   "source": [
    "batch_size = 32\n",
    "epochs = 12\n",
    "input_shape = (500,375,3)"
   ]
  },
  {
   "cell_type": "code",
   "execution_count": null,
   "metadata": {
    "colab": {},
    "colab_type": "code",
    "id": "fIEDgBX1OTIw"
   },
   "outputs": [],
   "source": [
    "model = Sequential()\n",
    "model.add(Conv2D(6, kernel_size=(5, 5), strides=(1, 1), activation='relu', input_shape=input_shape, padding=\"same\"))\n",
    "model.add(AveragePooling2D(pool_size=(2, 2), strides=(1, 1), padding='valid'))\n",
    "model.add(Conv2D(16, kernel_size=(5, 5), strides=(1, 1), activation='relu', padding='valid'))\n",
    "model.add(AveragePooling2D(pool_size=(2, 2), strides=(2, 2), padding='valid'))\n",
    "model.add(Conv2D(120, kernel_size=(5, 5), strides=(1, 1), activation='relu', padding='valid'))\n",
    "model.add(Flatten())\n",
    "model.add(Dense(84, activation='relu'))\n",
    "model.add(Dense(1, activation='sigmoid'))"
   ]
  },
  {
   "cell_type": "code",
   "execution_count": 18,
   "metadata": {
    "colab": {
     "base_uri": "https://localhost:8080/",
     "height": 191
    },
    "colab_type": "code",
    "id": "pLqSkjeoOeeQ",
    "outputId": "3f87afd1-62c7-4854-d24a-39528ffa4ca9"
   },
   "outputs": [
    {
     "name": "stdout",
     "output_type": "stream",
     "text": [
      "Epoch 1/12\n",
      "37/37 [==============================] - 10s 260ms/step - loss: 5.9000 - accuracy: 0.6749 - val_loss: 0.5555 - val_accuracy: 0.7371\n",
      "Epoch 2/12\n",
      "37/37 [==============================] - 9s 236ms/step - loss: 0.4729 - accuracy: 0.7896 - val_loss: 0.4805 - val_accuracy: 0.7649\n",
      "Epoch 3/12\n",
      "37/37 [==============================] - 9s 236ms/step - loss: 0.3910 - accuracy: 0.8417 - val_loss: 0.4236 - val_accuracy: 0.8247\n",
      "Epoch 4/12\n",
      "37/37 [==============================] - 9s 237ms/step - loss: 0.3714 - accuracy: 0.8426 - val_loss: 0.4436 - val_accuracy: 0.7729\n",
      "Epoch 5/12\n",
      "37/37 [==============================] - 9s 236ms/step - loss: 0.2731 - accuracy: 0.8888 - val_loss: 0.4549 - val_accuracy: 0.8008\n"
     ]
    }
   ],
   "source": [
    "callback = EarlyStopping(monitor='val_loss', patience=2)\n",
    "\n",
    "model.compile(loss=keras.losses.binary_crossentropy,\n",
    "              optimizer='adam',\n",
    "              metrics=['accuracy'])\n",
    "\n",
    "history=model.fit(X_train, y_train,\n",
    "          batch_size=batch_size,\n",
    "          epochs=epochs,\n",
    "          callbacks = [callback],\n",
    "          verbose=1,\n",
    "          validation_data=(X_dev, y_dev))"
   ]
  },
  {
   "cell_type": "code",
   "execution_count": 19,
   "metadata": {
    "colab": {
     "base_uri": "https://localhost:8080/",
     "height": 52
    },
    "colab_type": "code",
    "id": "sseJdwzpPdNA",
    "outputId": "f42f9fbb-34ed-432c-b94f-a7e7c149a134"
   },
   "outputs": [
    {
     "name": "stdout",
     "output_type": "stream",
     "text": [
      "8/8 [==============================] - 1s 80ms/step - loss: 0.3997 - accuracy: 0.8446\n"
     ]
    },
    {
     "data": {
      "text/plain": [
       "[0.39965322613716125, 0.8446215391159058]"
      ]
     },
     "execution_count": 19,
     "metadata": {
      "tags": []
     },
     "output_type": "execute_result"
    }
   ],
   "source": [
    "model.evaluate(X_test, y_test)"
   ]
  },
  {
   "cell_type": "markdown",
   "metadata": {
    "colab_type": "text",
    "id": "JQa6wM4sVwIr"
   },
   "source": [
    "Даже такая сеть без особого тюнинга уже показывает результаты в 0.8446 (ошибка в 0.1554 соответственно, сравним с ~0.2 для SVC). Плюс обучение произошло гораздо быстрее, чем с SVM. Таким образом, CNN лучше приспособлена для выполнения данной задачи. На очереди VGG!"
   ]
  },
  {
   "cell_type": "code",
   "execution_count": null,
   "metadata": {
    "colab": {},
    "colab_type": "code",
    "id": "JMFnabFqUdRX"
   },
   "outputs": [],
   "source": []
  }
 ],
 "metadata": {
  "accelerator": "GPU",
  "colab": {
   "collapsed_sections": [],
   "machine_shape": "hm",
   "name": "Nikolaev 1.2 CNN.ipynb",
   "provenance": [],
   "toc_visible": true
  },
  "kernelspec": {
   "display_name": "Python 3",
   "language": "python",
   "name": "python3"
  },
  "language_info": {
   "codemirror_mode": {
    "name": "ipython",
    "version": 3
   },
   "file_extension": ".py",
   "mimetype": "text/x-python",
   "name": "python",
   "nbconvert_exporter": "python",
   "pygments_lexer": "ipython3",
   "version": "3.6.9"
  }
 },
 "nbformat": 4,
 "nbformat_minor": 4
}
