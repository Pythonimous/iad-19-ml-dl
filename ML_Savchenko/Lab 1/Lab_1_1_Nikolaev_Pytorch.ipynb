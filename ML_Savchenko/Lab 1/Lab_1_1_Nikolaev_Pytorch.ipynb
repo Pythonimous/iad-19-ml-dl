{
  "nbformat": 4,
  "nbformat_minor": 0,
  "metadata": {
    "colab": {
      "name": "Lab_1.1_Nikolaev_Pytorch.ipynb",
      "provenance": [],
      "collapsed_sections": []
    },
    "kernelspec": {
      "name": "python3",
      "display_name": "Python 3"
    },
    "accelerator": "GPU"
  },
  "cells": [
    {
      "cell_type": "code",
      "metadata": {
        "id": "7m-3KHuCy-8F",
        "colab_type": "code",
        "outputId": "620c3bd6-d9a1-4b2f-cd07-de703da67ff3",
        "colab": {
          "base_uri": "https://localhost:8080/",
          "height": 35
        }
      },
      "source": [
        "import sys, os, time\n",
        "import numpy as np\n",
        "import pickle\n",
        "\n",
        "import matplotlib.pyplot as plt\n",
        "%matplotlib inline\n",
        "\n",
        "import torch\n",
        "print(torch.__version__)\n",
        "\n",
        "import torch.nn as nn\n",
        "import torch.nn.functional as F\n",
        "import torch.optim as optim\n",
        "from torchvision import datasets, transforms\n",
        "from torch.optim.lr_scheduler import StepLR"
      ],
      "execution_count": 0,
      "outputs": [
        {
          "output_type": "stream",
          "text": [
            "1.4.0\n"
          ],
          "name": "stdout"
        }
      ]
    },
    {
      "cell_type": "code",
      "metadata": {
        "id": "TDMUfAPygqAw",
        "colab_type": "code",
        "outputId": "980ac9b1-ed3e-4cd9-f701-0135a70d5738",
        "colab": {
          "base_uri": "https://localhost:8080/",
          "height": 211
        }
      },
      "source": [
        "train_mnist=datasets.MNIST('data', train=True, download=True)\n",
        "y_train_orig=train_mnist.targets.numpy()\n",
        "for i in range(10):\n",
        "  num_digits=2\n",
        "  indices=np.random.choice(np.where(y_train_orig==i)[0],num_digits)\n",
        "  for j in range(num_digits):\n",
        "    plt.axis('off')\n",
        "    plt.subplot(num_digits,10,10*j+i+1).set_title('{}'.format(i))\n",
        "    img,_=train_mnist[indices[j]]\n",
        "    plt.imshow(img, cmap='Greys')\n",
        "plt.show()"
      ],
      "execution_count": 0,
      "outputs": [
        {
          "output_type": "display_data",
          "data": {
            "image/png": "[encoded data removed]",
            "text/plain": [
              "<Figure size 432x288 with 20 Axes>"
            ]
          },
          "metadata": {
            "tags": [],
            "needs_background": "light"
          }
        }
      ]
    },
    {
      "cell_type": "code",
      "metadata": {
        "id": "4Tf6n43drSWf",
        "colab_type": "code",
        "outputId": "59c209bb-7d0f-42d6-9a99-179287f79402",
        "colab": {
          "base_uri": "https://localhost:8080/",
          "height": 54
        }
      },
      "source": [
        "batch_size = 128\n",
        "use_cuda = torch.cuda.is_available()\n",
        "print(use_cuda)\n",
        "\n",
        "torch.manual_seed(1)\n",
        "\n",
        "normalize = transforms.Normalize((0.1307,), (0.3081,))  # MNIST\n",
        "\n",
        "train_transform=transforms.Compose([\n",
        "                        transforms.ToTensor(),\n",
        "                        normalize\n",
        "                    ])\n",
        "train_dataset = datasets.MNIST(root='data', train=True, \n",
        "                download=True, transform=train_transform)\n",
        "\n",
        "\n",
        "test_transform=transforms.Compose([\n",
        "                        transforms.ToTensor(),\n",
        "                        normalize\n",
        "                    ])\n",
        "test_dataset = datasets.MNIST(root='data', train=False, \n",
        "            download=True, transform=test_transform)\n",
        "\n",
        "kwargs = {'num_workers': 1, 'pin_memory': True} if use_cuda else {}\n",
        "\n",
        "num_train = len(train_dataset)\n",
        "indices = list(range(num_train))\n",
        "split = int(np.floor(0.1 * num_train))\n",
        "num_train = len(train_dataset)\n",
        "split = int(np.floor(0.1 * num_train))\n",
        "train_set, val_set = torch.utils.data.random_split(train_dataset, [num_train-split, split])\n",
        "print(len(train_set), len(val_set))\n",
        "\n",
        "train_loader = torch.utils.data.DataLoader(train_set,batch_size=batch_size, shuffle=True, **kwargs)\n",
        "val_loader = torch.utils.data.DataLoader(val_set,batch_size=batch_size, shuffle=False, **kwargs)\n",
        "test_loader = torch.utils.data.DataLoader(test_dataset,batch_size=batch_size, shuffle=False, **kwargs)"
      ],
      "execution_count": 0,
      "outputs": [
        {
          "output_type": "stream",
          "text": [
            "True\n",
            "54000 6000\n"
          ],
          "name": "stdout"
        }
      ]
    },
    {
      "cell_type": "code",
      "metadata": {
        "id": "nFE49A6lDJE_",
        "colab_type": "code",
        "colab": {}
      },
      "source": [
        "input_size=train_dataset[0][0].shape\n",
        "num_classes=len(train_dataset.classes)\n",
        "\n",
        "class Net(nn.Module):\n",
        "    def __init__(self,\n",
        "                 n_hidden,\n",
        "                 dropout,\n",
        "                 do_first_layer=True):\n",
        "        super(Net, self).__init__()\n",
        "        self.fc0 = nn.Linear(np.prod(input_size), n_hidden)\n",
        "        self.fc1 = nn.Linear(n_hidden, n_hidden*2)\n",
        "        self.fc2 = nn.Linear(n_hidden*2, n_hidden)\n",
        "        self.out = nn.Linear(n_hidden, num_classes)\n",
        "        self.dropout = nn.Dropout(dropout, )\n",
        "        self.do_first_layer = do_first_layer\n",
        "\n",
        "    def forward(self, x):\n",
        "        x = torch.flatten(x, 1)\n",
        "        x = self.fc0(x)\n",
        "        if self.do_first_layer:\n",
        "            x = self.dropout(x)\n",
        "        x_relu1 = self.fc1(x).clamp(min=0)  # basically relu\n",
        "        x = self.dropout(x_relu1)\n",
        "        x_relu2 = self.fc2(x_relu1).clamp(min=0)  # basically relu\n",
        "        x = self.dropout(x_relu2)\n",
        "        x = self.out(x)\n",
        "        output = F.log_softmax(x, dim=1)\n",
        "        return output"
      ],
      "execution_count": 0,
      "outputs": []
    },
    {
      "cell_type": "code",
      "metadata": {
        "id": "27iOBMERPkZO",
        "colab_type": "code",
        "colab": {}
      },
      "source": [
        "def train(model, device, train_loader, optimizer, epoch, mute=False):\n",
        "  train_loss = 0.0\n",
        "  total_train = 0\n",
        "  correct_train = 0\n",
        "  model.train()\n",
        "  for batch_idx, (data, target) in enumerate(train_loader):\n",
        "      data, target = data.to(device), target.to(device)\n",
        "      optimizer.zero_grad()\n",
        "      output = model(data)\n",
        "      loss = F.nll_loss(output, target)\n",
        "      loss.backward()\n",
        "      optimizer.step()\n",
        "      if (batch_idx % 10 == 0 and not mute):\n",
        "        display('Train Epoch: {} [{}/{} ({:.0f}%)] Loss: {:.6f}'.format(\n",
        "            epoch, batch_idx * len(data), len(train_loader.dataset),\n",
        "            100. * batch_idx / len(train_loader), loss.item()), display_id=str(epoch), update=True)\n",
        "      \n",
        "      # accuracy\n",
        "      _, predicted = torch.max(output.data, 1)\n",
        "      train_loss += loss.item()\n",
        "      total_train += target.nelement()  # number of pixel in the batch\n",
        "      correct_train += predicted.eq(target.data).sum().item() # sum all precited pixel values\n",
        "  \n",
        "  epoch_loss = train_loss / len(train_loader.dataset)\n",
        "  epoch_acc = 100.*(correct_train / total_train)\n",
        "  if not mute:\n",
        "      print('Train set: Average loss: {:.4f}, Accuracy: {}/{} {:.0f}%\\n'.format(\n",
        "      epoch_loss,correct_train, total_train, epoch_acc))\n",
        "  return epoch_loss,epoch_acc"
      ],
      "execution_count": 0,
      "outputs": []
    },
    {
      "cell_type": "code",
      "metadata": {
        "id": "AqFJ4lJtPk2A",
        "colab_type": "code",
        "colab": {}
      },
      "source": [
        "def test(model, device, test_loader, mute=False):\n",
        "  model.eval()\n",
        "  test_loss = 0\n",
        "  correct = 0\n",
        "  with torch.no_grad():\n",
        "      for data, target in test_loader:\n",
        "          data, target = data.to(device), target.to(device)\n",
        "          output = model(data)\n",
        "          test_loss += F.nll_loss(output, target, reduction='sum').item()  # sum up batch loss\n",
        "          pred = output.argmax(dim=1, keepdim=True)  # get the index of the max log-probability\n",
        "          correct += pred.eq(target.view_as(pred)).sum().item()\n",
        "\n",
        "  test_loss /= len(test_loader.dataset)\n",
        "  accuracy=100. * correct / len(test_loader.dataset)\n",
        "\n",
        "  if not mute:\n",
        "      print('Val set: Average loss: {:.4f}, Accuracy: {}/{} ({:.0f}%)\\n'.format(\n",
        "      test_loss, correct, len(test_loader.dataset),\n",
        "      accuracy))\n",
        "  return test_loss,accuracy"
      ],
      "execution_count": 0,
      "outputs": []
    },
    {
      "cell_type": "code",
      "metadata": {
        "id": "oVRgtWxHE8QD",
        "colab_type": "code",
        "colab": {}
      },
      "source": [
        "def init_weights_xavier(m):\n",
        "    if type(m) == nn.Linear:\n",
        "        torch.nn.init.xavier_uniform_(m.weight)\n",
        "        m.bias.data.fill_(0.01)"
      ],
      "execution_count": 0,
      "outputs": []
    },
    {
      "cell_type": "code",
      "metadata": {
        "id": "3ywgS7NVFzfe",
        "colab_type": "code",
        "colab": {}
      },
      "source": [
        "def init_weights_he(m):\n",
        "    if type(m) == nn.Linear:\n",
        "        torch.nn.init.kaiming_uniform_(m.weight)"
      ],
      "execution_count": 0,
      "outputs": []
    },
    {
      "cell_type": "code",
      "metadata": {
        "id": "qBBGmqpCiLhj",
        "colab_type": "code",
        "colab": {}
      },
      "source": [
        "device = torch.device(\"cuda\" if use_cuda else \"cpu\")"
      ],
      "execution_count": 0,
      "outputs": []
    },
    {
      "cell_type": "code",
      "metadata": {
        "id": "tVQgpBsK_-Qv",
        "colab_type": "code",
        "colab": {}
      },
      "source": [
        "epochs = 30\n",
        "\n",
        "start_time = time.time()\n",
        "\n",
        "model = Net(1200, 0.4).to(device)\n",
        "optimizer = optim.Adam(model.parameters(), lr=0.001)\n",
        "scheduler = StepLR(optimizer, step_size=2, gamma=0.7)"
      ],
      "execution_count": 0,
      "outputs": []
    },
    {
      "cell_type": "code",
      "metadata": {
        "id": "u_zqaP98FlVu",
        "colab_type": "code",
        "outputId": "b980fd82-5287-41e8-9886-a71cdb4488eb",
        "colab": {
          "base_uri": "https://localhost:8080/",
          "height": 146
        }
      },
      "source": [
        "model.apply(init_weights_xavier)"
      ],
      "execution_count": 0,
      "outputs": [
        {
          "output_type": "execute_result",
          "data": {
            "text/plain": [
              "Net(\n",
              "  (fc0): Linear(in_features=784, out_features=1200, bias=True)\n",
              "  (fc1): Linear(in_features=1200, out_features=2400, bias=True)\n",
              "  (fc2): Linear(in_features=2400, out_features=1200, bias=True)\n",
              "  (out): Linear(in_features=1200, out_features=10, bias=True)\n",
              "  (dropout): Dropout(p=0.4, inplace=False)\n",
              ")"
            ]
          },
          "metadata": {
            "tags": []
          },
          "execution_count": 19
        }
      ]
    },
    {
      "cell_type": "code",
      "metadata": {
        "id": "HASKEgoVDnFF",
        "colab_type": "code",
        "outputId": "1cae1add-ed2c-4176-deb9-39fb4cbfac26",
        "colab": {
          "base_uri": "https://localhost:8080/",
          "height": 1000
        }
      },
      "source": [
        "train_accuracies,val_accuracies=[],[]\n",
        "train_losses,val_losses=[],[]\n",
        "for epoch in range(1, epochs + 1):\n",
        "    epoch_start = time.time()\n",
        "    train_loss,train_accuracy=train(model, device, train_loader, optimizer, epoch)\n",
        "    train_accuracies.append(train_accuracy)\n",
        "    train_losses.append(train_loss)\n",
        "    val_loss,val_accuracy=test(model, device, val_loader)\n",
        "    val_accuracies.append(val_accuracy)\n",
        "    val_losses.append(val_loss)\n",
        "    scheduler.step()\n",
        "    epoch_time = round(time.time() - epoch_start, 2)\n",
        "    print(f'Epoch Train Time: {int(epoch_time // 60)}m {epoch_time % 60}s\\n')\n",
        "\n",
        "elapsed = time.time() - start_time\n",
        "print(f'Training complete in {int(elapsed // 60)}m {elapsed // 60}s')"
      ],
      "execution_count": 0,
      "outputs": [
        {
          "output_type": "display_data",
          "data": {
            "text/plain": [
              "'Train Epoch: 1 [53760/54000 (100%)] Loss: 0.333799'"
            ]
          },
          "metadata": {
            "tags": []
          }
        },
        {
          "output_type": "stream",
          "text": [
            "Train set: Average loss: 0.0024, Accuracy: 49186/54000 91%\n",
            "\n",
            "Val set: Average loss: 0.2011, Accuracy: 5666/6000 (94%)\n",
            "\n",
            "Epoch Train Time: 0m 9.46s\n",
            "\n"
          ],
          "name": "stdout"
        },
        {
          "output_type": "display_data",
          "data": {
            "text/plain": [
              "'Train Epoch: 2 [53760/54000 (100%)] Loss: 0.111017'"
            ]
          },
          "metadata": {
            "tags": []
          }
        },
        {
          "output_type": "stream",
          "text": [
            "Train set: Average loss: 0.0013, Accuracy: 51330/54000 95%\n",
            "\n",
            "Val set: Average loss: 0.1552, Accuracy: 5727/6000 (95%)\n",
            "\n",
            "Epoch Train Time: 0m 9.35s\n",
            "\n"
          ],
          "name": "stdout"
        },
        {
          "output_type": "display_data",
          "data": {
            "text/plain": [
              "'Train Epoch: 3 [53760/54000 (100%)] Loss: 0.120124'"
            ]
          },
          "metadata": {
            "tags": []
          }
        },
        {
          "output_type": "stream",
          "text": [
            "Train set: Average loss: 0.0009, Accuracy: 52182/54000 97%\n",
            "\n",
            "Val set: Average loss: 0.1029, Accuracy: 5815/6000 (97%)\n",
            "\n",
            "Epoch Train Time: 0m 9.39s\n",
            "\n"
          ],
          "name": "stdout"
        },
        {
          "output_type": "display_data",
          "data": {
            "text/plain": [
              "'Train Epoch: 4 [53760/54000 (100%)] Loss: 0.090298'"
            ]
          },
          "metadata": {
            "tags": []
          }
        },
        {
          "output_type": "stream",
          "text": [
            "Train set: Average loss: 0.0007, Accuracy: 52482/54000 97%\n",
            "\n",
            "Val set: Average loss: 0.0925, Accuracy: 5832/6000 (97%)\n",
            "\n",
            "Epoch Train Time: 0m 9.44s\n",
            "\n"
          ],
          "name": "stdout"
        },
        {
          "output_type": "display_data",
          "data": {
            "text/plain": [
              "'Train Epoch: 5 [53760/54000 (100%)] Loss: 0.068606'"
            ]
          },
          "metadata": {
            "tags": []
          }
        },
        {
          "output_type": "stream",
          "text": [
            "Train set: Average loss: 0.0005, Accuracy: 53001/54000 98%\n",
            "\n",
            "Val set: Average loss: 0.0933, Accuracy: 5851/6000 (98%)\n",
            "\n",
            "Epoch Train Time: 0m 9.39s\n",
            "\n"
          ],
          "name": "stdout"
        },
        {
          "output_type": "display_data",
          "data": {
            "text/plain": [
              "'Train Epoch: 6 [53760/54000 (100%)] Loss: 0.030266'"
            ]
          },
          "metadata": {
            "tags": []
          }
        },
        {
          "output_type": "stream",
          "text": [
            "Train set: Average loss: 0.0004, Accuracy: 53082/54000 98%\n",
            "\n",
            "Val set: Average loss: 0.0860, Accuracy: 5866/6000 (98%)\n",
            "\n",
            "Epoch Train Time: 0m 9.58s\n",
            "\n"
          ],
          "name": "stdout"
        },
        {
          "output_type": "display_data",
          "data": {
            "text/plain": [
              "'Train Epoch: 7 [53760/54000 (100%)] Loss: 0.094050'"
            ]
          },
          "metadata": {
            "tags": []
          }
        },
        {
          "output_type": "stream",
          "text": [
            "Train set: Average loss: 0.0003, Accuracy: 53397/54000 99%\n",
            "\n",
            "Val set: Average loss: 0.0679, Accuracy: 5888/6000 (98%)\n",
            "\n",
            "Epoch Train Time: 0m 9.46s\n",
            "\n"
          ],
          "name": "stdout"
        },
        {
          "output_type": "display_data",
          "data": {
            "text/plain": [
              "'Train Epoch: 8 [53760/54000 (100%)] Loss: 0.014922'"
            ]
          },
          "metadata": {
            "tags": []
          }
        },
        {
          "output_type": "stream",
          "text": [
            "Train set: Average loss: 0.0002, Accuracy: 53443/54000 99%\n",
            "\n",
            "Val set: Average loss: 0.0777, Accuracy: 5892/6000 (98%)\n",
            "\n",
            "Epoch Train Time: 0m 9.31s\n",
            "\n"
          ],
          "name": "stdout"
        },
        {
          "output_type": "display_data",
          "data": {
            "text/plain": [
              "'Train Epoch: 9 [53760/54000 (100%)] Loss: 0.012428'"
            ]
          },
          "metadata": {
            "tags": []
          }
        },
        {
          "output_type": "stream",
          "text": [
            "Train set: Average loss: 0.0002, Accuracy: 53616/54000 99%\n",
            "\n",
            "Val set: Average loss: 0.0759, Accuracy: 5887/6000 (98%)\n",
            "\n",
            "Epoch Train Time: 0m 9.36s\n",
            "\n"
          ],
          "name": "stdout"
        },
        {
          "output_type": "display_data",
          "data": {
            "text/plain": [
              "'Train Epoch: 10 [53760/54000 (100%)] Loss: 0.006171'"
            ]
          },
          "metadata": {
            "tags": []
          }
        },
        {
          "output_type": "stream",
          "text": [
            "Train set: Average loss: 0.0001, Accuracy: 53721/54000 99%\n",
            "\n",
            "Val set: Average loss: 0.0653, Accuracy: 5906/6000 (98%)\n",
            "\n",
            "Epoch Train Time: 0m 9.4s\n",
            "\n"
          ],
          "name": "stdout"
        },
        {
          "output_type": "display_data",
          "data": {
            "text/plain": [
              "'Train Epoch: 11 [53760/54000 (100%)] Loss: 0.035224'"
            ]
          },
          "metadata": {
            "tags": []
          }
        },
        {
          "output_type": "stream",
          "text": [
            "Train set: Average loss: 0.0001, Accuracy: 53757/54000 100%\n",
            "\n",
            "Val set: Average loss: 0.0704, Accuracy: 5906/6000 (98%)\n",
            "\n",
            "Epoch Train Time: 0m 9.42s\n",
            "\n"
          ],
          "name": "stdout"
        },
        {
          "output_type": "display_data",
          "data": {
            "text/plain": [
              "'Train Epoch: 12 [53760/54000 (100%)] Loss: 0.006934'"
            ]
          },
          "metadata": {
            "tags": []
          }
        },
        {
          "output_type": "stream",
          "text": [
            "Train set: Average loss: 0.0001, Accuracy: 53811/54000 100%\n",
            "\n",
            "Val set: Average loss: 0.0706, Accuracy: 5895/6000 (98%)\n",
            "\n",
            "Epoch Train Time: 0m 9.33s\n",
            "\n"
          ],
          "name": "stdout"
        },
        {
          "output_type": "display_data",
          "data": {
            "text/plain": [
              "'Train Epoch: 13 [53760/54000 (100%)] Loss: 0.002823'"
            ]
          },
          "metadata": {
            "tags": []
          }
        },
        {
          "output_type": "stream",
          "text": [
            "Train set: Average loss: 0.0001, Accuracy: 53879/54000 100%\n",
            "\n",
            "Val set: Average loss: 0.0730, Accuracy: 5901/6000 (98%)\n",
            "\n",
            "Epoch Train Time: 0m 9.43s\n",
            "\n"
          ],
          "name": "stdout"
        },
        {
          "output_type": "display_data",
          "data": {
            "text/plain": [
              "'Train Epoch: 14 [53760/54000 (100%)] Loss: 0.022831'"
            ]
          },
          "metadata": {
            "tags": []
          }
        },
        {
          "output_type": "stream",
          "text": [
            "Train set: Average loss: 0.0001, Accuracy: 53872/54000 100%\n",
            "\n",
            "Val set: Average loss: 0.0690, Accuracy: 5907/6000 (98%)\n",
            "\n",
            "Epoch Train Time: 0m 9.71s\n",
            "\n"
          ],
          "name": "stdout"
        },
        {
          "output_type": "display_data",
          "data": {
            "text/plain": [
              "'Train Epoch: 15 [53760/54000 (100%)] Loss: 0.000757'"
            ]
          },
          "metadata": {
            "tags": []
          }
        },
        {
          "output_type": "stream",
          "text": [
            "Train set: Average loss: 0.0000, Accuracy: 53909/54000 100%\n",
            "\n",
            "Val set: Average loss: 0.0674, Accuracy: 5906/6000 (98%)\n",
            "\n",
            "Epoch Train Time: 0m 9.52s\n",
            "\n"
          ],
          "name": "stdout"
        },
        {
          "output_type": "display_data",
          "data": {
            "text/plain": [
              "'Train Epoch: 16 [53760/54000 (100%)] Loss: 0.000538'"
            ]
          },
          "metadata": {
            "tags": []
          }
        },
        {
          "output_type": "stream",
          "text": [
            "Train set: Average loss: 0.0000, Accuracy: 53942/54000 100%\n",
            "\n",
            "Val set: Average loss: 0.0690, Accuracy: 5908/6000 (98%)\n",
            "\n",
            "Epoch Train Time: 0m 9.26s\n",
            "\n"
          ],
          "name": "stdout"
        },
        {
          "output_type": "display_data",
          "data": {
            "text/plain": [
              "'Train Epoch: 17 [53760/54000 (100%)] Loss: 0.000244'"
            ]
          },
          "metadata": {
            "tags": []
          }
        },
        {
          "output_type": "stream",
          "text": [
            "Train set: Average loss: 0.0000, Accuracy: 53950/54000 100%\n",
            "\n",
            "Val set: Average loss: 0.0633, Accuracy: 5910/6000 (98%)\n",
            "\n",
            "Epoch Train Time: 0m 9.33s\n",
            "\n"
          ],
          "name": "stdout"
        },
        {
          "output_type": "display_data",
          "data": {
            "text/plain": [
              "'Train Epoch: 18 [53760/54000 (100%)] Loss: 0.000131'"
            ]
          },
          "metadata": {
            "tags": []
          }
        },
        {
          "output_type": "stream",
          "text": [
            "Train set: Average loss: 0.0000, Accuracy: 53953/54000 100%\n",
            "\n",
            "Val set: Average loss: 0.0698, Accuracy: 5909/6000 (98%)\n",
            "\n",
            "Epoch Train Time: 0m 9.39s\n",
            "\n"
          ],
          "name": "stdout"
        },
        {
          "output_type": "display_data",
          "data": {
            "text/plain": [
              "'Train Epoch: 19 [53760/54000 (100%)] Loss: 0.000032'"
            ]
          },
          "metadata": {
            "tags": []
          }
        },
        {
          "output_type": "stream",
          "text": [
            "Train set: Average loss: 0.0000, Accuracy: 53957/54000 100%\n",
            "\n",
            "Val set: Average loss: 0.0705, Accuracy: 5913/6000 (99%)\n",
            "\n",
            "Epoch Train Time: 0m 9.25s\n",
            "\n"
          ],
          "name": "stdout"
        },
        {
          "output_type": "display_data",
          "data": {
            "text/plain": [
              "'Train Epoch: 20 [53760/54000 (100%)] Loss: 0.001428'"
            ]
          },
          "metadata": {
            "tags": []
          }
        },
        {
          "output_type": "stream",
          "text": [
            "Train set: Average loss: 0.0000, Accuracy: 53965/54000 100%\n",
            "\n",
            "Val set: Average loss: 0.0694, Accuracy: 5916/6000 (99%)\n",
            "\n",
            "Epoch Train Time: 0m 9.38s\n",
            "\n"
          ],
          "name": "stdout"
        },
        {
          "output_type": "display_data",
          "data": {
            "text/plain": [
              "'Train Epoch: 21 [53760/54000 (100%)] Loss: 0.001527'"
            ]
          },
          "metadata": {
            "tags": []
          }
        },
        {
          "output_type": "stream",
          "text": [
            "Train set: Average loss: 0.0000, Accuracy: 53967/54000 100%\n",
            "\n",
            "Val set: Average loss: 0.0696, Accuracy: 5917/6000 (99%)\n",
            "\n",
            "Epoch Train Time: 0m 9.44s\n",
            "\n"
          ],
          "name": "stdout"
        },
        {
          "output_type": "display_data",
          "data": {
            "text/plain": [
              "'Train Epoch: 22 [53760/54000 (100%)] Loss: 0.000109'"
            ]
          },
          "metadata": {
            "tags": []
          }
        },
        {
          "output_type": "stream",
          "text": [
            "Train set: Average loss: 0.0000, Accuracy: 53976/54000 100%\n",
            "\n",
            "Val set: Average loss: 0.0703, Accuracy: 5915/6000 (99%)\n",
            "\n",
            "Epoch Train Time: 0m 9.35s\n",
            "\n"
          ],
          "name": "stdout"
        },
        {
          "output_type": "display_data",
          "data": {
            "text/plain": [
              "'Train Epoch: 23 [53760/54000 (100%)] Loss: 0.000101'"
            ]
          },
          "metadata": {
            "tags": []
          }
        },
        {
          "output_type": "stream",
          "text": [
            "Train set: Average loss: 0.0000, Accuracy: 53973/54000 100%\n",
            "\n",
            "Val set: Average loss: 0.0706, Accuracy: 5911/6000 (99%)\n",
            "\n",
            "Epoch Train Time: 0m 9.49s\n",
            "\n"
          ],
          "name": "stdout"
        },
        {
          "output_type": "display_data",
          "data": {
            "text/plain": [
              "'Train Epoch: 24 [53760/54000 (100%)] Loss: 0.002455'"
            ]
          },
          "metadata": {
            "tags": []
          }
        },
        {
          "output_type": "stream",
          "text": [
            "Train set: Average loss: 0.0000, Accuracy: 53977/54000 100%\n",
            "\n",
            "Val set: Average loss: 0.0707, Accuracy: 5913/6000 (99%)\n",
            "\n",
            "Epoch Train Time: 0m 9.38s\n",
            "\n"
          ],
          "name": "stdout"
        },
        {
          "output_type": "display_data",
          "data": {
            "text/plain": [
              "'Train Epoch: 25 [53760/54000 (100%)] Loss: 0.000978'"
            ]
          },
          "metadata": {
            "tags": []
          }
        },
        {
          "output_type": "stream",
          "text": [
            "Train set: Average loss: 0.0000, Accuracy: 53981/54000 100%\n",
            "\n",
            "Val set: Average loss: 0.0683, Accuracy: 5918/6000 (99%)\n",
            "\n",
            "Epoch Train Time: 0m 9.54s\n",
            "\n"
          ],
          "name": "stdout"
        },
        {
          "output_type": "display_data",
          "data": {
            "text/plain": [
              "'Train Epoch: 26 [53760/54000 (100%)] Loss: 0.000347'"
            ]
          },
          "metadata": {
            "tags": []
          }
        },
        {
          "output_type": "stream",
          "text": [
            "Train set: Average loss: 0.0000, Accuracy: 53974/54000 100%\n",
            "\n",
            "Val set: Average loss: 0.0678, Accuracy: 5922/6000 (99%)\n",
            "\n",
            "Epoch Train Time: 0m 9.39s\n",
            "\n"
          ],
          "name": "stdout"
        },
        {
          "output_type": "display_data",
          "data": {
            "text/plain": [
              "'Train Epoch: 27 [53760/54000 (100%)] Loss: 0.014362'"
            ]
          },
          "metadata": {
            "tags": []
          }
        },
        {
          "output_type": "stream",
          "text": [
            "Train set: Average loss: 0.0000, Accuracy: 53979/54000 100%\n",
            "\n",
            "Val set: Average loss: 0.0688, Accuracy: 5920/6000 (99%)\n",
            "\n",
            "Epoch Train Time: 0m 9.29s\n",
            "\n"
          ],
          "name": "stdout"
        },
        {
          "output_type": "display_data",
          "data": {
            "text/plain": [
              "'Train Epoch: 28 [53760/54000 (100%)] Loss: 0.000114'"
            ]
          },
          "metadata": {
            "tags": []
          }
        },
        {
          "output_type": "stream",
          "text": [
            "Train set: Average loss: 0.0000, Accuracy: 53987/54000 100%\n",
            "\n",
            "Val set: Average loss: 0.0690, Accuracy: 5923/6000 (99%)\n",
            "\n",
            "Epoch Train Time: 0m 9.33s\n",
            "\n"
          ],
          "name": "stdout"
        },
        {
          "output_type": "display_data",
          "data": {
            "text/plain": [
              "'Train Epoch: 29 [53760/54000 (100%)] Loss: 0.000483'"
            ]
          },
          "metadata": {
            "tags": []
          }
        },
        {
          "output_type": "stream",
          "text": [
            "Train set: Average loss: 0.0000, Accuracy: 53986/54000 100%\n",
            "\n",
            "Val set: Average loss: 0.0694, Accuracy: 5922/6000 (99%)\n",
            "\n",
            "Epoch Train Time: 0m 9.35s\n",
            "\n"
          ],
          "name": "stdout"
        },
        {
          "output_type": "display_data",
          "data": {
            "text/plain": [
              "'Train Epoch: 30 [53760/54000 (100%)] Loss: 0.000156'"
            ]
          },
          "metadata": {
            "tags": []
          }
        },
        {
          "output_type": "stream",
          "text": [
            "Train set: Average loss: 0.0000, Accuracy: 53985/54000 100%\n",
            "\n",
            "Val set: Average loss: 0.0687, Accuracy: 5921/6000 (99%)\n",
            "\n",
            "Epoch Train Time: 0m 9.39s\n",
            "\n",
            "Training complete in 4m 4.0s\n"
          ],
          "name": "stdout"
        }
      ]
    },
    {
      "cell_type": "code",
      "metadata": {
        "id": "qI-_AIpWk0hz",
        "colab_type": "code",
        "outputId": "fa337e14-b986-481a-8511-b48aa9a08662",
        "colab": {
          "base_uri": "https://localhost:8080/",
          "height": 313
        }
      },
      "source": [
        "print(len(train_accuracies),len(val_accuracies))\n",
        "epochs = range(1, len(train_accuracies) + 1)\n",
        "\n",
        "plt.plot(epochs, train_accuracies, 'r', label='Training acc')\n",
        "plt.plot(epochs, val_accuracies, 'b', label='Validation acc')\n",
        "plt.title('Training and validation accuracy')\n",
        "plt.xlabel('Epochs')\n",
        "plt.ylabel('Accuracy')\n",
        "plt.legend()\n",
        "\n",
        "plt.show()"
      ],
      "execution_count": 0,
      "outputs": [
        {
          "output_type": "stream",
          "text": [
            "30 30\n"
          ],
          "name": "stdout"
        },
        {
          "output_type": "display_data",
          "data": {
            "image/png": "[encoded data removed]",
            "text/plain": [
              "<Figure size 432x288 with 1 Axes>"
            ]
          },
          "metadata": {
            "tags": [],
            "needs_background": "light"
          }
        }
      ]
    },
    {
      "cell_type": "code",
      "metadata": {
        "id": "35_FG8BNWLJQ",
        "colab_type": "code",
        "outputId": "3b4d0acb-04e7-4441-864a-79bb8beba932",
        "colab": {
          "base_uri": "https://localhost:8080/",
          "height": 313
        }
      },
      "source": [
        "print(len(train_losses),len(val_losses))\n",
        "epochs = range(1, len(train_losses) + 1)\n",
        "\n",
        "plt.plot(epochs, train_losses, 'r', label='Training loss')\n",
        "plt.plot(epochs, val_losses, 'b', label='Validation loss')\n",
        "plt.title('Training and validation loss')\n",
        "plt.xlabel('Epochs')\n",
        "plt.ylabel('Loss')\n",
        "plt.legend()\n",
        "\n",
        "plt.show()"
      ],
      "execution_count": 0,
      "outputs": [
        {
          "output_type": "stream",
          "text": [
            "30 30\n"
          ],
          "name": "stdout"
        },
        {
          "output_type": "display_data",
          "data": {
            "image/png": "[encoded data removed]",
            "text/plain": [
              "<Figure size 432x288 with 1 Axes>"
            ]
          },
          "metadata": {
            "tags": [],
            "needs_background": "light"
          }
        }
      ]
    },
    {
      "cell_type": "code",
      "metadata": {
        "id": "NzlWzDE-wiX_",
        "colab_type": "code",
        "outputId": "c8092f70-0b23-408e-94a9-7b3737f015b2",
        "colab": {
          "base_uri": "https://localhost:8080/",
          "height": 90
        }
      },
      "source": [
        "score = test(model, device, test_loader)\n",
        "print('Test loss:', score[0])\n",
        "print('Test accuracy:', score[1])"
      ],
      "execution_count": 0,
      "outputs": [
        {
          "output_type": "stream",
          "text": [
            "Val set: Average loss: 0.0717, Accuracy: 9874/10000 (99%)\n",
            "\n",
            "Test loss: 0.07174887809753418\n",
            "Test accuracy: 98.74\n"
          ],
          "name": "stdout"
        }
      ]
    },
    {
      "cell_type": "markdown",
      "metadata": {
        "id": "b9tPHHScagW8",
        "colab_type": "text"
      },
      "source": [
        "### SGD tests (lr 0.1)\n",
        "- From the start: dropout (0.3); increased number of hidden layers (1) and nodes (1000): **94%**;\n",
        "- 2 hidden (784, 1000, 2000, 1000, out); Relu at fc1 and fc2: **98.06%**;\n",
        "- Dropout 0.4 and 0.35 peaked ~ 97.73%. It appears that 0.3 is the best, but we'll try less instead.\n",
        "- 1200-2400: **98.17%**;\n",
        "- Decreasing dropout to 0.2 yielded worse results on both dev and test sets. Seems like 0.3 is the best.\n",
        "- Increasing number of neurons until it caps the accuracy by this means (should not exactly overfit since we have regularization)\n",
        "- Both dev and test accuracy decreased at 1400. Seems like 1200 is the best choice for 2-layer configuration.\n",
        "- 0.1 -> 0.05 lr. Appears stuck on a suboptimal solution *(97.5%)*.\n",
        "- 0.7 -> 0.5 scheduler gamma - worse;\n",
        "- Not dropping out fc0: *98.13%*.\n",
        "- Avg time: 4m 04s per 20 epochs."
      ]
    },
    {
      "cell_type": "markdown",
      "metadata": {
        "id": "9kKeZXslkx5n",
        "colab_type": "text"
      },
      "source": [
        "### Adam (lr 0.001):\n",
        "- **98.49%**. It appears that change in optimizer did not affect training time (4:04 as before)\n",
        "- Dev loss fluctuates wildly; let's try larger dropout, 0.4.\n",
        "- Larger dropout did not affect accuracy at all. However, dev loss optima (according to graph) was at ~18 epochs. Let's train less.\n",
        "- It was a correct decision: 18 epochs yielded **98.62%**.\n",
        "- 1400 nodes, old (0.3) dropout: *98.59*.\n",
        "- Best parameters so far: 1200 + 0.4 at 18 epochs. Let's play with regularization.\n",
        "- Introduced **weight decay (l2 regularization)** to Adam while keeping dropout.\n",
        "- 0.1: immediate sharp decrease, did not go past first two epochs;\n",
        "- 0.01: seems stuck at a suboptimal solution.\n",
        "- 0.001: 98.26%.\n",
        "- 0.001 + 0.3 d/o: 98.31%, although l2 in combination with d/o doesn't seem to be working out as well. Let's turn off dropout.\n",
        "- L2 alone yields worse results than initial net. It seems d/o is better suited for the task."
      ]
    },
    {
      "cell_type": "markdown",
      "metadata": {
        "id": "sJSPuO04Cinh",
        "colab_type": "text"
      },
      "source": [
        "## Trying different weight initializations"
      ]
    },
    {
      "cell_type": "markdown",
      "metadata": {
        "id": "_C6-6XqsDkGM",
        "colab_type": "text"
      },
      "source": [
        "Since we are using ReLU, standard initializations to try would be Xavier and Kaiming (He et al., 2015). Let's try both.\n",
        "- Xavier: immediately improved accuracy on the same 20 epochs to 98.58% (there is, however, no local optimum for val loss in the closest epochs). Additionally, training time drastically improved, dropping from 4:04 to 3:03.\n",
        "- 25 epochs yielded **98.7%**, which is the new best result (with no increase in training time). Let's try and increase epochs until it starts overfitting.\n",
        "- 30 epochs - **98.74%**; any more than that overfits. Let's try kaiming.\n",
        "- 17 epochs yielded 98.7% accuracy (as did 19 with 0.4 dropout rate), but any more than that worsens the performance; plus, it seems unreliable. It appears that xavier is better for the task at hand."
      ]
    },
    {
      "cell_type": "markdown",
      "metadata": {
        "id": "tUjZVmhTjKhN",
        "colab_type": "text"
      },
      "source": [
        "Since we have figured out what parameters affect accuracy, let us try and iterate through some configurations to pick the best one."
      ]
    },
    {
      "cell_type": "markdown",
      "metadata": {
        "id": "vMvA5P0FlGO_",
        "colab_type": "text"
      },
      "source": [
        "We've decided to not alter architecture too much and sticked to 3 hidden layers + relu. Still, parameters that affected accuracy are num of epochs, whether we dropout the first layer or not, as well as dropout rate, num of hidden units, epochs and chosen initialization function (xavier vs kaming). We will pick very few parameters, since training still takes 3-4 minutes per configuration, and even 32 combinations will take ~2 hours on average."
      ]
    },
    {
      "cell_type": "code",
      "metadata": {
        "id": "Vng0e0JQjlDd",
        "colab_type": "code",
        "colab": {}
      },
      "source": [
        "best_config = {'val_loss': 999999999999999}\n",
        "second_best = {'val_loss': 999999999999999}"
      ],
      "execution_count": 0,
      "outputs": []
    },
    {
      "cell_type": "code",
      "metadata": {
        "id": "eDCu6ZyKTq49",
        "colab_type": "code",
        "colab": {}
      },
      "source": [
        "parameters = {\n",
        "    'first_layer_dropout': [True, False],\n",
        "    'dropout_rate': [0.3, 0.4],\n",
        "    'num_hidden': [1000, 1200],\n",
        "    'num_epochs': [20, 25],\n",
        "    'weight_init': ['he', 'xavier']\n",
        "}"
      ],
      "execution_count": 0,
      "outputs": []
    },
    {
      "cell_type": "code",
      "metadata": {
        "id": "sQUdOvHbjZGY",
        "colab_type": "code",
        "colab": {}
      },
      "source": [
        "def grid_search(parameters):\n",
        "    global best_config\n",
        "    global second_best\n",
        "    \n",
        "    total_time = 0\n",
        "    counter = 1\n",
        "    for do_first in parameters['first_layer_dropout']:\n",
        "        for do_rate in parameters['dropout_rate']:\n",
        "            for n_hidden in parameters['num_hidden']:\n",
        "                for n_epochs in parameters['num_epochs']:\n",
        "                    for w_init in parameters['weight_init']:\n",
        "                        epochs = n_epochs\n",
        "                        start_time = time.time()\n",
        "\n",
        "                        model = Net(n_hidden, do_rate, do_first).to(device)\n",
        "                        optimizer = optim.Adam(model.parameters(), lr=0.001)\n",
        "                        scheduler = StepLR(optimizer, step_size=2, gamma=0.7)\n",
        "                        \n",
        "                        if w_init == 'xavier':\n",
        "                            model.apply(init_weights_xavier)\n",
        "                        else:\n",
        "                            model.apply(init_weights_he)\n",
        "                        \n",
        "                        train_accuracies,val_accuracies=[],[]\n",
        "                        train_losses,val_losses=[],[]\n",
        "                        \n",
        "                        for epoch in range(1, epochs + 1):\n",
        "                            epoch_start = time.time()\n",
        "                            train_loss,train_accuracy=train(model, device, train_loader, optimizer, epoch, mute=True)\n",
        "                            train_accuracies.append(train_accuracy)\n",
        "                            train_losses.append(train_loss)\n",
        "                            val_loss,val_accuracy=test(model, device, val_loader, mute=True)\n",
        "                            val_accuracies.append(val_accuracy)\n",
        "                            val_losses.append(val_loss)\n",
        "                            scheduler.step()\n",
        "                        elapsed = time.time() - start_time\n",
        "                        total_time += elapsed \n",
        "                        average_time = total_time / counter\n",
        "                        remaining_time = average_time * (32 - counter)\n",
        "                        t_minutes, t_seconds = int(total_time//60), int(total_time%60)\n",
        "                        r_minutes, r_seconds = int(remaining_time//60), int(remaining_time%60)\n",
        "                        total_time_string = f'{t_minutes}m {t_seconds}s'\n",
        "                        remaining_time_string = f'{r_minutes}m {r_seconds}s'\n",
        "\n",
        "                        val_loss, val_accuracy = test(model, device, val_loader, mute=True)\n",
        "\n",
        "                        print(f'Iteration {counter}/32, time elapsed: {total_time_string}, time remaining: {remaining_time_string}. \\n \\\n",
        "                        Num of epochs: {n_epochs}, First layer dropout: {do_first}, Dropout rate: {do_rate}, \\n \\\n",
        "                        Num of hidden units: {n_hidden}, Weight intialization: {w_init}.\\n')\n",
        "                        test(model, device, val_loader)\n",
        "\n",
        "                        if val_loss < best_config['val_loss']:\n",
        "                            second_best = best_config\n",
        "                            best_config = {'val_accuracy': val_accuracy,\n",
        "                                           'val_loss': val_loss,\n",
        "                                           'time': elapsed,\n",
        "                                           'first_layer_dropout': do_first,\n",
        "                                           'dropout_rate': do_rate,\n",
        "                                           'num_hidden': n_hidden,\n",
        "                                           'num_epochs': n_epochs,\n",
        "                                           'initialization': w_init}\n",
        "                            \n",
        "                            with open('best_configs.pkl', 'wb') as to_save:  # backing up\n",
        "                                pickle.dump((best_config, second_best), to_save)\n",
        "                            to_save.close()\n",
        "                        \n",
        "\n",
        "                        counter += 1"
      ],
      "execution_count": 0,
      "outputs": []
    },
    {
      "cell_type": "code",
      "metadata": {
        "id": "l4tN9XFDojoY",
        "colab_type": "code",
        "outputId": "bd3f9f2b-2459-469c-8d9c-d53896219a7f",
        "colab": {
          "base_uri": "https://localhost:8080/",
          "height": 1000
        }
      },
      "source": [
        "grid_search(parameters)"
      ],
      "execution_count": 0,
      "outputs": [
        {
          "output_type": "stream",
          "text": [
            "Iteration 1/32, time elapsed: 3m 1s, time remaining: 93m 45s. \n",
            "                         Num of epochs: 20, First layer dropout: True, Dropout rate: 0.3, \n",
            "                         Num of hidden units: 1000, Weight intialization: he.\n",
            "\n",
            "Val set: Average loss: 0.0700, Accuracy: 5912/6000 (99%)\n",
            "\n",
            "Iteration 2/32, time elapsed: 6m 4s, time remaining: 91m 2s. \n",
            "                         Num of epochs: 20, First layer dropout: True, Dropout rate: 0.3, \n",
            "                         Num of hidden units: 1000, Weight intialization: xavier.\n",
            "\n",
            "Val set: Average loss: 0.0783, Accuracy: 5913/6000 (99%)\n",
            "\n",
            "Iteration 3/32, time elapsed: 9m 49s, time remaining: 94m 58s. \n",
            "                         Num of epochs: 25, First layer dropout: True, Dropout rate: 0.3, \n",
            "                         Num of hidden units: 1000, Weight intialization: he.\n",
            "\n",
            "Val set: Average loss: 0.0744, Accuracy: 5916/6000 (99%)\n",
            "\n",
            "Iteration 4/32, time elapsed: 13m 37s, time remaining: 95m 19s. \n",
            "                         Num of epochs: 25, First layer dropout: True, Dropout rate: 0.3, \n",
            "                         Num of hidden units: 1000, Weight intialization: xavier.\n",
            "\n",
            "Val set: Average loss: 0.0736, Accuracy: 5908/6000 (98%)\n",
            "\n",
            "Iteration 5/32, time elapsed: 16m 40s, time remaining: 90m 2s. \n",
            "                         Num of epochs: 20, First layer dropout: True, Dropout rate: 0.3, \n",
            "                         Num of hidden units: 1200, Weight intialization: he.\n",
            "\n",
            "Val set: Average loss: 0.0685, Accuracy: 5910/6000 (98%)\n",
            "\n",
            "Iteration 6/32, time elapsed: 19m 40s, time remaining: 85m 15s. \n",
            "                         Num of epochs: 20, First layer dropout: True, Dropout rate: 0.3, \n",
            "                         Num of hidden units: 1200, Weight intialization: xavier.\n",
            "\n",
            "Val set: Average loss: 0.0717, Accuracy: 5916/6000 (99%)\n",
            "\n",
            "Iteration 7/32, time elapsed: 23m 24s, time remaining: 83m 36s. \n",
            "                         Num of epochs: 25, First layer dropout: True, Dropout rate: 0.3, \n",
            "                         Num of hidden units: 1200, Weight intialization: he.\n",
            "\n",
            "Val set: Average loss: 0.0759, Accuracy: 5915/6000 (99%)\n",
            "\n",
            "Iteration 8/32, time elapsed: 27m 6s, time remaining: 81m 18s. \n",
            "                         Num of epochs: 25, First layer dropout: True, Dropout rate: 0.3, \n",
            "                         Num of hidden units: 1200, Weight intialization: xavier.\n",
            "\n",
            "Val set: Average loss: 0.0756, Accuracy: 5914/6000 (99%)\n",
            "\n",
            "Iteration 9/32, time elapsed: 30m 1s, time remaining: 76m 44s. \n",
            "                         Num of epochs: 20, First layer dropout: True, Dropout rate: 0.4, \n",
            "                         Num of hidden units: 1000, Weight intialization: he.\n",
            "\n",
            "Val set: Average loss: 0.0649, Accuracy: 5914/6000 (99%)\n",
            "\n",
            "Iteration 10/32, time elapsed: 32m 59s, time remaining: 72m 35s. \n",
            "                         Num of epochs: 20, First layer dropout: True, Dropout rate: 0.4, \n",
            "                         Num of hidden units: 1000, Weight intialization: xavier.\n",
            "\n",
            "Val set: Average loss: 0.0628, Accuracy: 5916/6000 (99%)\n",
            "\n",
            "Iteration 11/32, time elapsed: 36m 42s, time remaining: 70m 4s. \n",
            "                         Num of epochs: 25, First layer dropout: True, Dropout rate: 0.4, \n",
            "                         Num of hidden units: 1000, Weight intialization: he.\n",
            "\n",
            "Val set: Average loss: 0.0697, Accuracy: 5912/6000 (99%)\n",
            "\n",
            "Iteration 12/32, time elapsed: 40m 23s, time remaining: 67m 19s. \n",
            "                         Num of epochs: 25, First layer dropout: True, Dropout rate: 0.4, \n",
            "                         Num of hidden units: 1000, Weight intialization: xavier.\n",
            "\n",
            "Val set: Average loss: 0.0677, Accuracy: 5919/6000 (99%)\n",
            "\n",
            "Iteration 13/32, time elapsed: 43m 22s, time remaining: 63m 23s. \n",
            "                         Num of epochs: 20, First layer dropout: True, Dropout rate: 0.4, \n",
            "                         Num of hidden units: 1200, Weight intialization: he.\n",
            "\n",
            "Val set: Average loss: 0.0620, Accuracy: 5914/6000 (99%)\n",
            "\n",
            "Iteration 14/32, time elapsed: 46m 20s, time remaining: 59m 34s. \n",
            "                         Num of epochs: 20, First layer dropout: True, Dropout rate: 0.4, \n",
            "                         Num of hidden units: 1200, Weight intialization: xavier.\n",
            "\n",
            "Val set: Average loss: 0.0679, Accuracy: 5922/6000 (99%)\n",
            "\n",
            "Iteration 15/32, time elapsed: 50m 5s, time remaining: 56m 46s. \n",
            "                         Num of epochs: 25, First layer dropout: True, Dropout rate: 0.4, \n",
            "                         Num of hidden units: 1200, Weight intialization: he.\n",
            "\n",
            "Val set: Average loss: 0.0676, Accuracy: 5921/6000 (99%)\n",
            "\n",
            "Iteration 16/32, time elapsed: 53m 51s, time remaining: 53m 51s. \n",
            "                         Num of epochs: 25, First layer dropout: True, Dropout rate: 0.4, \n",
            "                         Num of hidden units: 1200, Weight intialization: xavier.\n",
            "\n",
            "Val set: Average loss: 0.0744, Accuracy: 5915/6000 (99%)\n",
            "\n",
            "Iteration 17/32, time elapsed: 56m 52s, time remaining: 50m 11s. \n",
            "                         Num of epochs: 20, First layer dropout: False, Dropout rate: 0.3, \n",
            "                         Num of hidden units: 1000, Weight intialization: he.\n",
            "\n",
            "Val set: Average loss: 0.0674, Accuracy: 5913/6000 (99%)\n",
            "\n",
            "Iteration 18/32, time elapsed: 59m 57s, time remaining: 46m 38s. \n",
            "                         Num of epochs: 20, First layer dropout: False, Dropout rate: 0.3, \n",
            "                         Num of hidden units: 1000, Weight intialization: xavier.\n",
            "\n",
            "Val set: Average loss: 0.0781, Accuracy: 5902/6000 (98%)\n",
            "\n",
            "Iteration 19/32, time elapsed: 63m 44s, time remaining: 43m 36s. \n",
            "                         Num of epochs: 25, First layer dropout: False, Dropout rate: 0.3, \n",
            "                         Num of hidden units: 1000, Weight intialization: he.\n",
            "\n",
            "Val set: Average loss: 0.0712, Accuracy: 5916/6000 (99%)\n",
            "\n",
            "Iteration 20/32, time elapsed: 67m 29s, time remaining: 40m 29s. \n",
            "                         Num of epochs: 25, First layer dropout: False, Dropout rate: 0.3, \n",
            "                         Num of hidden units: 1000, Weight intialization: xavier.\n",
            "\n",
            "Val set: Average loss: 0.0710, Accuracy: 5918/6000 (99%)\n",
            "\n",
            "Iteration 21/32, time elapsed: 70m 24s, time remaining: 36m 52s. \n",
            "                         Num of epochs: 20, First layer dropout: False, Dropout rate: 0.3, \n",
            "                         Num of hidden units: 1200, Weight intialization: he.\n",
            "\n",
            "Val set: Average loss: 0.0735, Accuracy: 5917/6000 (99%)\n",
            "\n",
            "Iteration 22/32, time elapsed: 73m 11s, time remaining: 33m 16s. \n",
            "                         Num of epochs: 20, First layer dropout: False, Dropout rate: 0.3, \n",
            "                         Num of hidden units: 1200, Weight intialization: xavier.\n",
            "\n",
            "Val set: Average loss: 0.0771, Accuracy: 5916/6000 (99%)\n",
            "\n",
            "Iteration 23/32, time elapsed: 76m 37s, time remaining: 29m 59s. \n",
            "                         Num of epochs: 25, First layer dropout: False, Dropout rate: 0.3, \n",
            "                         Num of hidden units: 1200, Weight intialization: he.\n",
            "\n",
            "Val set: Average loss: 0.0819, Accuracy: 5914/6000 (99%)\n",
            "\n",
            "Iteration 24/32, time elapsed: 80m 4s, time remaining: 26m 41s. \n",
            "                         Num of epochs: 25, First layer dropout: False, Dropout rate: 0.3, \n",
            "                         Num of hidden units: 1200, Weight intialization: xavier.\n",
            "\n",
            "Val set: Average loss: 0.0772, Accuracy: 5925/6000 (99%)\n",
            "\n",
            "Iteration 25/32, time elapsed: 82m 54s, time remaining: 23m 12s. \n",
            "                         Num of epochs: 20, First layer dropout: False, Dropout rate: 0.4, \n",
            "                         Num of hidden units: 1000, Weight intialization: he.\n",
            "\n",
            "Val set: Average loss: 0.0768, Accuracy: 5921/6000 (99%)\n",
            "\n",
            "Iteration 26/32, time elapsed: 85m 48s, time remaining: 19m 48s. \n",
            "                         Num of epochs: 20, First layer dropout: False, Dropout rate: 0.4, \n",
            "                         Num of hidden units: 1000, Weight intialization: xavier.\n",
            "\n",
            "Val set: Average loss: 0.0761, Accuracy: 5920/6000 (99%)\n",
            "\n",
            "Iteration 27/32, time elapsed: 89m 34s, time remaining: 16m 35s. \n",
            "                         Num of epochs: 25, First layer dropout: False, Dropout rate: 0.4, \n",
            "                         Num of hidden units: 1000, Weight intialization: he.\n",
            "\n",
            "Val set: Average loss: 0.0763, Accuracy: 5908/6000 (98%)\n",
            "\n",
            "Iteration 28/32, time elapsed: 93m 21s, time remaining: 13m 20s. \n",
            "                         Num of epochs: 25, First layer dropout: False, Dropout rate: 0.4, \n",
            "                         Num of hidden units: 1000, Weight intialization: xavier.\n",
            "\n",
            "Val set: Average loss: 0.0825, Accuracy: 5914/6000 (99%)\n",
            "\n",
            "Iteration 29/32, time elapsed: 96m 23s, time remaining: 9m 58s. \n",
            "                         Num of epochs: 20, First layer dropout: False, Dropout rate: 0.4, \n",
            "                         Num of hidden units: 1200, Weight intialization: he.\n",
            "\n",
            "Val set: Average loss: 0.0762, Accuracy: 5916/6000 (99%)\n",
            "\n",
            "Iteration 30/32, time elapsed: 99m 25s, time remaining: 6m 37s. \n",
            "                         Num of epochs: 20, First layer dropout: False, Dropout rate: 0.4, \n",
            "                         Num of hidden units: 1200, Weight intialization: xavier.\n",
            "\n",
            "Val set: Average loss: 0.0705, Accuracy: 5922/6000 (99%)\n",
            "\n",
            "Iteration 31/32, time elapsed: 103m 19s, time remaining: 3m 19s. \n",
            "                         Num of epochs: 25, First layer dropout: False, Dropout rate: 0.4, \n",
            "                         Num of hidden units: 1200, Weight intialization: he.\n",
            "\n",
            "Val set: Average loss: 0.0812, Accuracy: 5917/6000 (99%)\n",
            "\n",
            "Iteration 32/32, time elapsed: 107m 13s, time remaining: 0m 0s. \n",
            "                         Num of epochs: 25, First layer dropout: False, Dropout rate: 0.4, \n",
            "                         Num of hidden units: 1200, Weight intialization: xavier.\n",
            "\n",
            "Val set: Average loss: 0.0755, Accuracy: 5917/6000 (99%)\n",
            "\n"
          ],
          "name": "stdout"
        }
      ]
    },
    {
      "cell_type": "markdown",
      "metadata": {
        "id": "e3MmgWpKdfAf",
        "colab_type": "text"
      },
      "source": [
        "It appears that the best configuration as per loss is as follows:"
      ]
    },
    {
      "cell_type": "code",
      "metadata": {
        "id": "dweQDBgFX6nO",
        "colab_type": "code",
        "outputId": "4970de48-23fe-4351-ae93-a0a6d33dfc07",
        "colab": {
          "base_uri": "https://localhost:8080/",
          "height": 164
        }
      },
      "source": [
        "best_config"
      ],
      "execution_count": 0,
      "outputs": [
        {
          "output_type": "execute_result",
          "data": {
            "text/plain": [
              "{'dropout_rate': 0.4,\n",
              " 'first_layer_dropout': True,\n",
              " 'initialization': 'he',\n",
              " 'num_epochs': 20,\n",
              " 'num_hidden': 1200,\n",
              " 'time': 178.20907926559448,\n",
              " 'val_accuracy': 98.56666666666666,\n",
              " 'val_loss': 0.06204766035079956}"
            ]
          },
          "metadata": {
            "tags": []
          },
          "execution_count": 37
        }
      ]
    },
    {
      "cell_type": "markdown",
      "metadata": {
        "id": "CxoR9qpPdl3n",
        "colab_type": "text"
      },
      "source": [
        "Amongst other things, it is explainable that he initialization won, since it is specifically suited for relu, whereas xavier is better for working with tahn. Let's try it!"
      ]
    },
    {
      "cell_type": "code",
      "metadata": {
        "id": "AFYnlCeBdZSc",
        "colab_type": "code",
        "colab": {}
      },
      "source": [
        "epochs = 20\n",
        "\n",
        "start_time = time.time()\n",
        "\n",
        "model = Net(1200, 0.4, True).to(device)\n",
        "optimizer = optim.Adam(model.parameters(), lr=0.001)\n",
        "scheduler = StepLR(optimizer, step_size=2, gamma=0.7)"
      ],
      "execution_count": 0,
      "outputs": []
    },
    {
      "cell_type": "code",
      "metadata": {
        "id": "xNxLSOxRdsgc",
        "colab_type": "code",
        "outputId": "e59424ef-e380-4b16-f0ff-5bff51aa963a",
        "colab": {
          "base_uri": "https://localhost:8080/",
          "height": 146
        }
      },
      "source": [
        "model.apply(init_weights_he)"
      ],
      "execution_count": 0,
      "outputs": [
        {
          "output_type": "execute_result",
          "data": {
            "text/plain": [
              "Net(\n",
              "  (fc0): Linear(in_features=784, out_features=1200, bias=True)\n",
              "  (fc1): Linear(in_features=1200, out_features=2400, bias=True)\n",
              "  (fc2): Linear(in_features=2400, out_features=1200, bias=True)\n",
              "  (out): Linear(in_features=1200, out_features=10, bias=True)\n",
              "  (dropout): Dropout(p=0.4, inplace=False)\n",
              ")"
            ]
          },
          "metadata": {
            "tags": []
          },
          "execution_count": 41
        }
      ]
    },
    {
      "cell_type": "code",
      "metadata": {
        "id": "5k4v1HaNdvjh",
        "colab_type": "code",
        "outputId": "122c96da-39c2-4aee-cd88-202faa6995d4",
        "colab": {
          "base_uri": "https://localhost:8080/",
          "height": 1000
        }
      },
      "source": [
        "train_accuracies,val_accuracies=[],[]\n",
        "train_losses,val_losses=[],[]\n",
        "for epoch in range(1, epochs + 1):\n",
        "    epoch_start = time.time()\n",
        "    train_loss,train_accuracy=train(model, device, train_loader, optimizer, epoch)\n",
        "    train_accuracies.append(train_accuracy)\n",
        "    train_losses.append(train_loss)\n",
        "    val_loss,val_accuracy=test(model, device, val_loader)\n",
        "    val_accuracies.append(val_accuracy)\n",
        "    val_losses.append(val_loss)\n",
        "    scheduler.step()\n",
        "    epoch_time = round(time.time() - epoch_start, 2)\n",
        "    print(f'Epoch Train Time: {int(epoch_time // 60)}m {epoch_time % 60}s\\n')\n",
        "\n",
        "elapsed = time.time() - start_time\n",
        "print(f'Training complete in {int(elapsed // 60)}m {elapsed // 60}s')"
      ],
      "execution_count": 0,
      "outputs": [
        {
          "output_type": "display_data",
          "data": {
            "text/plain": [
              "'Train Epoch: 1 [53760/54000 (100%)] Loss: 0.066502'"
            ]
          },
          "metadata": {
            "tags": []
          }
        },
        {
          "output_type": "stream",
          "text": [
            "Train set: Average loss: 0.0032, Accuracy: 48760/54000 90%\n",
            "\n",
            "Val set: Average loss: 0.1381, Accuracy: 5752/6000 (96%)\n",
            "\n",
            "Epoch Train Time: 0m 9.94s\n",
            "\n"
          ],
          "name": "stdout"
        },
        {
          "output_type": "display_data",
          "data": {
            "text/plain": [
              "'Train Epoch: 2 [53760/54000 (100%)] Loss: 0.135033'"
            ]
          },
          "metadata": {
            "tags": []
          }
        },
        {
          "output_type": "stream",
          "text": [
            "Train set: Average loss: 0.0013, Accuracy: 51290/54000 95%\n",
            "\n",
            "Val set: Average loss: 0.1330, Accuracy: 5754/6000 (96%)\n",
            "\n",
            "Epoch Train Time: 0m 9.67s\n",
            "\n"
          ],
          "name": "stdout"
        },
        {
          "output_type": "display_data",
          "data": {
            "text/plain": [
              "'Train Epoch: 3 [53760/54000 (100%)] Loss: 0.140173'"
            ]
          },
          "metadata": {
            "tags": []
          }
        },
        {
          "output_type": "stream",
          "text": [
            "Train set: Average loss: 0.0008, Accuracy: 52236/54000 97%\n",
            "\n",
            "Val set: Average loss: 0.1048, Accuracy: 5823/6000 (97%)\n",
            "\n",
            "Epoch Train Time: 0m 9.89s\n",
            "\n"
          ],
          "name": "stdout"
        },
        {
          "output_type": "display_data",
          "data": {
            "text/plain": [
              "'Train Epoch: 4 [53760/54000 (100%)] Loss: 0.159659'"
            ]
          },
          "metadata": {
            "tags": []
          }
        },
        {
          "output_type": "stream",
          "text": [
            "Train set: Average loss: 0.0008, Accuracy: 52416/54000 97%\n",
            "\n",
            "Val set: Average loss: 0.1115, Accuracy: 5810/6000 (97%)\n",
            "\n",
            "Epoch Train Time: 0m 9.7s\n",
            "\n"
          ],
          "name": "stdout"
        },
        {
          "output_type": "display_data",
          "data": {
            "text/plain": [
              "'Train Epoch: 5 [53760/54000 (100%)] Loss: 0.073940'"
            ]
          },
          "metadata": {
            "tags": []
          }
        },
        {
          "output_type": "stream",
          "text": [
            "Train set: Average loss: 0.0005, Accuracy: 52854/54000 98%\n",
            "\n",
            "Val set: Average loss: 0.0951, Accuracy: 5845/6000 (97%)\n",
            "\n",
            "Epoch Train Time: 0m 9.75s\n",
            "\n"
          ],
          "name": "stdout"
        },
        {
          "output_type": "display_data",
          "data": {
            "text/plain": [
              "'Train Epoch: 6 [53760/54000 (100%)] Loss: 0.003281'"
            ]
          },
          "metadata": {
            "tags": []
          }
        },
        {
          "output_type": "stream",
          "text": [
            "Train set: Average loss: 0.0005, Accuracy: 52979/54000 98%\n",
            "\n",
            "Val set: Average loss: 0.0792, Accuracy: 5866/6000 (98%)\n",
            "\n",
            "Epoch Train Time: 0m 9.84s\n",
            "\n"
          ],
          "name": "stdout"
        },
        {
          "output_type": "display_data",
          "data": {
            "text/plain": [
              "'Train Epoch: 7 [53760/54000 (100%)] Loss: 0.034333'"
            ]
          },
          "metadata": {
            "tags": []
          }
        },
        {
          "output_type": "stream",
          "text": [
            "Train set: Average loss: 0.0003, Accuracy: 53320/54000 99%\n",
            "\n",
            "Val set: Average loss: 0.0646, Accuracy: 5892/6000 (98%)\n",
            "\n",
            "Epoch Train Time: 0m 9.78s\n",
            "\n"
          ],
          "name": "stdout"
        },
        {
          "output_type": "display_data",
          "data": {
            "text/plain": [
              "'Train Epoch: 8 [53760/54000 (100%)] Loss: 0.052796'"
            ]
          },
          "metadata": {
            "tags": []
          }
        },
        {
          "output_type": "stream",
          "text": [
            "Train set: Average loss: 0.0003, Accuracy: 53371/54000 99%\n",
            "\n",
            "Val set: Average loss: 0.0774, Accuracy: 5886/6000 (98%)\n",
            "\n",
            "Epoch Train Time: 0m 9.65s\n",
            "\n"
          ],
          "name": "stdout"
        },
        {
          "output_type": "display_data",
          "data": {
            "text/plain": [
              "'Train Epoch: 9 [53760/54000 (100%)] Loss: 0.041336'"
            ]
          },
          "metadata": {
            "tags": []
          }
        },
        {
          "output_type": "stream",
          "text": [
            "Train set: Average loss: 0.0002, Accuracy: 53553/54000 99%\n",
            "\n",
            "Val set: Average loss: 0.0713, Accuracy: 5895/6000 (98%)\n",
            "\n",
            "Epoch Train Time: 0m 10.09s\n",
            "\n"
          ],
          "name": "stdout"
        },
        {
          "output_type": "display_data",
          "data": {
            "text/plain": [
              "'Train Epoch: 10 [53760/54000 (100%)] Loss: 0.036581'"
            ]
          },
          "metadata": {
            "tags": []
          }
        },
        {
          "output_type": "stream",
          "text": [
            "Train set: Average loss: 0.0002, Accuracy: 53645/54000 99%\n",
            "\n",
            "Val set: Average loss: 0.0703, Accuracy: 5895/6000 (98%)\n",
            "\n",
            "Epoch Train Time: 0m 9.35s\n",
            "\n"
          ],
          "name": "stdout"
        },
        {
          "output_type": "display_data",
          "data": {
            "text/plain": [
              "'Train Epoch: 11 [53760/54000 (100%)] Loss: 0.013565'"
            ]
          },
          "metadata": {
            "tags": []
          }
        },
        {
          "output_type": "stream",
          "text": [
            "Train set: Average loss: 0.0001, Accuracy: 53747/54000 100%\n",
            "\n",
            "Val set: Average loss: 0.0661, Accuracy: 5897/6000 (98%)\n",
            "\n",
            "Epoch Train Time: 0m 9.3s\n",
            "\n"
          ],
          "name": "stdout"
        },
        {
          "output_type": "display_data",
          "data": {
            "text/plain": [
              "'Train Epoch: 12 [53760/54000 (100%)] Loss: 0.024066'"
            ]
          },
          "metadata": {
            "tags": []
          }
        },
        {
          "output_type": "stream",
          "text": [
            "Train set: Average loss: 0.0001, Accuracy: 53780/54000 100%\n",
            "\n",
            "Val set: Average loss: 0.0626, Accuracy: 5906/6000 (98%)\n",
            "\n",
            "Epoch Train Time: 0m 9.39s\n",
            "\n"
          ],
          "name": "stdout"
        },
        {
          "output_type": "display_data",
          "data": {
            "text/plain": [
              "'Train Epoch: 13 [53760/54000 (100%)] Loss: 0.000855'"
            ]
          },
          "metadata": {
            "tags": []
          }
        },
        {
          "output_type": "stream",
          "text": [
            "Train set: Average loss: 0.0001, Accuracy: 53864/54000 100%\n",
            "\n",
            "Val set: Average loss: 0.0610, Accuracy: 5916/6000 (99%)\n",
            "\n",
            "Epoch Train Time: 0m 9.31s\n",
            "\n"
          ],
          "name": "stdout"
        },
        {
          "output_type": "display_data",
          "data": {
            "text/plain": [
              "'Train Epoch: 14 [53760/54000 (100%)] Loss: 0.006325'"
            ]
          },
          "metadata": {
            "tags": []
          }
        },
        {
          "output_type": "stream",
          "text": [
            "Train set: Average loss: 0.0001, Accuracy: 53885/54000 100%\n",
            "\n",
            "Val set: Average loss: 0.0593, Accuracy: 5921/6000 (99%)\n",
            "\n",
            "Epoch Train Time: 0m 9.36s\n",
            "\n"
          ],
          "name": "stdout"
        },
        {
          "output_type": "display_data",
          "data": {
            "text/plain": [
              "'Train Epoch: 15 [53760/54000 (100%)] Loss: 0.006013'"
            ]
          },
          "metadata": {
            "tags": []
          }
        },
        {
          "output_type": "stream",
          "text": [
            "Train set: Average loss: 0.0001, Accuracy: 53874/54000 100%\n",
            "\n",
            "Val set: Average loss: 0.0582, Accuracy: 5917/6000 (99%)\n",
            "\n",
            "Epoch Train Time: 0m 9.43s\n",
            "\n"
          ],
          "name": "stdout"
        },
        {
          "output_type": "display_data",
          "data": {
            "text/plain": [
              "'Train Epoch: 16 [53760/54000 (100%)] Loss: 0.004341'"
            ]
          },
          "metadata": {
            "tags": []
          }
        },
        {
          "output_type": "stream",
          "text": [
            "Train set: Average loss: 0.0000, Accuracy: 53884/54000 100%\n",
            "\n",
            "Val set: Average loss: 0.0583, Accuracy: 5918/6000 (99%)\n",
            "\n",
            "Epoch Train Time: 0m 9.46s\n",
            "\n"
          ],
          "name": "stdout"
        },
        {
          "output_type": "display_data",
          "data": {
            "text/plain": [
              "'Train Epoch: 17 [53760/54000 (100%)] Loss: 0.000231'"
            ]
          },
          "metadata": {
            "tags": []
          }
        },
        {
          "output_type": "stream",
          "text": [
            "Train set: Average loss: 0.0000, Accuracy: 53913/54000 100%\n",
            "\n",
            "Val set: Average loss: 0.0625, Accuracy: 5915/6000 (99%)\n",
            "\n",
            "Epoch Train Time: 0m 9.46s\n",
            "\n"
          ],
          "name": "stdout"
        },
        {
          "output_type": "display_data",
          "data": {
            "text/plain": [
              "'Train Epoch: 18 [53760/54000 (100%)] Loss: 0.001620'"
            ]
          },
          "metadata": {
            "tags": []
          }
        },
        {
          "output_type": "stream",
          "text": [
            "Train set: Average loss: 0.0000, Accuracy: 53932/54000 100%\n",
            "\n",
            "Val set: Average loss: 0.0642, Accuracy: 5911/6000 (99%)\n",
            "\n",
            "Epoch Train Time: 0m 9.19s\n",
            "\n"
          ],
          "name": "stdout"
        },
        {
          "output_type": "display_data",
          "data": {
            "text/plain": [
              "'Train Epoch: 19 [53760/54000 (100%)] Loss: 0.000686'"
            ]
          },
          "metadata": {
            "tags": []
          }
        },
        {
          "output_type": "stream",
          "text": [
            "Train set: Average loss: 0.0000, Accuracy: 53937/54000 100%\n",
            "\n",
            "Val set: Average loss: 0.0604, Accuracy: 5918/6000 (99%)\n",
            "\n",
            "Epoch Train Time: 0m 9.22s\n",
            "\n"
          ],
          "name": "stdout"
        },
        {
          "output_type": "display_data",
          "data": {
            "text/plain": [
              "'Train Epoch: 20 [53760/54000 (100%)] Loss: 0.010808'"
            ]
          },
          "metadata": {
            "tags": []
          }
        },
        {
          "output_type": "stream",
          "text": [
            "Train set: Average loss: 0.0000, Accuracy: 53939/54000 100%\n",
            "\n",
            "Val set: Average loss: 0.0593, Accuracy: 5917/6000 (99%)\n",
            "\n",
            "Epoch Train Time: 0m 9.52s\n",
            "\n",
            "Training complete in 3m 3.0s\n"
          ],
          "name": "stdout"
        }
      ]
    },
    {
      "cell_type": "code",
      "metadata": {
        "id": "_3lfbd4beFV6",
        "colab_type": "code",
        "outputId": "ab1949cd-a1dd-44a5-be63-959ecb181091",
        "colab": {
          "base_uri": "https://localhost:8080/",
          "height": 313
        }
      },
      "source": [
        "print(len(train_accuracies),len(val_accuracies))\n",
        "epochs = range(1, len(train_accuracies) + 1)\n",
        "\n",
        "plt.plot(epochs, train_accuracies, 'r', label='Training acc')\n",
        "plt.plot(epochs, val_accuracies, 'b', label='Validation acc')\n",
        "plt.title('Training and validation accuracy')\n",
        "plt.xlabel('Epochs')\n",
        "plt.ylabel('Accuracy')\n",
        "plt.legend()\n",
        "\n",
        "plt.show()"
      ],
      "execution_count": 0,
      "outputs": [
        {
          "output_type": "stream",
          "text": [
            "20 20\n"
          ],
          "name": "stdout"
        },
        {
          "output_type": "display_data",
          "data": {
            "image/png": "[encoded data removed]",
            "text/plain": [
              "<Figure size 432x288 with 1 Axes>"
            ]
          },
          "metadata": {
            "tags": [],
            "needs_background": "light"
          }
        }
      ]
    },
    {
      "cell_type": "code",
      "metadata": {
        "id": "5zIVmnQde7wh",
        "colab_type": "code",
        "outputId": "4e50d342-35a9-47e3-bc18-e68dcb19dc69",
        "colab": {
          "base_uri": "https://localhost:8080/",
          "height": 313
        }
      },
      "source": [
        "print(len(train_losses),len(val_losses))\n",
        "epochs = range(1, len(train_losses) + 1)\n",
        "\n",
        "plt.plot(epochs, train_losses, 'r', label='Training loss')\n",
        "plt.plot(epochs, val_losses, 'b', label='Validation loss')\n",
        "plt.title('Training and validation loss')\n",
        "plt.xlabel('Epochs')\n",
        "plt.ylabel('Loss')\n",
        "plt.legend()\n",
        "\n",
        "plt.show()"
      ],
      "execution_count": 0,
      "outputs": [
        {
          "output_type": "stream",
          "text": [
            "20 20\n"
          ],
          "name": "stdout"
        },
        {
          "output_type": "display_data",
          "data": {
            "image/png": "[encoded data removed]",
            "text/plain": [
              "<Figure size 432x288 with 1 Axes>"
            ]
          },
          "metadata": {
            "tags": [],
            "needs_background": "light"
          }
        }
      ]
    },
    {
      "cell_type": "code",
      "metadata": {
        "id": "7o98JPNwe97E",
        "colab_type": "code",
        "outputId": "98c70849-264f-40d8-9edf-e6516dc39538",
        "colab": {
          "base_uri": "https://localhost:8080/",
          "height": 90
        }
      },
      "source": [
        "score = test(model, device, test_loader)\n",
        "print('Test loss:', score[0])\n",
        "print('Test accuracy:', score[1])"
      ],
      "execution_count": 0,
      "outputs": [
        {
          "output_type": "stream",
          "text": [
            "Val set: Average loss: 0.0652, Accuracy: 9878/10000 (99%)\n",
            "\n",
            "Test loss: 0.06519967160224914\n",
            "Test accuracy: 98.78\n"
          ],
          "name": "stdout"
        }
      ]
    },
    {
      "cell_type": "markdown",
      "metadata": {
        "id": "GtqZQT2nfD7G",
        "colab_type": "text"
      },
      "source": [
        "The optimal configuration indeed allowed us to improve results even further, ultimately yielding **98.78%**. I am sure that finer tuning of parameters would allow us to make the model even stronger. We, however, have more things to try, such as tahn activation function. Let's leave it to TF-Keras."
      ]
    },
    {
      "cell_type": "markdown",
      "metadata": {
        "id": "6pNs9kwrSbA6",
        "colab_type": "text"
      },
      "source": [
        "Just in case, Google Colab link: https://colab.research.google.com/drive/18SvlVEvil-O9yjfc5yBWd2_JrV4pwgAE"
      ]
    },
    {
      "cell_type": "code",
      "metadata": {
        "id": "Py5lGEYefmh8",
        "colab_type": "code",
        "colab": {}
      },
      "source": [
        ""
      ],
      "execution_count": 0,
      "outputs": []
    }
  ]
}