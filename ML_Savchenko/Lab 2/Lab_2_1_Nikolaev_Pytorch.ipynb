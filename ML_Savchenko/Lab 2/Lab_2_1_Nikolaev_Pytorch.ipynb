{
  "nbformat": 4,
  "nbformat_minor": 0,
  "metadata": {
    "colab": {
      "name": "Lab 2.1 Nikolaev Pytorch.ipynb",
      "provenance": [],
      "collapsed_sections": []
    },
    "kernelspec": {
      "name": "python3",
      "display_name": "Python 3"
    },
    "accelerator": "GPU"
  },
  "cells": [
    {
      "cell_type": "code",
      "metadata": {
        "id": "3TKFJyJLe3it",
        "colab_type": "code",
        "colab": {}
      },
      "source": [
        "import sys, os, time, math\n",
        "import numpy as np\n",
        "import pickle\n",
        "\n",
        "import matplotlib.pyplot as plt\n",
        "%matplotlib inline\n",
        "\n",
        "import torch\n",
        "print(torch.__version__)\n",
        "\n",
        "import torch.nn as nn\n",
        "import torch.nn.functional as F\n",
        "import torch.optim as optim\n",
        "from torch.utils.data import Dataset, DataLoader\n",
        "from torchvision import transforms\n",
        "from torch.optim.lr_scheduler import StepLR"
      ],
      "execution_count": 0,
      "outputs": []
    },
    {
      "cell_type": "code",
      "metadata": {
        "id": "R0z7kzWjfsiA",
        "colab_type": "code",
        "colab": {}
      },
      "source": [
        "x_train = np.linspace(0, 1, 1000).reshape(-1,1)\n",
        "y_square = np.square(x_train)\n",
        "y_root = np.sqrt(x_train)"
      ],
      "execution_count": 0,
      "outputs": []
    },
    {
      "cell_type": "code",
      "metadata": {
        "id": "grOIXpzwfv6w",
        "colab_type": "code",
        "colab": {}
      },
      "source": [
        "x_train.shape"
      ],
      "execution_count": 0,
      "outputs": []
    },
    {
      "cell_type": "code",
      "metadata": {
        "id": "0QKc_7nPfw2Y",
        "colab_type": "code",
        "colab": {}
      },
      "source": [
        "batch_size = 1\n",
        "use_cuda = torch.cuda.is_available()\n",
        "print(use_cuda)"
      ],
      "execution_count": 0,
      "outputs": []
    },
    {
      "cell_type": "code",
      "metadata": {
        "id": "0-AzedWIgT_G",
        "colab_type": "code",
        "colab": {}
      },
      "source": [
        "class NumsDataset(Dataset):\n",
        "    def __init__(self, data, squares, roots, transform=None):\n",
        "        self.numbers = data\n",
        "        self.squares = squares\n",
        "        self.roots = roots\n",
        "        self.transform = transform\n",
        "\n",
        "    def __len__(self):\n",
        "        return len(self.numbers)\n",
        "\n",
        "    def __getitem__(self, idx):\n",
        "        value = torch.tensor(self.numbers[idx], dtype=torch.float)\n",
        "        square = torch.tensor(self.squares[idx], dtype=torch.float)\n",
        "        root = torch.tensor(self.roots[idx], dtype=torch.float)\n",
        "        return (value, square, root)"
      ],
      "execution_count": 0,
      "outputs": []
    },
    {
      "cell_type": "code",
      "metadata": {
        "id": "Fx4BPIz1hhCV",
        "colab_type": "code",
        "colab": {}
      },
      "source": [
        "data = NumsDataset(x_train, y_square, y_root)\n",
        "data_loader = DataLoader(data, num_workers=0, batch_size=1, shuffle=True)"
      ],
      "execution_count": 0,
      "outputs": []
    },
    {
      "cell_type": "code",
      "metadata": {
        "id": "ZYYHeXv8htiq",
        "colab_type": "code",
        "colab": {}
      },
      "source": [
        "class Net(nn.Module):\n",
        "    def __init__(self,\n",
        "                 n_hidden,\n",
        "                 n_layers):\n",
        "        super(Net, self).__init__()\n",
        "        self.inp = nn.Linear(1, n_hidden)\n",
        "        self.hidden = nn.Linear(n_hidden, n_hidden)\n",
        "        self.out = nn.Linear(n_hidden, 1)\n",
        "        self.n_layers = n_layers\n",
        "\n",
        "    def forward(self, x):\n",
        "        x = self.inp(x)\n",
        "        for i in range(self.n_layers):\n",
        "            x = self.hidden(x).clamp(min=0)\n",
        "        x = self.out(x)\n",
        "        output = torch.sigmoid(x)\n",
        "        return output"
      ],
      "execution_count": 0,
      "outputs": []
    },
    {
      "cell_type": "code",
      "metadata": {
        "id": "BPmrkA-HjSYg",
        "colab_type": "code",
        "colab": {}
      },
      "source": [
        "def train(model, device, train_loader, optimizer, epoch, mute=False):\n",
        "  train_loss = 0.0\n",
        "  total_train = 0\n",
        "  correct_train = 0\n",
        "  model.train()\n",
        "  for batch_idx, (data, square, _) in enumerate(train_loader):\n",
        "      data, square = data.to(device), square.to(device)\n",
        "      optimizer.zero_grad()\n",
        "      output = model(data)\n",
        "      loss = F.l1_loss(output, square)\n",
        "      loss.backward()\n",
        "      optimizer.step()\n",
        "      if (batch_idx % 5 == 0 and not mute):\n",
        "        display('Train Epoch: {} [{}/{} ({:.0f}%)] Loss: {:.6f}'.format(\n",
        "            epoch, batch_idx * len(data), len(train_loader.dataset),\n",
        "            100. * batch_idx / len(train_loader), loss.item()), display_id=str(epoch), update=True)\n",
        "      \n",
        "      # accuracy\n",
        "      _, predicted = torch.max(output.data, 1)\n",
        "      train_loss += loss.item()\n",
        "  \n",
        "  epoch_loss = train_loss / len(train_loader.dataset)\n",
        "  return epoch_loss"
      ],
      "execution_count": 0,
      "outputs": []
    },
    {
      "cell_type": "code",
      "metadata": {
        "id": "HDobpWYejZB7",
        "colab_type": "code",
        "colab": {}
      },
      "source": [
        "device = torch.device(\"cuda\" if use_cuda else \"cpu\")"
      ],
      "execution_count": 0,
      "outputs": []
    },
    {
      "cell_type": "code",
      "metadata": {
        "id": "xulzDQUVjcbH",
        "colab_type": "code",
        "colab": {}
      },
      "source": [
        "epochs = 10\n",
        "\n",
        "model = Net(3, 5).to(device)\n",
        "optimizer = optim.Adam(model.parameters(), lr=0.001)\n",
        "scheduler = StepLR(optimizer, step_size=2, gamma=0.7)"
      ],
      "execution_count": 0,
      "outputs": []
    },
    {
      "cell_type": "code",
      "metadata": {
        "id": "MxjVujCjjgH5",
        "colab_type": "code",
        "colab": {}
      },
      "source": [
        "train_losses=[]\n",
        "for epoch in range(1, epochs + 1):\n",
        "    epoch_start = time.time()\n",
        "    train_loss=train(model, device, data_loader, optimizer, epoch)\n",
        "    train_losses.append(train_loss)\n",
        "    scheduler.step()"
      ],
      "execution_count": 0,
      "outputs": []
    },
    {
      "cell_type": "code",
      "metadata": {
        "id": "kGRXPkfej-eL",
        "colab_type": "code",
        "colab": {}
      },
      "source": [
        "min(train_losses), train_losses.index(min(train_losses)) + 1"
      ],
      "execution_count": 0,
      "outputs": []
    },
    {
      "cell_type": "code",
      "metadata": {
        "id": "gPNL3QNMmGue",
        "colab_type": "code",
        "colab": {}
      },
      "source": [
        "print(len(train_losses))\n",
        "epochs = range(1, len(train_losses) + 1)\n",
        "\n",
        "plt.plot(epochs, train_losses, 'r', label='Training loss')\n",
        "plt.title('Training loss')\n",
        "plt.xlabel('Epochs')\n",
        "plt.ylabel('Loss')\n",
        "plt.legend()\n",
        "\n",
        "plt.show()"
      ],
      "execution_count": 0,
      "outputs": []
    },
    {
      "cell_type": "markdown",
      "metadata": {
        "id": "M1kdd7W0hGYS",
        "colab_type": "text"
      },
      "source": [
        "# Аппроксимируем параболу."
      ]
    },
    {
      "cell_type": "markdown",
      "metadata": {
        "id": "ZA52ZUTugC4D",
        "colab_type": "text"
      },
      "source": [
        "- Простая архитектура: полносвязная сеть на 8 скрытых слоёв по 3 нейрона. Наилучший результат на 10 эпохе, с 0.0195 MAE (l1 loss здесь). На графике видно, что максимальное уменьшение ошибки происходит уже на второй эпохе, дальше падение ошибки минимально.\n",
        "- Увеличиваем количество эпох для той же архитектуры (20). Здесь ошибка уменьшилась незначительно (0.0190): значит, есть смысл менять архитектуру. Посмотрим, какой эффект оказывает изменение количества слоёв.\n",
        "- На 15 слоях, наблюдаем огромный рост потерь. Не хватает функции активации (relu, as per publication), добавим её.\n",
        "- Relu снизило ошибку в 10 раз, и теперь она за 20 эпох не достигла минимума. Он достигается примерно за 69 эпох, но все равно не слишком отличается от показателя в 0.019.\n",
        "- Также стоит отметить случайность: иногда минимальные потери за всё обучение 0.020, 0.019, или снова откатываются на 0.2 без всяких изменений в архитектуре. При этом наилучший показатель достигается в районе 65 эпохи.\n",
        "- Очевидно, что эксперименты с обычной сетью прямого распространения не слишком помогает. Нужны более радикальные изменения."
      ]
    },
    {
      "cell_type": "markdown",
      "metadata": {
        "id": "kmHKoQrVxTdE",
        "colab_type": "text"
      },
      "source": [
        "# Построим skip-connections сеть (4 слоя)"
      ]
    },
    {
      "cell_type": "code",
      "metadata": {
        "id": "l4ZvyWllCG7t",
        "colab_type": "code",
        "colab": {}
      },
      "source": [
        "def approx_relu(inp):\n",
        "    return 2*(inp.clamp(min=0)) - 4*((inp-0.5).clamp(min=0)) + 2*((inp-1).clamp(min=0))\n",
        "\n",
        "class Approx_ReLU(nn.Module):\n",
        "    def __init__(self):\n",
        "        super().__init__()\n",
        "\n",
        "    def forward(self, inp):\n",
        "        return approx_relu(inp)"
      ],
      "execution_count": 0,
      "outputs": []
    },
    {
      "cell_type": "code",
      "metadata": {
        "id": "u3xvUOEjF5qL",
        "colab_type": "code",
        "colab": {}
      },
      "source": [
        "def approx_output(x, inp):\n",
        "    sigma_list = torch.cat(tuple(out/coeff for out,coeff in inp.items()), 1)\n",
        "    sigma = torch.sum(sigma_list)\n",
        "    return (x-sigma)\n",
        "\n",
        "class ApproxOut(nn.Module):\n",
        "    def __init__(self):\n",
        "        super().__init__()\n",
        "\n",
        "    def forward(self, x, inp):\n",
        "        return approx_output(x, inp)"
      ],
      "execution_count": 0,
      "outputs": []
    },
    {
      "cell_type": "code",
      "metadata": {
        "id": "BRHNVhNuDjMg",
        "colab_type": "code",
        "colab": {}
      },
      "source": [
        "arelu = Approx_ReLU()\n",
        "aout = ApproxOut()"
      ],
      "execution_count": 0,
      "outputs": []
    },
    {
      "cell_type": "code",
      "metadata": {
        "id": "vUOBQYBCyzAP",
        "colab_type": "code",
        "colab": {}
      },
      "source": [
        "class SkipNet(nn.Module):\n",
        "    def __init__(self,\n",
        "                 n_hidden):\n",
        "        super(SkipNet, self).__init__()\n",
        "        self.inp = nn.Linear(1, n_hidden)\n",
        "        self.hidden = nn.Linear(n_hidden, n_hidden)\n",
        "        self.arelu = arelu\n",
        "     #   self.out = nn.Linear(4*n_hidden+1, 1)  # in case of sigmoid\n",
        "\n",
        "    def forward(self, x0):\n",
        "        x1 = self.arelu(self.inp(x0))\n",
        "        x2 = self.arelu(self.hidden(x1))\n",
        "        x3 = self.arelu(self.hidden(x2))\n",
        "        x4 = self.arelu(self.hidden(x3))\n",
        "     #   x_out = self.out(torch.cat((x0,x1,x2,x3,x4), 1))\n",
        "     #   output = torch.sigmoid(x_out)\n",
        "        to_cat = {x1:2**2, x2:2**4, x3:2**6, x4:2**8}\n",
        "        output = aout(x0, to_cat)\n",
        "        return output"
      ],
      "execution_count": 0,
      "outputs": []
    },
    {
      "cell_type": "code",
      "metadata": {
        "id": "NRWjIaAQ1sbz",
        "colab_type": "code",
        "colab": {}
      },
      "source": [
        "device = torch.device(\"cuda\" if use_cuda else \"cpu\")"
      ],
      "execution_count": 0,
      "outputs": []
    },
    {
      "cell_type": "code",
      "metadata": {
        "id": "lZBS5djE0Uq9",
        "colab_type": "code",
        "colab": {}
      },
      "source": [
        "epochs = 40\n",
        "\n",
        "model = SkipNet(4).to(device)\n",
        "optimizer = optim.Adam(model.parameters(), lr=0.001)\n",
        "scheduler = StepLR(optimizer, step_size=2, gamma=0.7)"
      ],
      "execution_count": 0,
      "outputs": []
    },
    {
      "cell_type": "code",
      "metadata": {
        "id": "TbhedEIH1MtL",
        "colab_type": "code",
        "colab": {}
      },
      "source": [
        "train_losses=[]\n",
        "for epoch in range(1, epochs + 1):\n",
        "    epoch_start = time.time()\n",
        "    train_loss=train(model, device, data_loader, optimizer, epoch)\n",
        "    train_losses.append(train_loss)\n",
        "    scheduler.step()"
      ],
      "execution_count": 0,
      "outputs": []
    },
    {
      "cell_type": "code",
      "metadata": {
        "id": "83-4Bks23D45",
        "colab_type": "code",
        "colab": {}
      },
      "source": [
        "min(train_losses), train_losses.index(min(train_losses)) + 1"
      ],
      "execution_count": 0,
      "outputs": []
    },
    {
      "cell_type": "code",
      "metadata": {
        "id": "JavmLAhkAHRs",
        "colab_type": "code",
        "colab": {}
      },
      "source": [
        "print(len(train_losses))\n",
        "epochs = range(1, len(train_losses) + 1)\n",
        "\n",
        "plt.plot(epochs, train_losses, 'r', label='Training loss')\n",
        "plt.title('Training loss')\n",
        "plt.xlabel('Epochs')\n",
        "plt.ylabel('Loss')\n",
        "plt.legend()\n",
        "\n",
        "plt.show()"
      ],
      "execution_count": 0,
      "outputs": []
    },
    {
      "cell_type": "markdown",
      "metadata": {
        "id": "xG7thv3tB_YO",
        "colab_type": "text"
      },
      "source": [
        "- В чистом виде результаты не слишком улучшились (0.19). Попробуем восстановить описанную в презентации архитектуру, и для начала реализуем кастомную функцию активации (Approx_ReLU).\n",
        "- Кастомная функция активации уменьшила ошибку ещё дополнительно (до 0.016). Напишем и кастомную output-функцию (Fm).\n",
        "- Кастомная функция уменьшила ошибку до 0.015, но при воспроизведении она стала 0.6, потом 0.16, потом 0.08 - случайный элемент всё ещё велик. Тем не менее, для случайной инициализации мы уже превзошли порядок 10^(-1) из презентации, перейдя в зону 10^(-2).\n",
        "- Далее в tf-версии мы попробуем улучшить точность для обычной сети прямого распространения типичными методами (с помощью tensorboard). Но оценим эту же модель для корня."
      ]
    },
    {
      "cell_type": "code",
      "metadata": {
        "id": "4EciPZHsYFFy",
        "colab_type": "code",
        "colab": {}
      },
      "source": [
        "def train(model, device, train_loader, optimizer, epoch, mute=False):\n",
        "  train_loss = 0.0\n",
        "  total_train = 0\n",
        "  correct_train = 0\n",
        "  model.train()\n",
        "  for batch_idx, (data, _, root) in enumerate(train_loader):\n",
        "      data, root = data.to(device), root.to(device)\n",
        "      optimizer.zero_grad()\n",
        "      output = model(data)\n",
        "      loss = F.l1_loss(output, root)\n",
        "      loss.backward()\n",
        "      optimizer.step()\n",
        "      if (batch_idx % 5 == 0 and not mute):\n",
        "        display('Train Epoch: {} [{}/{} ({:.0f}%)] Loss: {:.6f}'.format(\n",
        "            epoch, batch_idx * len(data), len(train_loader.dataset),\n",
        "            100. * batch_idx / len(train_loader), loss.item()), display_id=str(epoch), update=True)\n",
        "      \n",
        "      # accuracy\n",
        "      _, predicted = torch.max(output.data, 1)\n",
        "      train_loss += loss.item()\n",
        "  \n",
        "  epoch_loss = train_loss / len(train_loader.dataset)\n",
        "  return epoch_loss"
      ],
      "execution_count": 0,
      "outputs": []
    },
    {
      "cell_type": "code",
      "metadata": {
        "id": "3cOdfNSeZrvf",
        "colab_type": "code",
        "colab": {}
      },
      "source": [
        "epochs = 40\n",
        "\n",
        "model = SkipNet(4).to(device)\n",
        "optimizer = optim.Adam(model.parameters(), lr=0.001)\n",
        "scheduler = StepLR(optimizer, step_size=2, gamma=0.7)"
      ],
      "execution_count": 0,
      "outputs": []
    },
    {
      "cell_type": "code",
      "metadata": {
        "id": "QUC00ROoZuQh",
        "colab_type": "code",
        "colab": {}
      },
      "source": [
        "train_losses=[]\n",
        "for epoch in range(1, epochs + 1):\n",
        "    epoch_start = time.time()\n",
        "    train_loss=train(model, device, data_loader, optimizer, epoch)\n",
        "    train_losses.append(train_loss)\n",
        "    scheduler.step()"
      ],
      "execution_count": 0,
      "outputs": []
    },
    {
      "cell_type": "code",
      "metadata": {
        "id": "7AER8P7tZwOu",
        "colab_type": "code",
        "colab": {}
      },
      "source": [
        "min(train_losses), train_losses.index(min(train_losses)) + 1"
      ],
      "execution_count": 0,
      "outputs": []
    },
    {
      "cell_type": "code",
      "metadata": {
        "id": "1zmTkPpRZ1mC",
        "colab_type": "code",
        "colab": {}
      },
      "source": [
        "print(len(train_losses))\n",
        "epochs = range(1, len(train_losses) + 1)\n",
        "\n",
        "plt.plot(epochs, train_losses, 'r', label='Training loss')\n",
        "plt.title('Training loss')\n",
        "plt.xlabel('Epochs')\n",
        "plt.ylabel('Loss')\n",
        "plt.legend()\n",
        "\n",
        "plt.show()"
      ],
      "execution_count": 0,
      "outputs": []
    },
    {
      "cell_type": "markdown",
      "metadata": {
        "id": "X8cY90CLVp_0",
        "colab_type": "text"
      },
      "source": [
        "Just in case:\n",
        "- https://colab.research.google.com/drive/1-m38ZeNuEAvXkZMmkoiuGOTMVaxP0b4Z - 2.1 (Torch);\n",
        "- https://colab.research.google.com/drive/1P-Q4D7MdCJTFKAbb71P5iBpYCyQP-QXX - 2.2 (TF)."
      ]
    },
    {
      "cell_type": "code",
      "metadata": {
        "id": "yO_4PBr7Z5Bk",
        "colab_type": "code",
        "colab": {}
      },
      "source": [
        ""
      ],
      "execution_count": 0,
      "outputs": []
    }
  ]
}