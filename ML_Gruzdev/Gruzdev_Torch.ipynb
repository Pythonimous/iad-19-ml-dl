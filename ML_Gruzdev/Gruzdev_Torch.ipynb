{
 "cells": [
  {
   "cell_type": "code",
   "execution_count": 0,
   "metadata": {
    "colab": {},
    "colab_type": "code",
    "id": "-W2DnAUeLWvd"
   },
   "outputs": [],
   "source": [
    "import torch\n",
    "import torch.nn as nn\n",
    "import torch.nn.functional as F\n",
    "from torchvision import transforms, datasets\n",
    "from torch.utils.data import DataLoader\n",
    "from torch.utils.tensorboard import SummaryWriter\n",
    "\n",
    "import model\n",
    "\n",
    "import argparse\n",
    "import numpy as np\n",
    "import datetime\n",
    "\n",
    "from tqdm import tqdm"
   ]
  },
  {
   "cell_type": "code",
   "execution_count": 0,
   "metadata": {
    "colab": {},
    "colab_type": "code",
    "id": "N2MbOXJKNxfr"
   },
   "outputs": [],
   "source": [
    "class MLP(nn.Module):\n",
    "    def __init__(self, num_classes):\n",
    "        super(MLP, self).__init__() # родительский класс? конструктор?\n",
    "        self.num_classes = num_classes\n",
    "        self.fc1 = nn.Linear(784, 100)\n",
    "        self.fc2 = nn.Linear(100, 50)\n",
    "        self.fc3 = nn.Linear(50, num_classes)\n",
    "\n",
    "    def forward(self, x):\n",
    "        x = x.view(x.size(0), -1)\n",
    "        x = F.relu(self.fc1(x))\n",
    "        x = F.relu(self.fc2(x))\n",
    "        x = self.fc3(x)\n",
    "        return x"
   ]
  },
  {
   "cell_type": "code",
   "execution_count": 0,
   "metadata": {
    "colab": {},
    "colab_type": "code",
    "id": "2hVwU1cfhVw-"
   },
   "outputs": [],
   "source": [
    "class CNN(nn.Module):\n",
    "    def __init__(self, num_classes):\n",
    "        super(CNN, self).__init__()\n",
    "        self.conv1 = nn.Conv2d(1,3,3, stride=2)\n",
    "        self.conv2 = nn.Conv2d(3,9,3)\n",
    "        self.conv3 = nn.Conv2d(9,18,3)\n",
    "        self.classifier = nn.Linear(1458, num_classes)\n",
    "\n",
    "    def forward(self, x):\n",
    "        x = F.relu(self.conv1(x))\n",
    "        x = F.relu(self.conv2(x))\n",
    "        x = F.relu(self.conv3(x))\n",
    "        x = self.classifier(x)\n",
    "        return x"
   ]
  },
  {
   "cell_type": "code",
   "execution_count": 0,
   "metadata": {
    "colab": {},
    "colab_type": "code",
    "id": "GsuKwRpJENYS"
   },
   "outputs": [],
   "source": [
    "def evaluate(model, test_loader, criterion):\n",
    "    model.eval()\n",
    "    with torch.no_grad():\n",
    "        avg_loss = 0.0\n",
    "        val_acc = 0\n",
    "        for x, y in test_loader:\n",
    "            out = model(x)\n",
    "            loss = criterion(out, y)\n",
    "            _, pred = torch.max(out.data, 1)\n",
    "            val_acc += (pred == y).numpy().mean()\n",
    "            avg_loss += loss.item()\n",
    "        avg_loss /= len(test_loader)\n",
    "        val_acc /= len(test_loader)\n",
    "        \n",
    "    model.train()\n",
    "    return avg_loss, val_acc"
   ]
  },
  {
   "cell_type": "code",
   "execution_count": 0,
   "metadata": {
    "colab": {},
    "colab_type": "code",
    "id": "SI2uzguBLbQn"
   },
   "outputs": [],
   "source": [
    "def train(args):\n",
    "\n",
    "    net = getattr(model, args.type)(args.num_classes)\n",
    "\n",
    "    data_train = datasets.FashionMNIST('./data/', train=True, transform=transforms.ToTensor(), download=True)\n",
    "    data_test = datasets.FashionMNIST('./data/', train=False, transform=transforms.ToTensor())\n",
    "    print(f'Train size: {len(data_train)}, Test size: {len(data_test)}')\n",
    "\n",
    "    writer = SummaryWriter(f'./logs/{datetime.datetime.now()}')\n",
    "\n",
    "    train_loader = DataLoader(data_train, num_workers = 8, batch_size = 32)\n",
    "    test_loader = DataLoader(data_test, num_workers = 4, batch_size = 16)\n",
    "    net = MLP(args.num_classes)\n",
    "    writer.add_graph(net, torch.zeros(1,1,28,28))\n",
    "\n",
    "    criterion = nn.CrossEntropyLoss()\n",
    "    optimizer = torch.optim.SGD(net.parameters(), lr=args.lr)\n",
    "    scheduler = torch.optim.lr_scheduler.StepLR(optimizer, step_size=2, gamma=0.1)\n",
    "\n",
    "    i = 0\n",
    "\n",
    "    for e in range(args.epochs):\n",
    "        net.train()\n",
    "        print(f'Current epoch: {e+1}')\n",
    "\n",
    "        for i, (x, y) in enumerate(train_loader):\n",
    "            optimizer.zero_grad()\n",
    "            out = net(x)\n",
    "\n",
    "            loss = criterion(out, y)\n",
    "            loss.backward()\n",
    "            optimizer.step()\n",
    "            writer.add_scalar('Train/Loss', loss.item(), e*len(train_loader) + i)\n",
    "            writer.add_scalar('Train/LR', scheduler.get_lr()[0], e*len(train_loader) + i)\n",
    "            if i % args.print_every == 0:\n",
    "                print(f'Epoch: {e+1}, Iteration: {i}, Loss: {loss.item()}')\n",
    "                val_loss, val_acc = evaluate(net, test_loader, criterion)\n",
    "                print(f'Val Loss: {val_loss}, Val Acc: {val_acc}')\n",
    "\n",
    "                writer.add_scalar('Val/Loss', val_loss, e*len(train_loader) + i)\n",
    "                writer.add_scalar('Val/Acc', val_acc, e*len(train_loader) + i)\n",
    "        scheduler.step()"
   ]
  },
  {
   "cell_type": "code",
   "execution_count": 0,
   "metadata": {
    "colab": {},
    "colab_type": "code",
    "id": "W-bEi5UgLs40"
   },
   "outputs": [],
   "source": [
    " if __name__ == '__main__':\n",
    "    \n",
    "    parser = argparse.ArgumentParser(description='Training scrpit for FashionMNIST.')\n",
    "    parser.add_argument('--lr', type=float, default=0.01, help='Learning Rate.')\n",
    "    parser.add_argument('--epochs', type=int, default=5, help='Total number of epochs to train')\n",
    "    parser.add_argument('--print_every', type=int, default=100, help='Print iterations')\n",
    "    parser.add_argument('--num_classes', type=int, default=10, help='Num classes')\n",
    "    parser.add_argument('--type', choices=['CNN', 'MLP'], default = 'cnn', help='Type')\n",
    "    args = parser.parse_args()\n",
    "    train(args)"
   ]
  }
 ],
 "metadata": {
  "accelerator": "GPU",
  "colab": {
   "collapsed_sections": [],
   "name": "Gruzdev Torch.ipynb",
   "private_outputs": true,
   "provenance": []
  },
  "kernelspec": {
   "display_name": "Python 3",
   "language": "python",
   "name": "python3"
  },
  "language_info": {
   "codemirror_mode": {
    "name": "ipython",
    "version": 3
   },
   "file_extension": ".py",
   "mimetype": "text/x-python",
   "name": "python",
   "nbconvert_exporter": "python",
   "pygments_lexer": "ipython3",
   "version": "3.6.9"
  }
 },
 "nbformat": 4,
 "nbformat_minor": 1
}
